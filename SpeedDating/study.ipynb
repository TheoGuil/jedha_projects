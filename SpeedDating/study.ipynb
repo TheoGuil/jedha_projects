{
 "cells": [
  {
   "cell_type": "markdown",
   "metadata": {},
   "source": [
    "# Speed Date Analysis\n",
    "\n",
    "## Project 🚧\n",
    "The marketing team needs help on a new project. They are experiencing a decrease in the number of matches, and they are trying to find a way to understand what makes people interested into each other.\n",
    "\n",
    "They decided to run a speed dating experiment with people who had to give Tinder lots of informations about themselves that could ultimately reflect on ther dating profile on the app.\n",
    "\n",
    "Tinder then gathered the data from this experiment. Each row in the dataset represents one speed date between two people, and indicates wether each of them secretly agreed to go on a second date with the other person.\n",
    "\n",
    "## Goals 🎯\n",
    "Use the dataset to understand what makes people interested into each other to go on a second date together:\n",
    "\n",
    "- You may use descriptive statistics\n",
    "- You may use visualisations\n",
    "\n",
    "## Scope of this project 🖼️\n",
    "Data was gathered from participants in experimental speed dating events from 2002-2004. During the events, the attendees would have a four minute \"first date\" with every other participant of the opposite sex. At the end of their four minutes, participants were asked if they would like to see their date again. They were also asked to rate their date on six attributes: Attractiveness, Sincerity, Intelligence, Fun, Ambition, and Shared Interests.\n",
    "\n",
    "The dataset also includes questionnaire data gathered from participants at different points in the process. These fields include: demographics, dating habits, self-perception across key attributes, beliefs on what others find valuable in a mate, and lifestyle information. See the Speed Dating Data Key document below for details."
   ]
  },
  {
   "cell_type": "code",
   "execution_count": 1,
   "metadata": {},
   "outputs": [],
   "source": [
    "import seaborn as sns\n",
    "import matplotlib.pyplot as plt\n",
    "import pandas as pd\n",
    "\n",
    "dataset = pd.read_csv(\"data/SpeedDatingData.csv\", encoding = 'unicode_escape')"
   ]
  },
  {
   "cell_type": "markdown",
   "metadata": {},
   "source": [
    "## Important datas\n",
    "When we saw the data descrition, theses data seems to be important to analyse:\n",
    "\n",
    "### The general data :\n",
    "- iid\n",
    "- pid : partner’s iid number\n",
    "- gender: Female=0, Male=1\n",
    "- match: 1=yes, 0=no\n",
    "- dec_o: decision of partner the night of event\n",
    "- attr_o: rating by partner the night of the event, for all 6 attributes\n",
    "- samerace: participant and the partner were the same race. 1= yes, 0=no\n",
    "- age: age\n",
    "- age_o : age of partner\n",
    "- field_cd: code of field of study\n",
    "- career_c: career coded\n",
    "- mn_sat: Median SAT score for the undergraduate institution where attended. Taken from Barron’s 25th Edition college profile book.  Proxy for intelligence.\n",
    "- income: Median household income based on zipcode using the Census Bureau website\n",
    "- goal: What is your primary goal in participating in this event?\n",
    "\n",
    "### The attributes the participant thinks important\n",
    "- imprace: How important is it to you (on a scale of 1-10) that a person you date be of the same racial/ethnic background?\n",
    "- imprelig: How important is it to you (on a scale of 1-10) that a person you date be of the same religious background?\n",
    "\n",
    "Rate the importance of the following attributes on a scale of 1-10 \n",
    "- attr1_s:  Attractive\n",
    "- sinc1_s: Sincere\n",
    "- intel1_s: Intelligent\n",
    "- fun1_s: Fun\n",
    "- amb1_s: Ambitious\n",
    "- shar1_s: Has shared interests/hobbies\n",
    "\n",
    "Rate your own attributes:\n",
    "- attr3_s:  Attractive\n",
    "- sinc3_s: Sincere\n",
    "- intel3_s: Intelligent\n",
    "- fun3_s: Fun\n",
    "- amb3_s: Ambitious\n",
    "\n",
    "Rate the importance of attribute \n",
    "\n",
    "\n",
    "### Interrests:\n",
    "- sports: Playing sports/ athletics\n",
    "- tvsports: Watching sports\n",
    "- excersice: Body building/exercising\n",
    "- dining: Dining out\n",
    "- museums: Museums/galleries\n",
    "- art: Art\n",
    "- hiking:  Hiking/camping\n",
    "- gaming: Gaming\n",
    "- clubbing: Dancing/clubbing\n",
    "- reading: Reading\n",
    "- tv: Watching TV\n",
    "- theater: Theater\n",
    "- movies: Movies\n",
    "- concerts: Going to concerts\n",
    "- music: Music\n",
    "- shopping: Shopping\n",
    "- yoga: Yoga/meditation\n",
    "\n",
    "### Futur:\n",
    "- you_call: How many have you contacted to set up a date?\n",
    "- them_cal: How many have contacted you?\n",
    "- date_3: Have you been on a date with any of your matches?\tYes=1\tNo=2\n"
   ]
  },
  {
   "cell_type": "code",
   "execution_count": 2,
   "metadata": {},
   "outputs": [],
   "source": [
    "dataset = dataset[['iid', 'pid', 'wave', 'gender', 'match', 'dec_o', 'attr_o', 'samerace', 'age', 'age_o', 'field_cd', 'career_c', 'mn_sat', 'income', 'goal', 'attr1_s', 'sinc1_s', 'intel1_s', 'fun1_s', 'amb1_s', 'shar1_s', 'attr3_s', 'sinc3_s', 'intel3_s', 'fun3_s', 'amb3_s', 'sports', 'tvsports', 'exercise', 'dining', 'museums', 'art', 'hiking', 'gaming', 'clubbing', 'reading', 'tv', 'theater', 'movies', 'concerts', 'music', 'shopping', 'yoga', 'you_call', 'them_cal', 'date_3']]\n",
    "dataset['gender'] = dataset['gender'].apply(lambda x: 'Female' if x == 0 else 'Male')"
   ]
  },
  {
   "cell_type": "markdown",
   "metadata": {},
   "source": [
    "### Number matches per wave\n",
    "We look at the number of matches per wave to see if any waves are skewed by the fact that people bring a book."
   ]
  },
  {
   "cell_type": "code",
   "execution_count": 3,
   "metadata": {},
   "outputs": [
    {
     "data": {
      "text/plain": [
       "<seaborn.axisgrid.FacetGrid at 0x205407d4990>"
      ]
     },
     "execution_count": 3,
     "metadata": {},
     "output_type": "execute_result"
    },
    {
     "data": {
      "image/png": "[encoded data removed]",
      "text/plain": [
       "<Figure size 1600.25x500 with 1 Axes>"
      ]
     },
     "metadata": {},
     "output_type": "display_data"
    }
   ],
   "source": [
    "palette = {\n",
    "    'Female': '#AA5986',\n",
    "    'Male': '#56b3e3'\n",
    "}\n",
    "sns.catplot(x=\"wave\", y=\"match\", hue=\"gender\", kind=\"bar\", data=dataset, aspect=3, palette=palette)"
   ]
  },
  {
   "cell_type": "markdown",
   "metadata": {},
   "source": [
    "We can see that, depending on the wave, the match rate is always between 10% and 30%. We can also see that there is no difference according to gender."
   ]
  },
  {
   "cell_type": "markdown",
   "metadata": {},
   "source": [
    "## Number matches in common\n",
    "We're joining the dates with their partner."
   ]
  },
  {
   "cell_type": "code",
   "execution_count": 19,
   "metadata": {},
   "outputs": [
    {
     "data": {
      "text/plain": [
       "[Text(0, 0, '3005'), Text(0, 0, '961'), Text(0, 0, '218')]"
      ]
     },
     "execution_count": 19,
     "metadata": {},
     "output_type": "execute_result"
    },
    {
     "data": {
      "image/png": "[encoded data removed]",
      "text/plain": [
       "<Figure size 640x480 with 1 Axes>"
      ]
     },
     "metadata": {},
     "output_type": "display_data"
    }
   ],
   "source": [
    "join_dataset = dataset.merge(dataset, left_on='pid', right_on='iid', how='left', suffixes=(\"\", \"_partner\"))\n",
    "join_dataset = join_dataset.drop_duplicates(subset=['iid', 'pid', 'iid_partner'])\n",
    "join_dataset = join_dataset.dropna(subset=[\"pid\"])\n",
    "# join_dataset have duplicate date a.b & b.a\n",
    "join_dataset[\"parter_combination\"] = join_dataset.apply(lambda row: sorted((row['iid'], row['pid'])), axis=1)\n",
    "join_dataset = join_dataset.drop_duplicates(subset=['parter_combination'])\n",
    "# join_datset has no more duplicates\n",
    "\n",
    "def match_type(match, partner_match):\n",
    "    if (match == partner_match and match == 1):\n",
    "        return \"both\"\n",
    "    elif (match == partner_match and match == 0):\n",
    "        return \"none\"\n",
    "    else:\n",
    "        return \"only_one\"\n",
    "\n",
    "join_dataset[\"match_type\"] = join_dataset.apply(lambda row: match_type(row['match'], row['match_partner']), axis=1)\n",
    "\n",
    "ax = sns.countplot(data=join_dataset, y=\"match_type\", order=['none', 'only_one', 'both'], palette=[\"#FFF5E0\", \"#FF6969\", \"#C70039\"])\n",
    "ax.bar_label(ax.containers[0], label_type=\"center\", color=\"#000000\")"
   ]
  },
  {
   "cell_type": "markdown",
   "metadata": {},
   "source": [
    "There is three categories of dating result : \n",
    "- both matched\n",
    "- only one matched\n",
    "- or none matched\n",
    "\n",
    "With these categories we have now a cluster sampling and study each group and see similaries or differences.\n",
    "Just note that the \"both\" group is small compare to the \"none\" group so its analysis will be less certain. "
   ]
  },
  {
   "cell_type": "markdown",
   "metadata": {},
   "source": [
    "## Does age gap and ethnic are important"
   ]
  },
  {
   "cell_type": "code",
   "execution_count": 5,
   "metadata": {},
   "outputs": [
    {
     "data": {
      "text/plain": [
       "<seaborn.axisgrid.FacetGrid at 0x20544e51a50>"
      ]
     },
     "metadata": {},
     "output_type": "display_data"
    },
    {
     "data": {
      "text/plain": [
       "<seaborn.axisgrid.FacetGrid at 0x20544e2a190>"
      ]
     },
     "metadata": {},
     "output_type": "display_data"
    },
    {
     "data": {
      "text/plain": [
       "<seaborn.axisgrid.FacetGrid at 0x2054279c610>"
      ]
     },
     "metadata": {},
     "output_type": "display_data"
    },
    {
     "data": {
      "image/png": "[encoded data removed]",
      "text/plain": [
       "<Figure size 500x500 with 1 Axes>"
      ]
     },
     "metadata": {},
     "output_type": "display_data"
    },
    {
     "data": {
      "image/png": "[encoded data removed]",
      "text/plain": [
       "<Figure size 500x500 with 1 Axes>"
      ]
     },
     "metadata": {},
     "output_type": "display_data"
    },
    {
     "data": {
      "image/png": "[encoded data removed]",
      "text/plain": [
       "<Figure size 500x500 with 1 Axes>"
      ]
     },
     "metadata": {},
     "output_type": "display_data"
    }
   ],
   "source": [
    "dataset[['age', 'age_o']] = dataset[['age', 'age_o']].fillna(dataset[['age', 'age_o']].median())\n",
    "dataset[\"age_gap\"] = (dataset['age'] - dataset['age_o']).abs()\n",
    "\n",
    "join_dataset[['age', 'age_partner']] = join_dataset[['age', 'age_partner']].fillna(join_dataset[['age', 'age_partner']].median())\n",
    "join_dataset[\"age_gap\"] = (join_dataset['age'] - join_dataset['age_partner']).abs()\n",
    "\n",
    "display(sns.lmplot(x=\"age_gap\", y=\"match\", data=dataset, logistic=True))\n",
    "display(sns.lmplot(x=\"age_gap\", y=\"match\", data=dataset.loc[dataset[\"age_gap\"] < 20, :], logistic=True))\n",
    "display(sns.catplot(x='age_gap', y='match_type', data=join_dataset, kind='box'))"
   ]
  },
  {
   "cell_type": "markdown",
   "metadata": {},
   "source": [
    "On remarque que si l'écart d'âge est très important (> 20 ans), la probabilité de matcher est quasi nulle. Si on se focus sur la plage < 20 ans, la probabilité baisse tut de même lorsque l'écart augmente.\n",
    "Or si l'on compare l'écart d'age entre les différentes categories de match, on voie qu'il est similaire à toutes les categories. Donc il faut relativiser l'importance de l'age dans la probabilité de match et regarder si d'autres caractéristique ont plus d'impact comme l'ethnie ou les centres d'intérêts."
   ]
  },
  {
   "cell_type": "code",
   "execution_count": 14,
   "metadata": {},
   "outputs": [
    {
     "data": {
      "text/plain": [
       "<seaborn.axisgrid.FacetGrid at 0x205531b80d0>"
      ]
     },
     "execution_count": 14,
     "metadata": {},
     "output_type": "execute_result"
    },
    {
     "data": {
      "image/png": "[encoded data removed]",
      "text/plain": [
       "<Figure size 500x500 with 1 Axes>"
      ]
     },
     "metadata": {},
     "output_type": "display_data"
    }
   ],
   "source": [
    "sns.catplot(x='match_type', y='samerace', data=join_dataset, kind=\"bar\")"
   ]
  },
  {
   "cell_type": "markdown",
   "metadata": {},
   "source": [
    "The same ethnie represents 40% of each sample so its not a revelant data"
   ]
  },
  {
   "cell_type": "markdown",
   "metadata": {},
   "source": [
    "## Correlation of interest\n",
    "Now check if the two partner have more chance to match if they shared some interest.\n"
   ]
  },
  {
   "cell_type": "code",
   "execution_count": 28,
   "metadata": {},
   "outputs": [
    {
     "data": {
      "text/plain": [
       "(4125, 17)"
      ]
     },
     "metadata": {},
     "output_type": "display_data"
    },
    {
     "data": {
      "text/html": [
       "<div>\n",
       "<style scoped>\n",
       "    .dataframe tbody tr th:only-of-type {\n",
       "        vertical-align: middle;\n",
       "    }\n",
       "\n",
       "    .dataframe tbody tr th {\n",
       "        vertical-align: top;\n",
       "    }\n",
       "\n",
       "    .dataframe thead th {\n",
       "        text-align: right;\n",
       "    }\n",
       "</style>\n",
       "<table border=\"1\" class=\"dataframe\">\n",
       "  <thead>\n",
       "    <tr style=\"text-align: right;\">\n",
       "      <th></th>\n",
       "      <th>sports</th>\n",
       "      <th>tvsports</th>\n",
       "      <th>exercise</th>\n",
       "      <th>dining</th>\n",
       "      <th>museums</th>\n",
       "      <th>art</th>\n",
       "      <th>hiking</th>\n",
       "      <th>gaming</th>\n",
       "      <th>clubbing</th>\n",
       "      <th>reading</th>\n",
       "      <th>tv</th>\n",
       "      <th>theater</th>\n",
       "      <th>movies</th>\n",
       "      <th>concerts</th>\n",
       "      <th>music</th>\n",
       "      <th>shopping</th>\n",
       "      <th>yoga</th>\n",
       "    </tr>\n",
       "  </thead>\n",
       "  <tbody>\n",
       "    <tr>\n",
       "      <th>count</th>\n",
       "      <td>4125.000000</td>\n",
       "      <td>4125.000000</td>\n",
       "      <td>4125.000000</td>\n",
       "      <td>4125.000000</td>\n",
       "      <td>4125.000000</td>\n",
       "      <td>4125.000000</td>\n",
       "      <td>4125.000000</td>\n",
       "      <td>4125.000000</td>\n",
       "      <td>4125.000000</td>\n",
       "      <td>4125.000000</td>\n",
       "      <td>4125.000000</td>\n",
       "      <td>4125.000000</td>\n",
       "      <td>4125.000000</td>\n",
       "      <td>4125.000000</td>\n",
       "      <td>4125.000000</td>\n",
       "      <td>4125.000000</td>\n",
       "      <td>4125.000000</td>\n",
       "    </tr>\n",
       "    <tr>\n",
       "      <th>mean</th>\n",
       "      <td>5.813333</td>\n",
       "      <td>4.162424</td>\n",
       "      <td>6.450909</td>\n",
       "      <td>8.147152</td>\n",
       "      <td>7.428364</td>\n",
       "      <td>7.219636</td>\n",
       "      <td>5.942061</td>\n",
       "      <td>3.302303</td>\n",
       "      <td>5.899879</td>\n",
       "      <td>7.907152</td>\n",
       "      <td>5.739394</td>\n",
       "      <td>7.481939</td>\n",
       "      <td>8.198061</td>\n",
       "      <td>7.103758</td>\n",
       "      <td>7.989576</td>\n",
       "      <td>6.499152</td>\n",
       "      <td>4.989818</td>\n",
       "    </tr>\n",
       "    <tr>\n",
       "      <th>std</th>\n",
       "      <td>2.653908</td>\n",
       "      <td>2.621498</td>\n",
       "      <td>2.441523</td>\n",
       "      <td>1.590289</td>\n",
       "      <td>1.903343</td>\n",
       "      <td>2.059906</td>\n",
       "      <td>2.555549</td>\n",
       "      <td>2.448996</td>\n",
       "      <td>2.438360</td>\n",
       "      <td>1.960290</td>\n",
       "      <td>2.488911</td>\n",
       "      <td>2.125540</td>\n",
       "      <td>1.555097</td>\n",
       "      <td>2.006512</td>\n",
       "      <td>1.669791</td>\n",
       "      <td>2.371491</td>\n",
       "      <td>2.686207</td>\n",
       "    </tr>\n",
       "    <tr>\n",
       "      <th>min</th>\n",
       "      <td>1.000000</td>\n",
       "      <td>1.000000</td>\n",
       "      <td>1.000000</td>\n",
       "      <td>1.000000</td>\n",
       "      <td>1.000000</td>\n",
       "      <td>1.000000</td>\n",
       "      <td>1.000000</td>\n",
       "      <td>0.000000</td>\n",
       "      <td>1.000000</td>\n",
       "      <td>2.000000</td>\n",
       "      <td>1.000000</td>\n",
       "      <td>1.000000</td>\n",
       "      <td>2.000000</td>\n",
       "      <td>1.000000</td>\n",
       "      <td>1.000000</td>\n",
       "      <td>1.000000</td>\n",
       "      <td>1.000000</td>\n",
       "    </tr>\n",
       "    <tr>\n",
       "      <th>25%</th>\n",
       "      <td>4.000000</td>\n",
       "      <td>2.000000</td>\n",
       "      <td>5.000000</td>\n",
       "      <td>7.000000</td>\n",
       "      <td>6.000000</td>\n",
       "      <td>6.000000</td>\n",
       "      <td>4.000000</td>\n",
       "      <td>1.000000</td>\n",
       "      <td>4.000000</td>\n",
       "      <td>7.000000</td>\n",
       "      <td>4.000000</td>\n",
       "      <td>7.000000</td>\n",
       "      <td>7.000000</td>\n",
       "      <td>6.000000</td>\n",
       "      <td>7.000000</td>\n",
       "      <td>5.000000</td>\n",
       "      <td>3.000000</td>\n",
       "    </tr>\n",
       "    <tr>\n",
       "      <th>50%</th>\n",
       "      <td>6.000000</td>\n",
       "      <td>4.000000</td>\n",
       "      <td>7.000000</td>\n",
       "      <td>8.000000</td>\n",
       "      <td>8.000000</td>\n",
       "      <td>8.000000</td>\n",
       "      <td>6.000000</td>\n",
       "      <td>3.000000</td>\n",
       "      <td>6.000000</td>\n",
       "      <td>8.000000</td>\n",
       "      <td>6.000000</td>\n",
       "      <td>8.000000</td>\n",
       "      <td>8.000000</td>\n",
       "      <td>7.000000</td>\n",
       "      <td>8.000000</td>\n",
       "      <td>7.000000</td>\n",
       "      <td>5.000000</td>\n",
       "    </tr>\n",
       "    <tr>\n",
       "      <th>75%</th>\n",
       "      <td>8.000000</td>\n",
       "      <td>6.000000</td>\n",
       "      <td>8.000000</td>\n",
       "      <td>9.000000</td>\n",
       "      <td>9.000000</td>\n",
       "      <td>9.000000</td>\n",
       "      <td>8.000000</td>\n",
       "      <td>5.000000</td>\n",
       "      <td>8.000000</td>\n",
       "      <td>9.000000</td>\n",
       "      <td>8.000000</td>\n",
       "      <td>9.000000</td>\n",
       "      <td>9.000000</td>\n",
       "      <td>9.000000</td>\n",
       "      <td>9.000000</td>\n",
       "      <td>9.000000</td>\n",
       "      <td>7.000000</td>\n",
       "    </tr>\n",
       "    <tr>\n",
       "      <th>max</th>\n",
       "      <td>10.000000</td>\n",
       "      <td>10.000000</td>\n",
       "      <td>10.000000</td>\n",
       "      <td>10.000000</td>\n",
       "      <td>10.000000</td>\n",
       "      <td>10.000000</td>\n",
       "      <td>10.000000</td>\n",
       "      <td>14.000000</td>\n",
       "      <td>10.000000</td>\n",
       "      <td>13.000000</td>\n",
       "      <td>10.000000</td>\n",
       "      <td>10.000000</td>\n",
       "      <td>10.000000</td>\n",
       "      <td>10.000000</td>\n",
       "      <td>10.000000</td>\n",
       "      <td>10.000000</td>\n",
       "      <td>10.000000</td>\n",
       "    </tr>\n",
       "  </tbody>\n",
       "</table>\n",
       "</div>"
      ],
      "text/plain": [
       "            sports     tvsports     exercise       dining      museums  \\\n",
       "count  4125.000000  4125.000000  4125.000000  4125.000000  4125.000000   \n",
       "mean      5.813333     4.162424     6.450909     8.147152     7.428364   \n",
       "std       2.653908     2.621498     2.441523     1.590289     1.903343   \n",
       "min       1.000000     1.000000     1.000000     1.000000     1.000000   \n",
       "25%       4.000000     2.000000     5.000000     7.000000     6.000000   \n",
       "50%       6.000000     4.000000     7.000000     8.000000     8.000000   \n",
       "75%       8.000000     6.000000     8.000000     9.000000     9.000000   \n",
       "max      10.000000    10.000000    10.000000    10.000000    10.000000   \n",
       "\n",
       "               art       hiking       gaming     clubbing      reading  \\\n",
       "count  4125.000000  4125.000000  4125.000000  4125.000000  4125.000000   \n",
       "mean      7.219636     5.942061     3.302303     5.899879     7.907152   \n",
       "std       2.059906     2.555549     2.448996     2.438360     1.960290   \n",
       "min       1.000000     1.000000     0.000000     1.000000     2.000000   \n",
       "25%       6.000000     4.000000     1.000000     4.000000     7.000000   \n",
       "50%       8.000000     6.000000     3.000000     6.000000     8.000000   \n",
       "75%       9.000000     8.000000     5.000000     8.000000     9.000000   \n",
       "max      10.000000    10.000000    14.000000    10.000000    13.000000   \n",
       "\n",
       "                tv      theater       movies     concerts        music  \\\n",
       "count  4125.000000  4125.000000  4125.000000  4125.000000  4125.000000   \n",
       "mean      5.739394     7.481939     8.198061     7.103758     7.989576   \n",
       "std       2.488911     2.125540     1.555097     2.006512     1.669791   \n",
       "min       1.000000     1.000000     2.000000     1.000000     1.000000   \n",
       "25%       4.000000     7.000000     7.000000     6.000000     7.000000   \n",
       "50%       6.000000     8.000000     8.000000     7.000000     8.000000   \n",
       "75%       8.000000     9.000000     9.000000     9.000000     9.000000   \n",
       "max      10.000000    10.000000    10.000000    10.000000    10.000000   \n",
       "\n",
       "          shopping         yoga  \n",
       "count  4125.000000  4125.000000  \n",
       "mean      6.499152     4.989818  \n",
       "std       2.371491     2.686207  \n",
       "min       1.000000     1.000000  \n",
       "25%       5.000000     3.000000  \n",
       "50%       7.000000     5.000000  \n",
       "75%       9.000000     7.000000  \n",
       "max      10.000000    10.000000  "
      ]
     },
     "metadata": {},
     "output_type": "display_data"
    },
    {
     "data": {
      "text/plain": [
       "(4164, 17)"
      ]
     },
     "metadata": {},
     "output_type": "display_data"
    },
    {
     "data": {
      "text/html": [
       "<div>\n",
       "<style scoped>\n",
       "    .dataframe tbody tr th:only-of-type {\n",
       "        vertical-align: middle;\n",
       "    }\n",
       "\n",
       "    .dataframe tbody tr th {\n",
       "        vertical-align: top;\n",
       "    }\n",
       "\n",
       "    .dataframe thead th {\n",
       "        text-align: right;\n",
       "    }\n",
       "</style>\n",
       "<table border=\"1\" class=\"dataframe\">\n",
       "  <thead>\n",
       "    <tr style=\"text-align: right;\">\n",
       "      <th></th>\n",
       "      <th>sports_partner</th>\n",
       "      <th>tvsports_partner</th>\n",
       "      <th>exercise_partner</th>\n",
       "      <th>dining_partner</th>\n",
       "      <th>museums_partner</th>\n",
       "      <th>art_partner</th>\n",
       "      <th>hiking_partner</th>\n",
       "      <th>gaming_partner</th>\n",
       "      <th>clubbing_partner</th>\n",
       "      <th>reading_partner</th>\n",
       "      <th>tv_partner</th>\n",
       "      <th>theater_partner</th>\n",
       "      <th>movies_partner</th>\n",
       "      <th>concerts_partner</th>\n",
       "      <th>music_partner</th>\n",
       "      <th>shopping_partner</th>\n",
       "      <th>yoga_partner</th>\n",
       "    </tr>\n",
       "  </thead>\n",
       "  <tbody>\n",
       "    <tr>\n",
       "      <th>count</th>\n",
       "      <td>4164.000000</td>\n",
       "      <td>4164.000000</td>\n",
       "      <td>4164.000000</td>\n",
       "      <td>4164.000000</td>\n",
       "      <td>4164.000000</td>\n",
       "      <td>4164.000000</td>\n",
       "      <td>4164.000000</td>\n",
       "      <td>4164.000000</td>\n",
       "      <td>4164.000000</td>\n",
       "      <td>4164.000000</td>\n",
       "      <td>4164.000000</td>\n",
       "      <td>4164.000000</td>\n",
       "      <td>4164.000000</td>\n",
       "      <td>4164.000000</td>\n",
       "      <td>4164.000000</td>\n",
       "      <td>4164.000000</td>\n",
       "      <td>4164.000000</td>\n",
       "    </tr>\n",
       "    <tr>\n",
       "      <th>mean</th>\n",
       "      <td>7.029779</td>\n",
       "      <td>4.982229</td>\n",
       "      <td>6.039625</td>\n",
       "      <td>7.423151</td>\n",
       "      <td>6.550672</td>\n",
       "      <td>6.217819</td>\n",
       "      <td>5.534822</td>\n",
       "      <td>4.453410</td>\n",
       "      <td>5.592219</td>\n",
       "      <td>7.455091</td>\n",
       "      <td>4.873439</td>\n",
       "      <td>6.080932</td>\n",
       "      <td>7.645773</td>\n",
       "      <td>6.548031</td>\n",
       "      <td>7.713497</td>\n",
       "      <td>4.771134</td>\n",
       "      <td>3.692363</td>\n",
       "    </tr>\n",
       "    <tr>\n",
       "      <th>std</th>\n",
       "      <td>2.438497</td>\n",
       "      <td>2.912557</td>\n",
       "      <td>2.380382</td>\n",
       "      <td>1.834781</td>\n",
       "      <td>2.099398</td>\n",
       "      <td>2.342694</td>\n",
       "      <td>2.569708</td>\n",
       "      <td>2.660372</td>\n",
       "      <td>2.556195</td>\n",
       "      <td>2.023202</td>\n",
       "      <td>2.495843</td>\n",
       "      <td>2.116004</td>\n",
       "      <td>1.791063</td>\n",
       "      <td>2.261299</td>\n",
       "      <td>1.895999</td>\n",
       "      <td>2.549293</td>\n",
       "      <td>2.591998</td>\n",
       "    </tr>\n",
       "    <tr>\n",
       "      <th>min</th>\n",
       "      <td>1.000000</td>\n",
       "      <td>1.000000</td>\n",
       "      <td>1.000000</td>\n",
       "      <td>1.000000</td>\n",
       "      <td>0.000000</td>\n",
       "      <td>0.000000</td>\n",
       "      <td>0.000000</td>\n",
       "      <td>1.000000</td>\n",
       "      <td>0.000000</td>\n",
       "      <td>1.000000</td>\n",
       "      <td>1.000000</td>\n",
       "      <td>0.000000</td>\n",
       "      <td>0.000000</td>\n",
       "      <td>0.000000</td>\n",
       "      <td>1.000000</td>\n",
       "      <td>1.000000</td>\n",
       "      <td>0.000000</td>\n",
       "    </tr>\n",
       "    <tr>\n",
       "      <th>25%</th>\n",
       "      <td>5.000000</td>\n",
       "      <td>2.000000</td>\n",
       "      <td>4.000000</td>\n",
       "      <td>6.000000</td>\n",
       "      <td>5.000000</td>\n",
       "      <td>4.000000</td>\n",
       "      <td>3.000000</td>\n",
       "      <td>2.000000</td>\n",
       "      <td>4.000000</td>\n",
       "      <td>6.000000</td>\n",
       "      <td>3.000000</td>\n",
       "      <td>5.000000</td>\n",
       "      <td>7.000000</td>\n",
       "      <td>5.000000</td>\n",
       "      <td>7.000000</td>\n",
       "      <td>2.000000</td>\n",
       "      <td>1.000000</td>\n",
       "    </tr>\n",
       "    <tr>\n",
       "      <th>50%</th>\n",
       "      <td>7.000000</td>\n",
       "      <td>5.000000</td>\n",
       "      <td>6.000000</td>\n",
       "      <td>8.000000</td>\n",
       "      <td>7.000000</td>\n",
       "      <td>7.000000</td>\n",
       "      <td>6.000000</td>\n",
       "      <td>4.000000</td>\n",
       "      <td>6.000000</td>\n",
       "      <td>8.000000</td>\n",
       "      <td>5.000000</td>\n",
       "      <td>6.000000</td>\n",
       "      <td>8.000000</td>\n",
       "      <td>7.000000</td>\n",
       "      <td>8.000000</td>\n",
       "      <td>5.000000</td>\n",
       "      <td>3.000000</td>\n",
       "    </tr>\n",
       "    <tr>\n",
       "      <th>75%</th>\n",
       "      <td>9.000000</td>\n",
       "      <td>7.000000</td>\n",
       "      <td>8.000000</td>\n",
       "      <td>9.000000</td>\n",
       "      <td>8.000000</td>\n",
       "      <td>8.000000</td>\n",
       "      <td>8.000000</td>\n",
       "      <td>6.000000</td>\n",
       "      <td>8.000000</td>\n",
       "      <td>9.000000</td>\n",
       "      <td>7.000000</td>\n",
       "      <td>8.000000</td>\n",
       "      <td>9.000000</td>\n",
       "      <td>8.000000</td>\n",
       "      <td>9.000000</td>\n",
       "      <td>7.000000</td>\n",
       "      <td>6.000000</td>\n",
       "    </tr>\n",
       "    <tr>\n",
       "      <th>max</th>\n",
       "      <td>10.000000</td>\n",
       "      <td>10.000000</td>\n",
       "      <td>10.000000</td>\n",
       "      <td>10.000000</td>\n",
       "      <td>10.000000</td>\n",
       "      <td>10.000000</td>\n",
       "      <td>10.000000</td>\n",
       "      <td>14.000000</td>\n",
       "      <td>10.000000</td>\n",
       "      <td>13.000000</td>\n",
       "      <td>10.000000</td>\n",
       "      <td>10.000000</td>\n",
       "      <td>10.000000</td>\n",
       "      <td>10.000000</td>\n",
       "      <td>10.000000</td>\n",
       "      <td>10.000000</td>\n",
       "      <td>10.000000</td>\n",
       "    </tr>\n",
       "  </tbody>\n",
       "</table>\n",
       "</div>"
      ],
      "text/plain": [
       "       sports_partner  tvsports_partner  exercise_partner  dining_partner  \\\n",
       "count     4164.000000       4164.000000       4164.000000     4164.000000   \n",
       "mean         7.029779          4.982229          6.039625        7.423151   \n",
       "std          2.438497          2.912557          2.380382        1.834781   \n",
       "min          1.000000          1.000000          1.000000        1.000000   \n",
       "25%          5.000000          2.000000          4.000000        6.000000   \n",
       "50%          7.000000          5.000000          6.000000        8.000000   \n",
       "75%          9.000000          7.000000          8.000000        9.000000   \n",
       "max         10.000000         10.000000         10.000000       10.000000   \n",
       "\n",
       "       museums_partner  art_partner  hiking_partner  gaming_partner  \\\n",
       "count      4164.000000  4164.000000     4164.000000     4164.000000   \n",
       "mean          6.550672     6.217819        5.534822        4.453410   \n",
       "std           2.099398     2.342694        2.569708        2.660372   \n",
       "min           0.000000     0.000000        0.000000        1.000000   \n",
       "25%           5.000000     4.000000        3.000000        2.000000   \n",
       "50%           7.000000     7.000000        6.000000        4.000000   \n",
       "75%           8.000000     8.000000        8.000000        6.000000   \n",
       "max          10.000000    10.000000       10.000000       14.000000   \n",
       "\n",
       "       clubbing_partner  reading_partner   tv_partner  theater_partner  \\\n",
       "count       4164.000000      4164.000000  4164.000000      4164.000000   \n",
       "mean           5.592219         7.455091     4.873439         6.080932   \n",
       "std            2.556195         2.023202     2.495843         2.116004   \n",
       "min            0.000000         1.000000     1.000000         0.000000   \n",
       "25%            4.000000         6.000000     3.000000         5.000000   \n",
       "50%            6.000000         8.000000     5.000000         6.000000   \n",
       "75%            8.000000         9.000000     7.000000         8.000000   \n",
       "max           10.000000        13.000000    10.000000        10.000000   \n",
       "\n",
       "       movies_partner  concerts_partner  music_partner  shopping_partner  \\\n",
       "count     4164.000000       4164.000000    4164.000000       4164.000000   \n",
       "mean         7.645773          6.548031       7.713497          4.771134   \n",
       "std          1.791063          2.261299       1.895999          2.549293   \n",
       "min          0.000000          0.000000       1.000000          1.000000   \n",
       "25%          7.000000          5.000000       7.000000          2.000000   \n",
       "50%          8.000000          7.000000       8.000000          5.000000   \n",
       "75%          9.000000          8.000000       9.000000          7.000000   \n",
       "max         10.000000         10.000000      10.000000         10.000000   \n",
       "\n",
       "       yoga_partner  \n",
       "count   4164.000000  \n",
       "mean       3.692363  \n",
       "std        2.591998  \n",
       "min        0.000000  \n",
       "25%        1.000000  \n",
       "50%        3.000000  \n",
       "75%        6.000000  \n",
       "max       10.000000  "
      ]
     },
     "metadata": {},
     "output_type": "display_data"
    },
    {
     "data": {
      "text/plain": [
       "art                NaN\n",
       "art_partner        NaN\n",
       "clubbing           NaN\n",
       "clubbing_partner   NaN\n",
       "concerts           NaN\n",
       "concerts_partner   NaN\n",
       "dining             NaN\n",
       "dining_partner     NaN\n",
       "exercise           NaN\n",
       "exercise_partner   NaN\n",
       "gaming             NaN\n",
       "gaming_partner     NaN\n",
       "hiking             NaN\n",
       "hiking_partner     NaN\n",
       "movies             NaN\n",
       "movies_partner     NaN\n",
       "museums            NaN\n",
       "museums_partner    NaN\n",
       "music              NaN\n",
       "music_partner      NaN\n",
       "reading            NaN\n",
       "reading_partner    NaN\n",
       "shopping           NaN\n",
       "shopping_partner   NaN\n",
       "sports             NaN\n",
       "sports_partner     NaN\n",
       "theater            NaN\n",
       "theater_partner    NaN\n",
       "tv                 NaN\n",
       "tv_partner         NaN\n",
       "tvsports           NaN\n",
       "tvsports_partner   NaN\n",
       "yoga               NaN\n",
       "yoga_partner       NaN\n",
       "dtype: float64"
      ]
     },
     "metadata": {},
     "output_type": "display_data"
    }
   ],
   "source": [
    "interest_partner1 = join_dataset[['sports', 'tvsports', 'exercise', 'dining', 'museums', 'art', 'hiking', 'gaming', 'clubbing', 'reading', 'tv', 'theater', 'movies', 'concerts', 'music', 'shopping', 'yoga']].dropna()\n",
    "interest_partner2 = join_dataset[['sports_partner', 'tvsports_partner', 'exercise_partner', 'dining_partner', 'museums_partner', 'art_partner', 'hiking_partner', 'gaming_partner', 'clubbing_partner', 'reading_partner', 'tv_partner', 'theater_partner', 'movies_partner', 'concerts_partner', 'music_partner', 'shopping_partner', 'yoga_partner']].dropna()\n",
    "corr = interest_partner1.corrwith(interest_partner2)\n",
    "display(interest_partner1.shape)\n",
    "display(interest_partner1.describe(include=\"all\"))\n",
    "display(interest_partner2.shape)\n",
    "display(interest_partner2.describe(include=\"all\"))\n",
    "display(corr)\n",
    "#sns.heatmap(corr, annot=True)"
   ]
  },
  {
   "cell_type": "markdown",
   "metadata": {},
   "source": [
    "Just correlation not causality"
   ]
  }
 ],
 "metadata": {
  "kernelspec": {
   "display_name": "base",
   "language": "python",
   "name": "python3"
  },
  "language_info": {
   "codemirror_mode": {
    "name": "ipython",
    "version": 3
   },
   "file_extension": ".py",
   "mimetype": "text/x-python",
   "name": "python",
   "nbconvert_exporter": "python",
   "pygments_lexer": "ipython3",
   "version": "3.11.4"
  },
  "orig_nbformat": 4
 },
 "nbformat": 4,
 "nbformat_minor": 2
}
