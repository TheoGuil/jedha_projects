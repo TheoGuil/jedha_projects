{
 "cells": [
  {
   "cell_type": "markdown",
   "metadata": {},
   "source": [
    "# Speed Date Analysis\n",
    "\n",
    "## Project 🚧\n",
    "The marketing team needs help on a new project. They are experiencing a decrease in the number of matches, and they are trying to find a way to understand what makes people interested into each other.\n",
    "\n",
    "They decided to run a speed dating experiment with people who had to give Tinder lots of informations about themselves that could ultimately reflect on ther dating profile on the app.\n",
    "\n",
    "Tinder then gathered the data from this experiment. Each row in the dataset represents one speed date between two people, and indicates wether each of them secretly agreed to go on a second date with the other person.\n",
    "\n",
    "## Goals 🎯\n",
    "Use the dataset to understand what makes people interested into each other to go on a second date together:\n",
    "\n",
    "- You may use descriptive statistics\n",
    "- You may use visualisations\n",
    "\n",
    "## Scope of this project 🖼️\n",
    "Data was gathered from participants in experimental speed dating events from 2002-2004. During the events, the attendees would have a four minute \"first date\" with every other participant of the opposite sex. At the end of their four minutes, participants were asked if they would like to see their date again. They were also asked to rate their date on six attributes: Attractiveness, Sincerity, Intelligence, Fun, Ambition, and Shared Interests.\n",
    "\n",
    "The dataset also includes questionnaire data gathered from participants at different points in the process. These fields include: demographics, dating habits, self-perception across key attributes, beliefs on what others find valuable in a mate, and lifestyle information. See the Speed Dating Data Key document below for details."
   ]
  },
  {
   "cell_type": "code",
   "execution_count": 14,
   "metadata": {},
   "outputs": [],
   "source": [
    "import seaborn as sns\n",
    "import matplotlib.pyplot as plt\n",
    "import pandas as pd\n",
    "\n",
    "dataset = pd.read_csv(\"data/SpeedDatingData.csv\", encoding = 'unicode_escape')"
   ]
  },
  {
   "cell_type": "markdown",
   "metadata": {},
   "source": [
    "## Important datas\n",
    "When we saw the data descrition, theses data seems to be important to analyse:\n",
    "\n",
    "### The general data :\n",
    "- iid\n",
    "- pid : partner’s iid number\n",
    "- gender: Female=0, Male=1\n",
    "- match: 1=yes, 0=no\n",
    "- dec_o: decision of partner the night of event\n",
    "- attr_o: rating by partner the night of the event, for all 6 attributes\n",
    "- samerace: participant and the partner were the same race. 1= yes, 0=no\n",
    "- age: age\n",
    "- age_o : age of partner\n",
    "- field_cd: code of field of study\n",
    "- career_c: career coded\n",
    "- mn_sat: Median SAT score for the undergraduate institution where attended. Taken from Barron’s 25th Edition college profile book.  Proxy for intelligence.\n",
    "- income: Median household income based on zipcode using the Census Bureau website\n",
    "- goal: What is your primary goal in participating in this event?\n",
    "\n",
    "### The attributes the participant thinks important\n",
    "- imprace: How important is it to you (on a scale of 1-10) that a person you date be of the same racial/ethnic background?\n",
    "- imprelig: How important is it to you (on a scale of 1-10) that a person you date be of the same religious background?\n",
    "\n",
    "Rate the importance of the following attributes on a scale of 1-10 \n",
    "- attr1_s:  Attractive\n",
    "- sinc1_s: Sincere\n",
    "- intel1_s: Intelligent\n",
    "- fun1_s: Fun\n",
    "- amb1_s: Ambitious\n",
    "- shar1_s: Has shared interests/hobbies\n",
    "\n",
    "Rate your own attributes:\n",
    "- attr3_s:  Attractive\n",
    "- sinc3_s: Sincere\n",
    "- intel3_s: Intelligent\n",
    "- fun3_s: Fun\n",
    "- amb3_s: Ambitious\n",
    "\n",
    "Rate the importance of attribute \n",
    "\n",
    "\n",
    "### Interrests:\n",
    "- sports: Playing sports/ athletics\n",
    "- tvsports: Watching sports\n",
    "- excersice: Body building/exercising\n",
    "- dining: Dining out\n",
    "- museums: Museums/galleries\n",
    "- art: Art\n",
    "- hiking:  Hiking/camping\n",
    "- gaming: Gaming\n",
    "- clubbing: Dancing/clubbing\n",
    "- reading: Reading\n",
    "- tv: Watching TV\n",
    "- theater: Theater\n",
    "- movies: Movies\n",
    "- concerts: Going to concerts\n",
    "- music: Music\n",
    "- shopping: Shopping\n",
    "- yoga: Yoga/meditation\n",
    "\n",
    "### Futur:\n",
    "- you_call: How many have you contacted to set up a date?\n",
    "- them_cal: How many have contacted you?\n",
    "- date_3: Have you been on a date with any of your matches?\tYes=1\tNo=2\n"
   ]
  },
  {
   "cell_type": "code",
   "execution_count": 15,
   "metadata": {},
   "outputs": [],
   "source": [
    "dataset = dataset[['iid', 'pid', 'wave', 'gender', 'match', 'dec_o', 'attr_o', 'samerace', 'age', 'age_o', 'field_cd', 'career_c', 'mn_sat', 'income', 'goal', 'attr1_s', 'sinc1_s', 'intel1_s', 'fun1_s', 'amb1_s', 'shar1_s', 'attr3_s', 'sinc3_s', 'intel3_s', 'fun3_s', 'amb3_s', 'sports', 'tvsports', 'exercise', 'dining', 'museums', 'art', 'hiking', 'gaming', 'clubbing', 'reading', 'tv', 'theater', 'movies', 'concerts', 'music', 'shopping', 'yoga', 'you_call', 'them_cal', 'date_3']]"
   ]
  },
  {
   "cell_type": "markdown",
   "metadata": {},
   "source": [
    "### Number matches per wave\n",
    "We look at the number of matches per wave to see if any waves are skewed by the fact that people bring a book."
   ]
  },
  {
   "cell_type": "code",
   "execution_count": 32,
   "metadata": {},
   "outputs": [
    {
     "data": {
      "text/plain": [
       "<seaborn.axisgrid.FacetGrid at 0x22649dd2650>"
      ]
     },
     "execution_count": 32,
     "metadata": {},
     "output_type": "execute_result"
    },
    {
     "data": {
      "image/png": "[encoded data removed]",
      "text/plain": [
       "<Figure size 1560.36x500 with 1 Axes>"
      ]
     },
     "metadata": {},
     "output_type": "display_data"
    }
   ],
   "source": [
    "palette = {\n",
    "    0: '#AA5986',\n",
    "    1: '#56b3e3'\n",
    "}\n",
    "sns.catplot(x=\"wave\", y=\"match\", hue=\"gender\", kind=\"bar\", data=dataset, aspect=3, palette=palette)"
   ]
  },
  {
   "cell_type": "markdown",
   "metadata": {},
   "source": [
    "We can see that, depending on the wave, the match rate is always between 10% and 30%. We can also see that there is no difference according to gender."
   ]
  },
  {
   "cell_type": "markdown",
   "metadata": {},
   "source": [
    "## Number matches in common\n",
    "We're joining the dates with their partner."
   ]
  },
  {
   "cell_type": "code",
   "execution_count": 122,
   "metadata": {},
   "outputs": [
    {
     "data": {
      "text/plain": [
       "0            (1, 11.0)\n",
       "10           (1, 12.0)\n",
       "20           (1, 13.0)\n",
       "30           (1, 14.0)\n",
       "40           (1, 15.0)\n",
       "              ...     \n",
       "141014    (552, 526.0)\n",
       "141036    (552, 527.0)\n",
       "141058    (552, 528.0)\n",
       "141080    (552, 529.0)\n",
       "141102    (552, 530.0)\n",
       "Name: parter_combination, Length: 8368, dtype: object"
      ]
     },
     "execution_count": 122,
     "metadata": {},
     "output_type": "execute_result"
    }
   ],
   "source": [
    "join_dataset = dataset.merge(dataset, left_on='pid', right_on='iid', how='left', suffixes=(\"\", \"_partner\"))\n",
    "join_dataset = join_dataset.drop_duplicates(subset=['iid', 'pid', 'iid_partner'])\n",
    "join_dataset = join_dataset.dropna(subset=[\"pid\"])\n",
    "# join_dataset have duplicate date a.b & b.a\n",
    "join_dataset[\"parter_combination\"] = list(zip(join_dataset['iid'], join_dataset['pid']))\n",
    "join_dataset[\"parter_combination\"]"
   ]
  },
  {
   "cell_type": "markdown",
   "metadata": {},
   "source": [
    "\n",
    "\n",
    "## Number of interest in common and number of match\n",
    "\n",
    "## Correlation of interest\n",
    "\n",
    "distinguer entre les resultat femmes et homme\n",
    "\n",
    "Just correlation not causality"
   ]
  }
 ],
 "metadata": {
  "kernelspec": {
   "display_name": "base",
   "language": "python",
   "name": "python3"
  },
  "language_info": {
   "codemirror_mode": {
    "name": "ipython",
    "version": 3
   },
   "file_extension": ".py",
   "mimetype": "text/x-python",
   "name": "python",
   "nbconvert_exporter": "python",
   "pygments_lexer": "ipython3",
   "version": "3.11.4"
  },
  "orig_nbformat": 4
 },
 "nbformat": 4,
 "nbformat_minor": 2
}
