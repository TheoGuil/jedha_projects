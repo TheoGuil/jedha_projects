{
 "cells": [
  {
   "cell_type": "markdown",
   "metadata": {},
   "source": [
    "# Detecteur de SPAM\n",
    "\n",
    "\n",
    "## EDA"
   ]
  },
  {
   "cell_type": "code",
   "execution_count": 189,
   "metadata": {},
   "outputs": [],
   "source": [
    "import tensorflow as tf\n",
    "import pandas as pd\n",
    "import numpy as np\n",
    "import seaborn as sns\n",
    "import matplotlib.pyplot as plt\n",
    "from plotly import graph_objects as go\n",
    "\n",
    "\n",
    "from sklearn.model_selection import train_test_split\n",
    "\n",
    "import spacy\n",
    "import en_core_web_sm\n",
    "from spacy.lang.en.stop_words import STOP_WORDS\n",
    "import re\n"
   ]
  },
  {
   "cell_type": "code",
   "execution_count": 190,
   "metadata": {},
   "outputs": [
    {
     "data": {
      "text/html": [
       "<div>\n",
       "<style scoped>\n",
       "    .dataframe tbody tr th:only-of-type {\n",
       "        vertical-align: middle;\n",
       "    }\n",
       "\n",
       "    .dataframe tbody tr th {\n",
       "        vertical-align: top;\n",
       "    }\n",
       "\n",
       "    .dataframe thead th {\n",
       "        text-align: right;\n",
       "    }\n",
       "</style>\n",
       "<table border=\"1\" class=\"dataframe\">\n",
       "  <thead>\n",
       "    <tr style=\"text-align: right;\">\n",
       "      <th></th>\n",
       "      <th>v1</th>\n",
       "      <th>v2</th>\n",
       "      <th>Unnamed: 2</th>\n",
       "      <th>Unnamed: 3</th>\n",
       "      <th>Unnamed: 4</th>\n",
       "    </tr>\n",
       "  </thead>\n",
       "  <tbody>\n",
       "    <tr>\n",
       "      <th>0</th>\n",
       "      <td>ham</td>\n",
       "      <td>Go until jurong point, crazy.. Available only ...</td>\n",
       "      <td>NaN</td>\n",
       "      <td>NaN</td>\n",
       "      <td>NaN</td>\n",
       "    </tr>\n",
       "    <tr>\n",
       "      <th>1</th>\n",
       "      <td>ham</td>\n",
       "      <td>Ok lar... Joking wif u oni...</td>\n",
       "      <td>NaN</td>\n",
       "      <td>NaN</td>\n",
       "      <td>NaN</td>\n",
       "    </tr>\n",
       "    <tr>\n",
       "      <th>2</th>\n",
       "      <td>spam</td>\n",
       "      <td>Free entry in 2 a wkly comp to win FA Cup fina...</td>\n",
       "      <td>NaN</td>\n",
       "      <td>NaN</td>\n",
       "      <td>NaN</td>\n",
       "    </tr>\n",
       "    <tr>\n",
       "      <th>3</th>\n",
       "      <td>ham</td>\n",
       "      <td>U dun say so early hor... U c already then say...</td>\n",
       "      <td>NaN</td>\n",
       "      <td>NaN</td>\n",
       "      <td>NaN</td>\n",
       "    </tr>\n",
       "    <tr>\n",
       "      <th>4</th>\n",
       "      <td>ham</td>\n",
       "      <td>Nah I don't think he goes to usf, he lives aro...</td>\n",
       "      <td>NaN</td>\n",
       "      <td>NaN</td>\n",
       "      <td>NaN</td>\n",
       "    </tr>\n",
       "  </tbody>\n",
       "</table>\n",
       "</div>"
      ],
      "text/plain": [
       "     v1                                                 v2 Unnamed: 2  \\\n",
       "0   ham  Go until jurong point, crazy.. Available only ...        NaN   \n",
       "1   ham                      Ok lar... Joking wif u oni...        NaN   \n",
       "2  spam  Free entry in 2 a wkly comp to win FA Cup fina...        NaN   \n",
       "3   ham  U dun say so early hor... U c already then say...        NaN   \n",
       "4   ham  Nah I don't think he goes to usf, he lives aro...        NaN   \n",
       "\n",
       "  Unnamed: 3 Unnamed: 4  \n",
       "0        NaN        NaN  \n",
       "1        NaN        NaN  \n",
       "2        NaN        NaN  \n",
       "3        NaN        NaN  \n",
       "4        NaN        NaN  "
      ]
     },
     "execution_count": 190,
     "metadata": {},
     "output_type": "execute_result"
    }
   ],
   "source": [
    "df = pd.read_csv(\"src/spam.csv\", encoding=\"Windows-1252\")\n",
    "df.head()"
   ]
  },
  {
   "cell_type": "code",
   "execution_count": 191,
   "metadata": {},
   "outputs": [
    {
     "data": {
      "text/html": [
       "<div>\n",
       "<style scoped>\n",
       "    .dataframe tbody tr th:only-of-type {\n",
       "        vertical-align: middle;\n",
       "    }\n",
       "\n",
       "    .dataframe tbody tr th {\n",
       "        vertical-align: top;\n",
       "    }\n",
       "\n",
       "    .dataframe thead th {\n",
       "        text-align: right;\n",
       "    }\n",
       "</style>\n",
       "<table border=\"1\" class=\"dataframe\">\n",
       "  <thead>\n",
       "    <tr style=\"text-align: right;\">\n",
       "      <th></th>\n",
       "      <th>v1</th>\n",
       "      <th>v2</th>\n",
       "      <th>Unnamed: 2</th>\n",
       "      <th>Unnamed: 3</th>\n",
       "      <th>Unnamed: 4</th>\n",
       "    </tr>\n",
       "  </thead>\n",
       "  <tbody>\n",
       "    <tr>\n",
       "      <th>count</th>\n",
       "      <td>5572</td>\n",
       "      <td>5572</td>\n",
       "      <td>50</td>\n",
       "      <td>12</td>\n",
       "      <td>6</td>\n",
       "    </tr>\n",
       "    <tr>\n",
       "      <th>unique</th>\n",
       "      <td>2</td>\n",
       "      <td>5169</td>\n",
       "      <td>43</td>\n",
       "      <td>10</td>\n",
       "      <td>5</td>\n",
       "    </tr>\n",
       "    <tr>\n",
       "      <th>top</th>\n",
       "      <td>ham</td>\n",
       "      <td>Sorry, I'll call later</td>\n",
       "      <td>bt not his girlfrnd... G o o d n i g h t . . .@\"</td>\n",
       "      <td>MK17 92H. 450Ppw 16\"</td>\n",
       "      <td>GNT:-)\"</td>\n",
       "    </tr>\n",
       "    <tr>\n",
       "      <th>freq</th>\n",
       "      <td>4825</td>\n",
       "      <td>30</td>\n",
       "      <td>3</td>\n",
       "      <td>2</td>\n",
       "      <td>2</td>\n",
       "    </tr>\n",
       "  </tbody>\n",
       "</table>\n",
       "</div>"
      ],
      "text/plain": [
       "          v1                      v2  \\\n",
       "count   5572                    5572   \n",
       "unique     2                    5169   \n",
       "top      ham  Sorry, I'll call later   \n",
       "freq    4825                      30   \n",
       "\n",
       "                                               Unnamed: 2  \\\n",
       "count                                                  50   \n",
       "unique                                                 43   \n",
       "top      bt not his girlfrnd... G o o d n i g h t . . .@\"   \n",
       "freq                                                    3   \n",
       "\n",
       "                   Unnamed: 3 Unnamed: 4  \n",
       "count                      12          6  \n",
       "unique                     10          5  \n",
       "top      MK17 92H. 450Ppw 16\"    GNT:-)\"  \n",
       "freq                        2          2  "
      ]
     },
     "execution_count": 191,
     "metadata": {},
     "output_type": "execute_result"
    }
   ],
   "source": [
    "df.describe(include=\"all\")"
   ]
  },
  {
   "cell_type": "code",
   "execution_count": 192,
   "metadata": {},
   "outputs": [
    {
     "data": {
      "text/html": [
       "<div>\n",
       "<style scoped>\n",
       "    .dataframe tbody tr th:only-of-type {\n",
       "        vertical-align: middle;\n",
       "    }\n",
       "\n",
       "    .dataframe tbody tr th {\n",
       "        vertical-align: top;\n",
       "    }\n",
       "\n",
       "    .dataframe thead th {\n",
       "        text-align: right;\n",
       "    }\n",
       "</style>\n",
       "<table border=\"1\" class=\"dataframe\">\n",
       "  <thead>\n",
       "    <tr style=\"text-align: right;\">\n",
       "      <th></th>\n",
       "      <th>category</th>\n",
       "      <th>text</th>\n",
       "    </tr>\n",
       "  </thead>\n",
       "  <tbody>\n",
       "    <tr>\n",
       "      <th>0</th>\n",
       "      <td>ham</td>\n",
       "      <td>Go until jurong point, crazy.. Available only ...</td>\n",
       "    </tr>\n",
       "    <tr>\n",
       "      <th>1</th>\n",
       "      <td>ham</td>\n",
       "      <td>Ok lar... Joking wif u oni...</td>\n",
       "    </tr>\n",
       "    <tr>\n",
       "      <th>2</th>\n",
       "      <td>spam</td>\n",
       "      <td>Free entry in 2 a wkly comp to win FA Cup fina...</td>\n",
       "    </tr>\n",
       "    <tr>\n",
       "      <th>3</th>\n",
       "      <td>ham</td>\n",
       "      <td>U dun say so early hor... U c already then say...</td>\n",
       "    </tr>\n",
       "    <tr>\n",
       "      <th>4</th>\n",
       "      <td>ham</td>\n",
       "      <td>Nah I don't think he goes to usf, he lives aro...</td>\n",
       "    </tr>\n",
       "  </tbody>\n",
       "</table>\n",
       "</div>"
      ],
      "text/plain": [
       "  category                                               text\n",
       "0      ham  Go until jurong point, crazy.. Available only ...\n",
       "1      ham                      Ok lar... Joking wif u oni...\n",
       "2     spam  Free entry in 2 a wkly comp to win FA Cup fina...\n",
       "3      ham  U dun say so early hor... U c already then say...\n",
       "4      ham  Nah I don't think he goes to usf, he lives aro..."
      ]
     },
     "execution_count": 192,
     "metadata": {},
     "output_type": "execute_result"
    }
   ],
   "source": [
    "def join_text(texts):\n",
    "    result = \"\"\n",
    "    for text in texts:\n",
    "        if(str(text).lower() != \"nan\"):\n",
    "            result = \", \".join([result, str(text)])\n",
    "    \n",
    "    return result[2:]\n",
    "\n",
    "cols = ['v2', 'Unnamed: 2', 'Unnamed: 3', 'Unnamed: 4']\n",
    "df['text'] = df[cols].apply(lambda row: join_text(row), axis=1)\n",
    "df = df.drop(cols, axis=1).rename(columns={\"v1\": \"category\"})\n",
    "df.head()"
   ]
  },
  {
   "cell_type": "code",
   "execution_count": 193,
   "metadata": {},
   "outputs": [
    {
     "data": {
      "image/png": "[encoded data removed]",
      "text/plain": [
       "<Figure size 640x480 with 1 Axes>"
      ]
     },
     "metadata": {},
     "output_type": "display_data"
    }
   ],
   "source": [
    "def format_value(x):\n",
    "    return '{:.1f}%\\n({:.0f})'.format(x, len(df)*x/100)\n",
    "\n",
    "plt.pie(df.category.value_counts(), labels=df.category.value_counts().index, autopct=format_value)\n",
    "plt.figlegend(df.category.value_counts().index)\n",
    "plt.title(\"% Spam dans le dataset\")\n",
    "plt.text(-0.2, 1.1, f\"sur {len(df)} SMS\")\n",
    "plt.show()"
   ]
  },
  {
   "cell_type": "markdown",
   "metadata": {},
   "source": [
    "## Preprocessing\n",
    "\n",
    "Pour le prepocessing, on va seulement lematizer et enlever les stop words, on garde cependant la ponctuation car elle peut être utile pour détecter les spams."
   ]
  },
  {
   "cell_type": "code",
   "execution_count": 194,
   "metadata": {},
   "outputs": [],
   "source": [
    "nlp = en_core_web_sm.load()"
   ]
  },
  {
   "cell_type": "code",
   "execution_count": 195,
   "metadata": {},
   "outputs": [],
   "source": [
    "def cleanText(text):\n",
    "    text = re.sub(' +', ' ', text).lower().strip()\n",
    "    doc = nlp(text)\n",
    "    #cleantext = \" \".join([token.lemma_ for token in doc if (token.text not in STOP_WORDS) or (token.lemma_ not in STOP_WORDS)])\n",
    "    #cleantext = \" \".join([token.lemma_ for token in doc])\n",
    "    cleantext = \" \".join([token.lower_ for token in doc])\n",
    "    return cleantext"
   ]
  },
  {
   "cell_type": "code",
   "execution_count": 196,
   "metadata": {},
   "outputs": [
    {
     "data": {
      "text/html": [
       "<div>\n",
       "<style scoped>\n",
       "    .dataframe tbody tr th:only-of-type {\n",
       "        vertical-align: middle;\n",
       "    }\n",
       "\n",
       "    .dataframe tbody tr th {\n",
       "        vertical-align: top;\n",
       "    }\n",
       "\n",
       "    .dataframe thead th {\n",
       "        text-align: right;\n",
       "    }\n",
       "</style>\n",
       "<table border=\"1\" class=\"dataframe\">\n",
       "  <thead>\n",
       "    <tr style=\"text-align: right;\">\n",
       "      <th></th>\n",
       "      <th>category</th>\n",
       "      <th>text</th>\n",
       "      <th>clean_text</th>\n",
       "    </tr>\n",
       "  </thead>\n",
       "  <tbody>\n",
       "    <tr>\n",
       "      <th>0</th>\n",
       "      <td>ham</td>\n",
       "      <td>Go until jurong point, crazy.. Available only ...</td>\n",
       "      <td>go until jurong point , crazy .. available onl...</td>\n",
       "    </tr>\n",
       "    <tr>\n",
       "      <th>1</th>\n",
       "      <td>ham</td>\n",
       "      <td>Ok lar... Joking wif u oni...</td>\n",
       "      <td>ok lar ... joking wif u oni ...</td>\n",
       "    </tr>\n",
       "    <tr>\n",
       "      <th>2</th>\n",
       "      <td>spam</td>\n",
       "      <td>Free entry in 2 a wkly comp to win FA Cup fina...</td>\n",
       "      <td>free entry in 2 a wkly comp to win fa cup fina...</td>\n",
       "    </tr>\n",
       "    <tr>\n",
       "      <th>3</th>\n",
       "      <td>ham</td>\n",
       "      <td>U dun say so early hor... U c already then say...</td>\n",
       "      <td>u dun say so early hor ... u c already then sa...</td>\n",
       "    </tr>\n",
       "    <tr>\n",
       "      <th>4</th>\n",
       "      <td>ham</td>\n",
       "      <td>Nah I don't think he goes to usf, he lives aro...</td>\n",
       "      <td>nah i do n't think he goes to usf , he lives a...</td>\n",
       "    </tr>\n",
       "  </tbody>\n",
       "</table>\n",
       "</div>"
      ],
      "text/plain": [
       "  category                                               text  \\\n",
       "0      ham  Go until jurong point, crazy.. Available only ...   \n",
       "1      ham                      Ok lar... Joking wif u oni...   \n",
       "2     spam  Free entry in 2 a wkly comp to win FA Cup fina...   \n",
       "3      ham  U dun say so early hor... U c already then say...   \n",
       "4      ham  Nah I don't think he goes to usf, he lives aro...   \n",
       "\n",
       "                                          clean_text  \n",
       "0  go until jurong point , crazy .. available onl...  \n",
       "1                    ok lar ... joking wif u oni ...  \n",
       "2  free entry in 2 a wkly comp to win fa cup fina...  \n",
       "3  u dun say so early hor ... u c already then sa...  \n",
       "4  nah i do n't think he goes to usf , he lives a...  "
      ]
     },
     "execution_count": 196,
     "metadata": {},
     "output_type": "execute_result"
    }
   ],
   "source": [
    "df[\"clean_text\"] = df[\"text\"].apply(cleanText)\n",
    "df.head()"
   ]
  },
  {
   "cell_type": "code",
   "execution_count": 197,
   "metadata": {},
   "outputs": [
    {
     "data": {
      "text/html": [
       "<div>\n",
       "<style scoped>\n",
       "    .dataframe tbody tr th:only-of-type {\n",
       "        vertical-align: middle;\n",
       "    }\n",
       "\n",
       "    .dataframe tbody tr th {\n",
       "        vertical-align: top;\n",
       "    }\n",
       "\n",
       "    .dataframe thead th {\n",
       "        text-align: right;\n",
       "    }\n",
       "</style>\n",
       "<table border=\"1\" class=\"dataframe\">\n",
       "  <thead>\n",
       "    <tr style=\"text-align: right;\">\n",
       "      <th></th>\n",
       "      <th>category</th>\n",
       "      <th>text</th>\n",
       "      <th>clean_text</th>\n",
       "      <th>text_encoded</th>\n",
       "      <th>len_text</th>\n",
       "    </tr>\n",
       "  </thead>\n",
       "  <tbody>\n",
       "    <tr>\n",
       "      <th>0</th>\n",
       "      <td>ham</td>\n",
       "      <td>Go until jurong point, crazy.. Available only ...</td>\n",
       "      <td>go until jurong point , crazy .. available onl...</td>\n",
       "      <td>[63, 474, 827, 5, 781, 19, 678, 81, 14, 105, 1...</td>\n",
       "      <td>18</td>\n",
       "    </tr>\n",
       "    <tr>\n",
       "      <th>1</th>\n",
       "      <td>ham</td>\n",
       "      <td>Ok lar... Joking wif u oni...</td>\n",
       "      <td>ok lar ... joking wif u oni ...</td>\n",
       "      <td>[61, 340, 10, 475, 11, 10]</td>\n",
       "      <td>6</td>\n",
       "    </tr>\n",
       "    <tr>\n",
       "      <th>2</th>\n",
       "      <td>spam</td>\n",
       "      <td>Free entry in 2 a wkly comp to win FA Cup fina...</td>\n",
       "      <td>free entry in 2 a wkly comp to win fa cup fina...</td>\n",
       "      <td>[62, 492, 14, 30, 7, 782, 930, 3, 203, 649, 27...</td>\n",
       "      <td>21</td>\n",
       "    </tr>\n",
       "    <tr>\n",
       "      <th>3</th>\n",
       "      <td>ham</td>\n",
       "      <td>U dun say so early hor... U c already then say...</td>\n",
       "      <td>u dun say so early hor ... u c already then sa...</td>\n",
       "      <td>[11, 260, 163, 32, 389, 10, 11, 178, 166, 72, ...</td>\n",
       "      <td>12</td>\n",
       "    </tr>\n",
       "    <tr>\n",
       "      <th>4</th>\n",
       "      <td>ham</td>\n",
       "      <td>Nah I don't think he goes to usf, he lives aro...</td>\n",
       "      <td>nah i do n't think he goes to usf , he lives a...</td>\n",
       "      <td>[988, 2, 20, 48, 118, 78, 493, 3, 989, 5, 78, ...</td>\n",
       "      <td>14</td>\n",
       "    </tr>\n",
       "  </tbody>\n",
       "</table>\n",
       "</div>"
      ],
      "text/plain": [
       "  category                                               text  \\\n",
       "0      ham  Go until jurong point, crazy.. Available only ...   \n",
       "1      ham                      Ok lar... Joking wif u oni...   \n",
       "2     spam  Free entry in 2 a wkly comp to win FA Cup fina...   \n",
       "3      ham  U dun say so early hor... U c already then say...   \n",
       "4      ham  Nah I don't think he goes to usf, he lives aro...   \n",
       "\n",
       "                                          clean_text  \\\n",
       "0  go until jurong point , crazy .. available onl...   \n",
       "1                    ok lar ... joking wif u oni ...   \n",
       "2  free entry in 2 a wkly comp to win fa cup fina...   \n",
       "3  u dun say so early hor ... u c already then sa...   \n",
       "4  nah i do n't think he goes to usf , he lives a...   \n",
       "\n",
       "                                        text_encoded  len_text  \n",
       "0  [63, 474, 827, 5, 781, 19, 678, 81, 14, 105, 1...        18  \n",
       "1                         [61, 340, 10, 475, 11, 10]         6  \n",
       "2  [62, 492, 14, 30, 7, 782, 930, 3, 203, 649, 27...        21  \n",
       "3  [11, 260, 163, 32, 389, 10, 11, 178, 166, 72, ...        12  \n",
       "4  [988, 2, 20, 48, 118, 78, 493, 3, 989, 5, 78, ...        14  "
      ]
     },
     "execution_count": 197,
     "metadata": {},
     "output_type": "execute_result"
    }
   ],
   "source": [
    "tokenizer = tf.keras.preprocessing.text.Tokenizer(1000, filters=\"\")\n",
    "tokenizer.fit_on_texts(df[\"clean_text\"])\n",
    "df[\"text_encoded\"] = tokenizer.texts_to_sequences(df[\"clean_text\"])\n",
    "df[\"len_text\"] = df[\"text_encoded\"].apply(lambda x: len(x))\n",
    "df = df[df[\"len_text\"] != 0]\n",
    "df.head()"
   ]
  },
  {
   "cell_type": "code",
   "execution_count": 198,
   "metadata": {},
   "outputs": [
    {
     "data": {
      "text/html": [
       "<div>\n",
       "<style scoped>\n",
       "    .dataframe tbody tr th:only-of-type {\n",
       "        vertical-align: middle;\n",
       "    }\n",
       "\n",
       "    .dataframe tbody tr th {\n",
       "        vertical-align: top;\n",
       "    }\n",
       "\n",
       "    .dataframe thead th {\n",
       "        text-align: right;\n",
       "    }\n",
       "</style>\n",
       "<table border=\"1\" class=\"dataframe\">\n",
       "  <thead>\n",
       "    <tr style=\"text-align: right;\">\n",
       "      <th></th>\n",
       "      <th>category</th>\n",
       "      <th>text</th>\n",
       "      <th>clean_text</th>\n",
       "      <th>text_encoded</th>\n",
       "      <th>len_text</th>\n",
       "      <th>category_bool</th>\n",
       "    </tr>\n",
       "  </thead>\n",
       "  <tbody>\n",
       "    <tr>\n",
       "      <th>0</th>\n",
       "      <td>ham</td>\n",
       "      <td>Go until jurong point, crazy.. Available only ...</td>\n",
       "      <td>go until jurong point , crazy .. available onl...</td>\n",
       "      <td>[63, 474, 827, 5, 781, 19, 678, 81, 14, 105, 1...</td>\n",
       "      <td>18</td>\n",
       "      <td>0.0</td>\n",
       "    </tr>\n",
       "    <tr>\n",
       "      <th>1</th>\n",
       "      <td>ham</td>\n",
       "      <td>Ok lar... Joking wif u oni...</td>\n",
       "      <td>ok lar ... joking wif u oni ...</td>\n",
       "      <td>[61, 340, 10, 475, 11, 10]</td>\n",
       "      <td>6</td>\n",
       "      <td>0.0</td>\n",
       "    </tr>\n",
       "    <tr>\n",
       "      <th>2</th>\n",
       "      <td>spam</td>\n",
       "      <td>Free entry in 2 a wkly comp to win FA Cup fina...</td>\n",
       "      <td>free entry in 2 a wkly comp to win fa cup fina...</td>\n",
       "      <td>[62, 492, 14, 30, 7, 782, 930, 3, 203, 649, 27...</td>\n",
       "      <td>21</td>\n",
       "      <td>1.0</td>\n",
       "    </tr>\n",
       "    <tr>\n",
       "      <th>3</th>\n",
       "      <td>ham</td>\n",
       "      <td>U dun say so early hor... U c already then say...</td>\n",
       "      <td>u dun say so early hor ... u c already then sa...</td>\n",
       "      <td>[11, 260, 163, 32, 389, 10, 11, 178, 166, 72, ...</td>\n",
       "      <td>12</td>\n",
       "      <td>0.0</td>\n",
       "    </tr>\n",
       "    <tr>\n",
       "      <th>4</th>\n",
       "      <td>ham</td>\n",
       "      <td>Nah I don't think he goes to usf, he lives aro...</td>\n",
       "      <td>nah i do n't think he goes to usf , he lives a...</td>\n",
       "      <td>[988, 2, 20, 48, 118, 78, 493, 3, 989, 5, 78, ...</td>\n",
       "      <td>14</td>\n",
       "      <td>0.0</td>\n",
       "    </tr>\n",
       "  </tbody>\n",
       "</table>\n",
       "</div>"
      ],
      "text/plain": [
       "  category                                               text  \\\n",
       "0      ham  Go until jurong point, crazy.. Available only ...   \n",
       "1      ham                      Ok lar... Joking wif u oni...   \n",
       "2     spam  Free entry in 2 a wkly comp to win FA Cup fina...   \n",
       "3      ham  U dun say so early hor... U c already then say...   \n",
       "4      ham  Nah I don't think he goes to usf, he lives aro...   \n",
       "\n",
       "                                          clean_text  \\\n",
       "0  go until jurong point , crazy .. available onl...   \n",
       "1                    ok lar ... joking wif u oni ...   \n",
       "2  free entry in 2 a wkly comp to win fa cup fina...   \n",
       "3  u dun say so early hor ... u c already then sa...   \n",
       "4  nah i do n't think he goes to usf , he lives a...   \n",
       "\n",
       "                                        text_encoded  len_text  category_bool  \n",
       "0  [63, 474, 827, 5, 781, 19, 678, 81, 14, 105, 1...        18            0.0  \n",
       "1                         [61, 340, 10, 475, 11, 10]         6            0.0  \n",
       "2  [62, 492, 14, 30, 7, 782, 930, 3, 203, 649, 27...        21            1.0  \n",
       "3  [11, 260, 163, 32, 389, 10, 11, 178, 166, 72, ...        12            0.0  \n",
       "4  [988, 2, 20, 48, 118, 78, 493, 3, 989, 5, 78, ...        14            0.0  "
      ]
     },
     "execution_count": 198,
     "metadata": {},
     "output_type": "execute_result"
    }
   ],
   "source": [
    "df[\"category_bool\"] = df[\"category\"].apply(lambda x: 1.0 if x == \"spam\" else 0.0)\n",
    "df.head()"
   ]
  },
  {
   "cell_type": "code",
   "execution_count": 199,
   "metadata": {},
   "outputs": [],
   "source": [
    "# Pad sequences to have the same length\n",
    "text_pad = tf.keras.preprocessing.sequence.pad_sequences(df.text_encoded, padding=\"post\")\n",
    "\n",
    "# Train Test Split\n",
    "X_train, X_val, Y_train, Y_val = train_test_split(text_pad, df.category_bool, test_size=0.3, stratify=df.category_bool, random_state=0)\n",
    "\n",
    "train = tf.data.Dataset.from_tensor_slices((X_train, Y_train))\n",
    "val = tf.data.Dataset.from_tensor_slices((X_val, Y_val))\n",
    "\n",
    "train_batch = train.shuffle(len(train)).batch(128)\n",
    "val_batch = val.shuffle(len(val)).batch(128)"
   ]
  },
  {
   "cell_type": "markdown",
   "metadata": {},
   "source": [
    "## Modèle"
   ]
  },
  {
   "cell_type": "code",
   "execution_count": 200,
   "metadata": {},
   "outputs": [
    {
     "name": "stdout",
     "output_type": "stream",
     "text": [
      "Model: \"sequential_17\"\n",
      "_________________________________________________________________\n",
      " Layer (type)                Output Shape              Param #   \n",
      "=================================================================\n",
      " embedding (Embedding)       (None, 179, 32)           309376    \n",
      "                                                                 \n",
      " flatten_7 (Flatten)         (None, 5728)              0         \n",
      "                                                                 \n",
      " dense_61 (Dense)            (None, 1024)              5866496   \n",
      "                                                                 \n",
      " dense_62 (Dense)            (None, 512)               524800    \n",
      "                                                                 \n",
      " dense_63 (Dense)            (None, 256)               131328    \n",
      "                                                                 \n",
      " dropout_6 (Dropout)         (None, 256)               0         \n",
      "                                                                 \n",
      " dense_64 (Dense)            (None, 64)                16448     \n",
      "                                                                 \n",
      " dense_65 (Dense)            (None, 1)                 65        \n",
      "                                                                 \n",
      "=================================================================\n",
      "Total params: 6848513 (26.13 MB)\n",
      "Trainable params: 6848513 (26.13 MB)\n",
      "Non-trainable params: 0 (0.00 Byte)\n",
      "_________________________________________________________________\n"
     ]
    }
   ],
   "source": [
    "vocab_size = len(tokenizer.word_index)\n",
    "embedding_dim=32\n",
    "\n",
    "model = tf.keras.models.Sequential([\n",
    "  tf.keras.layers.Embedding(vocab_size + 1, embedding_dim, name=\"embedding\", input_length=df[\"len_text\"].max()),\n",
    "  tf.keras.layers.Flatten(),\n",
    "  tf.keras.layers.Dense(1024, activation='relu'),\n",
    "  tf.keras.layers.Dense(512, activation='relu'),\n",
    "  tf.keras.layers.Dense(256, activation='relu'),\n",
    "  tf.keras.layers.Dropout(rate=0.2),\n",
    "  tf.keras.layers.Dense(64, activation='relu'),\n",
    "  tf.keras.layers.Dense(1, activation=\"sigmoid\")\n",
    "])\n",
    "\n",
    "model.summary()"
   ]
  },
  {
   "cell_type": "markdown",
   "metadata": {},
   "source": [
    "Pour les métriques, on prendra :\n",
    "\n",
    "- la precision : on ne veut pas qualifier comme SPAM un message qui ne l'est pas\n",
    "- le F1-score : qui est une subtile combinaison entre la precision et le rappel (le nb de spam détecter sur le nb total de spam) mais qui ne compte pas les vrai négatifs. Comme nos classes sont déséquilibrer, il est très intéressant."
   ]
  },
  {
   "cell_type": "code",
   "execution_count": 201,
   "metadata": {},
   "outputs": [],
   "source": [
    "model.compile(optimizer='adam',\n",
    "              loss=tf.keras.losses.BinaryCrossentropy(),\n",
    "              metrics=[tf.keras.metrics.F1Score(average=\"weighted\", name=\"f1_score\"), tf.keras.metrics.Precision(name=\"precision\")])"
   ]
  },
  {
   "cell_type": "markdown",
   "metadata": {},
   "source": [
    "## Train"
   ]
  },
  {
   "cell_type": "code",
   "execution_count": 202,
   "metadata": {},
   "outputs": [
    {
     "name": "stdout",
     "output_type": "stream",
     "text": [
      "Epoch 1/200\n"
     ]
    },
    {
     "name": "stdout",
     "output_type": "stream",
     "text": [
      "31/31 [==============================] - 2s 55ms/step - loss: 0.3475 - f1_score: 0.2365 - precision: 0.2130 - val_loss: 0.1880 - val_f1_score: 0.2359 - val_precision: 0.9809\n",
      "Epoch 2/200\n",
      "31/31 [==============================] - 2s 52ms/step - loss: 0.1087 - f1_score: 0.2365 - precision: 0.9271 - val_loss: 0.0583 - val_f1_score: 0.2359 - val_precision: 0.9706\n",
      "Epoch 3/200\n",
      "31/31 [==============================] - 2s 54ms/step - loss: 0.0432 - f1_score: 0.2365 - precision: 0.9778 - val_loss: 0.0539 - val_f1_score: 0.2359 - val_precision: 0.9671\n",
      "Epoch 4/200\n",
      "31/31 [==============================] - 2s 55ms/step - loss: 0.0233 - f1_score: 0.2366 - precision: 0.9861 - val_loss: 0.0681 - val_f1_score: 0.2359 - val_precision: 0.9804\n",
      "Epoch 5/200\n",
      "31/31 [==============================] - 2s 55ms/step - loss: 0.0082 - f1_score: 0.2394 - precision: 0.9904 - val_loss: 0.1159 - val_f1_score: 0.2460 - val_precision: 0.9950\n",
      "Epoch 6/200\n",
      "31/31 [==============================] - 2s 56ms/step - loss: 0.0025 - f1_score: 0.2458 - precision: 0.9962 - val_loss: 0.0887 - val_f1_score: 0.2463 - val_precision: 0.9901\n",
      "Epoch 7/200\n",
      "31/31 [==============================] - 2s 54ms/step - loss: 5.5532e-04 - f1_score: 0.2512 - precision: 1.0000 - val_loss: 0.0890 - val_f1_score: 0.2470 - val_precision: 0.9673\n",
      "Epoch 8/200\n",
      "31/31 [==============================] - 2s 53ms/step - loss: 2.6135e-04 - f1_score: 0.2618 - precision: 1.0000 - val_loss: 0.1217 - val_f1_score: 0.2763 - val_precision: 0.9950\n",
      "Epoch 9/200\n",
      "31/31 [==============================] - 2s 53ms/step - loss: 5.5575e-05 - f1_score: 0.2821 - precision: 1.0000 - val_loss: 0.1174 - val_f1_score: 0.2800 - val_precision: 0.9951\n",
      "Epoch 10/200\n",
      "31/31 [==============================] - 2s 54ms/step - loss: 2.8722e-05 - f1_score: 0.2854 - precision: 1.0000 - val_loss: 0.1186 - val_f1_score: 0.2881 - val_precision: 0.9903\n",
      "Epoch 11/200\n",
      "31/31 [==============================] - 2s 53ms/step - loss: 1.3264e-05 - f1_score: 0.3117 - precision: 1.0000 - val_loss: 0.1388 - val_f1_score: 0.3336 - val_precision: 0.9951\n",
      "Epoch 12/200\n",
      "31/31 [==============================] - 2s 57ms/step - loss: 4.0860e-06 - f1_score: 0.3831 - precision: 1.0000 - val_loss: 0.1609 - val_f1_score: 0.4089 - val_precision: 0.9950\n",
      "Epoch 13/200\n",
      "31/31 [==============================] - 2s 57ms/step - loss: 3.2857e-06 - f1_score: 0.4319 - precision: 1.0000 - val_loss: 0.1644 - val_f1_score: 0.4359 - val_precision: 0.9951\n",
      "Epoch 14/200\n",
      "31/31 [==============================] - 2s 55ms/step - loss: 1.5238e-06 - f1_score: 0.4713 - precision: 1.0000 - val_loss: 0.1727 - val_f1_score: 0.4862 - val_precision: 0.9950\n",
      "Epoch 15/200\n",
      "31/31 [==============================] - 2s 58ms/step - loss: 1.8080e-06 - f1_score: 0.4993 - precision: 1.0000 - val_loss: 0.1782 - val_f1_score: 0.5057 - val_precision: 0.9950\n",
      "Epoch 16/200\n",
      "31/31 [==============================] - 2s 57ms/step - loss: 1.0708e-06 - f1_score: 0.5351 - precision: 1.0000 - val_loss: 0.1829 - val_f1_score: 0.5266 - val_precision: 0.9951\n",
      "Epoch 17/200\n",
      "31/31 [==============================] - 2s 55ms/step - loss: 1.1335e-06 - f1_score: 0.5565 - precision: 1.0000 - val_loss: 0.1869 - val_f1_score: 0.5466 - val_precision: 0.9951\n",
      "Epoch 18/200\n",
      "31/31 [==============================] - 2s 58ms/step - loss: 9.4245e-07 - f1_score: 0.5733 - precision: 1.0000 - val_loss: 0.1916 - val_f1_score: 0.5703 - val_precision: 0.9951\n",
      "Epoch 19/200\n",
      "31/31 [==============================] - 2s 59ms/step - loss: 9.4317e-07 - f1_score: 0.5979 - precision: 1.0000 - val_loss: 0.1947 - val_f1_score: 0.5857 - val_precision: 0.9951\n",
      "Epoch 20/200\n",
      "31/31 [==============================] - 2s 57ms/step - loss: 7.6672e-07 - f1_score: 0.6141 - precision: 1.0000 - val_loss: 0.1966 - val_f1_score: 0.6003 - val_precision: 0.9951\n",
      "Epoch 21/200\n",
      "31/31 [==============================] - 2s 58ms/step - loss: 6.1207e-07 - f1_score: 0.6248 - precision: 1.0000 - val_loss: 0.1987 - val_f1_score: 0.6085 - val_precision: 0.9951\n",
      "Epoch 22/200\n",
      "31/31 [==============================] - 2s 61ms/step - loss: 5.7842e-07 - f1_score: 0.6316 - precision: 1.0000 - val_loss: 0.2000 - val_f1_score: 0.6180 - val_precision: 0.9951\n",
      "Epoch 23/200\n",
      "31/31 [==============================] - 2s 60ms/step - loss: 3.0686e-07 - f1_score: 0.6566 - precision: 1.0000 - val_loss: 0.2040 - val_f1_score: 0.6370 - val_precision: 0.9951\n",
      "Epoch 24/200\n",
      "31/31 [==============================] - 2s 60ms/step - loss: 3.8468e-07 - f1_score: 0.6753 - precision: 1.0000 - val_loss: 0.2056 - val_f1_score: 0.6447 - val_precision: 0.9951\n",
      "Epoch 25/200\n",
      "31/31 [==============================] - 2s 61ms/step - loss: 4.8407e-07 - f1_score: 0.6864 - precision: 1.0000 - val_loss: 0.2070 - val_f1_score: 0.6515 - val_precision: 0.9951\n",
      "Epoch 26/200\n",
      "31/31 [==============================] - 2s 58ms/step - loss: 2.9061e-07 - f1_score: 0.6941 - precision: 1.0000 - val_loss: 0.2127 - val_f1_score: 0.6804 - val_precision: 0.9951\n",
      "Epoch 27/200\n",
      "31/31 [==============================] - 2s 57ms/step - loss: 4.2538e-07 - f1_score: 0.7083 - precision: 1.0000 - val_loss: 0.2155 - val_f1_score: 0.6880 - val_precision: 0.9951\n",
      "Epoch 28/200\n",
      "31/31 [==============================] - 2s 58ms/step - loss: 2.5280e-07 - f1_score: 0.7107 - precision: 1.0000 - val_loss: 0.2166 - val_f1_score: 0.7015 - val_precision: 0.9951\n",
      "Epoch 29/200\n",
      "31/31 [==============================] - 2s 63ms/step - loss: 1.3818e-07 - f1_score: 0.7165 - precision: 1.0000 - val_loss: 0.2184 - val_f1_score: 0.7049 - val_precision: 0.9951\n",
      "Epoch 30/200\n",
      "31/31 [==============================] - 2s 63ms/step - loss: 1.9782e-07 - f1_score: 0.7316 - precision: 1.0000 - val_loss: 0.2197 - val_f1_score: 0.7167 - val_precision: 0.9951\n",
      "Epoch 31/200\n",
      "31/31 [==============================] - 2s 62ms/step - loss: 3.6165e-07 - f1_score: 0.7275 - precision: 1.0000 - val_loss: 0.2233 - val_f1_score: 0.7301 - val_precision: 0.9951\n",
      "Epoch 32/200\n",
      "31/31 [==============================] - 2s 62ms/step - loss: 1.7168e-07 - f1_score: 0.7425 - precision: 1.0000 - val_loss: 0.2245 - val_f1_score: 0.7338 - val_precision: 0.9951\n",
      "Epoch 33/200\n",
      "31/31 [==============================] - 2s 61ms/step - loss: 1.7555e-07 - f1_score: 0.7473 - precision: 1.0000 - val_loss: 0.2263 - val_f1_score: 0.7439 - val_precision: 0.9951\n",
      "Epoch 34/200\n",
      "31/31 [==============================] - 2s 61ms/step - loss: 1.1402e-07 - f1_score: 0.7671 - precision: 1.0000 - val_loss: 0.2273 - val_f1_score: 0.7465 - val_precision: 0.9951\n",
      "Epoch 35/200\n",
      "31/31 [==============================] - 2s 61ms/step - loss: 1.9618e-07 - f1_score: 0.7654 - precision: 1.0000 - val_loss: 0.2277 - val_f1_score: 0.7478 - val_precision: 0.9951\n",
      "Epoch 36/200\n",
      "31/31 [==============================] - 2s 62ms/step - loss: 2.2868e-07 - f1_score: 0.7739 - precision: 1.0000 - val_loss: 0.2310 - val_f1_score: 0.7679 - val_precision: 0.9951\n",
      "Epoch 37/200\n",
      "31/31 [==============================] - 2s 63ms/step - loss: 1.0787e-07 - f1_score: 0.7803 - precision: 1.0000 - val_loss: 0.2336 - val_f1_score: 0.7734 - val_precision: 0.9951\n",
      "Epoch 38/200\n",
      "31/31 [==============================] - 2s 60ms/step - loss: 2.3838e-07 - f1_score: 0.7844 - precision: 1.0000 - val_loss: 0.2357 - val_f1_score: 0.7804 - val_precision: 0.9951\n",
      "Epoch 39/200\n",
      "31/31 [==============================] - 2s 60ms/step - loss: 8.4029e-08 - f1_score: 0.7927 - precision: 1.0000 - val_loss: 0.2372 - val_f1_score: 0.7832 - val_precision: 0.9951\n",
      "Epoch 40/200\n",
      "31/31 [==============================] - 2s 60ms/step - loss: 8.7325e-08 - f1_score: 0.7963 - precision: 1.0000 - val_loss: 0.2390 - val_f1_score: 0.7875 - val_precision: 0.9951\n",
      "Epoch 41/200\n",
      "31/31 [==============================] - 2s 60ms/step - loss: 8.5408e-08 - f1_score: 0.7951 - precision: 1.0000 - val_loss: 0.2393 - val_f1_score: 0.7904 - val_precision: 0.9951\n",
      "Epoch 42/200\n",
      "31/31 [==============================] - 2s 62ms/step - loss: 6.0763e-08 - f1_score: 0.7982 - precision: 1.0000 - val_loss: 0.2398 - val_f1_score: 0.7919 - val_precision: 0.9951\n",
      "Epoch 43/200\n",
      "31/31 [==============================] - 2s 60ms/step - loss: 7.5686e-08 - f1_score: 0.8000 - precision: 1.0000 - val_loss: 0.2401 - val_f1_score: 0.7934 - val_precision: 0.9951\n",
      "Epoch 44/200\n",
      "31/31 [==============================] - 2s 62ms/step - loss: 5.7135e-08 - f1_score: 0.8031 - precision: 1.0000 - val_loss: 0.2413 - val_f1_score: 0.8007 - val_precision: 0.9951\n",
      "Epoch 45/200\n",
      "31/31 [==============================] - 2s 62ms/step - loss: 1.8369e-07 - f1_score: 0.8056 - precision: 1.0000 - val_loss: 0.2404 - val_f1_score: 0.7978 - val_precision: 0.9951\n",
      "Epoch 46/200\n",
      "31/31 [==============================] - 2s 61ms/step - loss: 1.2264e-07 - f1_score: 0.8118 - precision: 1.0000 - val_loss: 0.2424 - val_f1_score: 0.8037 - val_precision: 0.9951\n",
      "Epoch 47/200\n",
      "31/31 [==============================] - 2s 61ms/step - loss: 1.3759e-07 - f1_score: 0.8144 - precision: 1.0000 - val_loss: 0.2448 - val_f1_score: 0.8083 - val_precision: 0.9951\n",
      "Epoch 48/200\n",
      "31/31 [==============================] - 2s 64ms/step - loss: 1.5943e-07 - f1_score: 0.8279 - precision: 1.0000 - val_loss: 0.2472 - val_f1_score: 0.8175 - val_precision: 0.9951\n",
      "Epoch 49/200\n",
      "31/31 [==============================] - 2s 61ms/step - loss: 7.8230e-08 - f1_score: 0.8240 - precision: 1.0000 - val_loss: 0.2484 - val_f1_score: 0.8238 - val_precision: 0.9951\n",
      "Epoch 50/200\n",
      "31/31 [==============================] - 2s 62ms/step - loss: 4.8029e-08 - f1_score: 0.8332 - precision: 1.0000 - val_loss: 0.2487 - val_f1_score: 0.8238 - val_precision: 0.9951\n",
      "Epoch 51/200\n",
      "31/31 [==============================] - 2s 60ms/step - loss: 1.5785e-07 - f1_score: 0.8292 - precision: 1.0000 - val_loss: 0.2501 - val_f1_score: 0.8269 - val_precision: 0.9951\n",
      "Epoch 52/200\n",
      "31/31 [==============================] - 2s 60ms/step - loss: 6.7898e-08 - f1_score: 0.8319 - precision: 1.0000 - val_loss: 0.2520 - val_f1_score: 0.8317 - val_precision: 0.9951\n",
      "Epoch 53/200\n",
      "31/31 [==============================] - 2s 60ms/step - loss: 4.4989e-08 - f1_score: 0.8392 - precision: 1.0000 - val_loss: 0.2521 - val_f1_score: 0.8317 - val_precision: 0.9951\n",
      "Epoch 54/200\n",
      "31/31 [==============================] - 2s 61ms/step - loss: 4.1739e-08 - f1_score: 0.8460 - precision: 1.0000 - val_loss: 0.2530 - val_f1_score: 0.8382 - val_precision: 0.9951\n",
      "Epoch 55/200\n",
      "31/31 [==============================] - 2s 60ms/step - loss: 5.8011e-08 - f1_score: 0.8460 - precision: 1.0000 - val_loss: 0.2527 - val_f1_score: 0.8382 - val_precision: 0.9951\n",
      "Epoch 56/200\n",
      "31/31 [==============================] - 2s 61ms/step - loss: 5.5280e-08 - f1_score: 0.8460 - precision: 1.0000 - val_loss: 0.2531 - val_f1_score: 0.8382 - val_precision: 0.9951\n",
      "Epoch 57/200\n",
      "31/31 [==============================] - 2s 60ms/step - loss: 1.2918e-07 - f1_score: 0.8447 - precision: 1.0000 - val_loss: 0.2547 - val_f1_score: 0.8481 - val_precision: 0.9951\n",
      "Epoch 58/200\n",
      "31/31 [==============================] - 2s 60ms/step - loss: 3.4389e-07 - f1_score: 0.8593 - precision: 1.0000 - val_loss: 0.2652 - val_f1_score: 0.8612 - val_precision: 0.9950\n",
      "Epoch 59/200\n",
      "31/31 [==============================] - 2s 59ms/step - loss: 4.5247e-08 - f1_score: 0.8707 - precision: 1.0000 - val_loss: 0.2652 - val_f1_score: 0.8612 - val_precision: 0.9950\n",
      "Epoch 60/200\n",
      "31/31 [==============================] - 2s 59ms/step - loss: 5.2275e-08 - f1_score: 0.8795 - precision: 1.0000 - val_loss: 0.2654 - val_f1_score: 0.8612 - val_precision: 0.9950\n",
      "Epoch 61/200\n",
      "31/31 [==============================] - 2s 60ms/step - loss: 2.6056e-08 - f1_score: 0.8780 - precision: 1.0000 - val_loss: 0.2653 - val_f1_score: 0.8629 - val_precision: 0.9950\n",
      "Epoch 62/200\n",
      "31/31 [==============================] - 2s 60ms/step - loss: 9.2150e-08 - f1_score: 0.8715 - precision: 1.0000 - val_loss: 0.2650 - val_f1_score: 0.8629 - val_precision: 0.9950\n",
      "Epoch 63/200\n",
      "31/31 [==============================] - 2s 60ms/step - loss: 3.7752e-08 - f1_score: 0.8686 - precision: 1.0000 - val_loss: 0.2628 - val_f1_score: 0.8635 - val_precision: 0.9951\n",
      "Epoch 64/200\n",
      "31/31 [==============================] - 2s 62ms/step - loss: 2.3398e-08 - f1_score: 0.8803 - precision: 1.0000 - val_loss: 0.2628 - val_f1_score: 0.8635 - val_precision: 0.9951\n",
      "Epoch 65/200\n",
      "31/31 [==============================] - 2s 60ms/step - loss: 4.4041e-08 - f1_score: 0.8862 - precision: 1.0000 - val_loss: 0.2626 - val_f1_score: 0.8635 - val_precision: 0.9951\n",
      "Epoch 66/200\n",
      "31/31 [==============================] - 2s 58ms/step - loss: 3.5611e-08 - f1_score: 0.8825 - precision: 1.0000 - val_loss: 0.2629 - val_f1_score: 0.8612 - val_precision: 0.9951\n",
      "Epoch 67/200\n",
      "31/31 [==============================] - 2s 59ms/step - loss: 2.8958e-08 - f1_score: 0.8870 - precision: 1.0000 - val_loss: 0.2636 - val_f1_score: 0.8629 - val_precision: 0.9951\n",
      "Epoch 68/200\n",
      "31/31 [==============================] - 2s 58ms/step - loss: 3.1435e-08 - f1_score: 0.8862 - precision: 1.0000 - val_loss: 0.2639 - val_f1_score: 0.8629 - val_precision: 0.9951\n",
      "Epoch 69/200\n",
      "31/31 [==============================] - 2s 61ms/step - loss: 2.6918e-08 - f1_score: 0.8818 - precision: 1.0000 - val_loss: 0.2638 - val_f1_score: 0.8629 - val_precision: 0.9951\n",
      "Epoch 70/200\n",
      "31/31 [==============================] - 2s 59ms/step - loss: 3.4497e-08 - f1_score: 0.8707 - precision: 1.0000 - val_loss: 0.2639 - val_f1_score: 0.8629 - val_precision: 0.9951\n",
      "Epoch 71/200\n",
      "31/31 [==============================] - 2s 59ms/step - loss: 2.1380e-08 - f1_score: 0.8788 - precision: 1.0000 - val_loss: 0.2647 - val_f1_score: 0.8646 - val_precision: 0.9951\n",
      "Epoch 72/200\n",
      "31/31 [==============================] - 2s 59ms/step - loss: 5.3489e-08 - f1_score: 0.8908 - precision: 1.0000 - val_loss: 0.2654 - val_f1_score: 0.8664 - val_precision: 0.9951\n",
      "Epoch 73/200\n",
      "31/31 [==============================] - 2s 58ms/step - loss: 4.7758e-08 - f1_score: 0.8954 - precision: 1.0000 - val_loss: 0.2648 - val_f1_score: 0.8664 - val_precision: 0.9951\n",
      "Epoch 74/200\n",
      "31/31 [==============================] - 2s 60ms/step - loss: 1.8465e-08 - f1_score: 0.8751 - precision: 1.0000 - val_loss: 0.2646 - val_f1_score: 0.8664 - val_precision: 0.9951\n",
      "Epoch 75/200\n",
      "31/31 [==============================] - 2s 60ms/step - loss: 3.1096e-08 - f1_score: 0.8803 - precision: 1.0000 - val_loss: 0.2647 - val_f1_score: 0.8664 - val_precision: 0.9951\n",
      "Epoch 76/200\n",
      "31/31 [==============================] - 2s 59ms/step - loss: 2.4858e-08 - f1_score: 0.8810 - precision: 1.0000 - val_loss: 0.2652 - val_f1_score: 0.8664 - val_precision: 0.9951\n",
      "Epoch 77/200\n",
      "31/31 [==============================] - 2s 60ms/step - loss: 1.6380e-08 - f1_score: 0.8744 - precision: 1.0000 - val_loss: 0.2659 - val_f1_score: 0.8682 - val_precision: 0.9951\n",
      "Epoch 78/200\n",
      "31/31 [==============================] - 2s 61ms/step - loss: 3.2384e-08 - f1_score: 0.8803 - precision: 1.0000 - val_loss: 0.2664 - val_f1_score: 0.8682 - val_precision: 0.9951\n",
      "Epoch 79/200\n",
      "31/31 [==============================] - 2s 60ms/step - loss: 1.8905e-08 - f1_score: 0.8900 - precision: 1.0000 - val_loss: 0.2671 - val_f1_score: 0.8682 - val_precision: 0.9951\n",
      "Epoch 80/200\n",
      "31/31 [==============================] - 2s 60ms/step - loss: 1.2368e-08 - f1_score: 0.8923 - precision: 1.0000 - val_loss: 0.2677 - val_f1_score: 0.8682 - val_precision: 0.9951\n",
      "Epoch 81/200\n",
      "31/31 [==============================] - 2s 59ms/step - loss: 1.7551e-08 - f1_score: 0.8923 - precision: 1.0000 - val_loss: 0.2681 - val_f1_score: 0.8682 - val_precision: 0.9951\n",
      "Epoch 82/200\n",
      "31/31 [==============================] - 2s 60ms/step - loss: 2.6175e-08 - f1_score: 0.8969 - precision: 1.0000 - val_loss: 0.2687 - val_f1_score: 0.8717 - val_precision: 0.9951\n",
      "Epoch 83/200\n",
      "31/31 [==============================] - 2s 60ms/step - loss: 2.1340e-08 - f1_score: 0.8946 - precision: 1.0000 - val_loss: 0.2693 - val_f1_score: 0.8717 - val_precision: 0.9951\n",
      "Epoch 84/200\n",
      "31/31 [==============================] - 2s 59ms/step - loss: 1.8985e-08 - f1_score: 0.8954 - precision: 1.0000 - val_loss: 0.2701 - val_f1_score: 0.8717 - val_precision: 0.9951\n",
      "Epoch 85/200\n",
      "31/31 [==============================] - 2s 60ms/step - loss: 1.9033e-08 - f1_score: 0.8977 - precision: 1.0000 - val_loss: 0.2705 - val_f1_score: 0.8717 - val_precision: 0.9951\n",
      "Epoch 86/200\n",
      "31/31 [==============================] - 2s 60ms/step - loss: 9.1114e-09 - f1_score: 0.9031 - precision: 1.0000 - val_loss: 0.2708 - val_f1_score: 0.8717 - val_precision: 0.9951\n",
      "Epoch 87/200\n",
      "31/31 [==============================] - 2s 61ms/step - loss: 1.3386e-08 - f1_score: 0.8946 - precision: 1.0000 - val_loss: 0.2710 - val_f1_score: 0.8717 - val_precision: 0.9951\n",
      "Epoch 88/200\n",
      "31/31 [==============================] - 2s 60ms/step - loss: 1.2095e-08 - f1_score: 0.8908 - precision: 1.0000 - val_loss: 0.2714 - val_f1_score: 0.8717 - val_precision: 0.9951\n",
      "Epoch 89/200\n",
      "31/31 [==============================] - 2s 60ms/step - loss: 1.1487e-08 - f1_score: 0.8977 - precision: 1.0000 - val_loss: 0.2716 - val_f1_score: 0.8694 - val_precision: 0.9951\n",
      "Epoch 90/200\n",
      "31/31 [==============================] - 2s 62ms/step - loss: 1.6153e-08 - f1_score: 0.9023 - precision: 1.0000 - val_loss: 0.2719 - val_f1_score: 0.8694 - val_precision: 0.9951\n",
      "Epoch 91/200\n",
      "31/31 [==============================] - 2s 65ms/step - loss: 1.7743e-08 - f1_score: 0.8954 - precision: 1.0000 - val_loss: 0.2716 - val_f1_score: 0.8694 - val_precision: 0.9951\n",
      "Epoch 92/200\n",
      "31/31 [==============================] - 2s 60ms/step - loss: 1.3632e-08 - f1_score: 0.9039 - precision: 1.0000 - val_loss: 0.2719 - val_f1_score: 0.8694 - val_precision: 0.9951\n",
      "Epoch 93/200\n",
      "31/31 [==============================] - 2s 60ms/step - loss: 2.3185e-08 - f1_score: 0.9190 - precision: 1.0000 - val_loss: 0.2726 - val_f1_score: 0.8694 - val_precision: 0.9951\n",
      "Epoch 94/200\n",
      "31/31 [==============================] - 2s 61ms/step - loss: 1.2384e-08 - f1_score: 0.8961 - precision: 1.0000 - val_loss: 0.2736 - val_f1_score: 0.8694 - val_precision: 0.9951\n",
      "Epoch 95/200\n",
      "31/31 [==============================] - 2s 62ms/step - loss: 2.1369e-08 - f1_score: 0.9039 - precision: 1.0000 - val_loss: 0.2742 - val_f1_score: 0.8712 - val_precision: 0.9951\n",
      "Epoch 96/200\n",
      "31/31 [==============================] - 2s 60ms/step - loss: 8.9467e-09 - f1_score: 0.9078 - precision: 1.0000 - val_loss: 0.2743 - val_f1_score: 0.8712 - val_precision: 0.9951\n",
      "Epoch 97/200\n",
      "31/31 [==============================] - 2s 61ms/step - loss: 5.3621e-08 - f1_score: 0.9008 - precision: 1.0000 - val_loss: 0.2767 - val_f1_score: 0.8730 - val_precision: 0.9951\n",
      "Epoch 98/200\n",
      "31/31 [==============================] - 2s 61ms/step - loss: 1.2895e-08 - f1_score: 0.9070 - precision: 1.0000 - val_loss: 0.2771 - val_f1_score: 0.8747 - val_precision: 0.9951\n",
      "Epoch 99/200\n",
      "31/31 [==============================] - 2s 62ms/step - loss: 2.5790e-08 - f1_score: 0.9031 - precision: 1.0000 - val_loss: 0.2769 - val_f1_score: 0.8730 - val_precision: 0.9951\n",
      "Epoch 100/200\n",
      "31/31 [==============================] - 2s 60ms/step - loss: 3.5564e-08 - f1_score: 0.9198 - precision: 1.0000 - val_loss: 0.2787 - val_f1_score: 0.8724 - val_precision: 0.9951\n",
      "Epoch 101/200\n",
      "31/31 [==============================] - 2s 59ms/step - loss: 1.3240e-08 - f1_score: 0.9158 - precision: 1.0000 - val_loss: 0.2798 - val_f1_score: 0.8724 - val_precision: 0.9951\n",
      "Epoch 102/200\n",
      "31/31 [==============================] - 2s 60ms/step - loss: 7.8494e-09 - f1_score: 0.9158 - precision: 1.0000 - val_loss: 0.2800 - val_f1_score: 0.8724 - val_precision: 0.9951\n",
      "Epoch 103/200\n",
      "31/31 [==============================] - 2s 60ms/step - loss: 1.6040e-08 - f1_score: 0.9182 - precision: 1.0000 - val_loss: 0.2796 - val_f1_score: 0.8724 - val_precision: 0.9951\n",
      "Epoch 104/200\n",
      "31/31 [==============================] - 2s 61ms/step - loss: 7.2883e-09 - f1_score: 0.9223 - precision: 1.0000 - val_loss: 0.2798 - val_f1_score: 0.8724 - val_precision: 0.9951\n",
      "Epoch 105/200\n",
      "31/31 [==============================] - 2s 61ms/step - loss: 1.3708e-08 - f1_score: 0.9182 - precision: 1.0000 - val_loss: 0.2803 - val_f1_score: 0.8724 - val_precision: 0.9951\n",
      "Epoch 106/200\n",
      "31/31 [==============================] - 2s 61ms/step - loss: 8.7778e-08 - f1_score: 0.9272 - precision: 1.0000 - val_loss: 0.2871 - val_f1_score: 0.8797 - val_precision: 0.9951\n",
      "Epoch 107/200\n",
      "31/31 [==============================] - 2s 61ms/step - loss: 1.7304e-08 - f1_score: 0.9272 - precision: 1.0000 - val_loss: 0.2878 - val_f1_score: 0.8797 - val_precision: 0.9951\n",
      "Epoch 108/200\n",
      "31/31 [==============================] - 2s 62ms/step - loss: 7.5141e-09 - f1_score: 0.9198 - precision: 1.0000 - val_loss: 0.2880 - val_f1_score: 0.8797 - val_precision: 0.9951\n",
      "Epoch 109/200\n",
      "31/31 [==============================] - 2s 62ms/step - loss: 1.2296e-08 - f1_score: 0.9247 - precision: 1.0000 - val_loss: 0.2877 - val_f1_score: 0.8797 - val_precision: 0.9951\n",
      "Epoch 110/200\n",
      "31/31 [==============================] - 2s 63ms/step - loss: 1.6284e-08 - f1_score: 0.9288 - precision: 1.0000 - val_loss: 0.2876 - val_f1_score: 0.8797 - val_precision: 0.9951\n",
      "Epoch 111/200\n",
      "31/31 [==============================] - 2s 61ms/step - loss: 9.9713e-09 - f1_score: 0.9280 - precision: 1.0000 - val_loss: 0.2878 - val_f1_score: 0.8797 - val_precision: 0.9951\n",
      "Epoch 112/200\n",
      "31/31 [==============================] - 2s 63ms/step - loss: 7.4367e-09 - f1_score: 0.9448 - precision: 1.0000 - val_loss: 0.2880 - val_f1_score: 0.8797 - val_precision: 0.9951\n",
      "Epoch 113/200\n",
      "31/31 [==============================] - 2s 66ms/step - loss: 4.1913e-08 - f1_score: 0.9264 - precision: 1.0000 - val_loss: 0.2857 - val_f1_score: 0.8778 - val_precision: 0.9951\n",
      "Epoch 114/200\n",
      "31/31 [==============================] - 2s 64ms/step - loss: 8.0132e-09 - f1_score: 0.9272 - precision: 1.0000 - val_loss: 0.2852 - val_f1_score: 0.8778 - val_precision: 0.9951\n",
      "Epoch 115/200\n",
      "31/31 [==============================] - 2s 62ms/step - loss: 4.9510e-09 - f1_score: 0.9223 - precision: 1.0000 - val_loss: 0.2854 - val_f1_score: 0.8778 - val_precision: 0.9951\n",
      "Epoch 116/200\n",
      "31/31 [==============================] - 2s 64ms/step - loss: 1.5852e-08 - f1_score: 0.9214 - precision: 1.0000 - val_loss: 0.2855 - val_f1_score: 0.8778 - val_precision: 0.9951\n",
      "Epoch 117/200\n",
      "31/31 [==============================] - 2s 62ms/step - loss: 3.8733e-09 - f1_score: 0.9206 - precision: 1.0000 - val_loss: 0.2857 - val_f1_score: 0.8778 - val_precision: 0.9951\n",
      "Epoch 118/200\n",
      "31/31 [==============================] - 2s 62ms/step - loss: 6.5977e-09 - f1_score: 0.9280 - precision: 1.0000 - val_loss: 0.2860 - val_f1_score: 0.8778 - val_precision: 0.9951\n",
      "Epoch 119/200\n",
      "31/31 [==============================] - 2s 61ms/step - loss: 5.7402e-09 - f1_score: 0.9255 - precision: 1.0000 - val_loss: 0.2859 - val_f1_score: 0.8778 - val_precision: 0.9951\n",
      "Epoch 120/200\n",
      "31/31 [==============================] - 2s 64ms/step - loss: 1.2313e-08 - f1_score: 0.9338 - precision: 1.0000 - val_loss: 0.2861 - val_f1_score: 0.8778 - val_precision: 0.9951\n",
      "Epoch 121/200\n",
      "31/31 [==============================] - 2s 60ms/step - loss: 8.7761e-09 - f1_score: 0.9142 - precision: 1.0000 - val_loss: 0.2866 - val_f1_score: 0.8797 - val_precision: 0.9951\n",
      "Epoch 122/200\n",
      "31/31 [==============================] - 2s 60ms/step - loss: 5.8560e-09 - f1_score: 0.9190 - precision: 1.0000 - val_loss: 0.2868 - val_f1_score: 0.8797 - val_precision: 0.9951\n",
      "Epoch 123/200\n",
      "31/31 [==============================] - 2s 61ms/step - loss: 7.2026e-09 - f1_score: 0.9231 - precision: 1.0000 - val_loss: 0.2867 - val_f1_score: 0.8797 - val_precision: 0.9951\n",
      "Epoch 124/200\n",
      "31/31 [==============================] - 2s 61ms/step - loss: 3.3262e-08 - f1_score: 0.9264 - precision: 1.0000 - val_loss: 0.2850 - val_f1_score: 0.8778 - val_precision: 0.9951\n",
      "Epoch 125/200\n",
      "31/31 [==============================] - 2s 63ms/step - loss: 2.5317e-08 - f1_score: 0.9231 - precision: 1.0000 - val_loss: 0.2878 - val_f1_score: 0.8815 - val_precision: 0.9951\n",
      "Epoch 126/200\n",
      "31/31 [==============================] - 2s 60ms/step - loss: 6.9506e-09 - f1_score: 0.9305 - precision: 1.0000 - val_loss: 0.2885 - val_f1_score: 0.8815 - val_precision: 0.9951\n",
      "Epoch 127/200\n",
      "31/31 [==============================] - 2s 61ms/step - loss: 7.3933e-09 - f1_score: 0.9223 - precision: 1.0000 - val_loss: 0.2886 - val_f1_score: 0.8815 - val_precision: 0.9951\n",
      "Epoch 128/200\n",
      "31/31 [==============================] - 2s 61ms/step - loss: 3.5429e-09 - f1_score: 0.9247 - precision: 1.0000 - val_loss: 0.2886 - val_f1_score: 0.8815 - val_precision: 0.9951\n",
      "Epoch 129/200\n",
      "31/31 [==============================] - 2s 61ms/step - loss: 7.2957e-09 - f1_score: 0.9380 - precision: 1.0000 - val_loss: 0.2889 - val_f1_score: 0.8815 - val_precision: 0.9951\n",
      "Epoch 130/200\n",
      "31/31 [==============================] - 2s 62ms/step - loss: 1.7153e-08 - f1_score: 0.9321 - precision: 1.0000 - val_loss: 0.2892 - val_f1_score: 0.8833 - val_precision: 0.9951\n",
      "Epoch 131/200\n",
      "31/31 [==============================] - 2s 61ms/step - loss: 7.9756e-09 - f1_score: 0.9363 - precision: 1.0000 - val_loss: 0.2899 - val_f1_score: 0.8852 - val_precision: 0.9951\n",
      "Epoch 132/200\n",
      "31/31 [==============================] - 2s 62ms/step - loss: 1.2151e-08 - f1_score: 0.9313 - precision: 1.0000 - val_loss: 0.2902 - val_f1_score: 0.8852 - val_precision: 0.9951\n",
      "Epoch 133/200\n",
      "31/31 [==============================] - 2s 60ms/step - loss: 1.0691e-08 - f1_score: 0.9239 - precision: 1.0000 - val_loss: 0.2908 - val_f1_score: 0.8847 - val_precision: 0.9951\n",
      "Epoch 134/200\n",
      "31/31 [==============================] - 2s 60ms/step - loss: 5.0006e-09 - f1_score: 0.9272 - precision: 1.0000 - val_loss: 0.2910 - val_f1_score: 0.8847 - val_precision: 0.9951\n",
      "Epoch 135/200\n",
      "31/31 [==============================] - 2s 64ms/step - loss: 8.1904e-08 - f1_score: 0.9355 - precision: 1.0000 - val_loss: 0.3033 - val_f1_score: 0.8960 - val_precision: 0.9950\n",
      "Epoch 136/200\n",
      "31/31 [==============================] - 2s 62ms/step - loss: 2.5498e-08 - f1_score: 0.9534 - precision: 1.0000 - val_loss: 0.3020 - val_f1_score: 0.8960 - val_precision: 0.9950\n",
      "Epoch 137/200\n",
      "31/31 [==============================] - 2s 63ms/step - loss: 1.1911e-08 - f1_score: 0.9500 - precision: 1.0000 - val_loss: 0.3018 - val_f1_score: 0.8960 - val_precision: 0.9950\n",
      "Epoch 138/200\n",
      "31/31 [==============================] - 2s 63ms/step - loss: 6.4842e-09 - f1_score: 0.9500 - precision: 1.0000 - val_loss: 0.3018 - val_f1_score: 0.8960 - val_precision: 0.9950\n",
      "Epoch 139/200\n",
      "31/31 [==============================] - 2s 60ms/step - loss: 1.1708e-08 - f1_score: 0.9465 - precision: 1.0000 - val_loss: 0.3013 - val_f1_score: 0.8960 - val_precision: 0.9950\n",
      "Epoch 140/200\n",
      "31/31 [==============================] - 2s 59ms/step - loss: 3.8719e-09 - f1_score: 0.9448 - precision: 1.0000 - val_loss: 0.3015 - val_f1_score: 0.8960 - val_precision: 0.9950\n",
      "Epoch 141/200\n",
      "31/31 [==============================] - 2s 61ms/step - loss: 5.4163e-09 - f1_score: 0.9534 - precision: 1.0000 - val_loss: 0.3012 - val_f1_score: 0.8960 - val_precision: 0.9950\n",
      "Epoch 142/200\n",
      "31/31 [==============================] - 2s 59ms/step - loss: 3.5568e-09 - f1_score: 0.9526 - precision: 1.0000 - val_loss: 0.3011 - val_f1_score: 0.8960 - val_precision: 0.9950\n",
      "Epoch 143/200\n",
      "31/31 [==============================] - 2s 61ms/step - loss: 1.0679e-08 - f1_score: 0.9552 - precision: 1.0000 - val_loss: 0.3020 - val_f1_score: 0.8960 - val_precision: 0.9950\n",
      "Epoch 144/200\n",
      "31/31 [==============================] - 2s 60ms/step - loss: 7.2063e-09 - f1_score: 0.9474 - precision: 1.0000 - val_loss: 0.3016 - val_f1_score: 0.8960 - val_precision: 0.9950\n",
      "Epoch 145/200\n",
      "31/31 [==============================] - 2s 59ms/step - loss: 3.6355e-09 - f1_score: 0.9465 - precision: 1.0000 - val_loss: 0.3016 - val_f1_score: 0.8960 - val_precision: 0.9950\n",
      "Epoch 146/200\n",
      "31/31 [==============================] - 2s 61ms/step - loss: 5.5319e-09 - f1_score: 0.9482 - precision: 1.0000 - val_loss: 0.3018 - val_f1_score: 0.8960 - val_precision: 0.9950\n",
      "Epoch 147/200\n",
      "31/31 [==============================] - 2s 64ms/step - loss: 3.3346e-09 - f1_score: 0.9569 - precision: 1.0000 - val_loss: 0.3018 - val_f1_score: 0.8960 - val_precision: 0.9951\n",
      "Epoch 148/200\n",
      "31/31 [==============================] - 2s 60ms/step - loss: 6.8338e-09 - f1_score: 0.9414 - precision: 1.0000 - val_loss: 0.3019 - val_f1_score: 0.8960 - val_precision: 0.9951\n",
      "Epoch 149/200\n",
      "31/31 [==============================] - 2s 60ms/step - loss: 9.4938e-09 - f1_score: 0.9474 - precision: 1.0000 - val_loss: 0.3019 - val_f1_score: 0.8960 - val_precision: 0.9951\n",
      "Epoch 150/200\n",
      "31/31 [==============================] - 2s 60ms/step - loss: 4.0657e-09 - f1_score: 0.9414 - precision: 1.0000 - val_loss: 0.3020 - val_f1_score: 0.8960 - val_precision: 0.9951\n",
      "Epoch 151/200\n",
      "31/31 [==============================] - 2s 61ms/step - loss: 1.0029e-08 - f1_score: 0.9534 - precision: 1.0000 - val_loss: 0.3015 - val_f1_score: 0.8960 - val_precision: 0.9951\n",
      "Epoch 152/200\n",
      "31/31 [==============================] - 2s 60ms/step - loss: 5.8333e-09 - f1_score: 0.9474 - precision: 1.0000 - val_loss: 0.3013 - val_f1_score: 0.8960 - val_precision: 0.9951\n",
      "Epoch 153/200\n",
      "31/31 [==============================] - 2s 60ms/step - loss: 3.8781e-09 - f1_score: 0.9474 - precision: 1.0000 - val_loss: 0.3011 - val_f1_score: 0.8960 - val_precision: 0.9951\n",
      "Epoch 154/200\n",
      "31/31 [==============================] - 2s 61ms/step - loss: 7.0178e-09 - f1_score: 0.9448 - precision: 1.0000 - val_loss: 0.3007 - val_f1_score: 0.8960 - val_precision: 0.9951\n",
      "Epoch 155/200\n",
      "31/31 [==============================] - 2s 60ms/step - loss: 5.8115e-09 - f1_score: 0.9534 - precision: 1.0000 - val_loss: 0.3006 - val_f1_score: 0.8960 - val_precision: 0.9951\n",
      "Epoch 156/200\n",
      "31/31 [==============================] - 2s 60ms/step - loss: 3.7097e-09 - f1_score: 0.9431 - precision: 1.0000 - val_loss: 0.3006 - val_f1_score: 0.8960 - val_precision: 0.9951\n",
      "Epoch 157/200\n",
      "31/31 [==============================] - 2s 60ms/step - loss: 5.3003e-09 - f1_score: 0.9422 - precision: 1.0000 - val_loss: 0.3006 - val_f1_score: 0.8960 - val_precision: 0.9951\n",
      "Epoch 158/200\n",
      "31/31 [==============================] - 2s 60ms/step - loss: 2.8001e-09 - f1_score: 0.9474 - precision: 1.0000 - val_loss: 0.3007 - val_f1_score: 0.8960 - val_precision: 0.9951\n",
      "Epoch 159/200\n",
      "31/31 [==============================] - 2s 59ms/step - loss: 8.1500e-09 - f1_score: 0.9543 - precision: 1.0000 - val_loss: 0.3012 - val_f1_score: 0.8960 - val_precision: 0.9951\n",
      "Epoch 160/200\n",
      "31/31 [==============================] - 2s 60ms/step - loss: 3.7717e-09 - f1_score: 0.9422 - precision: 1.0000 - val_loss: 0.3014 - val_f1_score: 0.8960 - val_precision: 0.9951\n",
      "Epoch 161/200\n",
      "31/31 [==============================] - 2s 60ms/step - loss: 7.6084e-09 - f1_score: 0.9508 - precision: 1.0000 - val_loss: 0.3017 - val_f1_score: 0.8960 - val_precision: 0.9951\n",
      "Epoch 162/200\n",
      "31/31 [==============================] - 2s 60ms/step - loss: 6.1813e-09 - f1_score: 0.9491 - precision: 1.0000 - val_loss: 0.3022 - val_f1_score: 0.8960 - val_precision: 0.9951\n",
      "Epoch 163/200\n",
      "31/31 [==============================] - 2s 60ms/step - loss: 1.3287e-08 - f1_score: 0.9534 - precision: 1.0000 - val_loss: 0.3036 - val_f1_score: 0.8960 - val_precision: 0.9951\n",
      "Epoch 164/200\n",
      "31/31 [==============================] - 2s 60ms/step - loss: 2.5010e-09 - f1_score: 0.9397 - precision: 1.0000 - val_loss: 0.3038 - val_f1_score: 0.8979 - val_precision: 0.9951\n",
      "Epoch 165/200\n",
      "31/31 [==============================] - 2s 60ms/step - loss: 7.2066e-09 - f1_score: 0.9508 - precision: 1.0000 - val_loss: 0.3043 - val_f1_score: 0.8979 - val_precision: 0.9951\n",
      "Epoch 166/200\n",
      "31/31 [==============================] - 2s 59ms/step - loss: 1.9053e-09 - f1_score: 0.9613 - precision: 1.0000 - val_loss: 0.3045 - val_f1_score: 0.8979 - val_precision: 0.9951\n",
      "Epoch 167/200\n",
      "31/31 [==============================] - 2s 60ms/step - loss: 3.8493e-09 - f1_score: 0.9482 - precision: 1.0000 - val_loss: 0.3046 - val_f1_score: 0.8979 - val_precision: 0.9951\n",
      "Epoch 168/200\n",
      "31/31 [==============================] - 2s 59ms/step - loss: 9.4126e-09 - f1_score: 0.9587 - precision: 1.0000 - val_loss: 0.3052 - val_f1_score: 0.8979 - val_precision: 0.9951\n",
      "Epoch 169/200\n",
      "31/31 [==============================] - 2s 60ms/step - loss: 3.1138e-09 - f1_score: 0.9517 - precision: 1.0000 - val_loss: 0.3054 - val_f1_score: 0.8979 - val_precision: 0.9951\n",
      "Epoch 170/200\n",
      "31/31 [==============================] - 2s 60ms/step - loss: 5.9970e-09 - f1_score: 0.9640 - precision: 1.0000 - val_loss: 0.3064 - val_f1_score: 0.8979 - val_precision: 0.9951\n",
      "Epoch 171/200\n",
      "31/31 [==============================] - 2s 60ms/step - loss: 8.3849e-09 - f1_score: 0.9448 - precision: 1.0000 - val_loss: 0.3068 - val_f1_score: 0.8979 - val_precision: 0.9951\n",
      "Epoch 172/200\n",
      "31/31 [==============================] - 2s 59ms/step - loss: 6.1075e-09 - f1_score: 0.9517 - precision: 1.0000 - val_loss: 0.3068 - val_f1_score: 0.8979 - val_precision: 0.9951\n",
      "Epoch 173/200\n",
      "31/31 [==============================] - 2s 61ms/step - loss: 7.1935e-09 - f1_score: 0.9604 - precision: 1.0000 - val_loss: 0.3066 - val_f1_score: 0.8979 - val_precision: 0.9951\n",
      "Epoch 174/200\n",
      "31/31 [==============================] - 2s 60ms/step - loss: 2.9634e-09 - f1_score: 0.9613 - precision: 1.0000 - val_loss: 0.3066 - val_f1_score: 0.8979 - val_precision: 0.9951\n",
      "Epoch 175/200\n",
      "31/31 [==============================] - 2s 60ms/step - loss: 2.6895e-09 - f1_score: 0.9534 - precision: 1.0000 - val_loss: 0.3066 - val_f1_score: 0.8979 - val_precision: 0.9951\n",
      "Epoch 176/200\n",
      "31/31 [==============================] - 2s 60ms/step - loss: 4.8332e-09 - f1_score: 0.9482 - precision: 1.0000 - val_loss: 0.3070 - val_f1_score: 0.8979 - val_precision: 0.9951\n",
      "Epoch 177/200\n",
      "31/31 [==============================] - 2s 60ms/step - loss: 3.7221e-08 - f1_score: 0.9482 - precision: 1.0000 - val_loss: 0.3025 - val_f1_score: 0.8960 - val_precision: 0.9951\n",
      "Epoch 178/200\n",
      "31/31 [==============================] - 2s 60ms/step - loss: 4.2393e-09 - f1_score: 0.9508 - precision: 1.0000 - val_loss: 0.3017 - val_f1_score: 0.8960 - val_precision: 0.9951\n",
      "Epoch 179/200\n",
      "31/31 [==============================] - 2s 60ms/step - loss: 7.0734e-09 - f1_score: 0.9465 - precision: 1.0000 - val_loss: 0.3023 - val_f1_score: 0.8960 - val_precision: 0.9951\n",
      "Epoch 180/200\n",
      "31/31 [==============================] - 2s 60ms/step - loss: 5.1366e-09 - f1_score: 0.9500 - precision: 1.0000 - val_loss: 0.3032 - val_f1_score: 0.8979 - val_precision: 0.9951\n",
      "Epoch 181/200\n",
      "31/31 [==============================] - 2s 59ms/step - loss: 2.3267e-09 - f1_score: 0.9465 - precision: 1.0000 - val_loss: 0.3033 - val_f1_score: 0.8979 - val_precision: 0.9951\n",
      "Epoch 182/200\n",
      "31/31 [==============================] - 2s 61ms/step - loss: 1.0211e-08 - f1_score: 0.9534 - precision: 1.0000 - val_loss: 0.3043 - val_f1_score: 0.8979 - val_precision: 0.9951\n",
      "Epoch 183/200\n",
      "31/31 [==============================] - 2s 61ms/step - loss: 2.9739e-09 - f1_score: 0.9508 - precision: 1.0000 - val_loss: 0.3047 - val_f1_score: 0.8979 - val_precision: 0.9951\n",
      "Epoch 184/200\n",
      "31/31 [==============================] - 2s 60ms/step - loss: 3.9812e-09 - f1_score: 0.9474 - precision: 1.0000 - val_loss: 0.3045 - val_f1_score: 0.8979 - val_precision: 0.9951\n",
      "Epoch 185/200\n",
      "31/31 [==============================] - 2s 60ms/step - loss: 4.9593e-09 - f1_score: 0.9534 - precision: 1.0000 - val_loss: 0.3049 - val_f1_score: 0.8979 - val_precision: 0.9951\n",
      "Epoch 186/200\n",
      "31/31 [==============================] - 2s 61ms/step - loss: 6.0189e-09 - f1_score: 0.9500 - precision: 1.0000 - val_loss: 0.3055 - val_f1_score: 0.8979 - val_precision: 0.9951\n",
      "Epoch 187/200\n",
      "31/31 [==============================] - 2s 59ms/step - loss: 2.7152e-09 - f1_score: 0.9604 - precision: 1.0000 - val_loss: 0.3057 - val_f1_score: 0.8979 - val_precision: 0.9951\n",
      "Epoch 188/200\n",
      "31/31 [==============================] - 2s 61ms/step - loss: 4.2889e-09 - f1_score: 0.9578 - precision: 1.0000 - val_loss: 0.3060 - val_f1_score: 0.8979 - val_precision: 0.9951\n",
      "Epoch 189/200\n",
      "31/31 [==============================] - 2s 60ms/step - loss: 9.7737e-09 - f1_score: 0.9560 - precision: 1.0000 - val_loss: 0.3066 - val_f1_score: 0.8979 - val_precision: 0.9951\n",
      "Epoch 190/200\n",
      "31/31 [==============================] - 2s 60ms/step - loss: 1.1656e-09 - f1_score: 0.9552 - precision: 1.0000 - val_loss: 0.3067 - val_f1_score: 0.8979 - val_precision: 0.9951\n",
      "Epoch 191/200\n",
      "31/31 [==============================] - 2s 60ms/step - loss: 5.0295e-09 - f1_score: 0.9465 - precision: 1.0000 - val_loss: 0.3069 - val_f1_score: 0.8979 - val_precision: 0.9951\n",
      "Epoch 192/200\n",
      "31/31 [==============================] - 2s 59ms/step - loss: 3.9473e-09 - f1_score: 0.9543 - precision: 1.0000 - val_loss: 0.3072 - val_f1_score: 0.8979 - val_precision: 0.9951\n",
      "Epoch 193/200\n",
      "31/31 [==============================] - 2s 60ms/step - loss: 2.9617e-09 - f1_score: 0.9534 - precision: 1.0000 - val_loss: 0.3076 - val_f1_score: 0.8979 - val_precision: 0.9951\n",
      "Epoch 194/200\n",
      "31/31 [==============================] - 2s 60ms/step - loss: 6.1845e-09 - f1_score: 0.9578 - precision: 1.0000 - val_loss: 0.3067 - val_f1_score: 0.8979 - val_precision: 0.9951\n",
      "Epoch 195/200\n",
      "31/31 [==============================] - 2s 60ms/step - loss: 4.4894e-09 - f1_score: 0.9604 - precision: 1.0000 - val_loss: 0.3065 - val_f1_score: 0.8979 - val_precision: 0.9951\n",
      "Epoch 196/200\n",
      "31/31 [==============================] - 2s 60ms/step - loss: 1.7178e-09 - f1_score: 0.9526 - precision: 1.0000 - val_loss: 0.3063 - val_f1_score: 0.8979 - val_precision: 0.9951\n",
      "Epoch 197/200\n",
      "31/31 [==============================] - 2s 60ms/step - loss: 1.0200e-08 - f1_score: 0.9474 - precision: 1.0000 - val_loss: 0.3067 - val_f1_score: 0.8979 - val_precision: 0.9951\n",
      "Epoch 198/200\n",
      "31/31 [==============================] - 2s 60ms/step - loss: 3.1134e-09 - f1_score: 0.9508 - precision: 1.0000 - val_loss: 0.3074 - val_f1_score: 0.8979 - val_precision: 0.9951\n",
      "Epoch 199/200\n",
      "31/31 [==============================] - 2s 60ms/step - loss: 1.2357e-08 - f1_score: 0.9534 - precision: 1.0000 - val_loss: 0.3075 - val_f1_score: 0.8979 - val_precision: 0.9951\n",
      "Epoch 200/200\n",
      "31/31 [==============================] - 2s 60ms/step - loss: 2.1269e-09 - f1_score: 0.9604 - precision: 1.0000 - val_loss: 0.3083 - val_f1_score: 0.8998 - val_precision: 0.9951\n"
     ]
    }
   ],
   "source": [
    "history = model.fit(\n",
    "    train_batch,\n",
    "    validation_data=val_batch,\n",
    "    epochs=200\n",
    ")"
   ]
  },
  {
   "cell_type": "code",
   "execution_count": 203,
   "metadata": {},
   "outputs": [
    {
     "data": {
      "application/vnd.plotly.v1+json": {
       "config": {
        "plotlyServerURL": "https://plot.ly"
       },
       "data": [
        {
         "mode": "lines",
         "name": "Training loss",
         "type": "scatter",
         "y": [
          0.3474723994731903,
          0.1087002083659172,
          0.043183647096157074,
          0.023296169936656952,
          0.00818744208663702,
          0.002457356546074152,
          0.0005553162773139775,
          0.000261350825894624,
          0.00005557541226153262,
          0.000028721682610921562,
          0.00001326368328591343,
          0.000004085964974365197,
          0.0000032857158203114523,
          0.0000015238018704621936,
          0.000001807980424928246,
          0.0000010707922228903044,
          0.0000011335461067574215,
          9.424471727470518e-7,
          9.431664125258976e-7,
          7.667213139939122e-7,
          6.120654916230706e-7,
          5.784189625046565e-7,
          3.0685785645800934e-7,
          3.846799359052966e-7,
          4.840738938582945e-7,
          2.9061308737254876e-7,
          4.2538283651083475e-7,
          2.527954450215475e-7,
          1.381806669087382e-7,
          1.9782049776040367e-7,
          3.6164706784802547e-7,
          1.7167639043691452e-7,
          1.7555377951339324e-7,
          1.1402104860280815e-7,
          1.9617851876319037e-7,
          2.2867780558044615e-7,
          1.0786926907258021e-7,
          2.3838126139708038e-7,
          8.402872708757059e-8,
          8.732452982940231e-8,
          8.540770579656964e-8,
          6.076307101920975e-8,
          7.568606719132731e-8,
          5.713493678172199e-8,
          1.836913696706688e-7,
          1.226350150318467e-7,
          1.3759152750481007e-7,
          1.5942690367864998e-7,
          7.822976755278432e-8,
          4.80294666260761e-8,
          1.5784789297867974e-7,
          6.789789352978914e-8,
          4.4988929914779874e-8,
          4.1739056655387685e-8,
          5.8010556358567555e-8,
          5.527975943664387e-8,
          1.2918401637307397e-7,
          3.4389196912343323e-7,
          4.5247492863609295e-8,
          5.227490262882384e-8,
          2.6055690938164844e-8,
          9.21497331773935e-8,
          3.775204149292222e-8,
          2.3398223802928442e-8,
          4.404106235256222e-8,
          3.561131123319683e-8,
          2.895773576483407e-8,
          3.143480853395886e-8,
          2.691801093135382e-8,
          3.449731167393111e-8,
          2.1379925385645038e-8,
          5.348945464334065e-8,
          4.775825246383647e-8,
          1.8465279083557107e-8,
          3.109574109316782e-8,
          2.4857982339199225e-8,
          1.6379628320351003e-8,
          3.238389822968202e-8,
          1.8904970033872814e-8,
          1.2367869395291109e-8,
          1.7550545905464787e-8,
          2.6175259293381714e-8,
          2.1339587874535937e-8,
          1.8985474525834434e-8,
          1.903287660809383e-8,
          9.111357890390082e-9,
          1.3385872854598801e-8,
          1.2095373591591851e-8,
          1.1486919859748923e-8,
          1.615279288103011e-8,
          1.774349733807412e-8,
          1.3631694883997625e-8,
          2.3184687947264138e-8,
          1.2384207437321493e-8,
          2.136926013918128e-8,
          8.946691387734518e-9,
          5.362137756037555e-8,
          1.2894703971255694e-8,
          2.578964419797103e-8,
          3.556388250558484e-8,
          1.3240284424398396e-8,
          7.849433991680144e-9,
          1.6040011985296587e-8,
          7.28832505458854e-9,
          1.3707843748989035e-8,
          8.77781829444757e-8,
          1.7303657173783904e-8,
          7.514088018467646e-9,
          1.2295526374828114e-8,
          1.6283655313031886e-8,
          9.97130111812794e-9,
          7.436663285176337e-9,
          4.1913153836503625e-8,
          8.013190111455515e-9,
          4.9509805144509755e-9,
          1.5851934875854568e-8,
          3.873278142663139e-9,
          6.597661972307378e-9,
          5.74017589016762e-9,
          1.231301194337675e-8,
          8.776131821264244e-9,
          5.856017448735429e-9,
          7.202554552776519e-9,
          3.326160680217072e-8,
          2.53173784159344e-8,
          6.950603204103345e-9,
          7.393339718220204e-9,
          3.5428882050325683e-9,
          7.295661852424473e-9,
          1.7153251263835045e-8,
          7.975631710621656e-9,
          1.2150906947283602e-8,
          1.0690925478229474e-8,
          5.0006239149524845e-9,
          8.190407640995545e-8,
          2.5497966404941508e-8,
          1.191094600727638e-8,
          6.48421805138355e-9,
          1.1708332081639128e-8,
          3.871932552357293e-9,
          5.416338488828387e-9,
          3.556774208490765e-9,
          1.067900079476658e-8,
          7.206327090614195e-9,
          3.6354959043194413e-9,
          5.5318669645032514e-9,
          3.334648335240331e-9,
          6.833841048603517e-9,
          9.493780872560365e-9,
          4.065698888666702e-9,
          1.0029227226482362e-8,
          5.833315608327894e-9,
          3.878059651185595e-9,
          7.017767700290278e-9,
          5.8114815182364055e-9,
          3.7096945515457946e-9,
          5.300347272196859e-9,
          2.8000963769869713e-9,
          8.150034425113972e-9,
          3.77165587650552e-9,
          7.60844098834923e-9,
          6.181297695917465e-9,
          1.3287444922127634e-8,
          2.5010480353415687e-9,
          7.2065984291214136e-9,
          1.9052939226327226e-9,
          3.84934306651985e-9,
          9.412599588642934e-9,
          3.113781898989032e-9,
          5.997035756877267e-9,
          8.384892780100017e-9,
          6.107549577194504e-9,
          7.193503126501355e-9,
          2.9634443787784903e-9,
          2.6894597660032105e-9,
          4.8332302604592314e-9,
          3.722063013356092e-8,
          4.2393266674878305e-9,
          7.073380992039802e-9,
          5.136602254651734e-9,
          2.3267352489142468e-9,
          1.021105866527705e-8,
          2.973924217997137e-9,
          3.981213581027987e-9,
          4.959345822896921e-9,
          6.018867626522706e-9,
          2.7152216031112175e-9,
          4.2888630424897656e-9,
          9.77365566257049e-9,
          1.1655610920868753e-9,
          5.029516803034539e-9,
          3.947277171789665e-9,
          2.961650036326091e-9,
          6.184457834734758e-9,
          4.489427052334349e-9,
          1.7178083400182231e-9,
          1.0200032818374893e-8,
          3.1133566835706006e-9,
          1.2357258327710952e-8,
          2.1268533600959927e-9
         ]
        },
        {
         "mode": "lines",
         "name": "Validation loss",
         "type": "scatter",
         "y": [
          0.18797476589679718,
          0.05832550302147865,
          0.053890328854322433,
          0.06808330863714218,
          0.1158885806798935,
          0.08871575444936752,
          0.08898231387138367,
          0.12173326313495636,
          0.1173645406961441,
          0.11863335967063904,
          0.13877037167549133,
          0.16094502806663513,
          0.16435915231704712,
          0.1727043241262436,
          0.17824360728263855,
          0.18294309079647064,
          0.18693163990974426,
          0.19156372547149658,
          0.19474907219409943,
          0.19657118618488312,
          0.19873046875,
          0.19997696578502655,
          0.20400206744670868,
          0.20563195645809174,
          0.20695380866527557,
          0.21270006895065308,
          0.21548478305339813,
          0.21664905548095703,
          0.21843484044075012,
          0.21965236961841583,
          0.22325123846530914,
          0.2244754135608673,
          0.2262602001428604,
          0.22732335329055786,
          0.22774791717529297,
          0.23100166022777557,
          0.23362962901592255,
          0.23568519949913025,
          0.23724745213985443,
          0.23899292945861816,
          0.239326611161232,
          0.23977449536323547,
          0.24006924033164978,
          0.24132946133613586,
          0.24039308726787567,
          0.2424292117357254,
          0.24483159184455872,
          0.24724119901657104,
          0.24844254553318024,
          0.2486877739429474,
          0.25011929869651794,
          0.2519874572753906,
          0.2521313726902008,
          0.25295573472976685,
          0.25269609689712524,
          0.253146231174469,
          0.25470447540283203,
          0.26520654559135437,
          0.2652398347854614,
          0.26535022258758545,
          0.26529958844184875,
          0.2649538218975067,
          0.2628338932991028,
          0.2628033757209778,
          0.2625804543495178,
          0.2629406154155731,
          0.2636485695838928,
          0.2638548016548157,
          0.26378771662712097,
          0.26387202739715576,
          0.2646981477737427,
          0.2653997838497162,
          0.2647974491119385,
          0.26458612084388733,
          0.2646818161010742,
          0.26520171761512756,
          0.26593923568725586,
          0.266390860080719,
          0.2670656144618988,
          0.2676536440849304,
          0.2680906057357788,
          0.2687409818172455,
          0.2692994475364685,
          0.27010539174079895,
          0.2704530656337738,
          0.2708379924297333,
          0.2709622085094452,
          0.2713870406150818,
          0.27155670523643494,
          0.27190932631492615,
          0.27163809537887573,
          0.27186286449432373,
          0.27263209223747253,
          0.273573100566864,
          0.2742113173007965,
          0.2742660343647003,
          0.27665579319000244,
          0.2771311104297638,
          0.27688068151474,
          0.27872228622436523,
          0.27982446551322937,
          0.28001779317855835,
          0.2796268165111542,
          0.2797713279724121,
          0.2802984416484833,
          0.2871146500110626,
          0.28775402903556824,
          0.2879957854747772,
          0.28768661618232727,
          0.287576287984848,
          0.2877742648124695,
          0.288006067276001,
          0.28567805886268616,
          0.28522801399230957,
          0.2853970527648926,
          0.28550323843955994,
          0.2856920063495636,
          0.2859562039375305,
          0.28587859869003296,
          0.286124587059021,
          0.28657183051109314,
          0.28681135177612305,
          0.2866673767566681,
          0.28497442603111267,
          0.2877890169620514,
          0.2885183095932007,
          0.28856515884399414,
          0.28858596086502075,
          0.2888709008693695,
          0.2892407476902008,
          0.2898523807525635,
          0.2902138829231262,
          0.29081133008003235,
          0.29100891947746277,
          0.3032536804676056,
          0.30198657512664795,
          0.3017902672290802,
          0.30182331800460815,
          0.3013184070587158,
          0.30152982473373413,
          0.3012353181838989,
          0.3011198937892914,
          0.30197280645370483,
          0.3016302287578583,
          0.30158019065856934,
          0.3018050789833069,
          0.3017785847187042,
          0.3019200265407562,
          0.3019196093082428,
          0.301970899105072,
          0.3014642596244812,
          0.30127236247062683,
          0.3011130392551422,
          0.30065256357192993,
          0.3005978763103485,
          0.3005733788013458,
          0.3005785644054413,
          0.3007380962371826,
          0.301168829202652,
          0.3014252185821533,
          0.30171090364456177,
          0.3021540939807892,
          0.3036104440689087,
          0.3037550151348114,
          0.3043113648891449,
          0.3044750690460205,
          0.3045819401741028,
          0.3051758110523224,
          0.3053629994392395,
          0.3063838481903076,
          0.3068428933620453,
          0.3067781627178192,
          0.30660539865493774,
          0.30664321780204773,
          0.3065519332885742,
          0.3070167303085327,
          0.302484929561615,
          0.3017120361328125,
          0.30229127407073975,
          0.30315008759498596,
          0.3033354580402374,
          0.3042917549610138,
          0.304661363363266,
          0.3045060634613037,
          0.30487024784088135,
          0.30554845929145813,
          0.3056687116622925,
          0.3059547245502472,
          0.3065810203552246,
          0.30667293071746826,
          0.30693626403808594,
          0.3072378635406494,
          0.3076440095901489,
          0.3067072033882141,
          0.3065219521522522,
          0.3063102960586548,
          0.3066878020763397,
          0.30736997723579407,
          0.3074934482574463,
          0.3083367645740509
         ]
        }
       ],
       "layout": {
        "template": {
         "data": {
          "bar": [
           {
            "error_x": {
             "color": "#2a3f5f"
            },
            "error_y": {
             "color": "#2a3f5f"
            },
            "marker": {
             "line": {
              "color": "#E5ECF6",
              "width": 0.5
             },
             "pattern": {
              "fillmode": "overlay",
              "size": 10,
              "solidity": 0.2
             }
            },
            "type": "bar"
           }
          ],
          "barpolar": [
           {
            "marker": {
             "line": {
              "color": "#E5ECF6",
              "width": 0.5
             },
             "pattern": {
              "fillmode": "overlay",
              "size": 10,
              "solidity": 0.2
             }
            },
            "type": "barpolar"
           }
          ],
          "carpet": [
           {
            "aaxis": {
             "endlinecolor": "#2a3f5f",
             "gridcolor": "white",
             "linecolor": "white",
             "minorgridcolor": "white",
             "startlinecolor": "#2a3f5f"
            },
            "baxis": {
             "endlinecolor": "#2a3f5f",
             "gridcolor": "white",
             "linecolor": "white",
             "minorgridcolor": "white",
             "startlinecolor": "#2a3f5f"
            },
            "type": "carpet"
           }
          ],
          "choropleth": [
           {
            "colorbar": {
             "outlinewidth": 0,
             "ticks": ""
            },
            "type": "choropleth"
           }
          ],
          "contour": [
           {
            "colorbar": {
             "outlinewidth": 0,
             "ticks": ""
            },
            "colorscale": [
             [
              0,
              "#0d0887"
             ],
             [
              0.1111111111111111,
              "#46039f"
             ],
             [
              0.2222222222222222,
              "#7201a8"
             ],
             [
              0.3333333333333333,
              "#9c179e"
             ],
             [
              0.4444444444444444,
              "#bd3786"
             ],
             [
              0.5555555555555556,
              "#d8576b"
             ],
             [
              0.6666666666666666,
              "#ed7953"
             ],
             [
              0.7777777777777778,
              "#fb9f3a"
             ],
             [
              0.8888888888888888,
              "#fdca26"
             ],
             [
              1,
              "#f0f921"
             ]
            ],
            "type": "contour"
           }
          ],
          "contourcarpet": [
           {
            "colorbar": {
             "outlinewidth": 0,
             "ticks": ""
            },
            "type": "contourcarpet"
           }
          ],
          "heatmap": [
           {
            "colorbar": {
             "outlinewidth": 0,
             "ticks": ""
            },
            "colorscale": [
             [
              0,
              "#0d0887"
             ],
             [
              0.1111111111111111,
              "#46039f"
             ],
             [
              0.2222222222222222,
              "#7201a8"
             ],
             [
              0.3333333333333333,
              "#9c179e"
             ],
             [
              0.4444444444444444,
              "#bd3786"
             ],
             [
              0.5555555555555556,
              "#d8576b"
             ],
             [
              0.6666666666666666,
              "#ed7953"
             ],
             [
              0.7777777777777778,
              "#fb9f3a"
             ],
             [
              0.8888888888888888,
              "#fdca26"
             ],
             [
              1,
              "#f0f921"
             ]
            ],
            "type": "heatmap"
           }
          ],
          "heatmapgl": [
           {
            "colorbar": {
             "outlinewidth": 0,
             "ticks": ""
            },
            "colorscale": [
             [
              0,
              "#0d0887"
             ],
             [
              0.1111111111111111,
              "#46039f"
             ],
             [
              0.2222222222222222,
              "#7201a8"
             ],
             [
              0.3333333333333333,
              "#9c179e"
             ],
             [
              0.4444444444444444,
              "#bd3786"
             ],
             [
              0.5555555555555556,
              "#d8576b"
             ],
             [
              0.6666666666666666,
              "#ed7953"
             ],
             [
              0.7777777777777778,
              "#fb9f3a"
             ],
             [
              0.8888888888888888,
              "#fdca26"
             ],
             [
              1,
              "#f0f921"
             ]
            ],
            "type": "heatmapgl"
           }
          ],
          "histogram": [
           {
            "marker": {
             "pattern": {
              "fillmode": "overlay",
              "size": 10,
              "solidity": 0.2
             }
            },
            "type": "histogram"
           }
          ],
          "histogram2d": [
           {
            "colorbar": {
             "outlinewidth": 0,
             "ticks": ""
            },
            "colorscale": [
             [
              0,
              "#0d0887"
             ],
             [
              0.1111111111111111,
              "#46039f"
             ],
             [
              0.2222222222222222,
              "#7201a8"
             ],
             [
              0.3333333333333333,
              "#9c179e"
             ],
             [
              0.4444444444444444,
              "#bd3786"
             ],
             [
              0.5555555555555556,
              "#d8576b"
             ],
             [
              0.6666666666666666,
              "#ed7953"
             ],
             [
              0.7777777777777778,
              "#fb9f3a"
             ],
             [
              0.8888888888888888,
              "#fdca26"
             ],
             [
              1,
              "#f0f921"
             ]
            ],
            "type": "histogram2d"
           }
          ],
          "histogram2dcontour": [
           {
            "colorbar": {
             "outlinewidth": 0,
             "ticks": ""
            },
            "colorscale": [
             [
              0,
              "#0d0887"
             ],
             [
              0.1111111111111111,
              "#46039f"
             ],
             [
              0.2222222222222222,
              "#7201a8"
             ],
             [
              0.3333333333333333,
              "#9c179e"
             ],
             [
              0.4444444444444444,
              "#bd3786"
             ],
             [
              0.5555555555555556,
              "#d8576b"
             ],
             [
              0.6666666666666666,
              "#ed7953"
             ],
             [
              0.7777777777777778,
              "#fb9f3a"
             ],
             [
              0.8888888888888888,
              "#fdca26"
             ],
             [
              1,
              "#f0f921"
             ]
            ],
            "type": "histogram2dcontour"
           }
          ],
          "mesh3d": [
           {
            "colorbar": {
             "outlinewidth": 0,
             "ticks": ""
            },
            "type": "mesh3d"
           }
          ],
          "parcoords": [
           {
            "line": {
             "colorbar": {
              "outlinewidth": 0,
              "ticks": ""
             }
            },
            "type": "parcoords"
           }
          ],
          "pie": [
           {
            "automargin": true,
            "type": "pie"
           }
          ],
          "scatter": [
           {
            "fillpattern": {
             "fillmode": "overlay",
             "size": 10,
             "solidity": 0.2
            },
            "type": "scatter"
           }
          ],
          "scatter3d": [
           {
            "line": {
             "colorbar": {
              "outlinewidth": 0,
              "ticks": ""
             }
            },
            "marker": {
             "colorbar": {
              "outlinewidth": 0,
              "ticks": ""
             }
            },
            "type": "scatter3d"
           }
          ],
          "scattercarpet": [
           {
            "marker": {
             "colorbar": {
              "outlinewidth": 0,
              "ticks": ""
             }
            },
            "type": "scattercarpet"
           }
          ],
          "scattergeo": [
           {
            "marker": {
             "colorbar": {
              "outlinewidth": 0,
              "ticks": ""
             }
            },
            "type": "scattergeo"
           }
          ],
          "scattergl": [
           {
            "marker": {
             "colorbar": {
              "outlinewidth": 0,
              "ticks": ""
             }
            },
            "type": "scattergl"
           }
          ],
          "scattermapbox": [
           {
            "marker": {
             "colorbar": {
              "outlinewidth": 0,
              "ticks": ""
             }
            },
            "type": "scattermapbox"
           }
          ],
          "scatterpolar": [
           {
            "marker": {
             "colorbar": {
              "outlinewidth": 0,
              "ticks": ""
             }
            },
            "type": "scatterpolar"
           }
          ],
          "scatterpolargl": [
           {
            "marker": {
             "colorbar": {
              "outlinewidth": 0,
              "ticks": ""
             }
            },
            "type": "scatterpolargl"
           }
          ],
          "scatterternary": [
           {
            "marker": {
             "colorbar": {
              "outlinewidth": 0,
              "ticks": ""
             }
            },
            "type": "scatterternary"
           }
          ],
          "surface": [
           {
            "colorbar": {
             "outlinewidth": 0,
             "ticks": ""
            },
            "colorscale": [
             [
              0,
              "#0d0887"
             ],
             [
              0.1111111111111111,
              "#46039f"
             ],
             [
              0.2222222222222222,
              "#7201a8"
             ],
             [
              0.3333333333333333,
              "#9c179e"
             ],
             [
              0.4444444444444444,
              "#bd3786"
             ],
             [
              0.5555555555555556,
              "#d8576b"
             ],
             [
              0.6666666666666666,
              "#ed7953"
             ],
             [
              0.7777777777777778,
              "#fb9f3a"
             ],
             [
              0.8888888888888888,
              "#fdca26"
             ],
             [
              1,
              "#f0f921"
             ]
            ],
            "type": "surface"
           }
          ],
          "table": [
           {
            "cells": {
             "fill": {
              "color": "#EBF0F8"
             },
             "line": {
              "color": "white"
             }
            },
            "header": {
             "fill": {
              "color": "#C8D4E3"
             },
             "line": {
              "color": "white"
             }
            },
            "type": "table"
           }
          ]
         },
         "layout": {
          "annotationdefaults": {
           "arrowcolor": "#2a3f5f",
           "arrowhead": 0,
           "arrowwidth": 1
          },
          "autotypenumbers": "strict",
          "coloraxis": {
           "colorbar": {
            "outlinewidth": 0,
            "ticks": ""
           }
          },
          "colorscale": {
           "diverging": [
            [
             0,
             "#8e0152"
            ],
            [
             0.1,
             "#c51b7d"
            ],
            [
             0.2,
             "#de77ae"
            ],
            [
             0.3,
             "#f1b6da"
            ],
            [
             0.4,
             "#fde0ef"
            ],
            [
             0.5,
             "#f7f7f7"
            ],
            [
             0.6,
             "#e6f5d0"
            ],
            [
             0.7,
             "#b8e186"
            ],
            [
             0.8,
             "#7fbc41"
            ],
            [
             0.9,
             "#4d9221"
            ],
            [
             1,
             "#276419"
            ]
           ],
           "sequential": [
            [
             0,
             "#0d0887"
            ],
            [
             0.1111111111111111,
             "#46039f"
            ],
            [
             0.2222222222222222,
             "#7201a8"
            ],
            [
             0.3333333333333333,
             "#9c179e"
            ],
            [
             0.4444444444444444,
             "#bd3786"
            ],
            [
             0.5555555555555556,
             "#d8576b"
            ],
            [
             0.6666666666666666,
             "#ed7953"
            ],
            [
             0.7777777777777778,
             "#fb9f3a"
            ],
            [
             0.8888888888888888,
             "#fdca26"
            ],
            [
             1,
             "#f0f921"
            ]
           ],
           "sequentialminus": [
            [
             0,
             "#0d0887"
            ],
            [
             0.1111111111111111,
             "#46039f"
            ],
            [
             0.2222222222222222,
             "#7201a8"
            ],
            [
             0.3333333333333333,
             "#9c179e"
            ],
            [
             0.4444444444444444,
             "#bd3786"
            ],
            [
             0.5555555555555556,
             "#d8576b"
            ],
            [
             0.6666666666666666,
             "#ed7953"
            ],
            [
             0.7777777777777778,
             "#fb9f3a"
            ],
            [
             0.8888888888888888,
             "#fdca26"
            ],
            [
             1,
             "#f0f921"
            ]
           ]
          },
          "colorway": [
           "#636efa",
           "#EF553B",
           "#00cc96",
           "#ab63fa",
           "#FFA15A",
           "#19d3f3",
           "#FF6692",
           "#B6E880",
           "#FF97FF",
           "#FECB52"
          ],
          "font": {
           "color": "#2a3f5f"
          },
          "geo": {
           "bgcolor": "white",
           "lakecolor": "white",
           "landcolor": "#E5ECF6",
           "showlakes": true,
           "showland": true,
           "subunitcolor": "white"
          },
          "hoverlabel": {
           "align": "left"
          },
          "hovermode": "closest",
          "mapbox": {
           "style": "light"
          },
          "paper_bgcolor": "white",
          "plot_bgcolor": "#E5ECF6",
          "polar": {
           "angularaxis": {
            "gridcolor": "white",
            "linecolor": "white",
            "ticks": ""
           },
           "bgcolor": "#E5ECF6",
           "radialaxis": {
            "gridcolor": "white",
            "linecolor": "white",
            "ticks": ""
           }
          },
          "scene": {
           "xaxis": {
            "backgroundcolor": "#E5ECF6",
            "gridcolor": "white",
            "gridwidth": 2,
            "linecolor": "white",
            "showbackground": true,
            "ticks": "",
            "zerolinecolor": "white"
           },
           "yaxis": {
            "backgroundcolor": "#E5ECF6",
            "gridcolor": "white",
            "gridwidth": 2,
            "linecolor": "white",
            "showbackground": true,
            "ticks": "",
            "zerolinecolor": "white"
           },
           "zaxis": {
            "backgroundcolor": "#E5ECF6",
            "gridcolor": "white",
            "gridwidth": 2,
            "linecolor": "white",
            "showbackground": true,
            "ticks": "",
            "zerolinecolor": "white"
           }
          },
          "shapedefaults": {
           "line": {
            "color": "#2a3f5f"
           }
          },
          "ternary": {
           "aaxis": {
            "gridcolor": "white",
            "linecolor": "white",
            "ticks": ""
           },
           "baxis": {
            "gridcolor": "white",
            "linecolor": "white",
            "ticks": ""
           },
           "bgcolor": "#E5ECF6",
           "caxis": {
            "gridcolor": "white",
            "linecolor": "white",
            "ticks": ""
           }
          },
          "title": {
           "x": 0.05
          },
          "xaxis": {
           "automargin": true,
           "gridcolor": "white",
           "linecolor": "white",
           "ticks": "",
           "title": {
            "standoff": 15
           },
           "zerolinecolor": "white",
           "zerolinewidth": 2
          },
          "yaxis": {
           "automargin": true,
           "gridcolor": "white",
           "linecolor": "white",
           "ticks": "",
           "title": {
            "standoff": 15
           },
           "zerolinecolor": "white",
           "zerolinewidth": 2
          }
         }
        },
        "title": {
         "text": "Training and val loss across epochs"
        },
        "xaxis": {
         "title": {
          "text": "epochs"
         }
        },
        "yaxis": {
         "title": {
          "text": "Cross Entropy"
         }
        }
       }
      }
     },
     "metadata": {},
     "output_type": "display_data"
    }
   ],
   "source": [
    "fig = go.Figure(data=[\n",
    "                      go.Scatter(\n",
    "                          y=history.history[\"loss\"],\n",
    "                          name=\"Training loss\",\n",
    "                          mode=\"lines\",\n",
    "                      ),\n",
    "                      go.Scatter(\n",
    "                          y=history.history[\"val_loss\"],\n",
    "                          name=\"Validation loss\",\n",
    "                          mode=\"lines\",\n",
    "                      )\n",
    "])\n",
    "fig.update_layout(\n",
    "    title='Training and val loss across epochs',\n",
    "    xaxis_title='epochs',\n",
    "    yaxis_title='Cross Entropy'    \n",
    ")\n",
    "fig.show()"
   ]
  },
  {
   "cell_type": "code",
   "execution_count": 204,
   "metadata": {},
   "outputs": [
    {
     "data": {
      "application/vnd.plotly.v1+json": {
       "config": {
        "plotlyServerURL": "https://plot.ly"
       },
       "data": [
        {
         "mode": "lines",
         "name": "Training precision",
         "type": "scatter",
         "y": [
          0.21296297013759613,
          0.9270833134651184,
          0.9778226017951965,
          0.986138641834259,
          0.9904030561447144,
          0.9961685538291931,
          1,
          1,
          1,
          1,
          1,
          1,
          1,
          1,
          1,
          1,
          1,
          1,
          1,
          1,
          1,
          1,
          1,
          1,
          1,
          1,
          1,
          1,
          1,
          1,
          1,
          1,
          1,
          1,
          1,
          1,
          1,
          1,
          1,
          1,
          1,
          1,
          1,
          1,
          1,
          1,
          1,
          1,
          1,
          1,
          1,
          1,
          1,
          1,
          1,
          1,
          1,
          1,
          1,
          1,
          1,
          1,
          1,
          1,
          1,
          1,
          1,
          1,
          1,
          1,
          1,
          1,
          1,
          1,
          1,
          1,
          1,
          1,
          1,
          1,
          1,
          1,
          1,
          1,
          1,
          1,
          1,
          1,
          1,
          1,
          1,
          1,
          1,
          1,
          1,
          1,
          1,
          1,
          1,
          1,
          1,
          1,
          1,
          1,
          1,
          1,
          1,
          1,
          1,
          1,
          1,
          1,
          1,
          1,
          1,
          1,
          1,
          1,
          1,
          1,
          1,
          1,
          1,
          1,
          1,
          1,
          1,
          1,
          1,
          1,
          1,
          1,
          1,
          1,
          1,
          1,
          1,
          1,
          1,
          1,
          1,
          1,
          1,
          1,
          1,
          1,
          1,
          1,
          1,
          1,
          1,
          1,
          1,
          1,
          1,
          1,
          1,
          1,
          1,
          1,
          1,
          1,
          1,
          1,
          1,
          1,
          1,
          1,
          1,
          1,
          1,
          1,
          1,
          1,
          1,
          1,
          1,
          1,
          1,
          1,
          1,
          1,
          1,
          1,
          1,
          1,
          1,
          1,
          1,
          1,
          1,
          1,
          1,
          1,
          1,
          1,
          1,
          1,
          1,
          1
         ]
        },
        {
         "mode": "lines",
         "name": "Validation precision",
         "type": "scatter",
         "y": [
          0.9808917045593262,
          0.970588207244873,
          0.9671361446380615,
          0.9803921580314636,
          0.9950000047683716,
          0.9901477694511414,
          0.9672897458076477,
          0.9949748516082764,
          0.995121955871582,
          0.9902912378311157,
          0.9950980544090271,
          0.9950000047683716,
          0.9950739145278931,
          0.9950248599052429,
          0.9950248599052429,
          0.9950739145278931,
          0.9950739145278931,
          0.9950739145278931,
          0.9950739145278931,
          0.9950739145278931,
          0.9950980544090271,
          0.9950980544090271,
          0.9950980544090271,
          0.9950980544090271,
          0.9950980544090271,
          0.9950980544090271,
          0.9950980544090271,
          0.9950980544090271,
          0.9950980544090271,
          0.9950980544090271,
          0.9950980544090271,
          0.9950980544090271,
          0.9950980544090271,
          0.9950980544090271,
          0.9950980544090271,
          0.9950980544090271,
          0.9950980544090271,
          0.9950980544090271,
          0.9950980544090271,
          0.9950980544090271,
          0.9950980544090271,
          0.9950980544090271,
          0.9950980544090271,
          0.9950980544090271,
          0.9950980544090271,
          0.9950980544090271,
          0.9950980544090271,
          0.9950980544090271,
          0.9950980544090271,
          0.9950980544090271,
          0.9950980544090271,
          0.9950980544090271,
          0.9950980544090271,
          0.9950980544090271,
          0.9950980544090271,
          0.9950980544090271,
          0.9950980544090271,
          0.9950248599052429,
          0.9950248599052429,
          0.9950494766235352,
          0.9950494766235352,
          0.9950494766235352,
          0.9950739145278931,
          0.9950739145278931,
          0.9950980544090271,
          0.9950980544090271,
          0.9950980544090271,
          0.9950980544090271,
          0.9950980544090271,
          0.9950980544090271,
          0.9950980544090271,
          0.9950980544090271,
          0.9950980544090271,
          0.9950980544090271,
          0.9950980544090271,
          0.9950980544090271,
          0.9950980544090271,
          0.9950980544090271,
          0.9950980544090271,
          0.9950980544090271,
          0.9950980544090271,
          0.9950980544090271,
          0.9950980544090271,
          0.9950980544090271,
          0.9950980544090271,
          0.9950980544090271,
          0.9950980544090271,
          0.9950980544090271,
          0.9950980544090271,
          0.9950980544090271,
          0.9950980544090271,
          0.9950980544090271,
          0.9950980544090271,
          0.9950980544090271,
          0.9950980544090271,
          0.9950980544090271,
          0.9950980544090271,
          0.9950980544090271,
          0.9950980544090271,
          0.9950980544090271,
          0.9950980544090271,
          0.9950980544090271,
          0.9950980544090271,
          0.9950980544090271,
          0.9950980544090271,
          0.9950739145278931,
          0.9950739145278931,
          0.9950739145278931,
          0.9950739145278931,
          0.9950980544090271,
          0.9950980544090271,
          0.9950980544090271,
          0.9950980544090271,
          0.9950980544090271,
          0.9950980544090271,
          0.9950980544090271,
          0.9950980544090271,
          0.9950980544090271,
          0.9950980544090271,
          0.9950980544090271,
          0.9950980544090271,
          0.9950980544090271,
          0.9950980544090271,
          0.9950980544090271,
          0.9950980544090271,
          0.9950980544090271,
          0.9950980544090271,
          0.9950980544090271,
          0.9950980544090271,
          0.9950980544090271,
          0.9950980544090271,
          0.9950980544090271,
          0.9950980544090271,
          0.9950980544090271,
          0.9950248599052429,
          0.9950494766235352,
          0.9950494766235352,
          0.9950494766235352,
          0.9950494766235352,
          0.9950494766235352,
          0.9950494766235352,
          0.9950494766235352,
          0.9950494766235352,
          0.9950494766235352,
          0.9950494766235352,
          0.9950494766235352,
          0.9950739145278931,
          0.9950739145278931,
          0.9950739145278931,
          0.9950739145278931,
          0.9950739145278931,
          0.9950739145278931,
          0.9950980544090271,
          0.9950980544090271,
          0.9950980544090271,
          0.9950980544090271,
          0.9950980544090271,
          0.9950980544090271,
          0.9950980544090271,
          0.9950980544090271,
          0.9950980544090271,
          0.9950980544090271,
          0.9950980544090271,
          0.9950980544090271,
          0.9950980544090271,
          0.9950980544090271,
          0.9950980544090271,
          0.9950980544090271,
          0.9950980544090271,
          0.9950739145278931,
          0.9950739145278931,
          0.9950739145278931,
          0.9950980544090271,
          0.9950980544090271,
          0.9950980544090271,
          0.9950980544090271,
          0.9950980544090271,
          0.9950980544090271,
          0.9950980544090271,
          0.9950980544090271,
          0.9950980544090271,
          0.9950980544090271,
          0.9950980544090271,
          0.9950980544090271,
          0.9950980544090271,
          0.9950980544090271,
          0.9950980544090271,
          0.9950980544090271,
          0.9950980544090271,
          0.9950980544090271,
          0.9950980544090271,
          0.9950980544090271,
          0.9950980544090271,
          0.9950980544090271,
          0.9950980544090271,
          0.9950980544090271,
          0.9950980544090271,
          0.9950980544090271,
          0.9950980544090271,
          0.9950980544090271
         ]
        }
       ],
       "layout": {
        "template": {
         "data": {
          "bar": [
           {
            "error_x": {
             "color": "#2a3f5f"
            },
            "error_y": {
             "color": "#2a3f5f"
            },
            "marker": {
             "line": {
              "color": "#E5ECF6",
              "width": 0.5
             },
             "pattern": {
              "fillmode": "overlay",
              "size": 10,
              "solidity": 0.2
             }
            },
            "type": "bar"
           }
          ],
          "barpolar": [
           {
            "marker": {
             "line": {
              "color": "#E5ECF6",
              "width": 0.5
             },
             "pattern": {
              "fillmode": "overlay",
              "size": 10,
              "solidity": 0.2
             }
            },
            "type": "barpolar"
           }
          ],
          "carpet": [
           {
            "aaxis": {
             "endlinecolor": "#2a3f5f",
             "gridcolor": "white",
             "linecolor": "white",
             "minorgridcolor": "white",
             "startlinecolor": "#2a3f5f"
            },
            "baxis": {
             "endlinecolor": "#2a3f5f",
             "gridcolor": "white",
             "linecolor": "white",
             "minorgridcolor": "white",
             "startlinecolor": "#2a3f5f"
            },
            "type": "carpet"
           }
          ],
          "choropleth": [
           {
            "colorbar": {
             "outlinewidth": 0,
             "ticks": ""
            },
            "type": "choropleth"
           }
          ],
          "contour": [
           {
            "colorbar": {
             "outlinewidth": 0,
             "ticks": ""
            },
            "colorscale": [
             [
              0,
              "#0d0887"
             ],
             [
              0.1111111111111111,
              "#46039f"
             ],
             [
              0.2222222222222222,
              "#7201a8"
             ],
             [
              0.3333333333333333,
              "#9c179e"
             ],
             [
              0.4444444444444444,
              "#bd3786"
             ],
             [
              0.5555555555555556,
              "#d8576b"
             ],
             [
              0.6666666666666666,
              "#ed7953"
             ],
             [
              0.7777777777777778,
              "#fb9f3a"
             ],
             [
              0.8888888888888888,
              "#fdca26"
             ],
             [
              1,
              "#f0f921"
             ]
            ],
            "type": "contour"
           }
          ],
          "contourcarpet": [
           {
            "colorbar": {
             "outlinewidth": 0,
             "ticks": ""
            },
            "type": "contourcarpet"
           }
          ],
          "heatmap": [
           {
            "colorbar": {
             "outlinewidth": 0,
             "ticks": ""
            },
            "colorscale": [
             [
              0,
              "#0d0887"
             ],
             [
              0.1111111111111111,
              "#46039f"
             ],
             [
              0.2222222222222222,
              "#7201a8"
             ],
             [
              0.3333333333333333,
              "#9c179e"
             ],
             [
              0.4444444444444444,
              "#bd3786"
             ],
             [
              0.5555555555555556,
              "#d8576b"
             ],
             [
              0.6666666666666666,
              "#ed7953"
             ],
             [
              0.7777777777777778,
              "#fb9f3a"
             ],
             [
              0.8888888888888888,
              "#fdca26"
             ],
             [
              1,
              "#f0f921"
             ]
            ],
            "type": "heatmap"
           }
          ],
          "heatmapgl": [
           {
            "colorbar": {
             "outlinewidth": 0,
             "ticks": ""
            },
            "colorscale": [
             [
              0,
              "#0d0887"
             ],
             [
              0.1111111111111111,
              "#46039f"
             ],
             [
              0.2222222222222222,
              "#7201a8"
             ],
             [
              0.3333333333333333,
              "#9c179e"
             ],
             [
              0.4444444444444444,
              "#bd3786"
             ],
             [
              0.5555555555555556,
              "#d8576b"
             ],
             [
              0.6666666666666666,
              "#ed7953"
             ],
             [
              0.7777777777777778,
              "#fb9f3a"
             ],
             [
              0.8888888888888888,
              "#fdca26"
             ],
             [
              1,
              "#f0f921"
             ]
            ],
            "type": "heatmapgl"
           }
          ],
          "histogram": [
           {
            "marker": {
             "pattern": {
              "fillmode": "overlay",
              "size": 10,
              "solidity": 0.2
             }
            },
            "type": "histogram"
           }
          ],
          "histogram2d": [
           {
            "colorbar": {
             "outlinewidth": 0,
             "ticks": ""
            },
            "colorscale": [
             [
              0,
              "#0d0887"
             ],
             [
              0.1111111111111111,
              "#46039f"
             ],
             [
              0.2222222222222222,
              "#7201a8"
             ],
             [
              0.3333333333333333,
              "#9c179e"
             ],
             [
              0.4444444444444444,
              "#bd3786"
             ],
             [
              0.5555555555555556,
              "#d8576b"
             ],
             [
              0.6666666666666666,
              "#ed7953"
             ],
             [
              0.7777777777777778,
              "#fb9f3a"
             ],
             [
              0.8888888888888888,
              "#fdca26"
             ],
             [
              1,
              "#f0f921"
             ]
            ],
            "type": "histogram2d"
           }
          ],
          "histogram2dcontour": [
           {
            "colorbar": {
             "outlinewidth": 0,
             "ticks": ""
            },
            "colorscale": [
             [
              0,
              "#0d0887"
             ],
             [
              0.1111111111111111,
              "#46039f"
             ],
             [
              0.2222222222222222,
              "#7201a8"
             ],
             [
              0.3333333333333333,
              "#9c179e"
             ],
             [
              0.4444444444444444,
              "#bd3786"
             ],
             [
              0.5555555555555556,
              "#d8576b"
             ],
             [
              0.6666666666666666,
              "#ed7953"
             ],
             [
              0.7777777777777778,
              "#fb9f3a"
             ],
             [
              0.8888888888888888,
              "#fdca26"
             ],
             [
              1,
              "#f0f921"
             ]
            ],
            "type": "histogram2dcontour"
           }
          ],
          "mesh3d": [
           {
            "colorbar": {
             "outlinewidth": 0,
             "ticks": ""
            },
            "type": "mesh3d"
           }
          ],
          "parcoords": [
           {
            "line": {
             "colorbar": {
              "outlinewidth": 0,
              "ticks": ""
             }
            },
            "type": "parcoords"
           }
          ],
          "pie": [
           {
            "automargin": true,
            "type": "pie"
           }
          ],
          "scatter": [
           {
            "fillpattern": {
             "fillmode": "overlay",
             "size": 10,
             "solidity": 0.2
            },
            "type": "scatter"
           }
          ],
          "scatter3d": [
           {
            "line": {
             "colorbar": {
              "outlinewidth": 0,
              "ticks": ""
             }
            },
            "marker": {
             "colorbar": {
              "outlinewidth": 0,
              "ticks": ""
             }
            },
            "type": "scatter3d"
           }
          ],
          "scattercarpet": [
           {
            "marker": {
             "colorbar": {
              "outlinewidth": 0,
              "ticks": ""
             }
            },
            "type": "scattercarpet"
           }
          ],
          "scattergeo": [
           {
            "marker": {
             "colorbar": {
              "outlinewidth": 0,
              "ticks": ""
             }
            },
            "type": "scattergeo"
           }
          ],
          "scattergl": [
           {
            "marker": {
             "colorbar": {
              "outlinewidth": 0,
              "ticks": ""
             }
            },
            "type": "scattergl"
           }
          ],
          "scattermapbox": [
           {
            "marker": {
             "colorbar": {
              "outlinewidth": 0,
              "ticks": ""
             }
            },
            "type": "scattermapbox"
           }
          ],
          "scatterpolar": [
           {
            "marker": {
             "colorbar": {
              "outlinewidth": 0,
              "ticks": ""
             }
            },
            "type": "scatterpolar"
           }
          ],
          "scatterpolargl": [
           {
            "marker": {
             "colorbar": {
              "outlinewidth": 0,
              "ticks": ""
             }
            },
            "type": "scatterpolargl"
           }
          ],
          "scatterternary": [
           {
            "marker": {
             "colorbar": {
              "outlinewidth": 0,
              "ticks": ""
             }
            },
            "type": "scatterternary"
           }
          ],
          "surface": [
           {
            "colorbar": {
             "outlinewidth": 0,
             "ticks": ""
            },
            "colorscale": [
             [
              0,
              "#0d0887"
             ],
             [
              0.1111111111111111,
              "#46039f"
             ],
             [
              0.2222222222222222,
              "#7201a8"
             ],
             [
              0.3333333333333333,
              "#9c179e"
             ],
             [
              0.4444444444444444,
              "#bd3786"
             ],
             [
              0.5555555555555556,
              "#d8576b"
             ],
             [
              0.6666666666666666,
              "#ed7953"
             ],
             [
              0.7777777777777778,
              "#fb9f3a"
             ],
             [
              0.8888888888888888,
              "#fdca26"
             ],
             [
              1,
              "#f0f921"
             ]
            ],
            "type": "surface"
           }
          ],
          "table": [
           {
            "cells": {
             "fill": {
              "color": "#EBF0F8"
             },
             "line": {
              "color": "white"
             }
            },
            "header": {
             "fill": {
              "color": "#C8D4E3"
             },
             "line": {
              "color": "white"
             }
            },
            "type": "table"
           }
          ]
         },
         "layout": {
          "annotationdefaults": {
           "arrowcolor": "#2a3f5f",
           "arrowhead": 0,
           "arrowwidth": 1
          },
          "autotypenumbers": "strict",
          "coloraxis": {
           "colorbar": {
            "outlinewidth": 0,
            "ticks": ""
           }
          },
          "colorscale": {
           "diverging": [
            [
             0,
             "#8e0152"
            ],
            [
             0.1,
             "#c51b7d"
            ],
            [
             0.2,
             "#de77ae"
            ],
            [
             0.3,
             "#f1b6da"
            ],
            [
             0.4,
             "#fde0ef"
            ],
            [
             0.5,
             "#f7f7f7"
            ],
            [
             0.6,
             "#e6f5d0"
            ],
            [
             0.7,
             "#b8e186"
            ],
            [
             0.8,
             "#7fbc41"
            ],
            [
             0.9,
             "#4d9221"
            ],
            [
             1,
             "#276419"
            ]
           ],
           "sequential": [
            [
             0,
             "#0d0887"
            ],
            [
             0.1111111111111111,
             "#46039f"
            ],
            [
             0.2222222222222222,
             "#7201a8"
            ],
            [
             0.3333333333333333,
             "#9c179e"
            ],
            [
             0.4444444444444444,
             "#bd3786"
            ],
            [
             0.5555555555555556,
             "#d8576b"
            ],
            [
             0.6666666666666666,
             "#ed7953"
            ],
            [
             0.7777777777777778,
             "#fb9f3a"
            ],
            [
             0.8888888888888888,
             "#fdca26"
            ],
            [
             1,
             "#f0f921"
            ]
           ],
           "sequentialminus": [
            [
             0,
             "#0d0887"
            ],
            [
             0.1111111111111111,
             "#46039f"
            ],
            [
             0.2222222222222222,
             "#7201a8"
            ],
            [
             0.3333333333333333,
             "#9c179e"
            ],
            [
             0.4444444444444444,
             "#bd3786"
            ],
            [
             0.5555555555555556,
             "#d8576b"
            ],
            [
             0.6666666666666666,
             "#ed7953"
            ],
            [
             0.7777777777777778,
             "#fb9f3a"
            ],
            [
             0.8888888888888888,
             "#fdca26"
            ],
            [
             1,
             "#f0f921"
            ]
           ]
          },
          "colorway": [
           "#636efa",
           "#EF553B",
           "#00cc96",
           "#ab63fa",
           "#FFA15A",
           "#19d3f3",
           "#FF6692",
           "#B6E880",
           "#FF97FF",
           "#FECB52"
          ],
          "font": {
           "color": "#2a3f5f"
          },
          "geo": {
           "bgcolor": "white",
           "lakecolor": "white",
           "landcolor": "#E5ECF6",
           "showlakes": true,
           "showland": true,
           "subunitcolor": "white"
          },
          "hoverlabel": {
           "align": "left"
          },
          "hovermode": "closest",
          "mapbox": {
           "style": "light"
          },
          "paper_bgcolor": "white",
          "plot_bgcolor": "#E5ECF6",
          "polar": {
           "angularaxis": {
            "gridcolor": "white",
            "linecolor": "white",
            "ticks": ""
           },
           "bgcolor": "#E5ECF6",
           "radialaxis": {
            "gridcolor": "white",
            "linecolor": "white",
            "ticks": ""
           }
          },
          "scene": {
           "xaxis": {
            "backgroundcolor": "#E5ECF6",
            "gridcolor": "white",
            "gridwidth": 2,
            "linecolor": "white",
            "showbackground": true,
            "ticks": "",
            "zerolinecolor": "white"
           },
           "yaxis": {
            "backgroundcolor": "#E5ECF6",
            "gridcolor": "white",
            "gridwidth": 2,
            "linecolor": "white",
            "showbackground": true,
            "ticks": "",
            "zerolinecolor": "white"
           },
           "zaxis": {
            "backgroundcolor": "#E5ECF6",
            "gridcolor": "white",
            "gridwidth": 2,
            "linecolor": "white",
            "showbackground": true,
            "ticks": "",
            "zerolinecolor": "white"
           }
          },
          "shapedefaults": {
           "line": {
            "color": "#2a3f5f"
           }
          },
          "ternary": {
           "aaxis": {
            "gridcolor": "white",
            "linecolor": "white",
            "ticks": ""
           },
           "baxis": {
            "gridcolor": "white",
            "linecolor": "white",
            "ticks": ""
           },
           "bgcolor": "#E5ECF6",
           "caxis": {
            "gridcolor": "white",
            "linecolor": "white",
            "ticks": ""
           }
          },
          "title": {
           "x": 0.05
          },
          "xaxis": {
           "automargin": true,
           "gridcolor": "white",
           "linecolor": "white",
           "ticks": "",
           "title": {
            "standoff": 15
           },
           "zerolinecolor": "white",
           "zerolinewidth": 2
          },
          "yaxis": {
           "automargin": true,
           "gridcolor": "white",
           "linecolor": "white",
           "ticks": "",
           "title": {
            "standoff": 15
           },
           "zerolinecolor": "white",
           "zerolinewidth": 2
          }
         }
        },
        "title": {
         "text": "Training and val precision across epochs"
        },
        "xaxis": {
         "title": {
          "text": "epochs"
         }
        },
        "yaxis": {
         "title": {
          "text": "Precision"
         }
        }
       }
      }
     },
     "metadata": {},
     "output_type": "display_data"
    }
   ],
   "source": [
    "fig = go.Figure(data=[\n",
    "                      go.Scatter(\n",
    "                          y=history.history[\"precision\"],\n",
    "                          name=\"Training precision\",\n",
    "                          mode=\"lines\",\n",
    "                      ),\n",
    "                      go.Scatter(\n",
    "                          y=history.history[\"val_precision\"],\n",
    "                          name=\"Validation precision\",\n",
    "                          mode=\"lines\",\n",
    "                      )\n",
    "])\n",
    "fig.update_layout(\n",
    "    title='Training and val precision across epochs',\n",
    "    xaxis_title='epochs',\n",
    "    yaxis_title='Precision'    \n",
    ")\n",
    "fig.show()"
   ]
  },
  {
   "cell_type": "code",
   "execution_count": 205,
   "metadata": {},
   "outputs": [
    {
     "data": {
      "application/vnd.plotly.v1+json": {
       "config": {
        "plotlyServerURL": "https://plot.ly"
       },
       "data": [
        {
         "mode": "lines",
         "name": "Training f1-score",
         "type": "scatter",
         "y": [
          0.23652014136314392,
          0.23652014136314392,
          0.23652014136314392,
          0.23662738502025604,
          0.2393946349620819,
          0.24576270580291748,
          0.2512030601501465,
          0.2617853581905365,
          0.28208592534065247,
          0.285401850938797,
          0.3117348551750183,
          0.38311928510665894,
          0.4319404363632202,
          0.4713318347930908,
          0.4992826581001282,
          0.5351101756095886,
          0.556503176689148,
          0.5733113288879395,
          0.5979381799697876,
          0.6141176223754883,
          0.6247755885124207,
          0.6315789818763733,
          0.6566037535667419,
          0.6752910614013672,
          0.6863905191421509,
          0.6941488981246948,
          0.7082768082618713,
          0.710687518119812,
          0.7165408134460449,
          0.7316047549247742,
          0.7275261282920837,
          0.7425320148468018,
          0.7473157048225403,
          0.7670830488204956,
          0.7653959393501282,
          0.7739065885543823,
          0.7802690863609314,
          0.7843726277351379,
          0.7927106618881226,
          0.7963386178016663,
          0.7951256632804871,
          0.7981652021408081,
          0.800000011920929,
          0.8030769228935242,
          0.805555522441864,
          0.8118195533752441,
          0.8143525719642639,
          0.8279143571853638,
          0.8239936828613281,
          0.8332002758979797,
          0.8292295932769775,
          0.8318725228309631,
          0.8392283320426941,
          0.8460291624069214,
          0.8460291624069214,
          0.8460291624069214,
          0.844660222530365,
          0.8592591881752014,
          0.8707255721092224,
          0.8795282244682312,
          0.8780487179756165,
          0.8714524507522583,
          0.8685524463653564,
          0.8802698254585266,
          0.8862478733062744,
          0.8825020790100098,
          0.8870009183883667,
          0.8862478733062744,
          0.8817567229270935,
          0.8707255721092224,
          0.8787878751754761,
          0.8907849788665771,
          0.8953688144683838,
          0.8751047849655151,
          0.8802698254585266,
          0.8810126185417175,
          0.8743718862533569,
          0.8802698254585266,
          0.8900255560874939,
          0.892307698726654,
          0.892307698726654,
          0.8969072103500366,
          0.8946015238761902,
          0.8953688144683838,
          0.8976784348487854,
          0.9031141996383667,
          0.8946015238761902,
          0.8907849788665771,
          0.8976784348487854,
          0.9023336172103882,
          0.8953688144683838,
          0.9038960933685303,
          0.9190140962600708,
          0.8961373567581177,
          0.9038960933685303,
          0.9078261256217957,
          0.9007765054702759,
          0.9070373773574829,
          0.9031141996383667,
          0.9198237657546997,
          0.9157894849777222,
          0.9157894849777222,
          0.9182057976722717,
          0.9222614765167236,
          0.9182057976722717,
          0.9271758198738098,
          0.9271758198738098,
          0.9198237657546997,
          0.9247121810913086,
          0.9288256168365479,
          0.9279999732971191,
          0.9447963237762451,
          0.9263531565666199,
          0.9271758198738098,
          0.9222614765167236,
          0.9214474558830261,
          0.920634925365448,
          0.9279999732971191,
          0.9255319237709045,
          0.9338103532791138,
          0.914185643196106,
          0.9190140962600708,
          0.9230769276618958,
          0.9263531565666199,
          0.9230769276618958,
          0.9304813146591187,
          0.9222614765167236,
          0.9247121810913086,
          0.9380053877830505,
          0.9321428537368774,
          0.9363229274749756,
          0.9313113689422607,
          0.9238937497138977,
          0.9271758198738098,
          0.9354838728904724,
          0.9534246325492859,
          0.9499545097351074,
          0.9499545097351074,
          0.9465095400810242,
          0.9447963237762451,
          0.9534246325492859,
          0.9525547623634338,
          0.9551692605018616,
          0.9473683834075928,
          0.9465095400810242,
          0.9482288956642151,
          0.9569202661514282,
          0.9413886070251465,
          0.9473683834075928,
          0.9413886070251465,
          0.9534246325492859,
          0.9473683834075928,
          0.9473683834075928,
          0.9447963237762451,
          0.9534246325492859,
          0.9430894255638123,
          0.9422382712364197,
          0.9473683834075928,
          0.9542961716651917,
          0.9422382712364197,
          0.9508196711540222,
          0.9490908980369568,
          0.9534246325492859,
          0.9396939873695374,
          0.9508196711540222,
          0.961326003074646,
          0.9482288956642151,
          0.9586776494979858,
          0.9516863822937012,
          0.9639889597892761,
          0.9447963237762451,
          0.9516863822937012,
          0.9604415893554688,
          0.961326003074646,
          0.9534246325492859,
          0.9482288956642151,
          0.9482288956642151,
          0.9508196711540222,
          0.9465095400810242,
          0.9499545097351074,
          0.9465095400810242,
          0.9534246325492859,
          0.9508196711540222,
          0.9473683834075928,
          0.9534246325492859,
          0.9499545097351074,
          0.9604415893554688,
          0.957798182964325,
          0.9560439586639404,
          0.9551692605018616,
          0.9465095400810242,
          0.9542961716651917,
          0.9534246325492859,
          0.957798182964325,
          0.9604415893554688,
          0.9525547623634338,
          0.9473683834075928,
          0.9508196711540222,
          0.9534246325492859,
          0.9604415893554688
         ]
        },
        {
         "mode": "lines",
         "name": "Validation f1-score",
         "type": "scatter",
         "y": [
          0.23585404455661774,
          0.23585404455661774,
          0.23585404455661774,
          0.23585404455661774,
          0.24600109457969666,
          0.24627278745174408,
          0.24695459008216858,
          0.2763320803642273,
          0.27997490763664246,
          0.28811371326446533,
          0.33358263969421387,
          0.40888065099716187,
          0.43589743971824646,
          0.48618781566619873,
          0.5057471394538879,
          0.5265700817108154,
          0.5465995073318481,
          0.5703021883964539,
          0.5856950283050537,
          0.6002765893936157,
          0.6084507703781128,
          0.6180257201194763,
          0.6370370388031006,
          0.6446776390075684,
          0.6515151262283325,
          0.6803797483444214,
          0.6880000233650208,
          0.7014682292938232,
          0.7049180269241333,
          0.7166666388511658,
          0.7300509214401245,
          0.7337884306907654,
          0.7439445853233337,
          0.7465277910232544,
          0.747826099395752,
          0.7678571343421936,
          0.773381233215332,
          0.7803992629051208,
          0.7832422256469727,
          0.7875458002090454,
          0.79044109582901,
          0.7918968796730042,
          0.7933579087257385,
          0.800744891166687,
          0.7977737188339233,
          0.8037383556365967,
          0.8082706332206726,
          0.8174904584884644,
          0.8237547278404236,
          0.8237547278404236,
          0.826923131942749,
          0.8317214846611023,
          0.8317214846611023,
          0.8382066488265991,
          0.8382066488265991,
          0.8382066488265991,
          0.848126232624054,
          0.8611670136451721,
          0.8611670136451721,
          0.8611670136451721,
          0.8629032373428345,
          0.8629032373428345,
          0.8634538650512695,
          0.8634538650512695,
          0.8634538650512695,
          0.8611670136451721,
          0.8629032373428345,
          0.8629032373428345,
          0.8629032373428345,
          0.8629032373428345,
          0.8646464347839355,
          0.8663967251777649,
          0.8663967251777649,
          0.8663967251777649,
          0.8663967251777649,
          0.8663967251777649,
          0.8681541681289673,
          0.8681541681289673,
          0.8681541681289673,
          0.8681541681289673,
          0.8681541681289673,
          0.8716904520988464,
          0.8716904520988464,
          0.8716904520988464,
          0.8716904520988464,
          0.8716904520988464,
          0.8716904520988464,
          0.8716904520988464,
          0.8693877458572388,
          0.8693877458572388,
          0.8693877458572388,
          0.8693877458572388,
          0.8693877458572388,
          0.8693877458572388,
          0.8711656928062439,
          0.8711656928062439,
          0.8729507923126221,
          0.8747433423995972,
          0.8729507923126221,
          0.8724279403686523,
          0.8724279403686523,
          0.8724279403686523,
          0.8724279403686523,
          0.8724279403686523,
          0.8724279403686523,
          0.8796680569648743,
          0.8796680569648743,
          0.8796680569648743,
          0.8796680569648743,
          0.8796680569648743,
          0.8796680569648743,
          0.8796680569648743,
          0.8778467774391174,
          0.8778467774391174,
          0.8778467774391174,
          0.8778467774391174,
          0.8778467774391174,
          0.8778467774391174,
          0.8778467774391174,
          0.8778467774391174,
          0.8796680569648743,
          0.8796680569648743,
          0.8796680569648743,
          0.8778467774391174,
          0.8814968466758728,
          0.8814968466758728,
          0.8814968466758728,
          0.8814968466758728,
          0.8814968466758728,
          0.8833332657814026,
          0.885177493095398,
          0.885177493095398,
          0.8846960663795471,
          0.8846960663795471,
          0.8959659934043884,
          0.8959659934043884,
          0.8959659934043884,
          0.8959659934043884,
          0.8959659934043884,
          0.8959659934043884,
          0.8959659934043884,
          0.8959659934043884,
          0.8959659934043884,
          0.8959659934043884,
          0.8959659934043884,
          0.8959659934043884,
          0.8959659934043884,
          0.8959659934043884,
          0.8959659934043884,
          0.8959659934043884,
          0.8959659934043884,
          0.8959659934043884,
          0.8959659934043884,
          0.8959659934043884,
          0.8959659934043884,
          0.8959659934043884,
          0.8959659934043884,
          0.8959659934043884,
          0.8959659934043884,
          0.8959659934043884,
          0.8959659934043884,
          0.8959659934043884,
          0.8959659934043884,
          0.8978723883628845,
          0.8978723883628845,
          0.8978723883628845,
          0.8978723883628845,
          0.8978723883628845,
          0.8978723883628845,
          0.8978723883628845,
          0.8978723883628845,
          0.8978723883628845,
          0.8978723883628845,
          0.8978723883628845,
          0.8978723883628845,
          0.8978723883628845,
          0.8959659934043884,
          0.8959659934043884,
          0.8959659934043884,
          0.8978723883628845,
          0.8978723883628845,
          0.8978723883628845,
          0.8978723883628845,
          0.8978723883628845,
          0.8978723883628845,
          0.8978723883628845,
          0.8978723883628845,
          0.8978723883628845,
          0.8978723883628845,
          0.8978723883628845,
          0.8978723883628845,
          0.8978723883628845,
          0.8978723883628845,
          0.8978723883628845,
          0.8978723883628845,
          0.8978723883628845,
          0.8978723883628845,
          0.8978723883628845,
          0.8978723883628845,
          0.8997868299484253
         ]
        }
       ],
       "layout": {
        "template": {
         "data": {
          "bar": [
           {
            "error_x": {
             "color": "#2a3f5f"
            },
            "error_y": {
             "color": "#2a3f5f"
            },
            "marker": {
             "line": {
              "color": "#E5ECF6",
              "width": 0.5
             },
             "pattern": {
              "fillmode": "overlay",
              "size": 10,
              "solidity": 0.2
             }
            },
            "type": "bar"
           }
          ],
          "barpolar": [
           {
            "marker": {
             "line": {
              "color": "#E5ECF6",
              "width": 0.5
             },
             "pattern": {
              "fillmode": "overlay",
              "size": 10,
              "solidity": 0.2
             }
            },
            "type": "barpolar"
           }
          ],
          "carpet": [
           {
            "aaxis": {
             "endlinecolor": "#2a3f5f",
             "gridcolor": "white",
             "linecolor": "white",
             "minorgridcolor": "white",
             "startlinecolor": "#2a3f5f"
            },
            "baxis": {
             "endlinecolor": "#2a3f5f",
             "gridcolor": "white",
             "linecolor": "white",
             "minorgridcolor": "white",
             "startlinecolor": "#2a3f5f"
            },
            "type": "carpet"
           }
          ],
          "choropleth": [
           {
            "colorbar": {
             "outlinewidth": 0,
             "ticks": ""
            },
            "type": "choropleth"
           }
          ],
          "contour": [
           {
            "colorbar": {
             "outlinewidth": 0,
             "ticks": ""
            },
            "colorscale": [
             [
              0,
              "#0d0887"
             ],
             [
              0.1111111111111111,
              "#46039f"
             ],
             [
              0.2222222222222222,
              "#7201a8"
             ],
             [
              0.3333333333333333,
              "#9c179e"
             ],
             [
              0.4444444444444444,
              "#bd3786"
             ],
             [
              0.5555555555555556,
              "#d8576b"
             ],
             [
              0.6666666666666666,
              "#ed7953"
             ],
             [
              0.7777777777777778,
              "#fb9f3a"
             ],
             [
              0.8888888888888888,
              "#fdca26"
             ],
             [
              1,
              "#f0f921"
             ]
            ],
            "type": "contour"
           }
          ],
          "contourcarpet": [
           {
            "colorbar": {
             "outlinewidth": 0,
             "ticks": ""
            },
            "type": "contourcarpet"
           }
          ],
          "heatmap": [
           {
            "colorbar": {
             "outlinewidth": 0,
             "ticks": ""
            },
            "colorscale": [
             [
              0,
              "#0d0887"
             ],
             [
              0.1111111111111111,
              "#46039f"
             ],
             [
              0.2222222222222222,
              "#7201a8"
             ],
             [
              0.3333333333333333,
              "#9c179e"
             ],
             [
              0.4444444444444444,
              "#bd3786"
             ],
             [
              0.5555555555555556,
              "#d8576b"
             ],
             [
              0.6666666666666666,
              "#ed7953"
             ],
             [
              0.7777777777777778,
              "#fb9f3a"
             ],
             [
              0.8888888888888888,
              "#fdca26"
             ],
             [
              1,
              "#f0f921"
             ]
            ],
            "type": "heatmap"
           }
          ],
          "heatmapgl": [
           {
            "colorbar": {
             "outlinewidth": 0,
             "ticks": ""
            },
            "colorscale": [
             [
              0,
              "#0d0887"
             ],
             [
              0.1111111111111111,
              "#46039f"
             ],
             [
              0.2222222222222222,
              "#7201a8"
             ],
             [
              0.3333333333333333,
              "#9c179e"
             ],
             [
              0.4444444444444444,
              "#bd3786"
             ],
             [
              0.5555555555555556,
              "#d8576b"
             ],
             [
              0.6666666666666666,
              "#ed7953"
             ],
             [
              0.7777777777777778,
              "#fb9f3a"
             ],
             [
              0.8888888888888888,
              "#fdca26"
             ],
             [
              1,
              "#f0f921"
             ]
            ],
            "type": "heatmapgl"
           }
          ],
          "histogram": [
           {
            "marker": {
             "pattern": {
              "fillmode": "overlay",
              "size": 10,
              "solidity": 0.2
             }
            },
            "type": "histogram"
           }
          ],
          "histogram2d": [
           {
            "colorbar": {
             "outlinewidth": 0,
             "ticks": ""
            },
            "colorscale": [
             [
              0,
              "#0d0887"
             ],
             [
              0.1111111111111111,
              "#46039f"
             ],
             [
              0.2222222222222222,
              "#7201a8"
             ],
             [
              0.3333333333333333,
              "#9c179e"
             ],
             [
              0.4444444444444444,
              "#bd3786"
             ],
             [
              0.5555555555555556,
              "#d8576b"
             ],
             [
              0.6666666666666666,
              "#ed7953"
             ],
             [
              0.7777777777777778,
              "#fb9f3a"
             ],
             [
              0.8888888888888888,
              "#fdca26"
             ],
             [
              1,
              "#f0f921"
             ]
            ],
            "type": "histogram2d"
           }
          ],
          "histogram2dcontour": [
           {
            "colorbar": {
             "outlinewidth": 0,
             "ticks": ""
            },
            "colorscale": [
             [
              0,
              "#0d0887"
             ],
             [
              0.1111111111111111,
              "#46039f"
             ],
             [
              0.2222222222222222,
              "#7201a8"
             ],
             [
              0.3333333333333333,
              "#9c179e"
             ],
             [
              0.4444444444444444,
              "#bd3786"
             ],
             [
              0.5555555555555556,
              "#d8576b"
             ],
             [
              0.6666666666666666,
              "#ed7953"
             ],
             [
              0.7777777777777778,
              "#fb9f3a"
             ],
             [
              0.8888888888888888,
              "#fdca26"
             ],
             [
              1,
              "#f0f921"
             ]
            ],
            "type": "histogram2dcontour"
           }
          ],
          "mesh3d": [
           {
            "colorbar": {
             "outlinewidth": 0,
             "ticks": ""
            },
            "type": "mesh3d"
           }
          ],
          "parcoords": [
           {
            "line": {
             "colorbar": {
              "outlinewidth": 0,
              "ticks": ""
             }
            },
            "type": "parcoords"
           }
          ],
          "pie": [
           {
            "automargin": true,
            "type": "pie"
           }
          ],
          "scatter": [
           {
            "fillpattern": {
             "fillmode": "overlay",
             "size": 10,
             "solidity": 0.2
            },
            "type": "scatter"
           }
          ],
          "scatter3d": [
           {
            "line": {
             "colorbar": {
              "outlinewidth": 0,
              "ticks": ""
             }
            },
            "marker": {
             "colorbar": {
              "outlinewidth": 0,
              "ticks": ""
             }
            },
            "type": "scatter3d"
           }
          ],
          "scattercarpet": [
           {
            "marker": {
             "colorbar": {
              "outlinewidth": 0,
              "ticks": ""
             }
            },
            "type": "scattercarpet"
           }
          ],
          "scattergeo": [
           {
            "marker": {
             "colorbar": {
              "outlinewidth": 0,
              "ticks": ""
             }
            },
            "type": "scattergeo"
           }
          ],
          "scattergl": [
           {
            "marker": {
             "colorbar": {
              "outlinewidth": 0,
              "ticks": ""
             }
            },
            "type": "scattergl"
           }
          ],
          "scattermapbox": [
           {
            "marker": {
             "colorbar": {
              "outlinewidth": 0,
              "ticks": ""
             }
            },
            "type": "scattermapbox"
           }
          ],
          "scatterpolar": [
           {
            "marker": {
             "colorbar": {
              "outlinewidth": 0,
              "ticks": ""
             }
            },
            "type": "scatterpolar"
           }
          ],
          "scatterpolargl": [
           {
            "marker": {
             "colorbar": {
              "outlinewidth": 0,
              "ticks": ""
             }
            },
            "type": "scatterpolargl"
           }
          ],
          "scatterternary": [
           {
            "marker": {
             "colorbar": {
              "outlinewidth": 0,
              "ticks": ""
             }
            },
            "type": "scatterternary"
           }
          ],
          "surface": [
           {
            "colorbar": {
             "outlinewidth": 0,
             "ticks": ""
            },
            "colorscale": [
             [
              0,
              "#0d0887"
             ],
             [
              0.1111111111111111,
              "#46039f"
             ],
             [
              0.2222222222222222,
              "#7201a8"
             ],
             [
              0.3333333333333333,
              "#9c179e"
             ],
             [
              0.4444444444444444,
              "#bd3786"
             ],
             [
              0.5555555555555556,
              "#d8576b"
             ],
             [
              0.6666666666666666,
              "#ed7953"
             ],
             [
              0.7777777777777778,
              "#fb9f3a"
             ],
             [
              0.8888888888888888,
              "#fdca26"
             ],
             [
              1,
              "#f0f921"
             ]
            ],
            "type": "surface"
           }
          ],
          "table": [
           {
            "cells": {
             "fill": {
              "color": "#EBF0F8"
             },
             "line": {
              "color": "white"
             }
            },
            "header": {
             "fill": {
              "color": "#C8D4E3"
             },
             "line": {
              "color": "white"
             }
            },
            "type": "table"
           }
          ]
         },
         "layout": {
          "annotationdefaults": {
           "arrowcolor": "#2a3f5f",
           "arrowhead": 0,
           "arrowwidth": 1
          },
          "autotypenumbers": "strict",
          "coloraxis": {
           "colorbar": {
            "outlinewidth": 0,
            "ticks": ""
           }
          },
          "colorscale": {
           "diverging": [
            [
             0,
             "#8e0152"
            ],
            [
             0.1,
             "#c51b7d"
            ],
            [
             0.2,
             "#de77ae"
            ],
            [
             0.3,
             "#f1b6da"
            ],
            [
             0.4,
             "#fde0ef"
            ],
            [
             0.5,
             "#f7f7f7"
            ],
            [
             0.6,
             "#e6f5d0"
            ],
            [
             0.7,
             "#b8e186"
            ],
            [
             0.8,
             "#7fbc41"
            ],
            [
             0.9,
             "#4d9221"
            ],
            [
             1,
             "#276419"
            ]
           ],
           "sequential": [
            [
             0,
             "#0d0887"
            ],
            [
             0.1111111111111111,
             "#46039f"
            ],
            [
             0.2222222222222222,
             "#7201a8"
            ],
            [
             0.3333333333333333,
             "#9c179e"
            ],
            [
             0.4444444444444444,
             "#bd3786"
            ],
            [
             0.5555555555555556,
             "#d8576b"
            ],
            [
             0.6666666666666666,
             "#ed7953"
            ],
            [
             0.7777777777777778,
             "#fb9f3a"
            ],
            [
             0.8888888888888888,
             "#fdca26"
            ],
            [
             1,
             "#f0f921"
            ]
           ],
           "sequentialminus": [
            [
             0,
             "#0d0887"
            ],
            [
             0.1111111111111111,
             "#46039f"
            ],
            [
             0.2222222222222222,
             "#7201a8"
            ],
            [
             0.3333333333333333,
             "#9c179e"
            ],
            [
             0.4444444444444444,
             "#bd3786"
            ],
            [
             0.5555555555555556,
             "#d8576b"
            ],
            [
             0.6666666666666666,
             "#ed7953"
            ],
            [
             0.7777777777777778,
             "#fb9f3a"
            ],
            [
             0.8888888888888888,
             "#fdca26"
            ],
            [
             1,
             "#f0f921"
            ]
           ]
          },
          "colorway": [
           "#636efa",
           "#EF553B",
           "#00cc96",
           "#ab63fa",
           "#FFA15A",
           "#19d3f3",
           "#FF6692",
           "#B6E880",
           "#FF97FF",
           "#FECB52"
          ],
          "font": {
           "color": "#2a3f5f"
          },
          "geo": {
           "bgcolor": "white",
           "lakecolor": "white",
           "landcolor": "#E5ECF6",
           "showlakes": true,
           "showland": true,
           "subunitcolor": "white"
          },
          "hoverlabel": {
           "align": "left"
          },
          "hovermode": "closest",
          "mapbox": {
           "style": "light"
          },
          "paper_bgcolor": "white",
          "plot_bgcolor": "#E5ECF6",
          "polar": {
           "angularaxis": {
            "gridcolor": "white",
            "linecolor": "white",
            "ticks": ""
           },
           "bgcolor": "#E5ECF6",
           "radialaxis": {
            "gridcolor": "white",
            "linecolor": "white",
            "ticks": ""
           }
          },
          "scene": {
           "xaxis": {
            "backgroundcolor": "#E5ECF6",
            "gridcolor": "white",
            "gridwidth": 2,
            "linecolor": "white",
            "showbackground": true,
            "ticks": "",
            "zerolinecolor": "white"
           },
           "yaxis": {
            "backgroundcolor": "#E5ECF6",
            "gridcolor": "white",
            "gridwidth": 2,
            "linecolor": "white",
            "showbackground": true,
            "ticks": "",
            "zerolinecolor": "white"
           },
           "zaxis": {
            "backgroundcolor": "#E5ECF6",
            "gridcolor": "white",
            "gridwidth": 2,
            "linecolor": "white",
            "showbackground": true,
            "ticks": "",
            "zerolinecolor": "white"
           }
          },
          "shapedefaults": {
           "line": {
            "color": "#2a3f5f"
           }
          },
          "ternary": {
           "aaxis": {
            "gridcolor": "white",
            "linecolor": "white",
            "ticks": ""
           },
           "baxis": {
            "gridcolor": "white",
            "linecolor": "white",
            "ticks": ""
           },
           "bgcolor": "#E5ECF6",
           "caxis": {
            "gridcolor": "white",
            "linecolor": "white",
            "ticks": ""
           }
          },
          "title": {
           "x": 0.05
          },
          "xaxis": {
           "automargin": true,
           "gridcolor": "white",
           "linecolor": "white",
           "ticks": "",
           "title": {
            "standoff": 15
           },
           "zerolinecolor": "white",
           "zerolinewidth": 2
          },
          "yaxis": {
           "automargin": true,
           "gridcolor": "white",
           "linecolor": "white",
           "ticks": "",
           "title": {
            "standoff": 15
           },
           "zerolinecolor": "white",
           "zerolinewidth": 2
          }
         }
        },
        "title": {
         "text": "Training and val F1-score across epochs"
        },
        "xaxis": {
         "title": {
          "text": "epochs"
         }
        },
        "yaxis": {
         "title": {
          "text": "F1-score"
         }
        }
       }
      }
     },
     "metadata": {},
     "output_type": "display_data"
    }
   ],
   "source": [
    "fig = go.Figure(data=[\n",
    "                      go.Scatter(\n",
    "                          y=history.history[\"f1_score\"],\n",
    "                          name=\"Training f1-score\",\n",
    "                          mode=\"lines\",\n",
    "                      ),\n",
    "                      go.Scatter(\n",
    "                          y=history.history[\"val_f1_score\"],\n",
    "                          name=\"Validation f1-score\",\n",
    "                          mode=\"lines\",\n",
    "                      )\n",
    "])\n",
    "fig.update_layout(\n",
    "    title='Training and val F1-score across epochs',\n",
    "    xaxis_title='epochs',\n",
    "    yaxis_title='F1-score'    \n",
    ")\n",
    "fig.show()"
   ]
  },
  {
   "cell_type": "code",
   "execution_count": 206,
   "metadata": {},
   "outputs": [
    {
     "name": "stdout",
     "output_type": "stream",
     "text": [
      "53/53 [==============================] - 0s 8ms/step\n"
     ]
    },
    {
     "data": {
      "image/png": "[encoded data removed]",
      "text/plain": [
       "<Figure size 640x480 with 2 Axes>"
      ]
     },
     "metadata": {},
     "output_type": "display_data"
    }
   ],
   "source": [
    "y_pred=model.predict(X_val)\n",
    "con_mat = tf.math.confusion_matrix(labels=Y_val, predictions=y_pred).numpy()\n",
    "\n",
    "# con_mat_norm = np.around(con_mat.astype('float') / con_mat.sum(axis=1)[:, np.newaxis], decimals=2)\n",
    "con_mat_df = pd.DataFrame(con_mat,\n",
    "                     index = [\"Ham\", \"Spam\"], \n",
    "                     columns = [\"Ham\", \"Spam\"])\n",
    "\n",
    "# figure = plt.figure(figsize=(8, 8))\n",
    "sns.heatmap(con_mat_df, annot=True,cmap=plt.cm.Blues, fmt=\".0f\")\n",
    "plt.tight_layout()\n",
    "plt.ylabel('True label')\n",
    "plt.xlabel('Predicted label')\n",
    "plt.show()"
   ]
  }
 ],
 "metadata": {
  "kernelspec": {
   "display_name": "base",
   "language": "python",
   "name": "python3"
  },
  "language_info": {
   "codemirror_mode": {
    "name": "ipython",
    "version": 3
   },
   "file_extension": ".py",
   "mimetype": "text/x-python",
   "name": "python",
   "nbconvert_exporter": "python",
   "pygments_lexer": "ipython3",
   "version": "3.11.4"
  }
 },
 "nbformat": 4,
 "nbformat_minor": 2
}
