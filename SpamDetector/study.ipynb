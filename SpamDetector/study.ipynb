{
 "cells": [
  {
   "cell_type": "markdown",
   "metadata": {},
   "source": [
    "# Detecteur de SPAM\n",
    "\n",
    "\n",
    "## EDA"
   ]
  },
  {
   "cell_type": "code",
   "execution_count": 1,
   "metadata": {},
   "outputs": [],
   "source": [
    "import tensorflow as tf\n",
    "import pandas as pd\n",
    "import numpy as np\n",
    "import seaborn as sns\n",
    "import matplotlib.pyplot as plt\n",
    "from plotly import graph_objects as go\n",
    "\n",
    "\n",
    "from sklearn.model_selection import train_test_split\n",
    "\n",
    "import spacy\n",
    "import en_core_web_sm\n",
    "from spacy.lang.en.stop_words import STOP_WORDS\n",
    "import re\n"
   ]
  },
  {
   "cell_type": "code",
   "execution_count": 2,
   "metadata": {},
   "outputs": [
    {
     "data": {
      "text/html": [
       "<div>\n",
       "<style scoped>\n",
       "    .dataframe tbody tr th:only-of-type {\n",
       "        vertical-align: middle;\n",
       "    }\n",
       "\n",
       "    .dataframe tbody tr th {\n",
       "        vertical-align: top;\n",
       "    }\n",
       "\n",
       "    .dataframe thead th {\n",
       "        text-align: right;\n",
       "    }\n",
       "</style>\n",
       "<table border=\"1\" class=\"dataframe\">\n",
       "  <thead>\n",
       "    <tr style=\"text-align: right;\">\n",
       "      <th></th>\n",
       "      <th>v1</th>\n",
       "      <th>v2</th>\n",
       "      <th>Unnamed: 2</th>\n",
       "      <th>Unnamed: 3</th>\n",
       "      <th>Unnamed: 4</th>\n",
       "    </tr>\n",
       "  </thead>\n",
       "  <tbody>\n",
       "    <tr>\n",
       "      <th>0</th>\n",
       "      <td>ham</td>\n",
       "      <td>Go until jurong point, crazy.. Available only ...</td>\n",
       "      <td>NaN</td>\n",
       "      <td>NaN</td>\n",
       "      <td>NaN</td>\n",
       "    </tr>\n",
       "    <tr>\n",
       "      <th>1</th>\n",
       "      <td>ham</td>\n",
       "      <td>Ok lar... Joking wif u oni...</td>\n",
       "      <td>NaN</td>\n",
       "      <td>NaN</td>\n",
       "      <td>NaN</td>\n",
       "    </tr>\n",
       "    <tr>\n",
       "      <th>2</th>\n",
       "      <td>spam</td>\n",
       "      <td>Free entry in 2 a wkly comp to win FA Cup fina...</td>\n",
       "      <td>NaN</td>\n",
       "      <td>NaN</td>\n",
       "      <td>NaN</td>\n",
       "    </tr>\n",
       "    <tr>\n",
       "      <th>3</th>\n",
       "      <td>ham</td>\n",
       "      <td>U dun say so early hor... U c already then say...</td>\n",
       "      <td>NaN</td>\n",
       "      <td>NaN</td>\n",
       "      <td>NaN</td>\n",
       "    </tr>\n",
       "    <tr>\n",
       "      <th>4</th>\n",
       "      <td>ham</td>\n",
       "      <td>Nah I don't think he goes to usf, he lives aro...</td>\n",
       "      <td>NaN</td>\n",
       "      <td>NaN</td>\n",
       "      <td>NaN</td>\n",
       "    </tr>\n",
       "  </tbody>\n",
       "</table>\n",
       "</div>"
      ],
      "text/plain": [
       "     v1                                                 v2 Unnamed: 2  \\\n",
       "0   ham  Go until jurong point, crazy.. Available only ...        NaN   \n",
       "1   ham                      Ok lar... Joking wif u oni...        NaN   \n",
       "2  spam  Free entry in 2 a wkly comp to win FA Cup fina...        NaN   \n",
       "3   ham  U dun say so early hor... U c already then say...        NaN   \n",
       "4   ham  Nah I don't think he goes to usf, he lives aro...        NaN   \n",
       "\n",
       "  Unnamed: 3 Unnamed: 4  \n",
       "0        NaN        NaN  \n",
       "1        NaN        NaN  \n",
       "2        NaN        NaN  \n",
       "3        NaN        NaN  \n",
       "4        NaN        NaN  "
      ]
     },
     "execution_count": 2,
     "metadata": {},
     "output_type": "execute_result"
    }
   ],
   "source": [
    "df = pd.read_csv(\"src/spam.csv\", encoding=\"Windows-1252\")\n",
    "df.head()"
   ]
  },
  {
   "cell_type": "code",
   "execution_count": 3,
   "metadata": {},
   "outputs": [
    {
     "data": {
      "text/html": [
       "<div>\n",
       "<style scoped>\n",
       "    .dataframe tbody tr th:only-of-type {\n",
       "        vertical-align: middle;\n",
       "    }\n",
       "\n",
       "    .dataframe tbody tr th {\n",
       "        vertical-align: top;\n",
       "    }\n",
       "\n",
       "    .dataframe thead th {\n",
       "        text-align: right;\n",
       "    }\n",
       "</style>\n",
       "<table border=\"1\" class=\"dataframe\">\n",
       "  <thead>\n",
       "    <tr style=\"text-align: right;\">\n",
       "      <th></th>\n",
       "      <th>v1</th>\n",
       "      <th>v2</th>\n",
       "      <th>Unnamed: 2</th>\n",
       "      <th>Unnamed: 3</th>\n",
       "      <th>Unnamed: 4</th>\n",
       "    </tr>\n",
       "  </thead>\n",
       "  <tbody>\n",
       "    <tr>\n",
       "      <th>count</th>\n",
       "      <td>5572</td>\n",
       "      <td>5572</td>\n",
       "      <td>50</td>\n",
       "      <td>12</td>\n",
       "      <td>6</td>\n",
       "    </tr>\n",
       "    <tr>\n",
       "      <th>unique</th>\n",
       "      <td>2</td>\n",
       "      <td>5169</td>\n",
       "      <td>43</td>\n",
       "      <td>10</td>\n",
       "      <td>5</td>\n",
       "    </tr>\n",
       "    <tr>\n",
       "      <th>top</th>\n",
       "      <td>ham</td>\n",
       "      <td>Sorry, I'll call later</td>\n",
       "      <td>bt not his girlfrnd... G o o d n i g h t . . .@\"</td>\n",
       "      <td>MK17 92H. 450Ppw 16\"</td>\n",
       "      <td>GNT:-)\"</td>\n",
       "    </tr>\n",
       "    <tr>\n",
       "      <th>freq</th>\n",
       "      <td>4825</td>\n",
       "      <td>30</td>\n",
       "      <td>3</td>\n",
       "      <td>2</td>\n",
       "      <td>2</td>\n",
       "    </tr>\n",
       "  </tbody>\n",
       "</table>\n",
       "</div>"
      ],
      "text/plain": [
       "          v1                      v2  \\\n",
       "count   5572                    5572   \n",
       "unique     2                    5169   \n",
       "top      ham  Sorry, I'll call later   \n",
       "freq    4825                      30   \n",
       "\n",
       "                                               Unnamed: 2  \\\n",
       "count                                                  50   \n",
       "unique                                                 43   \n",
       "top      bt not his girlfrnd... G o o d n i g h t . . .@\"   \n",
       "freq                                                    3   \n",
       "\n",
       "                   Unnamed: 3 Unnamed: 4  \n",
       "count                      12          6  \n",
       "unique                     10          5  \n",
       "top      MK17 92H. 450Ppw 16\"    GNT:-)\"  \n",
       "freq                        2          2  "
      ]
     },
     "execution_count": 3,
     "metadata": {},
     "output_type": "execute_result"
    }
   ],
   "source": [
    "df.describe(include=\"all\")"
   ]
  },
  {
   "cell_type": "code",
   "execution_count": 4,
   "metadata": {},
   "outputs": [
    {
     "data": {
      "text/html": [
       "<div>\n",
       "<style scoped>\n",
       "    .dataframe tbody tr th:only-of-type {\n",
       "        vertical-align: middle;\n",
       "    }\n",
       "\n",
       "    .dataframe tbody tr th {\n",
       "        vertical-align: top;\n",
       "    }\n",
       "\n",
       "    .dataframe thead th {\n",
       "        text-align: right;\n",
       "    }\n",
       "</style>\n",
       "<table border=\"1\" class=\"dataframe\">\n",
       "  <thead>\n",
       "    <tr style=\"text-align: right;\">\n",
       "      <th></th>\n",
       "      <th>category</th>\n",
       "      <th>text</th>\n",
       "    </tr>\n",
       "  </thead>\n",
       "  <tbody>\n",
       "    <tr>\n",
       "      <th>0</th>\n",
       "      <td>ham</td>\n",
       "      <td>Go until jurong point, crazy.. Available only ...</td>\n",
       "    </tr>\n",
       "    <tr>\n",
       "      <th>1</th>\n",
       "      <td>ham</td>\n",
       "      <td>Ok lar... Joking wif u oni...</td>\n",
       "    </tr>\n",
       "    <tr>\n",
       "      <th>2</th>\n",
       "      <td>spam</td>\n",
       "      <td>Free entry in 2 a wkly comp to win FA Cup fina...</td>\n",
       "    </tr>\n",
       "    <tr>\n",
       "      <th>3</th>\n",
       "      <td>ham</td>\n",
       "      <td>U dun say so early hor... U c already then say...</td>\n",
       "    </tr>\n",
       "    <tr>\n",
       "      <th>4</th>\n",
       "      <td>ham</td>\n",
       "      <td>Nah I don't think he goes to usf, he lives aro...</td>\n",
       "    </tr>\n",
       "  </tbody>\n",
       "</table>\n",
       "</div>"
      ],
      "text/plain": [
       "  category                                               text\n",
       "0      ham  Go until jurong point, crazy.. Available only ...\n",
       "1      ham                      Ok lar... Joking wif u oni...\n",
       "2     spam  Free entry in 2 a wkly comp to win FA Cup fina...\n",
       "3      ham  U dun say so early hor... U c already then say...\n",
       "4      ham  Nah I don't think he goes to usf, he lives aro..."
      ]
     },
     "execution_count": 4,
     "metadata": {},
     "output_type": "execute_result"
    }
   ],
   "source": [
    "def join_text(texts):\n",
    "    result = \"\"\n",
    "    for text in texts:\n",
    "        if(str(text).lower() != \"nan\"):\n",
    "            result = \", \".join([result, str(text)])\n",
    "    \n",
    "    return result[2:]\n",
    "\n",
    "cols = ['v2', 'Unnamed: 2', 'Unnamed: 3', 'Unnamed: 4']\n",
    "df['text'] = df[cols].apply(lambda row: join_text(row), axis=1)\n",
    "df = df.drop(cols, axis=1).rename(columns={\"v1\": \"category\"})\n",
    "df.head()"
   ]
  },
  {
   "cell_type": "code",
   "execution_count": 5,
   "metadata": {},
   "outputs": [
    {
     "data": {
      "image/png": "[encoded data removed]",
      "text/plain": [
       "<Figure size 640x480 with 1 Axes>"
      ]
     },
     "metadata": {},
     "output_type": "display_data"
    }
   ],
   "source": [
    "def format_value(x):\n",
    "    return '{:.1f}%\\n({:.0f})'.format(x, len(df)*x/100)\n",
    "\n",
    "plt.pie(df.category.value_counts(), labels=df.category.value_counts().index, autopct=format_value)\n",
    "plt.figlegend(df.category.value_counts().index)\n",
    "plt.title(\"% Spam dans le dataset\")\n",
    "plt.text(-0.2, 1.1, f\"sur {len(df)} SMS\")\n",
    "plt.show()"
   ]
  },
  {
   "cell_type": "markdown",
   "metadata": {},
   "source": [
    "## Preprocessing\n",
    "\n",
    "Pour le prepocessing, on a de meilleurs résultats sans lematizer et sans enlever les stop words. On garde aussi cependant la ponctuation car elle peut être utile pour détecter les spams."
   ]
  },
  {
   "cell_type": "code",
   "execution_count": 6,
   "metadata": {},
   "outputs": [],
   "source": [
    "nlp = en_core_web_sm.load()"
   ]
  },
  {
   "cell_type": "code",
   "execution_count": 7,
   "metadata": {},
   "outputs": [],
   "source": [
    "def cleanText(text):\n",
    "    text = re.sub(' +', ' ', text).lower().strip()\n",
    "    doc = nlp(text)\n",
    "    #cleantext = \" \".join([token.lemma_ for token in doc if (token.text not in STOP_WORDS) or (token.lemma_ not in STOP_WORDS)])\n",
    "    #cleantext = \" \".join([token.lemma_ for token in doc])\n",
    "    cleantext = \" \".join([token.lower_ for token in doc])\n",
    "    return cleantext"
   ]
  },
  {
   "cell_type": "code",
   "execution_count": 8,
   "metadata": {},
   "outputs": [
    {
     "data": {
      "text/html": [
       "<div>\n",
       "<style scoped>\n",
       "    .dataframe tbody tr th:only-of-type {\n",
       "        vertical-align: middle;\n",
       "    }\n",
       "\n",
       "    .dataframe tbody tr th {\n",
       "        vertical-align: top;\n",
       "    }\n",
       "\n",
       "    .dataframe thead th {\n",
       "        text-align: right;\n",
       "    }\n",
       "</style>\n",
       "<table border=\"1\" class=\"dataframe\">\n",
       "  <thead>\n",
       "    <tr style=\"text-align: right;\">\n",
       "      <th></th>\n",
       "      <th>category</th>\n",
       "      <th>text</th>\n",
       "      <th>clean_text</th>\n",
       "    </tr>\n",
       "  </thead>\n",
       "  <tbody>\n",
       "    <tr>\n",
       "      <th>0</th>\n",
       "      <td>ham</td>\n",
       "      <td>Go until jurong point, crazy.. Available only ...</td>\n",
       "      <td>go until jurong point , crazy .. available onl...</td>\n",
       "    </tr>\n",
       "    <tr>\n",
       "      <th>1</th>\n",
       "      <td>ham</td>\n",
       "      <td>Ok lar... Joking wif u oni...</td>\n",
       "      <td>ok lar ... joking wif u oni ...</td>\n",
       "    </tr>\n",
       "    <tr>\n",
       "      <th>2</th>\n",
       "      <td>spam</td>\n",
       "      <td>Free entry in 2 a wkly comp to win FA Cup fina...</td>\n",
       "      <td>free entry in 2 a wkly comp to win fa cup fina...</td>\n",
       "    </tr>\n",
       "    <tr>\n",
       "      <th>3</th>\n",
       "      <td>ham</td>\n",
       "      <td>U dun say so early hor... U c already then say...</td>\n",
       "      <td>u dun say so early hor ... u c already then sa...</td>\n",
       "    </tr>\n",
       "    <tr>\n",
       "      <th>4</th>\n",
       "      <td>ham</td>\n",
       "      <td>Nah I don't think he goes to usf, he lives aro...</td>\n",
       "      <td>nah i do n't think he goes to usf , he lives a...</td>\n",
       "    </tr>\n",
       "  </tbody>\n",
       "</table>\n",
       "</div>"
      ],
      "text/plain": [
       "  category                                               text  \\\n",
       "0      ham  Go until jurong point, crazy.. Available only ...   \n",
       "1      ham                      Ok lar... Joking wif u oni...   \n",
       "2     spam  Free entry in 2 a wkly comp to win FA Cup fina...   \n",
       "3      ham  U dun say so early hor... U c already then say...   \n",
       "4      ham  Nah I don't think he goes to usf, he lives aro...   \n",
       "\n",
       "                                          clean_text  \n",
       "0  go until jurong point , crazy .. available onl...  \n",
       "1                    ok lar ... joking wif u oni ...  \n",
       "2  free entry in 2 a wkly comp to win fa cup fina...  \n",
       "3  u dun say so early hor ... u c already then sa...  \n",
       "4  nah i do n't think he goes to usf , he lives a...  "
      ]
     },
     "execution_count": 8,
     "metadata": {},
     "output_type": "execute_result"
    }
   ],
   "source": [
    "df[\"clean_text\"] = df[\"text\"].apply(cleanText)\n",
    "df.head()"
   ]
  },
  {
   "cell_type": "code",
   "execution_count": 9,
   "metadata": {},
   "outputs": [
    {
     "data": {
      "text/html": [
       "<div>\n",
       "<style scoped>\n",
       "    .dataframe tbody tr th:only-of-type {\n",
       "        vertical-align: middle;\n",
       "    }\n",
       "\n",
       "    .dataframe tbody tr th {\n",
       "        vertical-align: top;\n",
       "    }\n",
       "\n",
       "    .dataframe thead th {\n",
       "        text-align: right;\n",
       "    }\n",
       "</style>\n",
       "<table border=\"1\" class=\"dataframe\">\n",
       "  <thead>\n",
       "    <tr style=\"text-align: right;\">\n",
       "      <th></th>\n",
       "      <th>category</th>\n",
       "      <th>text</th>\n",
       "      <th>clean_text</th>\n",
       "      <th>text_encoded</th>\n",
       "      <th>len_text</th>\n",
       "    </tr>\n",
       "  </thead>\n",
       "  <tbody>\n",
       "    <tr>\n",
       "      <th>0</th>\n",
       "      <td>ham</td>\n",
       "      <td>Go until jurong point, crazy.. Available only ...</td>\n",
       "      <td>go until jurong point , crazy .. available onl...</td>\n",
       "      <td>[63, 474, 827, 5, 781, 19, 678, 81, 14, 105, 1...</td>\n",
       "      <td>18</td>\n",
       "    </tr>\n",
       "    <tr>\n",
       "      <th>1</th>\n",
       "      <td>ham</td>\n",
       "      <td>Ok lar... Joking wif u oni...</td>\n",
       "      <td>ok lar ... joking wif u oni ...</td>\n",
       "      <td>[61, 340, 10, 475, 11, 10]</td>\n",
       "      <td>6</td>\n",
       "    </tr>\n",
       "    <tr>\n",
       "      <th>2</th>\n",
       "      <td>spam</td>\n",
       "      <td>Free entry in 2 a wkly comp to win FA Cup fina...</td>\n",
       "      <td>free entry in 2 a wkly comp to win fa cup fina...</td>\n",
       "      <td>[62, 492, 14, 30, 7, 782, 930, 3, 203, 649, 27...</td>\n",
       "      <td>21</td>\n",
       "    </tr>\n",
       "    <tr>\n",
       "      <th>3</th>\n",
       "      <td>ham</td>\n",
       "      <td>U dun say so early hor... U c already then say...</td>\n",
       "      <td>u dun say so early hor ... u c already then sa...</td>\n",
       "      <td>[11, 260, 163, 32, 389, 10, 11, 178, 166, 72, ...</td>\n",
       "      <td>12</td>\n",
       "    </tr>\n",
       "    <tr>\n",
       "      <th>4</th>\n",
       "      <td>ham</td>\n",
       "      <td>Nah I don't think he goes to usf, he lives aro...</td>\n",
       "      <td>nah i do n't think he goes to usf , he lives a...</td>\n",
       "      <td>[988, 2, 20, 48, 118, 78, 493, 3, 989, 5, 78, ...</td>\n",
       "      <td>14</td>\n",
       "    </tr>\n",
       "  </tbody>\n",
       "</table>\n",
       "</div>"
      ],
      "text/plain": [
       "  category                                               text  \\\n",
       "0      ham  Go until jurong point, crazy.. Available only ...   \n",
       "1      ham                      Ok lar... Joking wif u oni...   \n",
       "2     spam  Free entry in 2 a wkly comp to win FA Cup fina...   \n",
       "3      ham  U dun say so early hor... U c already then say...   \n",
       "4      ham  Nah I don't think he goes to usf, he lives aro...   \n",
       "\n",
       "                                          clean_text  \\\n",
       "0  go until jurong point , crazy .. available onl...   \n",
       "1                    ok lar ... joking wif u oni ...   \n",
       "2  free entry in 2 a wkly comp to win fa cup fina...   \n",
       "3  u dun say so early hor ... u c already then sa...   \n",
       "4  nah i do n't think he goes to usf , he lives a...   \n",
       "\n",
       "                                        text_encoded  len_text  \n",
       "0  [63, 474, 827, 5, 781, 19, 678, 81, 14, 105, 1...        18  \n",
       "1                         [61, 340, 10, 475, 11, 10]         6  \n",
       "2  [62, 492, 14, 30, 7, 782, 930, 3, 203, 649, 27...        21  \n",
       "3  [11, 260, 163, 32, 389, 10, 11, 178, 166, 72, ...        12  \n",
       "4  [988, 2, 20, 48, 118, 78, 493, 3, 989, 5, 78, ...        14  "
      ]
     },
     "execution_count": 9,
     "metadata": {},
     "output_type": "execute_result"
    }
   ],
   "source": [
    "tokenizer = tf.keras.preprocessing.text.Tokenizer(1000, filters=\"\")\n",
    "tokenizer.fit_on_texts(df[\"clean_text\"])\n",
    "df[\"text_encoded\"] = tokenizer.texts_to_sequences(df[\"clean_text\"])\n",
    "df[\"len_text\"] = df[\"text_encoded\"].apply(lambda x: len(x))\n",
    "df = df[df[\"len_text\"] != 0]\n",
    "df.head()"
   ]
  },
  {
   "cell_type": "code",
   "execution_count": 10,
   "metadata": {},
   "outputs": [
    {
     "data": {
      "text/html": [
       "<div>\n",
       "<style scoped>\n",
       "    .dataframe tbody tr th:only-of-type {\n",
       "        vertical-align: middle;\n",
       "    }\n",
       "\n",
       "    .dataframe tbody tr th {\n",
       "        vertical-align: top;\n",
       "    }\n",
       "\n",
       "    .dataframe thead th {\n",
       "        text-align: right;\n",
       "    }\n",
       "</style>\n",
       "<table border=\"1\" class=\"dataframe\">\n",
       "  <thead>\n",
       "    <tr style=\"text-align: right;\">\n",
       "      <th></th>\n",
       "      <th>category</th>\n",
       "      <th>text</th>\n",
       "      <th>clean_text</th>\n",
       "      <th>text_encoded</th>\n",
       "      <th>len_text</th>\n",
       "      <th>category_bool</th>\n",
       "    </tr>\n",
       "  </thead>\n",
       "  <tbody>\n",
       "    <tr>\n",
       "      <th>0</th>\n",
       "      <td>ham</td>\n",
       "      <td>Go until jurong point, crazy.. Available only ...</td>\n",
       "      <td>go until jurong point , crazy .. available onl...</td>\n",
       "      <td>[63, 474, 827, 5, 781, 19, 678, 81, 14, 105, 1...</td>\n",
       "      <td>18</td>\n",
       "      <td>0.0</td>\n",
       "    </tr>\n",
       "    <tr>\n",
       "      <th>1</th>\n",
       "      <td>ham</td>\n",
       "      <td>Ok lar... Joking wif u oni...</td>\n",
       "      <td>ok lar ... joking wif u oni ...</td>\n",
       "      <td>[61, 340, 10, 475, 11, 10]</td>\n",
       "      <td>6</td>\n",
       "      <td>0.0</td>\n",
       "    </tr>\n",
       "    <tr>\n",
       "      <th>2</th>\n",
       "      <td>spam</td>\n",
       "      <td>Free entry in 2 a wkly comp to win FA Cup fina...</td>\n",
       "      <td>free entry in 2 a wkly comp to win fa cup fina...</td>\n",
       "      <td>[62, 492, 14, 30, 7, 782, 930, 3, 203, 649, 27...</td>\n",
       "      <td>21</td>\n",
       "      <td>1.0</td>\n",
       "    </tr>\n",
       "    <tr>\n",
       "      <th>3</th>\n",
       "      <td>ham</td>\n",
       "      <td>U dun say so early hor... U c already then say...</td>\n",
       "      <td>u dun say so early hor ... u c already then sa...</td>\n",
       "      <td>[11, 260, 163, 32, 389, 10, 11, 178, 166, 72, ...</td>\n",
       "      <td>12</td>\n",
       "      <td>0.0</td>\n",
       "    </tr>\n",
       "    <tr>\n",
       "      <th>4</th>\n",
       "      <td>ham</td>\n",
       "      <td>Nah I don't think he goes to usf, he lives aro...</td>\n",
       "      <td>nah i do n't think he goes to usf , he lives a...</td>\n",
       "      <td>[988, 2, 20, 48, 118, 78, 493, 3, 989, 5, 78, ...</td>\n",
       "      <td>14</td>\n",
       "      <td>0.0</td>\n",
       "    </tr>\n",
       "  </tbody>\n",
       "</table>\n",
       "</div>"
      ],
      "text/plain": [
       "  category                                               text  \\\n",
       "0      ham  Go until jurong point, crazy.. Available only ...   \n",
       "1      ham                      Ok lar... Joking wif u oni...   \n",
       "2     spam  Free entry in 2 a wkly comp to win FA Cup fina...   \n",
       "3      ham  U dun say so early hor... U c already then say...   \n",
       "4      ham  Nah I don't think he goes to usf, he lives aro...   \n",
       "\n",
       "                                          clean_text  \\\n",
       "0  go until jurong point , crazy .. available onl...   \n",
       "1                    ok lar ... joking wif u oni ...   \n",
       "2  free entry in 2 a wkly comp to win fa cup fina...   \n",
       "3  u dun say so early hor ... u c already then sa...   \n",
       "4  nah i do n't think he goes to usf , he lives a...   \n",
       "\n",
       "                                        text_encoded  len_text  category_bool  \n",
       "0  [63, 474, 827, 5, 781, 19, 678, 81, 14, 105, 1...        18            0.0  \n",
       "1                         [61, 340, 10, 475, 11, 10]         6            0.0  \n",
       "2  [62, 492, 14, 30, 7, 782, 930, 3, 203, 649, 27...        21            1.0  \n",
       "3  [11, 260, 163, 32, 389, 10, 11, 178, 166, 72, ...        12            0.0  \n",
       "4  [988, 2, 20, 48, 118, 78, 493, 3, 989, 5, 78, ...        14            0.0  "
      ]
     },
     "execution_count": 10,
     "metadata": {},
     "output_type": "execute_result"
    }
   ],
   "source": [
    "df[\"category_bool\"] = df[\"category\"].apply(lambda x: 1.0 if x == \"spam\" else 0.0)\n",
    "df.head()"
   ]
  },
  {
   "cell_type": "code",
   "execution_count": 11,
   "metadata": {},
   "outputs": [],
   "source": [
    "# Pad sequences to have the same length\n",
    "text_pad = tf.keras.preprocessing.sequence.pad_sequences(df.text_encoded, padding=\"post\")\n",
    "\n",
    "# Train Test Split\n",
    "X_train, X_val, Y_train, Y_val = train_test_split(text_pad, df.category_bool, test_size=0.3, stratify=df.category_bool, random_state=0)\n",
    "\n",
    "train = tf.data.Dataset.from_tensor_slices((X_train, Y_train))\n",
    "val = tf.data.Dataset.from_tensor_slices((X_val, Y_val))\n",
    "\n",
    "train_batch = train.shuffle(len(train)).batch(128)\n",
    "val_batch = val.shuffle(len(val)).batch(128)"
   ]
  },
  {
   "cell_type": "markdown",
   "metadata": {},
   "source": [
    "## Modèle"
   ]
  },
  {
   "cell_type": "code",
   "execution_count": 12,
   "metadata": {},
   "outputs": [
    {
     "name": "stdout",
     "output_type": "stream",
     "text": [
      "Model: \"sequential\"\n",
      "_________________________________________________________________\n",
      " Layer (type)                Output Shape              Param #   \n",
      "=================================================================\n",
      " embedding (Embedding)       (None, 179, 32)           309376    \n",
      "                                                                 \n",
      " flatten (Flatten)           (None, 5728)              0         \n",
      "                                                                 \n",
      " dense (Dense)               (None, 1024)              5866496   \n",
      "                                                                 \n",
      " dense_1 (Dense)             (None, 512)               524800    \n",
      "                                                                 \n",
      " dense_2 (Dense)             (None, 256)               131328    \n",
      "                                                                 \n",
      " dropout (Dropout)           (None, 256)               0         \n",
      "                                                                 \n",
      " dense_3 (Dense)             (None, 64)                16448     \n",
      "                                                                 \n",
      " dense_4 (Dense)             (None, 1)                 65        \n",
      "                                                                 \n",
      "=================================================================\n",
      "Total params: 6848513 (26.13 MB)\n",
      "Trainable params: 6848513 (26.13 MB)\n",
      "Non-trainable params: 0 (0.00 Byte)\n",
      "_________________________________________________________________\n"
     ]
    }
   ],
   "source": [
    "vocab_size = len(tokenizer.word_index)\n",
    "embedding_dim=32\n",
    "\n",
    "model = tf.keras.models.Sequential([\n",
    "  tf.keras.layers.Embedding(vocab_size + 1, embedding_dim, name=\"embedding\", input_length=df[\"len_text\"].max()),\n",
    "  tf.keras.layers.Flatten(),\n",
    "  tf.keras.layers.Dense(1024, activation='relu'),\n",
    "  tf.keras.layers.Dense(512, activation='relu'),\n",
    "  tf.keras.layers.Dense(256, activation='relu'),\n",
    "  tf.keras.layers.Dropout(rate=0.2),\n",
    "  tf.keras.layers.Dense(64, activation='relu'),\n",
    "  tf.keras.layers.Dense(1, activation=\"sigmoid\")\n",
    "])\n",
    "\n",
    "model.summary()"
   ]
  },
  {
   "cell_type": "markdown",
   "metadata": {},
   "source": [
    "Pour les métriques, on prendra :\n",
    "\n",
    "- la precision : on ne veut pas qualifier comme SPAM un message qui ne l'est pas\n",
    "- le recall : on souhaite trouver un maximum de SPAM possible\n",
    "- le F1-score : qui est une subtile combinaison entre la precision et le rappel (le nb de spam détecter sur le nb total de spam) mais qui ne compte pas les vrai négatifs. Comme nos classes sont déséquilibrer, il est très intéressant."
   ]
  },
  {
   "cell_type": "code",
   "execution_count": 13,
   "metadata": {},
   "outputs": [],
   "source": [
    "model.compile(optimizer='adam',\n",
    "              loss=tf.keras.losses.BinaryCrossentropy(),\n",
    "              metrics=[\n",
    "                  tf.keras.metrics.F1Score(average=\"weighted\", name=\"f1_score\"), \n",
    "                  tf.keras.metrics.Precision(name=\"precision\"),\n",
    "                  tf.keras.metrics.Recall(name=\"recall\")])"
   ]
  },
  {
   "cell_type": "markdown",
   "metadata": {},
   "source": [
    "## Train"
   ]
  },
  {
   "cell_type": "code",
   "execution_count": 14,
   "metadata": {},
   "outputs": [
    {
     "name": "stdout",
     "output_type": "stream",
     "text": [
      "Epoch 1/200\n",
      "31/31 [==============================] - 3s 54ms/step - loss: 0.3347 - f1_score: 0.2365 - precision: 0.5000 - recall: 0.0326 - val_loss: 0.1938 - val_f1_score: 0.2359 - val_precision: 1.0000 - val_recall: 0.5605\n",
      "Epoch 2/200\n",
      "31/31 [==============================] - 1s 46ms/step - loss: 0.1027 - f1_score: 0.2365 - precision: 0.9350 - recall: 0.8544 - val_loss: 0.0639 - val_f1_score: 0.2359 - val_precision: 0.9851 - val_recall: 0.8924\n",
      "Epoch 3/200\n",
      "31/31 [==============================] - 1s 47ms/step - loss: 0.0368 - f1_score: 0.2365 - precision: 0.9819 - recall: 0.9349 - val_loss: 0.0629 - val_f1_score: 0.2359 - val_precision: 0.9853 - val_recall: 0.9013\n",
      "Epoch 4/200\n",
      "31/31 [==============================] - 1s 47ms/step - loss: 0.0165 - f1_score: 0.2365 - precision: 0.9845 - recall: 0.9751 - val_loss: 0.0722 - val_f1_score: 0.2359 - val_precision: 0.9950 - val_recall: 0.8969\n",
      "Epoch 5/200\n",
      "31/31 [==============================] - 1s 46ms/step - loss: 0.0054 - f1_score: 0.2386 - precision: 0.9981 - recall: 0.9904 - val_loss: 0.0791 - val_f1_score: 0.2385 - val_precision: 0.9762 - val_recall: 0.9193\n",
      "Epoch 6/200\n",
      "31/31 [==============================] - 1s 47ms/step - loss: 0.0023 - f1_score: 0.2423 - precision: 0.9981 - recall: 1.0000 - val_loss: 0.0782 - val_f1_score: 0.2410 - val_precision: 0.9626 - val_recall: 0.9238\n",
      "Epoch 7/200\n",
      "31/31 [==============================] - 1s 47ms/step - loss: 0.0022 - f1_score: 0.2495 - precision: 0.9943 - recall: 0.9962 - val_loss: 0.0926 - val_f1_score: 0.2510 - val_precision: 0.9855 - val_recall: 0.9148\n",
      "Epoch 8/200\n",
      "31/31 [==============================] - 1s 47ms/step - loss: 9.0770e-04 - f1_score: 0.2575 - precision: 0.9981 - recall: 0.9981 - val_loss: 0.1027 - val_f1_score: 0.2625 - val_precision: 0.9902 - val_recall: 0.9058\n",
      "Epoch 9/200\n",
      "31/31 [==============================] - 1s 48ms/step - loss: 2.2010e-04 - f1_score: 0.2768 - precision: 1.0000 - recall: 1.0000 - val_loss: 0.1169 - val_f1_score: 0.2788 - val_precision: 0.9902 - val_recall: 0.9058\n",
      "Epoch 10/200\n",
      "31/31 [==============================] - 1s 48ms/step - loss: 4.1927e-05 - f1_score: 0.2974 - precision: 1.0000 - recall: 1.0000 - val_loss: 0.1275 - val_f1_score: 0.3020 - val_precision: 0.9903 - val_recall: 0.9148\n",
      "Epoch 11/200\n",
      "31/31 [==============================] - 1s 48ms/step - loss: 1.5109e-05 - f1_score: 0.3220 - precision: 1.0000 - recall: 1.0000 - val_loss: 0.1382 - val_f1_score: 0.3265 - val_precision: 0.9903 - val_recall: 0.9148\n",
      "Epoch 12/200\n",
      "31/31 [==============================] - 2s 49ms/step - loss: 7.6624e-06 - f1_score: 0.3462 - precision: 1.0000 - recall: 1.0000 - val_loss: 0.1449 - val_f1_score: 0.3464 - val_precision: 0.9903 - val_recall: 0.9148\n",
      "Epoch 13/200\n",
      "31/31 [==============================] - 2s 50ms/step - loss: 8.7189e-06 - f1_score: 0.3619 - precision: 1.0000 - recall: 1.0000 - val_loss: 0.1523 - val_f1_score: 0.3635 - val_precision: 0.9902 - val_recall: 0.9103\n",
      "Epoch 14/200\n",
      "31/31 [==============================] - 2s 51ms/step - loss: 5.2304e-06 - f1_score: 0.3858 - precision: 1.0000 - recall: 1.0000 - val_loss: 0.1577 - val_f1_score: 0.3854 - val_precision: 0.9902 - val_recall: 0.9103\n",
      "Epoch 15/200\n",
      "31/31 [==============================] - 2s 50ms/step - loss: 2.4736e-06 - f1_score: 0.4061 - precision: 1.0000 - recall: 1.0000 - val_loss: 0.1631 - val_f1_score: 0.4011 - val_precision: 0.9902 - val_recall: 0.9103\n",
      "Epoch 16/200\n",
      "31/31 [==============================] - 2s 52ms/step - loss: 2.1741e-06 - f1_score: 0.4266 - precision: 1.0000 - recall: 1.0000 - val_loss: 0.1665 - val_f1_score: 0.4254 - val_precision: 0.9902 - val_recall: 0.9103\n",
      "Epoch 17/200\n",
      "31/31 [==============================] - 2s 53ms/step - loss: 1.9158e-06 - f1_score: 0.4392 - precision: 1.0000 - recall: 1.0000 - val_loss: 0.1686 - val_f1_score: 0.4387 - val_precision: 0.9902 - val_recall: 0.9103\n",
      "Epoch 18/200\n",
      "31/31 [==============================] - 2s 52ms/step - loss: 1.3726e-06 - f1_score: 0.4605 - precision: 1.0000 - recall: 1.0000 - val_loss: 0.1740 - val_f1_score: 0.4655 - val_precision: 0.9902 - val_recall: 0.9103\n",
      "Epoch 19/200\n",
      "31/31 [==============================] - 2s 53ms/step - loss: 1.2847e-06 - f1_score: 0.4936 - precision: 1.0000 - recall: 1.0000 - val_loss: 0.1764 - val_f1_score: 0.4828 - val_precision: 0.9902 - val_recall: 0.9103\n",
      "Epoch 20/200\n",
      "31/31 [==============================] - 2s 54ms/step - loss: 9.0985e-07 - f1_score: 0.4946 - precision: 1.0000 - recall: 1.0000 - val_loss: 0.1756 - val_f1_score: 0.4888 - val_precision: 0.9903 - val_recall: 0.9148\n",
      "Epoch 21/200\n",
      "31/31 [==============================] - 2s 51ms/step - loss: 9.7006e-07 - f1_score: 0.5090 - precision: 1.0000 - recall: 1.0000 - val_loss: 0.1843 - val_f1_score: 0.5266 - val_precision: 0.9902 - val_recall: 0.9103\n",
      "Epoch 22/200\n",
      "31/31 [==============================] - 2s 53ms/step - loss: 1.6065e-06 - f1_score: 0.5153 - precision: 1.0000 - recall: 1.0000 - val_loss: 0.1754 - val_f1_score: 0.5064 - val_precision: 0.9761 - val_recall: 0.9148\n",
      "Epoch 23/200\n",
      "31/31 [==============================] - 2s 51ms/step - loss: 1.0016e-06 - f1_score: 0.5070 - precision: 1.0000 - recall: 1.0000 - val_loss: 0.1814 - val_f1_score: 0.5317 - val_precision: 0.9903 - val_recall: 0.9148\n",
      "Epoch 24/200\n",
      "31/31 [==============================] - 2s 53ms/step - loss: 4.3118e-07 - f1_score: 0.5501 - precision: 1.0000 - recall: 1.0000 - val_loss: 0.1873 - val_f1_score: 0.5583 - val_precision: 0.9902 - val_recall: 0.9103\n",
      "Epoch 25/200\n",
      "31/31 [==============================] - 2s 53ms/step - loss: 5.8298e-07 - f1_score: 0.5637 - precision: 1.0000 - recall: 1.0000 - val_loss: 0.1876 - val_f1_score: 0.5619 - val_precision: 0.9903 - val_recall: 0.9148\n",
      "Epoch 26/200\n",
      "31/31 [==============================] - 2s 53ms/step - loss: 3.3485e-07 - f1_score: 0.5755 - precision: 1.0000 - recall: 1.0000 - val_loss: 0.1912 - val_f1_score: 0.5837 - val_precision: 0.9902 - val_recall: 0.9103\n",
      "Epoch 27/200\n",
      "31/31 [==============================] - 2s 54ms/step - loss: 2.5450e-07 - f1_score: 0.5949 - precision: 1.0000 - recall: 1.0000 - val_loss: 0.1938 - val_f1_score: 0.5989 - val_precision: 0.9902 - val_recall: 0.9103\n",
      "Epoch 28/200\n",
      "31/31 [==============================] - 2s 52ms/step - loss: 2.5758e-07 - f1_score: 0.6059 - precision: 1.0000 - recall: 1.0000 - val_loss: 0.1950 - val_f1_score: 0.6098 - val_precision: 0.9902 - val_recall: 0.9103\n",
      "Epoch 29/200\n",
      "31/31 [==============================] - 2s 53ms/step - loss: 5.3924e-07 - f1_score: 0.6156 - precision: 1.0000 - recall: 1.0000 - val_loss: 0.1952 - val_f1_score: 0.6176 - val_precision: 0.9902 - val_recall: 0.9103\n",
      "Epoch 30/200\n",
      "31/31 [==============================] - 2s 53ms/step - loss: 5.6509e-07 - f1_score: 0.5908 - precision: 1.0000 - recall: 1.0000 - val_loss: 0.1893 - val_f1_score: 0.5981 - val_precision: 0.9761 - val_recall: 0.9148\n",
      "Epoch 31/200\n",
      "31/31 [==============================] - 2s 53ms/step - loss: 2.8191e-07 - f1_score: 0.6052 - precision: 1.0000 - recall: 1.0000 - val_loss: 0.1941 - val_f1_score: 0.6220 - val_precision: 0.9808 - val_recall: 0.9148\n",
      "Epoch 32/200\n",
      "31/31 [==============================] - 2s 53ms/step - loss: 2.2390e-07 - f1_score: 0.6425 - precision: 1.0000 - recall: 1.0000 - val_loss: 0.1987 - val_f1_score: 0.6450 - val_precision: 0.9855 - val_recall: 0.9148\n",
      "Epoch 33/200\n",
      "31/31 [==============================] - 2s 52ms/step - loss: 1.2797e-07 - f1_score: 0.6541 - precision: 1.0000 - recall: 1.0000 - val_loss: 0.2024 - val_f1_score: 0.6606 - val_precision: 0.9903 - val_recall: 0.9148\n",
      "Epoch 34/200\n",
      "31/31 [==============================] - 2s 54ms/step - loss: 1.0007e-07 - f1_score: 0.6587 - precision: 1.0000 - recall: 1.0000 - val_loss: 0.2047 - val_f1_score: 0.6687 - val_precision: 0.9903 - val_recall: 0.9148\n",
      "Epoch 35/200\n",
      "31/31 [==============================] - 2s 53ms/step - loss: 1.9093e-07 - f1_score: 0.6705 - precision: 1.0000 - recall: 1.0000 - val_loss: 0.2079 - val_f1_score: 0.6845 - val_precision: 0.9902 - val_recall: 0.9103\n",
      "Epoch 36/200\n",
      "31/31 [==============================] - 2s 53ms/step - loss: 1.7524e-07 - f1_score: 0.7002 - precision: 1.0000 - recall: 1.0000 - val_loss: 0.2101 - val_f1_score: 0.6922 - val_precision: 0.9902 - val_recall: 0.9103\n",
      "Epoch 37/200\n",
      "31/31 [==============================] - 2s 54ms/step - loss: 1.8294e-07 - f1_score: 0.6955 - precision: 1.0000 - recall: 1.0000 - val_loss: 0.2093 - val_f1_score: 0.6911 - val_precision: 0.9902 - val_recall: 0.9103\n",
      "Epoch 38/200\n",
      "31/31 [==============================] - 2s 53ms/step - loss: 1.5147e-07 - f1_score: 0.6969 - precision: 1.0000 - recall: 1.0000 - val_loss: 0.2094 - val_f1_score: 0.6955 - val_precision: 0.9903 - val_recall: 0.9148\n",
      "Epoch 39/200\n",
      "31/31 [==============================] - 2s 56ms/step - loss: 2.0137e-07 - f1_score: 0.7045 - precision: 1.0000 - recall: 1.0000 - val_loss: 0.2151 - val_f1_score: 0.7026 - val_precision: 0.9902 - val_recall: 0.9103\n",
      "Epoch 40/200\n",
      "31/31 [==============================] - 2s 56ms/step - loss: 5.7368e-08 - f1_score: 0.7331 - precision: 1.0000 - recall: 1.0000 - val_loss: 0.2163 - val_f1_score: 0.7072 - val_precision: 0.9902 - val_recall: 0.9103\n",
      "Epoch 41/200\n",
      "31/31 [==============================] - 2s 57ms/step - loss: 1.6079e-07 - f1_score: 0.7383 - precision: 1.0000 - recall: 1.0000 - val_loss: 0.2147 - val_f1_score: 0.7049 - val_precision: 0.9902 - val_recall: 0.9103\n",
      "Epoch 42/200\n",
      "31/31 [==============================] - 2s 56ms/step - loss: 1.0342e-07 - f1_score: 0.7410 - precision: 1.0000 - recall: 1.0000 - val_loss: 0.2168 - val_f1_score: 0.7131 - val_precision: 0.9902 - val_recall: 0.9103\n",
      "Epoch 43/200\n",
      "31/31 [==============================] - 2s 57ms/step - loss: 9.9084e-08 - f1_score: 0.7378 - precision: 1.0000 - recall: 1.0000 - val_loss: 0.2186 - val_f1_score: 0.7215 - val_precision: 0.9902 - val_recall: 0.9103\n",
      "Epoch 44/200\n",
      "31/31 [==============================] - 2s 57ms/step - loss: 7.2782e-08 - f1_score: 0.7505 - precision: 1.0000 - recall: 1.0000 - val_loss: 0.2186 - val_f1_score: 0.7239 - val_precision: 0.9902 - val_recall: 0.9103\n",
      "Epoch 45/200\n",
      "31/31 [==============================] - 2s 56ms/step - loss: 1.1420e-07 - f1_score: 0.7604 - precision: 1.0000 - recall: 1.0000 - val_loss: 0.2196 - val_f1_score: 0.7276 - val_precision: 0.9902 - val_recall: 0.9103\n",
      "Epoch 46/200\n",
      "31/31 [==============================] - 2s 57ms/step - loss: 7.3970e-08 - f1_score: 0.7473 - precision: 1.0000 - recall: 1.0000 - val_loss: 0.2207 - val_f1_score: 0.7363 - val_precision: 0.9902 - val_recall: 0.9103\n",
      "Epoch 47/200\n",
      "31/31 [==============================] - 2s 54ms/step - loss: 7.9095e-08 - f1_score: 0.7733 - precision: 1.0000 - recall: 1.0000 - val_loss: 0.2225 - val_f1_score: 0.7427 - val_precision: 0.9902 - val_recall: 0.9103\n",
      "Epoch 48/200\n",
      "31/31 [==============================] - 2s 55ms/step - loss: 5.0936e-08 - f1_score: 0.7739 - precision: 1.0000 - recall: 1.0000 - val_loss: 0.2233 - val_f1_score: 0.7491 - val_precision: 0.9902 - val_recall: 0.9103\n",
      "Epoch 49/200\n",
      "31/31 [==============================] - 2s 56ms/step - loss: 2.0230e-07 - f1_score: 0.7604 - precision: 1.0000 - recall: 1.0000 - val_loss: 0.2169 - val_f1_score: 0.7239 - val_precision: 0.9855 - val_recall: 0.9148\n",
      "Epoch 50/200\n",
      "31/31 [==============================] - 2s 55ms/step - loss: 1.0078e-07 - f1_score: 0.7457 - precision: 1.0000 - recall: 1.0000 - val_loss: 0.2178 - val_f1_score: 0.7276 - val_precision: 0.9855 - val_recall: 0.9148\n",
      "Epoch 51/200\n",
      "31/31 [==============================] - 2s 56ms/step - loss: 4.2727e-08 - f1_score: 0.7571 - precision: 1.0000 - recall: 1.0000 - val_loss: 0.2197 - val_f1_score: 0.7401 - val_precision: 0.9855 - val_recall: 0.9148\n",
      "Epoch 52/200\n",
      "31/31 [==============================] - 2s 55ms/step - loss: 5.2724e-08 - f1_score: 0.7626 - precision: 1.0000 - recall: 1.0000 - val_loss: 0.2202 - val_f1_score: 0.7427 - val_precision: 0.9855 - val_recall: 0.9148\n",
      "Epoch 53/200\n",
      "31/31 [==============================] - 2s 56ms/step - loss: 7.3515e-08 - f1_score: 0.7688 - precision: 1.0000 - recall: 1.0000 - val_loss: 0.2233 - val_f1_score: 0.7531 - val_precision: 0.9903 - val_recall: 0.9148\n",
      "Epoch 54/200\n",
      "31/31 [==============================] - 2s 56ms/step - loss: 4.0241e-08 - f1_score: 0.7779 - precision: 1.0000 - recall: 1.0000 - val_loss: 0.2255 - val_f1_score: 0.7557 - val_precision: 0.9902 - val_recall: 0.9103\n",
      "Epoch 55/200\n",
      "31/31 [==============================] - 2s 57ms/step - loss: 3.9611e-08 - f1_score: 0.7951 - precision: 1.0000 - recall: 1.0000 - val_loss: 0.2264 - val_f1_score: 0.7584 - val_precision: 0.9902 - val_recall: 0.9103\n",
      "Epoch 56/200\n",
      "31/31 [==============================] - 2s 55ms/step - loss: 4.0920e-08 - f1_score: 0.7844 - precision: 1.0000 - recall: 1.0000 - val_loss: 0.2262 - val_f1_score: 0.7584 - val_precision: 0.9902 - val_recall: 0.9103\n",
      "Epoch 57/200\n",
      "31/31 [==============================] - 2s 56ms/step - loss: 2.8600e-08 - f1_score: 0.7933 - precision: 1.0000 - recall: 1.0000 - val_loss: 0.2271 - val_f1_score: 0.7624 - val_precision: 0.9902 - val_recall: 0.9103\n",
      "Epoch 58/200\n",
      "31/31 [==============================] - 2s 58ms/step - loss: 3.1966e-08 - f1_score: 0.7921 - precision: 1.0000 - recall: 1.0000 - val_loss: 0.2281 - val_f1_score: 0.7638 - val_precision: 0.9902 - val_recall: 0.9103\n",
      "Epoch 59/200\n",
      "31/31 [==============================] - 2s 55ms/step - loss: 6.9670e-08 - f1_score: 0.8031 - precision: 1.0000 - recall: 1.0000 - val_loss: 0.2309 - val_f1_score: 0.7665 - val_precision: 0.9902 - val_recall: 0.9103\n",
      "Epoch 60/200\n",
      "31/31 [==============================] - 2s 57ms/step - loss: 6.6260e-08 - f1_score: 0.8112 - precision: 1.0000 - recall: 1.0000 - val_loss: 0.2299 - val_f1_score: 0.7665 - val_precision: 0.9902 - val_recall: 0.9103\n",
      "Epoch 61/200\n",
      "31/31 [==============================] - 2s 56ms/step - loss: 2.8660e-08 - f1_score: 0.8062 - precision: 1.0000 - recall: 1.0000 - val_loss: 0.2292 - val_f1_score: 0.7665 - val_precision: 0.9902 - val_recall: 0.9103\n",
      "Epoch 62/200\n",
      "31/31 [==============================] - 2s 55ms/step - loss: 2.4005e-08 - f1_score: 0.8031 - precision: 1.0000 - recall: 1.0000 - val_loss: 0.2302 - val_f1_score: 0.7643 - val_precision: 0.9902 - val_recall: 0.9103\n",
      "Epoch 63/200\n",
      "31/31 [==============================] - 2s 56ms/step - loss: 2.9089e-08 - f1_score: 0.8112 - precision: 1.0000 - recall: 1.0000 - val_loss: 0.2309 - val_f1_score: 0.7657 - val_precision: 0.9902 - val_recall: 0.9103\n",
      "Epoch 64/200\n",
      "31/31 [==============================] - 2s 56ms/step - loss: 2.4593e-08 - f1_score: 0.8144 - precision: 1.0000 - recall: 1.0000 - val_loss: 0.2323 - val_f1_score: 0.7684 - val_precision: 0.9902 - val_recall: 0.9103\n",
      "Epoch 65/200\n",
      "31/31 [==============================] - 2s 57ms/step - loss: 3.9007e-08 - f1_score: 0.8112 - precision: 1.0000 - recall: 1.0000 - val_loss: 0.2330 - val_f1_score: 0.7684 - val_precision: 0.9902 - val_recall: 0.9103\n",
      "Epoch 66/200\n",
      "31/31 [==============================] - 2s 56ms/step - loss: 4.1990e-08 - f1_score: 0.8125 - precision: 1.0000 - recall: 1.0000 - val_loss: 0.2328 - val_f1_score: 0.7684 - val_precision: 0.9902 - val_recall: 0.9103\n",
      "Epoch 67/200\n",
      "31/31 [==============================] - 2s 56ms/step - loss: 3.0105e-08 - f1_score: 0.8182 - precision: 1.0000 - recall: 1.0000 - val_loss: 0.2335 - val_f1_score: 0.7740 - val_precision: 0.9902 - val_recall: 0.9103\n",
      "Epoch 68/200\n",
      "31/31 [==============================] - 2s 55ms/step - loss: 3.4123e-08 - f1_score: 0.8201 - precision: 1.0000 - recall: 1.0000 - val_loss: 0.2345 - val_f1_score: 0.7754 - val_precision: 0.9902 - val_recall: 0.9103\n",
      "Epoch 69/200\n",
      "31/31 [==============================] - 2s 57ms/step - loss: 2.5301e-08 - f1_score: 0.8279 - precision: 1.0000 - recall: 1.0000 - val_loss: 0.2356 - val_f1_score: 0.7796 - val_precision: 0.9902 - val_recall: 0.9103\n",
      "Epoch 70/200\n",
      "31/31 [==============================] - 2s 55ms/step - loss: 6.2201e-08 - f1_score: 0.8426 - precision: 1.0000 - recall: 1.0000 - val_loss: 0.2381 - val_f1_score: 0.7839 - val_precision: 0.9902 - val_recall: 0.9103\n",
      "Epoch 71/200\n",
      "31/31 [==============================] - 2s 57ms/step - loss: 2.3495e-08 - f1_score: 0.8419 - precision: 1.0000 - recall: 1.0000 - val_loss: 0.2399 - val_f1_score: 0.7882 - val_precision: 0.9902 - val_recall: 0.9103\n",
      "Epoch 72/200\n",
      "31/31 [==============================] - 2s 53ms/step - loss: 2.0671e-08 - f1_score: 0.8433 - precision: 1.0000 - recall: 1.0000 - val_loss: 0.2401 - val_f1_score: 0.7897 - val_precision: 0.9902 - val_recall: 0.9103\n",
      "Epoch 73/200\n",
      "31/31 [==============================] - 2s 57ms/step - loss: 2.2142e-08 - f1_score: 0.8474 - precision: 1.0000 - recall: 1.0000 - val_loss: 0.2398 - val_f1_score: 0.7897 - val_precision: 0.9902 - val_recall: 0.9103\n",
      "Epoch 74/200\n",
      "31/31 [==============================] - 2s 56ms/step - loss: 2.0384e-08 - f1_score: 0.8413 - precision: 1.0000 - recall: 1.0000 - val_loss: 0.2404 - val_f1_score: 0.7911 - val_precision: 0.9902 - val_recall: 0.9103\n",
      "Epoch 75/200\n",
      "31/31 [==============================] - 2s 54ms/step - loss: 2.8502e-08 - f1_score: 0.8586 - precision: 1.0000 - recall: 1.0000 - val_loss: 0.2413 - val_f1_score: 0.7941 - val_precision: 0.9902 - val_recall: 0.9103\n",
      "Epoch 76/200\n",
      "31/31 [==============================] - 2s 56ms/step - loss: 1.1991e-08 - f1_score: 0.8657 - precision: 1.0000 - recall: 1.0000 - val_loss: 0.2424 - val_f1_score: 0.7970 - val_precision: 0.9902 - val_recall: 0.9103\n",
      "Epoch 77/200\n",
      "31/31 [==============================] - 2s 57ms/step - loss: 2.7029e-08 - f1_score: 0.8571 - precision: 1.0000 - recall: 1.0000 - val_loss: 0.2416 - val_f1_score: 0.7941 - val_precision: 0.9902 - val_recall: 0.9103\n",
      "Epoch 78/200\n",
      "31/31 [==============================] - 2s 54ms/step - loss: 1.5446e-08 - f1_score: 0.8635 - precision: 1.0000 - recall: 1.0000 - val_loss: 0.2420 - val_f1_score: 0.7970 - val_precision: 0.9902 - val_recall: 0.9103\n",
      "Epoch 79/200\n",
      "31/31 [==============================] - 2s 56ms/step - loss: 2.0732e-08 - f1_score: 0.8571 - precision: 1.0000 - recall: 1.0000 - val_loss: 0.2418 - val_f1_score: 0.7970 - val_precision: 0.9902 - val_recall: 0.9103\n",
      "Epoch 80/200\n",
      "31/31 [==============================] - 2s 57ms/step - loss: 1.2341e-08 - f1_score: 0.8495 - precision: 1.0000 - recall: 1.0000 - val_loss: 0.2424 - val_f1_score: 0.7985 - val_precision: 0.9902 - val_recall: 0.9103\n",
      "Epoch 81/200\n",
      "31/31 [==============================] - 2s 57ms/step - loss: 3.2610e-08 - f1_score: 0.8642 - precision: 1.0000 - recall: 1.0000 - val_loss: 0.2430 - val_f1_score: 0.7985 - val_precision: 0.9902 - val_recall: 0.9103\n",
      "Epoch 82/200\n",
      "31/31 [==============================] - 2s 55ms/step - loss: 1.6671e-08 - f1_score: 0.8650 - precision: 1.0000 - recall: 1.0000 - val_loss: 0.2444 - val_f1_score: 0.7963 - val_precision: 0.9902 - val_recall: 0.9103\n",
      "Epoch 83/200\n",
      "31/31 [==============================] - 2s 56ms/step - loss: 1.9324e-08 - f1_score: 0.8671 - precision: 1.0000 - recall: 1.0000 - val_loss: 0.2444 - val_f1_score: 0.7963 - val_precision: 0.9902 - val_recall: 0.9103\n",
      "Epoch 84/200\n",
      "31/31 [==============================] - 2s 56ms/step - loss: 2.4262e-08 - f1_score: 0.8635 - precision: 1.0000 - recall: 1.0000 - val_loss: 0.2448 - val_f1_score: 0.7978 - val_precision: 0.9902 - val_recall: 0.9103\n",
      "Epoch 85/200\n",
      "31/31 [==============================] - 2s 57ms/step - loss: 3.0108e-08 - f1_score: 0.8722 - precision: 1.0000 - recall: 1.0000 - val_loss: 0.2449 - val_f1_score: 0.7978 - val_precision: 0.9902 - val_recall: 0.9103\n",
      "Epoch 86/200\n",
      "31/31 [==============================] - 2s 56ms/step - loss: 8.0492e-08 - f1_score: 0.8543 - precision: 1.0000 - recall: 1.0000 - val_loss: 0.2400 - val_f1_score: 0.7941 - val_precision: 0.9855 - val_recall: 0.9148\n",
      "Epoch 87/200\n",
      "31/31 [==============================] - 2s 56ms/step - loss: 2.5565e-08 - f1_score: 0.8578 - precision: 1.0000 - recall: 1.0000 - val_loss: 0.2417 - val_f1_score: 0.7985 - val_precision: 0.9855 - val_recall: 0.9148\n",
      "Epoch 88/200\n",
      "31/31 [==============================] - 2s 55ms/step - loss: 1.3928e-08 - f1_score: 0.8600 - precision: 1.0000 - recall: 1.0000 - val_loss: 0.2435 - val_f1_score: 0.7963 - val_precision: 0.9903 - val_recall: 0.9148\n",
      "Epoch 89/200\n",
      "31/31 [==============================] - 2s 56ms/step - loss: 1.3360e-08 - f1_score: 0.8628 - precision: 1.0000 - recall: 1.0000 - val_loss: 0.2443 - val_f1_score: 0.7978 - val_precision: 0.9903 - val_recall: 0.9148\n",
      "Epoch 90/200\n",
      "31/31 [==============================] - 2s 56ms/step - loss: 7.9320e-09 - f1_score: 0.8751 - precision: 1.0000 - recall: 1.0000 - val_loss: 0.2448 - val_f1_score: 0.7978 - val_precision: 0.9903 - val_recall: 0.9148\n",
      "Epoch 91/200\n",
      "31/31 [==============================] - 2s 57ms/step - loss: 2.8120e-08 - f1_score: 0.8693 - precision: 1.0000 - recall: 1.0000 - val_loss: 0.2470 - val_f1_score: 0.8076 - val_precision: 0.9902 - val_recall: 0.9103\n",
      "Epoch 92/200\n",
      "31/31 [==============================] - 2s 55ms/step - loss: 7.2182e-09 - f1_score: 0.8766 - precision: 1.0000 - recall: 1.0000 - val_loss: 0.2473 - val_f1_score: 0.8092 - val_precision: 0.9902 - val_recall: 0.9103\n",
      "Epoch 93/200\n",
      "31/31 [==============================] - 2s 55ms/step - loss: 6.8493e-09 - f1_score: 0.8766 - precision: 1.0000 - recall: 1.0000 - val_loss: 0.2476 - val_f1_score: 0.8092 - val_precision: 0.9902 - val_recall: 0.9103\n",
      "Epoch 94/200\n",
      "31/31 [==============================] - 2s 56ms/step - loss: 1.0140e-08 - f1_score: 0.8736 - precision: 1.0000 - recall: 1.0000 - val_loss: 0.2480 - val_f1_score: 0.8092 - val_precision: 0.9902 - val_recall: 0.9103\n",
      "Epoch 95/200\n",
      "31/31 [==============================] - 2s 56ms/step - loss: 9.0113e-09 - f1_score: 0.8788 - precision: 1.0000 - recall: 1.0000 - val_loss: 0.2484 - val_f1_score: 0.8092 - val_precision: 0.9902 - val_recall: 0.9103\n",
      "Epoch 96/200\n",
      "31/31 [==============================] - 2s 56ms/step - loss: 2.6763e-08 - f1_score: 0.8825 - precision: 1.0000 - recall: 1.0000 - val_loss: 0.2483 - val_f1_score: 0.8092 - val_precision: 0.9902 - val_recall: 0.9103\n",
      "Epoch 97/200\n",
      "31/31 [==============================] - 2s 56ms/step - loss: 7.3030e-09 - f1_score: 0.8758 - precision: 1.0000 - recall: 1.0000 - val_loss: 0.2485 - val_f1_score: 0.8092 - val_precision: 0.9902 - val_recall: 0.9103\n",
      "Epoch 98/200\n",
      "31/31 [==============================] - 2s 54ms/step - loss: 7.3874e-09 - f1_score: 0.8832 - precision: 1.0000 - recall: 1.0000 - val_loss: 0.2488 - val_f1_score: 0.8107 - val_precision: 0.9902 - val_recall: 0.9103\n",
      "Epoch 99/200\n",
      "31/31 [==============================] - 2s 57ms/step - loss: 1.3736e-08 - f1_score: 0.8847 - precision: 1.0000 - recall: 1.0000 - val_loss: 0.2494 - val_f1_score: 0.8138 - val_precision: 0.9902 - val_recall: 0.9103\n",
      "Epoch 100/200\n",
      "31/31 [==============================] - 2s 56ms/step - loss: 1.4788e-08 - f1_score: 0.8878 - precision: 1.0000 - recall: 1.0000 - val_loss: 0.2506 - val_f1_score: 0.8201 - val_precision: 0.9902 - val_recall: 0.9103\n",
      "Epoch 101/200\n",
      "31/31 [==============================] - 2s 55ms/step - loss: 4.3373e-09 - f1_score: 0.8923 - precision: 1.0000 - recall: 1.0000 - val_loss: 0.2509 - val_f1_score: 0.8201 - val_precision: 0.9902 - val_recall: 0.9103\n",
      "Epoch 102/200\n",
      "31/31 [==============================] - 2s 56ms/step - loss: 1.0678e-08 - f1_score: 0.8977 - precision: 1.0000 - recall: 1.0000 - val_loss: 0.2516 - val_f1_score: 0.8233 - val_precision: 0.9902 - val_recall: 0.9103\n",
      "Epoch 103/200\n",
      "31/31 [==============================] - 2s 56ms/step - loss: 9.6477e-09 - f1_score: 0.8870 - precision: 1.0000 - recall: 1.0000 - val_loss: 0.2520 - val_f1_score: 0.8233 - val_precision: 0.9902 - val_recall: 0.9103\n",
      "Epoch 104/200\n",
      "31/31 [==============================] - 2s 56ms/step - loss: 9.0177e-09 - f1_score: 0.8893 - precision: 1.0000 - recall: 1.0000 - val_loss: 0.2520 - val_f1_score: 0.8233 - val_precision: 0.9902 - val_recall: 0.9103\n",
      "Epoch 105/200\n",
      "31/31 [==============================] - 2s 55ms/step - loss: 1.5907e-08 - f1_score: 0.8825 - precision: 1.0000 - recall: 1.0000 - val_loss: 0.2507 - val_f1_score: 0.8201 - val_precision: 0.9902 - val_recall: 0.9103\n",
      "Epoch 106/200\n",
      "31/31 [==============================] - 2s 54ms/step - loss: 8.9337e-09 - f1_score: 0.9023 - precision: 1.0000 - recall: 1.0000 - val_loss: 0.2509 - val_f1_score: 0.8201 - val_precision: 0.9902 - val_recall: 0.9103\n",
      "Epoch 107/200\n",
      "31/31 [==============================] - 2s 55ms/step - loss: 9.2907e-09 - f1_score: 0.8992 - precision: 1.0000 - recall: 1.0000 - val_loss: 0.2515 - val_f1_score: 0.8233 - val_precision: 0.9902 - val_recall: 0.9103\n",
      "Epoch 108/200\n",
      "31/31 [==============================] - 2s 56ms/step - loss: 1.3988e-08 - f1_score: 0.8900 - precision: 1.0000 - recall: 1.0000 - val_loss: 0.2522 - val_f1_score: 0.8265 - val_precision: 0.9902 - val_recall: 0.9103\n",
      "Epoch 109/200\n",
      "31/31 [==============================] - 2s 56ms/step - loss: 7.3553e-09 - f1_score: 0.8870 - precision: 1.0000 - recall: 1.0000 - val_loss: 0.2531 - val_f1_score: 0.8281 - val_precision: 0.9902 - val_recall: 0.9103\n",
      "Epoch 110/200\n",
      "31/31 [==============================] - 2s 55ms/step - loss: 5.5179e-09 - f1_score: 0.8969 - precision: 1.0000 - recall: 1.0000 - val_loss: 0.2539 - val_f1_score: 0.8281 - val_precision: 0.9902 - val_recall: 0.9103\n",
      "Epoch 111/200\n",
      "31/31 [==============================] - 2s 56ms/step - loss: 6.7266e-09 - f1_score: 0.9000 - precision: 1.0000 - recall: 1.0000 - val_loss: 0.2544 - val_f1_score: 0.8281 - val_precision: 0.9902 - val_recall: 0.9103\n",
      "Epoch 112/200\n",
      "31/31 [==============================] - 2s 55ms/step - loss: 6.6105e-09 - f1_score: 0.9047 - precision: 1.0000 - recall: 1.0000 - val_loss: 0.2543 - val_f1_score: 0.8281 - val_precision: 0.9902 - val_recall: 0.9103\n",
      "Epoch 113/200\n",
      "31/31 [==============================] - 2s 56ms/step - loss: 2.7114e-08 - f1_score: 0.8893 - precision: 1.0000 - recall: 1.0000 - val_loss: 0.2522 - val_f1_score: 0.8281 - val_precision: 0.9903 - val_recall: 0.9148\n",
      "Epoch 114/200\n",
      "31/31 [==============================] - 2s 56ms/step - loss: 9.1870e-09 - f1_score: 0.8985 - precision: 1.0000 - recall: 1.0000 - val_loss: 0.2533 - val_f1_score: 0.8281 - val_precision: 0.9902 - val_recall: 0.9103\n",
      "Epoch 115/200\n",
      "31/31 [==============================] - 2s 55ms/step - loss: 9.7818e-09 - f1_score: 0.8961 - precision: 1.0000 - recall: 1.0000 - val_loss: 0.2532 - val_f1_score: 0.8281 - val_precision: 0.9902 - val_recall: 0.9103\n",
      "Epoch 116/200\n",
      "31/31 [==============================] - 2s 54ms/step - loss: 7.4708e-09 - f1_score: 0.8992 - precision: 1.0000 - recall: 1.0000 - val_loss: 0.2538 - val_f1_score: 0.8281 - val_precision: 0.9902 - val_recall: 0.9103\n",
      "Epoch 117/200\n",
      "31/31 [==============================] - 2s 56ms/step - loss: 1.2149e-08 - f1_score: 0.8878 - precision: 1.0000 - recall: 1.0000 - val_loss: 0.2531 - val_f1_score: 0.8281 - val_precision: 0.9855 - val_recall: 0.9148\n",
      "Epoch 118/200\n",
      "31/31 [==============================] - 2s 55ms/step - loss: 9.1918e-09 - f1_score: 0.8923 - precision: 1.0000 - recall: 1.0000 - val_loss: 0.2543 - val_f1_score: 0.8297 - val_precision: 0.9902 - val_recall: 0.9103\n",
      "Epoch 119/200\n",
      "31/31 [==============================] - 2s 56ms/step - loss: 3.4589e-08 - f1_score: 0.9039 - precision: 1.0000 - recall: 1.0000 - val_loss: 0.2598 - val_f1_score: 0.8379 - val_precision: 0.9902 - val_recall: 0.9103\n",
      "Epoch 120/200\n",
      "31/31 [==============================] - 2s 54ms/step - loss: 6.5399e-09 - f1_score: 0.9118 - precision: 1.0000 - recall: 1.0000 - val_loss: 0.2607 - val_f1_score: 0.8379 - val_precision: 0.9902 - val_recall: 0.9103\n",
      "Epoch 121/200\n",
      "31/31 [==============================] - 2s 55ms/step - loss: 8.6150e-09 - f1_score: 0.9055 - precision: 1.0000 - recall: 1.0000 - val_loss: 0.2606 - val_f1_score: 0.8379 - val_precision: 0.9902 - val_recall: 0.9103\n",
      "Epoch 122/200\n",
      "31/31 [==============================] - 2s 55ms/step - loss: 6.0522e-09 - f1_score: 0.9102 - precision: 1.0000 - recall: 1.0000 - val_loss: 0.2604 - val_f1_score: 0.8379 - val_precision: 0.9902 - val_recall: 0.9103\n",
      "Epoch 123/200\n",
      "31/31 [==============================] - 2s 55ms/step - loss: 1.3936e-08 - f1_score: 0.9158 - precision: 1.0000 - recall: 1.0000 - val_loss: 0.2606 - val_f1_score: 0.8379 - val_precision: 0.9902 - val_recall: 0.9103\n",
      "Epoch 124/200\n",
      "31/31 [==============================] - 2s 56ms/step - loss: 8.1001e-09 - f1_score: 0.9078 - precision: 1.0000 - recall: 1.0000 - val_loss: 0.2609 - val_f1_score: 0.8379 - val_precision: 0.9902 - val_recall: 0.9103\n",
      "Epoch 125/200\n",
      "31/31 [==============================] - 2s 55ms/step - loss: 4.9939e-09 - f1_score: 0.9190 - precision: 1.0000 - recall: 1.0000 - val_loss: 0.2607 - val_f1_score: 0.8379 - val_precision: 0.9902 - val_recall: 0.9103\n",
      "Epoch 126/200\n",
      "31/31 [==============================] - 2s 55ms/step - loss: 3.4218e-09 - f1_score: 0.9174 - precision: 1.0000 - recall: 1.0000 - val_loss: 0.2610 - val_f1_score: 0.8379 - val_precision: 0.9902 - val_recall: 0.9103\n",
      "Epoch 127/200\n",
      "31/31 [==============================] - 2s 54ms/step - loss: 4.3713e-09 - f1_score: 0.9182 - precision: 1.0000 - recall: 1.0000 - val_loss: 0.2611 - val_f1_score: 0.8379 - val_precision: 0.9902 - val_recall: 0.9103\n",
      "Epoch 128/200\n",
      "31/31 [==============================] - 2s 56ms/step - loss: 6.5341e-09 - f1_score: 0.9239 - precision: 1.0000 - recall: 1.0000 - val_loss: 0.2612 - val_f1_score: 0.8379 - val_precision: 0.9902 - val_recall: 0.9103\n",
      "Epoch 129/200\n",
      "31/31 [==============================] - 2s 54ms/step - loss: 1.1118e-08 - f1_score: 0.9016 - precision: 1.0000 - recall: 1.0000 - val_loss: 0.2626 - val_f1_score: 0.8379 - val_precision: 0.9902 - val_recall: 0.9103\n",
      "Epoch 130/200\n",
      "31/31 [==============================] - 2s 55ms/step - loss: 3.4558e-09 - f1_score: 0.9110 - precision: 1.0000 - recall: 1.0000 - val_loss: 0.2627 - val_f1_score: 0.8379 - val_precision: 0.9902 - val_recall: 0.9103\n",
      "Epoch 131/200\n",
      "31/31 [==============================] - 2s 56ms/step - loss: 4.7866e-09 - f1_score: 0.9150 - precision: 1.0000 - recall: 1.0000 - val_loss: 0.2628 - val_f1_score: 0.8379 - val_precision: 0.9902 - val_recall: 0.9103\n",
      "Epoch 132/200\n",
      "31/31 [==============================] - 2s 56ms/step - loss: 3.4460e-08 - f1_score: 0.9223 - precision: 1.0000 - recall: 1.0000 - val_loss: 0.2688 - val_f1_score: 0.8497 - val_precision: 0.9902 - val_recall: 0.9103\n",
      "Epoch 133/200\n",
      "31/31 [==============================] - 2s 54ms/step - loss: 3.2722e-09 - f1_score: 0.9272 - precision: 1.0000 - recall: 1.0000 - val_loss: 0.2689 - val_f1_score: 0.8514 - val_precision: 0.9902 - val_recall: 0.9103\n",
      "Epoch 134/200\n",
      "31/31 [==============================] - 2s 55ms/step - loss: 7.1077e-09 - f1_score: 0.9272 - precision: 1.0000 - recall: 1.0000 - val_loss: 0.2681 - val_f1_score: 0.8497 - val_precision: 0.9902 - val_recall: 0.9103\n",
      "Epoch 135/200\n",
      "31/31 [==============================] - 2s 55ms/step - loss: 4.9335e-09 - f1_score: 0.9280 - precision: 1.0000 - recall: 1.0000 - val_loss: 0.2676 - val_f1_score: 0.8497 - val_precision: 0.9902 - val_recall: 0.9103\n",
      "Epoch 136/200\n",
      "31/31 [==============================] - 2s 58ms/step - loss: 5.6891e-09 - f1_score: 0.9206 - precision: 1.0000 - recall: 1.0000 - val_loss: 0.2671 - val_f1_score: 0.8463 - val_precision: 0.9902 - val_recall: 0.9103\n",
      "Epoch 137/200\n",
      "31/31 [==============================] - 2s 55ms/step - loss: 6.5626e-09 - f1_score: 0.9297 - precision: 1.0000 - recall: 1.0000 - val_loss: 0.2666 - val_f1_score: 0.8463 - val_precision: 0.9902 - val_recall: 0.9103\n",
      "Epoch 138/200\n",
      "31/31 [==============================] - 2s 57ms/step - loss: 3.9832e-09 - f1_score: 0.9255 - precision: 1.0000 - recall: 1.0000 - val_loss: 0.2666 - val_f1_score: 0.8463 - val_precision: 0.9902 - val_recall: 0.9103\n",
      "Epoch 139/200\n",
      "31/31 [==============================] - 2s 53ms/step - loss: 3.6248e-09 - f1_score: 0.9214 - precision: 1.0000 - recall: 1.0000 - val_loss: 0.2665 - val_f1_score: 0.8463 - val_precision: 0.9902 - val_recall: 0.9103\n",
      "Epoch 140/200\n",
      "31/31 [==============================] - 2s 56ms/step - loss: 7.1808e-09 - f1_score: 0.9231 - precision: 1.0000 - recall: 1.0000 - val_loss: 0.2661 - val_f1_score: 0.8463 - val_precision: 0.9902 - val_recall: 0.9103\n",
      "Epoch 141/200\n",
      "31/31 [==============================] - 2s 56ms/step - loss: 2.6902e-09 - f1_score: 0.9305 - precision: 1.0000 - recall: 1.0000 - val_loss: 0.2657 - val_f1_score: 0.8463 - val_precision: 0.9902 - val_recall: 0.9103\n",
      "Epoch 142/200\n",
      "31/31 [==============================] - 2s 60ms/step - loss: 3.6350e-09 - f1_score: 0.9247 - precision: 1.0000 - recall: 1.0000 - val_loss: 0.2658 - val_f1_score: 0.8463 - val_precision: 0.9902 - val_recall: 0.9103\n",
      "Epoch 143/200\n",
      "31/31 [==============================] - 2s 60ms/step - loss: 6.0786e-09 - f1_score: 0.9214 - precision: 1.0000 - recall: 1.0000 - val_loss: 0.2652 - val_f1_score: 0.8463 - val_precision: 0.9902 - val_recall: 0.9103\n",
      "Epoch 144/200\n",
      "31/31 [==============================] - 2s 60ms/step - loss: 7.5503e-09 - f1_score: 0.9239 - precision: 1.0000 - recall: 1.0000 - val_loss: 0.2655 - val_f1_score: 0.8463 - val_precision: 0.9902 - val_recall: 0.9103\n",
      "Epoch 145/200\n",
      "31/31 [==============================] - 2s 57ms/step - loss: 3.2018e-09 - f1_score: 0.9272 - precision: 1.0000 - recall: 1.0000 - val_loss: 0.2653 - val_f1_score: 0.8463 - val_precision: 0.9902 - val_recall: 0.9103\n",
      "Epoch 146/200\n",
      "31/31 [==============================] - 2s 57ms/step - loss: 5.4553e-09 - f1_score: 0.9264 - precision: 1.0000 - recall: 1.0000 - val_loss: 0.2660 - val_f1_score: 0.8463 - val_precision: 0.9902 - val_recall: 0.9103\n",
      "Epoch 147/200\n",
      "31/31 [==============================] - 2s 56ms/step - loss: 1.5811e-08 - f1_score: 0.9330 - precision: 1.0000 - recall: 1.0000 - val_loss: 0.2650 - val_f1_score: 0.8463 - val_precision: 0.9902 - val_recall: 0.9103\n",
      "Epoch 148/200\n",
      "31/31 [==============================] - 2s 56ms/step - loss: 6.0189e-09 - f1_score: 0.9231 - precision: 1.0000 - recall: 1.0000 - val_loss: 0.2650 - val_f1_score: 0.8463 - val_precision: 0.9902 - val_recall: 0.9103\n",
      "Epoch 149/200\n",
      "31/31 [==============================] - 2s 56ms/step - loss: 2.1276e-09 - f1_score: 0.9255 - precision: 1.0000 - recall: 1.0000 - val_loss: 0.2651 - val_f1_score: 0.8463 - val_precision: 0.9902 - val_recall: 0.9103\n",
      "Epoch 150/200\n",
      "31/31 [==============================] - 2s 57ms/step - loss: 2.0926e-09 - f1_score: 0.9190 - precision: 1.0000 - recall: 1.0000 - val_loss: 0.2653 - val_f1_score: 0.8463 - val_precision: 0.9902 - val_recall: 0.9103\n",
      "Epoch 151/200\n",
      "31/31 [==============================] - 2s 55ms/step - loss: 5.6894e-09 - f1_score: 0.9288 - precision: 1.0000 - recall: 1.0000 - val_loss: 0.2655 - val_f1_score: 0.8463 - val_precision: 0.9902 - val_recall: 0.9103\n",
      "Epoch 152/200\n",
      "31/31 [==============================] - 2s 57ms/step - loss: 6.7161e-09 - f1_score: 0.9239 - precision: 1.0000 - recall: 1.0000 - val_loss: 0.2661 - val_f1_score: 0.8463 - val_precision: 0.9902 - val_recall: 0.9103\n",
      "Epoch 153/200\n",
      "31/31 [==============================] - 2s 55ms/step - loss: 2.3236e-09 - f1_score: 0.9288 - precision: 1.0000 - recall: 1.0000 - val_loss: 0.2665 - val_f1_score: 0.8463 - val_precision: 0.9902 - val_recall: 0.9103\n",
      "Epoch 154/200\n",
      "31/31 [==============================] - 2s 56ms/step - loss: 3.6701e-09 - f1_score: 0.9264 - precision: 1.0000 - recall: 1.0000 - val_loss: 0.2665 - val_f1_score: 0.8463 - val_precision: 0.9902 - val_recall: 0.9103\n",
      "Epoch 155/200\n",
      "31/31 [==============================] - 2s 57ms/step - loss: 4.5307e-09 - f1_score: 0.9288 - precision: 1.0000 - recall: 1.0000 - val_loss: 0.2665 - val_f1_score: 0.8463 - val_precision: 0.9902 - val_recall: 0.9103\n",
      "Epoch 156/200\n",
      "31/31 [==============================] - 2s 56ms/step - loss: 2.1189e-09 - f1_score: 0.9297 - precision: 1.0000 - recall: 1.0000 - val_loss: 0.2669 - val_f1_score: 0.8480 - val_precision: 0.9902 - val_recall: 0.9103\n",
      "Epoch 157/200\n",
      "31/31 [==============================] - 2s 57ms/step - loss: 3.9104e-09 - f1_score: 0.9182 - precision: 1.0000 - recall: 1.0000 - val_loss: 0.2676 - val_f1_score: 0.8497 - val_precision: 0.9902 - val_recall: 0.9103\n",
      "Epoch 158/200\n",
      "31/31 [==============================] - 2s 57ms/step - loss: 2.8715e-09 - f1_score: 0.9255 - precision: 1.0000 - recall: 1.0000 - val_loss: 0.2679 - val_f1_score: 0.8497 - val_precision: 0.9902 - val_recall: 0.9103\n",
      "Epoch 159/200\n",
      "31/31 [==============================] - 2s 57ms/step - loss: 3.5878e-09 - f1_score: 0.9255 - precision: 1.0000 - recall: 1.0000 - val_loss: 0.2683 - val_f1_score: 0.8514 - val_precision: 0.9902 - val_recall: 0.9103\n",
      "Epoch 160/200\n",
      "31/31 [==============================] - 2s 56ms/step - loss: 5.2882e-09 - f1_score: 0.9380 - precision: 1.0000 - recall: 1.0000 - val_loss: 0.2685 - val_f1_score: 0.8514 - val_precision: 0.9902 - val_recall: 0.9103\n",
      "Epoch 161/200\n",
      "31/31 [==============================] - 2s 57ms/step - loss: 3.8216e-09 - f1_score: 0.9239 - precision: 1.0000 - recall: 1.0000 - val_loss: 0.2685 - val_f1_score: 0.8514 - val_precision: 0.9902 - val_recall: 0.9103\n",
      "Epoch 162/200\n",
      "31/31 [==============================] - 2s 55ms/step - loss: 3.2329e-09 - f1_score: 0.9288 - precision: 1.0000 - recall: 1.0000 - val_loss: 0.2688 - val_f1_score: 0.8514 - val_precision: 0.9902 - val_recall: 0.9103\n",
      "Epoch 163/200\n",
      "31/31 [==============================] - 2s 56ms/step - loss: 1.9268e-09 - f1_score: 0.9330 - precision: 1.0000 - recall: 1.0000 - val_loss: 0.2689 - val_f1_score: 0.8514 - val_precision: 0.9902 - val_recall: 0.9103\n",
      "Epoch 164/200\n",
      "31/31 [==============================] - 2s 56ms/step - loss: 3.0701e-09 - f1_score: 0.9338 - precision: 1.0000 - recall: 1.0000 - val_loss: 0.2689 - val_f1_score: 0.8514 - val_precision: 0.9902 - val_recall: 0.9103\n",
      "Epoch 165/200\n",
      "31/31 [==============================] - 2s 56ms/step - loss: 3.7231e-09 - f1_score: 0.9305 - precision: 1.0000 - recall: 1.0000 - val_loss: 0.2688 - val_f1_score: 0.8514 - val_precision: 0.9902 - val_recall: 0.9103\n",
      "Epoch 166/200\n",
      "31/31 [==============================] - 2s 57ms/step - loss: 2.6503e-09 - f1_score: 0.9305 - precision: 1.0000 - recall: 1.0000 - val_loss: 0.2688 - val_f1_score: 0.8514 - val_precision: 0.9902 - val_recall: 0.9103\n",
      "Epoch 167/200\n",
      "31/31 [==============================] - 2s 56ms/step - loss: 1.8499e-09 - f1_score: 0.9264 - precision: 1.0000 - recall: 1.0000 - val_loss: 0.2690 - val_f1_score: 0.8514 - val_precision: 0.9902 - val_recall: 0.9103\n",
      "Epoch 168/200\n",
      "31/31 [==============================] - 2s 57ms/step - loss: 6.2568e-09 - f1_score: 0.9330 - precision: 1.0000 - recall: 1.0000 - val_loss: 0.2698 - val_f1_score: 0.8548 - val_precision: 0.9902 - val_recall: 0.9103\n",
      "Epoch 169/200\n",
      "31/31 [==============================] - 2s 56ms/step - loss: 2.2274e-09 - f1_score: 0.9247 - precision: 1.0000 - recall: 1.0000 - val_loss: 0.2700 - val_f1_score: 0.8548 - val_precision: 0.9902 - val_recall: 0.9103\n",
      "Epoch 170/200\n",
      "31/31 [==============================] - 2s 57ms/step - loss: 2.1081e-09 - f1_score: 0.9380 - precision: 1.0000 - recall: 1.0000 - val_loss: 0.2703 - val_f1_score: 0.8548 - val_precision: 0.9902 - val_recall: 0.9103\n",
      "Epoch 171/200\n",
      "31/31 [==============================] - 2s 59ms/step - loss: 1.7341e-09 - f1_score: 0.9297 - precision: 1.0000 - recall: 1.0000 - val_loss: 0.2705 - val_f1_score: 0.8566 - val_precision: 0.9902 - val_recall: 0.9103\n",
      "Epoch 172/200\n",
      "31/31 [==============================] - 2s 58ms/step - loss: 4.9465e-09 - f1_score: 0.9363 - precision: 1.0000 - recall: 1.0000 - val_loss: 0.2710 - val_f1_score: 0.8583 - val_precision: 0.9902 - val_recall: 0.9103\n",
      "Epoch 173/200\n",
      "31/31 [==============================] - 2s 58ms/step - loss: 3.4931e-09 - f1_score: 0.9321 - precision: 1.0000 - recall: 1.0000 - val_loss: 0.2716 - val_f1_score: 0.8618 - val_precision: 0.9902 - val_recall: 0.9103\n",
      "Epoch 174/200\n",
      "31/31 [==============================] - 2s 58ms/step - loss: 2.3631e-09 - f1_score: 0.9414 - precision: 1.0000 - recall: 1.0000 - val_loss: 0.2721 - val_f1_score: 0.8618 - val_precision: 0.9902 - val_recall: 0.9103\n",
      "Epoch 175/200\n",
      "31/31 [==============================] - 2s 58ms/step - loss: 6.7505e-09 - f1_score: 0.9346 - precision: 1.0000 - recall: 1.0000 - val_loss: 0.2720 - val_f1_score: 0.8618 - val_precision: 0.9902 - val_recall: 0.9103\n",
      "Epoch 176/200\n",
      "31/31 [==============================] - 2s 58ms/step - loss: 1.8359e-09 - f1_score: 0.9414 - precision: 1.0000 - recall: 1.0000 - val_loss: 0.2719 - val_f1_score: 0.8618 - val_precision: 0.9902 - val_recall: 0.9103\n",
      "Epoch 177/200\n",
      "31/31 [==============================] - 2s 58ms/step - loss: 2.6421e-09 - f1_score: 0.9313 - precision: 1.0000 - recall: 1.0000 - val_loss: 0.2716 - val_f1_score: 0.8618 - val_precision: 0.9902 - val_recall: 0.9103\n",
      "Epoch 178/200\n",
      "31/31 [==============================] - 2s 57ms/step - loss: 2.0615e-09 - f1_score: 0.9355 - precision: 1.0000 - recall: 1.0000 - val_loss: 0.2719 - val_f1_score: 0.8618 - val_precision: 0.9902 - val_recall: 0.9103\n",
      "Epoch 179/200\n",
      "31/31 [==============================] - 2s 58ms/step - loss: 2.2182e-09 - f1_score: 0.9372 - precision: 1.0000 - recall: 1.0000 - val_loss: 0.2718 - val_f1_score: 0.8618 - val_precision: 0.9902 - val_recall: 0.9103\n",
      "Epoch 180/200\n",
      "31/31 [==============================] - 2s 57ms/step - loss: 6.4362e-09 - f1_score: 0.9363 - precision: 1.0000 - recall: 1.0000 - val_loss: 0.2727 - val_f1_score: 0.8635 - val_precision: 0.9902 - val_recall: 0.9103\n",
      "Epoch 181/200\n",
      "31/31 [==============================] - 2s 58ms/step - loss: 5.5956e-09 - f1_score: 0.9422 - precision: 1.0000 - recall: 1.0000 - val_loss: 0.2736 - val_f1_score: 0.8635 - val_precision: 0.9902 - val_recall: 0.9103\n",
      "Epoch 182/200\n",
      "31/31 [==============================] - 2s 58ms/step - loss: 5.6147e-09 - f1_score: 0.9431 - precision: 1.0000 - recall: 1.0000 - val_loss: 0.2738 - val_f1_score: 0.8635 - val_precision: 0.9902 - val_recall: 0.9103\n",
      "Epoch 183/200\n",
      "31/31 [==============================] - 2s 57ms/step - loss: 5.0918e-09 - f1_score: 0.9405 - precision: 1.0000 - recall: 1.0000 - val_loss: 0.2738 - val_f1_score: 0.8635 - val_precision: 0.9902 - val_recall: 0.9103\n",
      "Epoch 184/200\n",
      "31/31 [==============================] - 2s 57ms/step - loss: 2.6492e-09 - f1_score: 0.9422 - precision: 1.0000 - recall: 1.0000 - val_loss: 0.2739 - val_f1_score: 0.8635 - val_precision: 0.9902 - val_recall: 0.9103\n",
      "Epoch 185/200\n",
      "31/31 [==============================] - 2s 58ms/step - loss: 2.6550e-09 - f1_score: 0.9422 - precision: 1.0000 - recall: 1.0000 - val_loss: 0.2742 - val_f1_score: 0.8653 - val_precision: 0.9902 - val_recall: 0.9103\n",
      "Epoch 186/200\n",
      "31/31 [==============================] - 2s 58ms/step - loss: 1.8963e-09 - f1_score: 0.9363 - precision: 1.0000 - recall: 1.0000 - val_loss: 0.2743 - val_f1_score: 0.8653 - val_precision: 0.9902 - val_recall: 0.9103\n",
      "Epoch 187/200\n",
      "31/31 [==============================] - 2s 57ms/step - loss: 2.7932e-09 - f1_score: 0.9405 - precision: 1.0000 - recall: 1.0000 - val_loss: 0.2740 - val_f1_score: 0.8635 - val_precision: 0.9902 - val_recall: 0.9103\n",
      "Epoch 188/200\n",
      "31/31 [==============================] - 2s 59ms/step - loss: 3.4415e-09 - f1_score: 0.9431 - precision: 1.0000 - recall: 1.0000 - val_loss: 0.2743 - val_f1_score: 0.8653 - val_precision: 0.9902 - val_recall: 0.9103\n",
      "Epoch 189/200\n",
      "31/31 [==============================] - 2s 59ms/step - loss: 2.5312e-09 - f1_score: 0.9414 - precision: 1.0000 - recall: 1.0000 - val_loss: 0.2744 - val_f1_score: 0.8653 - val_precision: 0.9902 - val_recall: 0.9103\n",
      "Epoch 190/200\n",
      "31/31 [==============================] - 2s 57ms/step - loss: 1.6759e-09 - f1_score: 0.9448 - precision: 1.0000 - recall: 1.0000 - val_loss: 0.2746 - val_f1_score: 0.8653 - val_precision: 0.9902 - val_recall: 0.9103\n",
      "Epoch 191/200\n",
      "31/31 [==============================] - 2s 56ms/step - loss: 1.4911e-09 - f1_score: 0.9372 - precision: 1.0000 - recall: 1.0000 - val_loss: 0.2747 - val_f1_score: 0.8653 - val_precision: 0.9902 - val_recall: 0.9103\n",
      "Epoch 192/200\n",
      "31/31 [==============================] - 2s 56ms/step - loss: 2.8312e-09 - f1_score: 0.9338 - precision: 1.0000 - recall: 1.0000 - val_loss: 0.2752 - val_f1_score: 0.8653 - val_precision: 0.9902 - val_recall: 0.9103\n",
      "Epoch 193/200\n",
      "31/31 [==============================] - 2s 55ms/step - loss: 3.7638e-09 - f1_score: 0.9405 - precision: 1.0000 - recall: 1.0000 - val_loss: 0.2752 - val_f1_score: 0.8653 - val_precision: 0.9902 - val_recall: 0.9103\n",
      "Epoch 194/200\n",
      "31/31 [==============================] - 2s 56ms/step - loss: 1.9379e-09 - f1_score: 0.9388 - precision: 1.0000 - recall: 1.0000 - val_loss: 0.2753 - val_f1_score: 0.8653 - val_precision: 0.9902 - val_recall: 0.9103\n",
      "Epoch 195/200\n",
      "31/31 [==============================] - 2s 55ms/step - loss: 1.3098e-09 - f1_score: 0.9388 - precision: 1.0000 - recall: 1.0000 - val_loss: 0.2754 - val_f1_score: 0.8653 - val_precision: 0.9902 - val_recall: 0.9103\n",
      "Epoch 196/200\n",
      "31/31 [==============================] - 2s 56ms/step - loss: 1.1279e-09 - f1_score: 0.9397 - precision: 1.0000 - recall: 1.0000 - val_loss: 0.2755 - val_f1_score: 0.8653 - val_precision: 0.9902 - val_recall: 0.9103\n",
      "Epoch 197/200\n",
      "31/31 [==============================] - 2s 56ms/step - loss: 1.4057e-09 - f1_score: 0.9431 - precision: 1.0000 - recall: 1.0000 - val_loss: 0.2757 - val_f1_score: 0.8653 - val_precision: 0.9902 - val_recall: 0.9103\n",
      "Epoch 198/200\n",
      "31/31 [==============================] - 2s 55ms/step - loss: 2.3899e-09 - f1_score: 0.9297 - precision: 1.0000 - recall: 1.0000 - val_loss: 0.2757 - val_f1_score: 0.8653 - val_precision: 0.9902 - val_recall: 0.9103\n",
      "Epoch 199/200\n",
      "31/31 [==============================] - 2s 57ms/step - loss: 2.3135e-09 - f1_score: 0.9508 - precision: 1.0000 - recall: 1.0000 - val_loss: 0.2757 - val_f1_score: 0.8653 - val_precision: 0.9902 - val_recall: 0.9103\n",
      "Epoch 200/200\n",
      "31/31 [==============================] - 2s 54ms/step - loss: 2.8097e-09 - f1_score: 0.9439 - precision: 1.0000 - recall: 1.0000 - val_loss: 0.2765 - val_f1_score: 0.8689 - val_precision: 0.9902 - val_recall: 0.9103\n"
     ]
    }
   ],
   "source": [
    "history = model.fit(\n",
    "    train_batch,\n",
    "    validation_data=val_batch,\n",
    "    epochs=200\n",
    ")"
   ]
  },
  {
   "cell_type": "code",
   "execution_count": 15,
   "metadata": {},
   "outputs": [
    {
     "data": {
      "application/vnd.plotly.v1+json": {
       "config": {
        "plotlyServerURL": "https://plot.ly"
       },
       "data": [
        {
         "mode": "lines",
         "name": "Training loss",
         "type": "scatter",
         "y": [
          0.33466002345085144,
          0.10265842080116272,
          0.03681441769003868,
          0.01648339442908764,
          0.005352995824068785,
          0.0023052291944622993,
          0.0022041513584554195,
          0.0009076999849639833,
          0.0002200963645009324,
          0.00004192733467789367,
          0.000015109141713764984,
          0.000007662439202249516,
          0.000008718859135115054,
          0.000005230408078205073,
          0.0000024735581973800436,
          0.000002174119344999781,
          0.0000019157546375936363,
          0.0000013726257748203352,
          0.0000012847174275520956,
          9.098532132156834e-7,
          9.70063865679549e-7,
          0.0000016064735746113001,
          0.0000010015776297223056,
          4.311849863825046e-7,
          5.829835458825983e-7,
          3.348478117004561e-7,
          2.5449926965848135e-7,
          2.575799271653523e-7,
          5.392365665102261e-7,
          5.650890102515405e-7,
          2.8191476530992077e-7,
          2.238960661316014e-7,
          1.2796897408406949e-7,
          1.0007481421325792e-7,
          1.9093013747806253e-7,
          1.752369485075178e-7,
          1.8293590642315394e-7,
          1.5147229248668737e-7,
          2.0137365197570034e-7,
          5.736789177035462e-8,
          1.6078524822660256e-7,
          1.0342151313125214e-7,
          9.908368525657352e-8,
          7.278187297288241e-8,
          1.1420191015076853e-7,
          7.396972279138936e-8,
          7.909537202976935e-8,
          5.0935906159566e-8,
          2.0230369557339145e-7,
          1.0077884837755846e-7,
          4.272691001006024e-8,
          5.272449499216236e-8,
          7.351484754281046e-8,
          4.024104427458042e-8,
          3.9610601021422553e-8,
          4.091998562216759e-8,
          2.8600277701684718e-8,
          3.196585041109756e-8,
          6.967023580273235e-8,
          6.626019199984512e-8,
          2.8659789208518305e-8,
          2.4004586762771396e-8,
          2.9089374464774664e-8,
          2.4593340697265376e-8,
          3.900730760619808e-8,
          4.19899954806624e-8,
          3.0105045567552224e-8,
          3.412252169709973e-8,
          2.530067177985984e-8,
          6.220063397677222e-8,
          2.3495413614682548e-8,
          2.0671485856382787e-8,
          2.2141923849972045e-8,
          2.0383849275162902e-8,
          2.850155311762137e-8,
          1.1991127202293228e-8,
          2.7028642435311667e-8,
          1.5445694501181606e-8,
          2.0731686589670062e-8,
          1.2340932720178444e-8,
          3.261031977785933e-8,
          1.6671423352931924e-8,
          1.932413873362293e-8,
          2.4261977316086814e-8,
          3.010816840287589e-8,
          8.049220667771806e-8,
          2.556510558804348e-8,
          1.3927612840802794e-8,
          1.3359565009807284e-8,
          7.93198928761285e-9,
          2.8119549355665185e-8,
          7.218182052071143e-9,
          6.8493397620272845e-9,
          1.013977080077666e-8,
          9.011262847025137e-9,
          2.676328847428522e-8,
          7.3029529090717915e-9,
          7.387408018644237e-9,
          1.373599456400143e-8,
          1.4787880253663843e-8,
          4.3372536673302875e-9,
          1.0678483874926314e-8,
          9.647701304515977e-9,
          9.017729674098973e-9,
          1.5907211547983025e-8,
          8.933661810317517e-9,
          9.290727298605361e-9,
          1.3988263880548857e-8,
          7.355328346392298e-9,
          5.517926116027638e-9,
          6.726601942119714e-9,
          6.610483715974169e-9,
          2.7114367640024284e-8,
          9.186996052790164e-9,
          9.781805587749659e-9,
          7.470807084075659e-9,
          1.2148817063462047e-8,
          9.191842842426468e-9,
          3.458894326513473e-8,
          6.539925490045562e-9,
          8.614994939648568e-9,
          6.052211620755088e-9,
          1.3935685494459449e-8,
          8.100123238818924e-9,
          4.993896851601676e-9,
          3.4217777500344937e-9,
          4.371322415153145e-9,
          6.534114138645464e-9,
          1.1117959886064455e-8,
          3.455799868490317e-9,
          4.786635088294133e-9,
          3.445969554149997e-8,
          3.2721616527453534e-9,
          7.107749055990098e-9,
          4.933472297352637e-9,
          5.68908520293121e-9,
          6.562629106809936e-9,
          3.983232410575965e-9,
          3.6248082313505847e-9,
          7.180796846029125e-9,
          2.6901678662483164e-9,
          3.6350236154447657e-9,
          6.078613168369884e-9,
          7.550264413680452e-9,
          3.2017908324633026e-9,
          5.455294882494854e-9,
          1.5811123077469347e-8,
          6.018852083400361e-9,
          2.1276409523096618e-9,
          2.092598316849603e-9,
          5.689365867311835e-9,
          6.716061928813133e-9,
          2.323628178757531e-9,
          3.670105774844501e-9,
          4.530674058145223e-9,
          2.118903275061257e-9,
          3.910389789751889e-9,
          2.8715210209639963e-9,
          3.5877838477915702e-9,
          5.288192550523263e-9,
          3.821570171425037e-9,
          3.2329459109803338e-9,
          1.9267856199434163e-9,
          3.070055987208775e-9,
          3.723149344381227e-9,
          2.6503186312254456e-9,
          1.8498770293362554e-9,
          6.256814621963258e-9,
          2.227447559732809e-9,
          2.1081165701986038e-9,
          1.7341181823837815e-9,
          4.946544507333783e-9,
          3.4930940362443152e-9,
          2.363102824531893e-9,
          6.750462855364958e-9,
          1.8358914388727499e-9,
          2.6420696741524807e-9,
          2.0615043005989264e-9,
          2.2182089498556934e-9,
          6.436184474267748e-9,
          5.595631513699573e-9,
          5.614746001469939e-9,
          5.0917621230439636e-9,
          2.6491662197258847e-9,
          2.6549598075575886e-9,
          1.8962966752411603e-9,
          2.793240305720701e-9,
          3.4414742167143686e-9,
          2.5312216767048312e-9,
          1.6759343912653435e-9,
          1.491071932591126e-9,
          2.8312225897053622e-9,
          3.763761746711225e-9,
          1.937875415691792e-9,
          1.3098118145649096e-9,
          1.127939075473705e-9,
          1.4057419672752758e-9,
          2.3899409118399717e-9,
          2.3135113824679365e-9,
          2.809655619273599e-9
         ]
        },
        {
         "mode": "lines",
         "name": "Validation loss",
         "type": "scatter",
         "y": [
          0.19380302727222443,
          0.06391724199056625,
          0.0629262924194336,
          0.07219228148460388,
          0.07911743968725204,
          0.07815149426460266,
          0.09263160079717636,
          0.10265132784843445,
          0.11692128330469131,
          0.12748286128044128,
          0.13822035491466522,
          0.14493420720100403,
          0.15231619775295258,
          0.15773972868919373,
          0.16305606067180634,
          0.16648608446121216,
          0.1686074584722519,
          0.17399035394191742,
          0.17642603814601898,
          0.17557115852832794,
          0.18432971835136414,
          0.17544010281562805,
          0.1814286708831787,
          0.18731385469436646,
          0.18760614097118378,
          0.191178560256958,
          0.1938217282295227,
          0.19498978555202484,
          0.19521643221378326,
          0.18933184444904327,
          0.1940935105085373,
          0.19870136678218842,
          0.20235668122768402,
          0.20466731488704681,
          0.20787836611270905,
          0.21010252833366394,
          0.20932254195213318,
          0.20938590168952942,
          0.21507826447486877,
          0.21629412472248077,
          0.21468836069107056,
          0.21683049201965332,
          0.21857313811779022,
          0.21863701939582825,
          0.21960483491420746,
          0.22073163092136383,
          0.22247499227523804,
          0.22325798869132996,
          0.21690261363983154,
          0.21781599521636963,
          0.21972228586673737,
          0.2202024906873703,
          0.22326786816120148,
          0.22546935081481934,
          0.22639594972133636,
          0.22622942924499512,
          0.22709642350673676,
          0.22811727225780487,
          0.23086155951023102,
          0.22987686097621918,
          0.22920939326286316,
          0.23023159801959991,
          0.23090986907482147,
          0.23231296241283417,
          0.23301729559898376,
          0.23277468979358673,
          0.23353783786296844,
          0.2344750016927719,
          0.23560002446174622,
          0.23806434869766235,
          0.2398744821548462,
          0.24006830155849457,
          0.2398347705602646,
          0.2404310405254364,
          0.24130074679851532,
          0.24240608513355255,
          0.24157460033893585,
          0.24203231930732727,
          0.24177369475364685,
          0.24240680038928986,
          0.2430092841386795,
          0.24438224732875824,
          0.24441231787204742,
          0.2447836846113205,
          0.24490399658679962,
          0.24004454910755157,
          0.2417048215866089,
          0.24346314370632172,
          0.2442585676908493,
          0.24479901790618896,
          0.2469782680273056,
          0.24734362959861755,
          0.2475559115409851,
          0.24800999462604523,
          0.24842047691345215,
          0.2483350783586502,
          0.2484755516052246,
          0.2487577497959137,
          0.24943231046199799,
          0.2506028115749359,
          0.25089895725250244,
          0.2515844404697418,
          0.252005934715271,
          0.2519833445549011,
          0.25072723627090454,
          0.25087910890579224,
          0.2514837682247162,
          0.2522471249103546,
          0.253124475479126,
          0.2538841962814331,
          0.2543679177761078,
          0.2543228566646576,
          0.2521663308143616,
          0.2532760202884674,
          0.2531970739364624,
          0.2538034915924072,
          0.253117173910141,
          0.2542616128921509,
          0.25984999537467957,
          0.2606789469718933,
          0.26060041785240173,
          0.26044532656669617,
          0.2605951726436615,
          0.2609364092350006,
          0.2606953978538513,
          0.2609584927558899,
          0.2610681354999542,
          0.26122674345970154,
          0.26259496808052063,
          0.26273998618125916,
          0.26276537775993347,
          0.26876670122146606,
          0.26893913745880127,
          0.2680875360965729,
          0.2675584852695465,
          0.26706066727638245,
          0.2665698826313019,
          0.2665961980819702,
          0.26650434732437134,
          0.2661251723766327,
          0.26570215821266174,
          0.26581552624702454,
          0.2652161121368408,
          0.2654575705528259,
          0.2653420567512512,
          0.2660432755947113,
          0.2649875581264496,
          0.26497751474380493,
          0.2651382386684418,
          0.2653454840183258,
          0.26546522974967957,
          0.2660585343837738,
          0.26646533608436584,
          0.26654914021492004,
          0.26648491621017456,
          0.26686203479766846,
          0.2676125764846802,
          0.2678718864917755,
          0.2682555615901947,
          0.26853281259536743,
          0.2685357630252838,
          0.26883038878440857,
          0.2689369022846222,
          0.26888659596443176,
          0.2687804400920868,
          0.26884201169013977,
          0.26903605461120605,
          0.2698034644126892,
          0.2700430452823639,
          0.2702696919441223,
          0.27052488923072815,
          0.2710432708263397,
          0.27160322666168213,
          0.27209386229515076,
          0.2719876170158386,
          0.27188363671302795,
          0.27158352732658386,
          0.2719295620918274,
          0.2717953026294708,
          0.27271926403045654,
          0.27362552285194397,
          0.2737573981285095,
          0.27376624941825867,
          0.27386537194252014,
          0.2742080092430115,
          0.2742869257926941,
          0.2739887237548828,
          0.2743006944656372,
          0.2744114100933075,
          0.2745908796787262,
          0.2747058868408203,
          0.275233656167984,
          0.2751765251159668,
          0.27531224489212036,
          0.27539923787117004,
          0.2754512429237366,
          0.27569976449012756,
          0.2757120132446289,
          0.2756940424442291,
          0.27650806307792664
         ]
        }
       ],
       "layout": {
        "template": {
         "data": {
          "bar": [
           {
            "error_x": {
             "color": "#2a3f5f"
            },
            "error_y": {
             "color": "#2a3f5f"
            },
            "marker": {
             "line": {
              "color": "#E5ECF6",
              "width": 0.5
             },
             "pattern": {
              "fillmode": "overlay",
              "size": 10,
              "solidity": 0.2
             }
            },
            "type": "bar"
           }
          ],
          "barpolar": [
           {
            "marker": {
             "line": {
              "color": "#E5ECF6",
              "width": 0.5
             },
             "pattern": {
              "fillmode": "overlay",
              "size": 10,
              "solidity": 0.2
             }
            },
            "type": "barpolar"
           }
          ],
          "carpet": [
           {
            "aaxis": {
             "endlinecolor": "#2a3f5f",
             "gridcolor": "white",
             "linecolor": "white",
             "minorgridcolor": "white",
             "startlinecolor": "#2a3f5f"
            },
            "baxis": {
             "endlinecolor": "#2a3f5f",
             "gridcolor": "white",
             "linecolor": "white",
             "minorgridcolor": "white",
             "startlinecolor": "#2a3f5f"
            },
            "type": "carpet"
           }
          ],
          "choropleth": [
           {
            "colorbar": {
             "outlinewidth": 0,
             "ticks": ""
            },
            "type": "choropleth"
           }
          ],
          "contour": [
           {
            "colorbar": {
             "outlinewidth": 0,
             "ticks": ""
            },
            "colorscale": [
             [
              0,
              "#0d0887"
             ],
             [
              0.1111111111111111,
              "#46039f"
             ],
             [
              0.2222222222222222,
              "#7201a8"
             ],
             [
              0.3333333333333333,
              "#9c179e"
             ],
             [
              0.4444444444444444,
              "#bd3786"
             ],
             [
              0.5555555555555556,
              "#d8576b"
             ],
             [
              0.6666666666666666,
              "#ed7953"
             ],
             [
              0.7777777777777778,
              "#fb9f3a"
             ],
             [
              0.8888888888888888,
              "#fdca26"
             ],
             [
              1,
              "#f0f921"
             ]
            ],
            "type": "contour"
           }
          ],
          "contourcarpet": [
           {
            "colorbar": {
             "outlinewidth": 0,
             "ticks": ""
            },
            "type": "contourcarpet"
           }
          ],
          "heatmap": [
           {
            "colorbar": {
             "outlinewidth": 0,
             "ticks": ""
            },
            "colorscale": [
             [
              0,
              "#0d0887"
             ],
             [
              0.1111111111111111,
              "#46039f"
             ],
             [
              0.2222222222222222,
              "#7201a8"
             ],
             [
              0.3333333333333333,
              "#9c179e"
             ],
             [
              0.4444444444444444,
              "#bd3786"
             ],
             [
              0.5555555555555556,
              "#d8576b"
             ],
             [
              0.6666666666666666,
              "#ed7953"
             ],
             [
              0.7777777777777778,
              "#fb9f3a"
             ],
             [
              0.8888888888888888,
              "#fdca26"
             ],
             [
              1,
              "#f0f921"
             ]
            ],
            "type": "heatmap"
           }
          ],
          "heatmapgl": [
           {
            "colorbar": {
             "outlinewidth": 0,
             "ticks": ""
            },
            "colorscale": [
             [
              0,
              "#0d0887"
             ],
             [
              0.1111111111111111,
              "#46039f"
             ],
             [
              0.2222222222222222,
              "#7201a8"
             ],
             [
              0.3333333333333333,
              "#9c179e"
             ],
             [
              0.4444444444444444,
              "#bd3786"
             ],
             [
              0.5555555555555556,
              "#d8576b"
             ],
             [
              0.6666666666666666,
              "#ed7953"
             ],
             [
              0.7777777777777778,
              "#fb9f3a"
             ],
             [
              0.8888888888888888,
              "#fdca26"
             ],
             [
              1,
              "#f0f921"
             ]
            ],
            "type": "heatmapgl"
           }
          ],
          "histogram": [
           {
            "marker": {
             "pattern": {
              "fillmode": "overlay",
              "size": 10,
              "solidity": 0.2
             }
            },
            "type": "histogram"
           }
          ],
          "histogram2d": [
           {
            "colorbar": {
             "outlinewidth": 0,
             "ticks": ""
            },
            "colorscale": [
             [
              0,
              "#0d0887"
             ],
             [
              0.1111111111111111,
              "#46039f"
             ],
             [
              0.2222222222222222,
              "#7201a8"
             ],
             [
              0.3333333333333333,
              "#9c179e"
             ],
             [
              0.4444444444444444,
              "#bd3786"
             ],
             [
              0.5555555555555556,
              "#d8576b"
             ],
             [
              0.6666666666666666,
              "#ed7953"
             ],
             [
              0.7777777777777778,
              "#fb9f3a"
             ],
             [
              0.8888888888888888,
              "#fdca26"
             ],
             [
              1,
              "#f0f921"
             ]
            ],
            "type": "histogram2d"
           }
          ],
          "histogram2dcontour": [
           {
            "colorbar": {
             "outlinewidth": 0,
             "ticks": ""
            },
            "colorscale": [
             [
              0,
              "#0d0887"
             ],
             [
              0.1111111111111111,
              "#46039f"
             ],
             [
              0.2222222222222222,
              "#7201a8"
             ],
             [
              0.3333333333333333,
              "#9c179e"
             ],
             [
              0.4444444444444444,
              "#bd3786"
             ],
             [
              0.5555555555555556,
              "#d8576b"
             ],
             [
              0.6666666666666666,
              "#ed7953"
             ],
             [
              0.7777777777777778,
              "#fb9f3a"
             ],
             [
              0.8888888888888888,
              "#fdca26"
             ],
             [
              1,
              "#f0f921"
             ]
            ],
            "type": "histogram2dcontour"
           }
          ],
          "mesh3d": [
           {
            "colorbar": {
             "outlinewidth": 0,
             "ticks": ""
            },
            "type": "mesh3d"
           }
          ],
          "parcoords": [
           {
            "line": {
             "colorbar": {
              "outlinewidth": 0,
              "ticks": ""
             }
            },
            "type": "parcoords"
           }
          ],
          "pie": [
           {
            "automargin": true,
            "type": "pie"
           }
          ],
          "scatter": [
           {
            "fillpattern": {
             "fillmode": "overlay",
             "size": 10,
             "solidity": 0.2
            },
            "type": "scatter"
           }
          ],
          "scatter3d": [
           {
            "line": {
             "colorbar": {
              "outlinewidth": 0,
              "ticks": ""
             }
            },
            "marker": {
             "colorbar": {
              "outlinewidth": 0,
              "ticks": ""
             }
            },
            "type": "scatter3d"
           }
          ],
          "scattercarpet": [
           {
            "marker": {
             "colorbar": {
              "outlinewidth": 0,
              "ticks": ""
             }
            },
            "type": "scattercarpet"
           }
          ],
          "scattergeo": [
           {
            "marker": {
             "colorbar": {
              "outlinewidth": 0,
              "ticks": ""
             }
            },
            "type": "scattergeo"
           }
          ],
          "scattergl": [
           {
            "marker": {
             "colorbar": {
              "outlinewidth": 0,
              "ticks": ""
             }
            },
            "type": "scattergl"
           }
          ],
          "scattermapbox": [
           {
            "marker": {
             "colorbar": {
              "outlinewidth": 0,
              "ticks": ""
             }
            },
            "type": "scattermapbox"
           }
          ],
          "scatterpolar": [
           {
            "marker": {
             "colorbar": {
              "outlinewidth": 0,
              "ticks": ""
             }
            },
            "type": "scatterpolar"
           }
          ],
          "scatterpolargl": [
           {
            "marker": {
             "colorbar": {
              "outlinewidth": 0,
              "ticks": ""
             }
            },
            "type": "scatterpolargl"
           }
          ],
          "scatterternary": [
           {
            "marker": {
             "colorbar": {
              "outlinewidth": 0,
              "ticks": ""
             }
            },
            "type": "scatterternary"
           }
          ],
          "surface": [
           {
            "colorbar": {
             "outlinewidth": 0,
             "ticks": ""
            },
            "colorscale": [
             [
              0,
              "#0d0887"
             ],
             [
              0.1111111111111111,
              "#46039f"
             ],
             [
              0.2222222222222222,
              "#7201a8"
             ],
             [
              0.3333333333333333,
              "#9c179e"
             ],
             [
              0.4444444444444444,
              "#bd3786"
             ],
             [
              0.5555555555555556,
              "#d8576b"
             ],
             [
              0.6666666666666666,
              "#ed7953"
             ],
             [
              0.7777777777777778,
              "#fb9f3a"
             ],
             [
              0.8888888888888888,
              "#fdca26"
             ],
             [
              1,
              "#f0f921"
             ]
            ],
            "type": "surface"
           }
          ],
          "table": [
           {
            "cells": {
             "fill": {
              "color": "#EBF0F8"
             },
             "line": {
              "color": "white"
             }
            },
            "header": {
             "fill": {
              "color": "#C8D4E3"
             },
             "line": {
              "color": "white"
             }
            },
            "type": "table"
           }
          ]
         },
         "layout": {
          "annotationdefaults": {
           "arrowcolor": "#2a3f5f",
           "arrowhead": 0,
           "arrowwidth": 1
          },
          "autotypenumbers": "strict",
          "coloraxis": {
           "colorbar": {
            "outlinewidth": 0,
            "ticks": ""
           }
          },
          "colorscale": {
           "diverging": [
            [
             0,
             "#8e0152"
            ],
            [
             0.1,
             "#c51b7d"
            ],
            [
             0.2,
             "#de77ae"
            ],
            [
             0.3,
             "#f1b6da"
            ],
            [
             0.4,
             "#fde0ef"
            ],
            [
             0.5,
             "#f7f7f7"
            ],
            [
             0.6,
             "#e6f5d0"
            ],
            [
             0.7,
             "#b8e186"
            ],
            [
             0.8,
             "#7fbc41"
            ],
            [
             0.9,
             "#4d9221"
            ],
            [
             1,
             "#276419"
            ]
           ],
           "sequential": [
            [
             0,
             "#0d0887"
            ],
            [
             0.1111111111111111,
             "#46039f"
            ],
            [
             0.2222222222222222,
             "#7201a8"
            ],
            [
             0.3333333333333333,
             "#9c179e"
            ],
            [
             0.4444444444444444,
             "#bd3786"
            ],
            [
             0.5555555555555556,
             "#d8576b"
            ],
            [
             0.6666666666666666,
             "#ed7953"
            ],
            [
             0.7777777777777778,
             "#fb9f3a"
            ],
            [
             0.8888888888888888,
             "#fdca26"
            ],
            [
             1,
             "#f0f921"
            ]
           ],
           "sequentialminus": [
            [
             0,
             "#0d0887"
            ],
            [
             0.1111111111111111,
             "#46039f"
            ],
            [
             0.2222222222222222,
             "#7201a8"
            ],
            [
             0.3333333333333333,
             "#9c179e"
            ],
            [
             0.4444444444444444,
             "#bd3786"
            ],
            [
             0.5555555555555556,
             "#d8576b"
            ],
            [
             0.6666666666666666,
             "#ed7953"
            ],
            [
             0.7777777777777778,
             "#fb9f3a"
            ],
            [
             0.8888888888888888,
             "#fdca26"
            ],
            [
             1,
             "#f0f921"
            ]
           ]
          },
          "colorway": [
           "#636efa",
           "#EF553B",
           "#00cc96",
           "#ab63fa",
           "#FFA15A",
           "#19d3f3",
           "#FF6692",
           "#B6E880",
           "#FF97FF",
           "#FECB52"
          ],
          "font": {
           "color": "#2a3f5f"
          },
          "geo": {
           "bgcolor": "white",
           "lakecolor": "white",
           "landcolor": "#E5ECF6",
           "showlakes": true,
           "showland": true,
           "subunitcolor": "white"
          },
          "hoverlabel": {
           "align": "left"
          },
          "hovermode": "closest",
          "mapbox": {
           "style": "light"
          },
          "paper_bgcolor": "white",
          "plot_bgcolor": "#E5ECF6",
          "polar": {
           "angularaxis": {
            "gridcolor": "white",
            "linecolor": "white",
            "ticks": ""
           },
           "bgcolor": "#E5ECF6",
           "radialaxis": {
            "gridcolor": "white",
            "linecolor": "white",
            "ticks": ""
           }
          },
          "scene": {
           "xaxis": {
            "backgroundcolor": "#E5ECF6",
            "gridcolor": "white",
            "gridwidth": 2,
            "linecolor": "white",
            "showbackground": true,
            "ticks": "",
            "zerolinecolor": "white"
           },
           "yaxis": {
            "backgroundcolor": "#E5ECF6",
            "gridcolor": "white",
            "gridwidth": 2,
            "linecolor": "white",
            "showbackground": true,
            "ticks": "",
            "zerolinecolor": "white"
           },
           "zaxis": {
            "backgroundcolor": "#E5ECF6",
            "gridcolor": "white",
            "gridwidth": 2,
            "linecolor": "white",
            "showbackground": true,
            "ticks": "",
            "zerolinecolor": "white"
           }
          },
          "shapedefaults": {
           "line": {
            "color": "#2a3f5f"
           }
          },
          "ternary": {
           "aaxis": {
            "gridcolor": "white",
            "linecolor": "white",
            "ticks": ""
           },
           "baxis": {
            "gridcolor": "white",
            "linecolor": "white",
            "ticks": ""
           },
           "bgcolor": "#E5ECF6",
           "caxis": {
            "gridcolor": "white",
            "linecolor": "white",
            "ticks": ""
           }
          },
          "title": {
           "x": 0.05
          },
          "xaxis": {
           "automargin": true,
           "gridcolor": "white",
           "linecolor": "white",
           "ticks": "",
           "title": {
            "standoff": 15
           },
           "zerolinecolor": "white",
           "zerolinewidth": 2
          },
          "yaxis": {
           "automargin": true,
           "gridcolor": "white",
           "linecolor": "white",
           "ticks": "",
           "title": {
            "standoff": 15
           },
           "zerolinecolor": "white",
           "zerolinewidth": 2
          }
         }
        },
        "title": {
         "text": "Training and val loss across epochs"
        },
        "xaxis": {
         "title": {
          "text": "epochs"
         }
        },
        "yaxis": {
         "title": {
          "text": "Cross Entropy"
         }
        }
       }
      }
     },
     "metadata": {},
     "output_type": "display_data"
    }
   ],
   "source": [
    "fig = go.Figure(data=[\n",
    "                      go.Scatter(\n",
    "                          y=history.history[\"loss\"],\n",
    "                          name=\"Training loss\",\n",
    "                          mode=\"lines\",\n",
    "                      ),\n",
    "                      go.Scatter(\n",
    "                          y=history.history[\"val_loss\"],\n",
    "                          name=\"Validation loss\",\n",
    "                          mode=\"lines\",\n",
    "                      )\n",
    "])\n",
    "fig.update_layout(\n",
    "    title='Training and val loss across epochs',\n",
    "    xaxis_title='epochs',\n",
    "    yaxis_title='Cross Entropy'    \n",
    ")\n",
    "fig.show()"
   ]
  },
  {
   "cell_type": "code",
   "execution_count": 16,
   "metadata": {},
   "outputs": [
    {
     "data": {
      "application/vnd.plotly.v1+json": {
       "config": {
        "plotlyServerURL": "https://plot.ly"
       },
       "data": [
        {
         "mode": "lines",
         "name": "Training precision",
         "type": "scatter",
         "y": [
          0.5,
          0.9350104928016663,
          0.9818913340568542,
          0.9845260977745056,
          0.9980695247650146,
          0.9980879426002502,
          0.9942638874053955,
          0.998084306716919,
          1,
          1,
          1,
          1,
          1,
          1,
          1,
          1,
          1,
          1,
          1,
          1,
          1,
          1,
          1,
          1,
          1,
          1,
          1,
          1,
          1,
          1,
          1,
          1,
          1,
          1,
          1,
          1,
          1,
          1,
          1,
          1,
          1,
          1,
          1,
          1,
          1,
          1,
          1,
          1,
          1,
          1,
          1,
          1,
          1,
          1,
          1,
          1,
          1,
          1,
          1,
          1,
          1,
          1,
          1,
          1,
          1,
          1,
          1,
          1,
          1,
          1,
          1,
          1,
          1,
          1,
          1,
          1,
          1,
          1,
          1,
          1,
          1,
          1,
          1,
          1,
          1,
          1,
          1,
          1,
          1,
          1,
          1,
          1,
          1,
          1,
          1,
          1,
          1,
          1,
          1,
          1,
          1,
          1,
          1,
          1,
          1,
          1,
          1,
          1,
          1,
          1,
          1,
          1,
          1,
          1,
          1,
          1,
          1,
          1,
          1,
          1,
          1,
          1,
          1,
          1,
          1,
          1,
          1,
          1,
          1,
          1,
          1,
          1,
          1,
          1,
          1,
          1,
          1,
          1,
          1,
          1,
          1,
          1,
          1,
          1,
          1,
          1,
          1,
          1,
          1,
          1,
          1,
          1,
          1,
          1,
          1,
          1,
          1,
          1,
          1,
          1,
          1,
          1,
          1,
          1,
          1,
          1,
          1,
          1,
          1,
          1,
          1,
          1,
          1,
          1,
          1,
          1,
          1,
          1,
          1,
          1,
          1,
          1,
          1,
          1,
          1,
          1,
          1,
          1,
          1,
          1,
          1,
          1,
          1,
          1,
          1,
          1,
          1,
          1,
          1,
          1
         ]
        },
        {
         "mode": "lines",
         "name": "Validation precision",
         "type": "scatter",
         "y": [
          1,
          0.9851484894752502,
          0.9852941036224365,
          0.9950248599052429,
          0.976190447807312,
          0.9626168012619019,
          0.9855072498321533,
          0.9901960492134094,
          0.9901960492134094,
          0.9902912378311157,
          0.9902912378311157,
          0.9902912378311157,
          0.9902439117431641,
          0.9902439117431641,
          0.9902439117431641,
          0.9902439117431641,
          0.9902439117431641,
          0.9902439117431641,
          0.9902439117431641,
          0.9902912378311157,
          0.9902439117431641,
          0.9760765433311462,
          0.9902912378311157,
          0.9902439117431641,
          0.9902912378311157,
          0.9902439117431641,
          0.9902439117431641,
          0.9902439117431641,
          0.9902439117431641,
          0.9760765433311462,
          0.9807692170143127,
          0.9855072498321533,
          0.9902912378311157,
          0.9902912378311157,
          0.9902439117431641,
          0.9902439117431641,
          0.9902439117431641,
          0.9902912378311157,
          0.9902439117431641,
          0.9902439117431641,
          0.9902439117431641,
          0.9902439117431641,
          0.9902439117431641,
          0.9902439117431641,
          0.9902439117431641,
          0.9902439117431641,
          0.9902439117431641,
          0.9902439117431641,
          0.9855072498321533,
          0.9855072498321533,
          0.9855072498321533,
          0.9855072498321533,
          0.9902912378311157,
          0.9902439117431641,
          0.9902439117431641,
          0.9902439117431641,
          0.9902439117431641,
          0.9902439117431641,
          0.9902439117431641,
          0.9902439117431641,
          0.9902439117431641,
          0.9902439117431641,
          0.9902439117431641,
          0.9902439117431641,
          0.9902439117431641,
          0.9902439117431641,
          0.9902439117431641,
          0.9902439117431641,
          0.9902439117431641,
          0.9902439117431641,
          0.9902439117431641,
          0.9902439117431641,
          0.9902439117431641,
          0.9902439117431641,
          0.9902439117431641,
          0.9902439117431641,
          0.9902439117431641,
          0.9902439117431641,
          0.9902439117431641,
          0.9902439117431641,
          0.9902439117431641,
          0.9902439117431641,
          0.9902439117431641,
          0.9902439117431641,
          0.9902439117431641,
          0.9855072498321533,
          0.9855072498321533,
          0.9902912378311157,
          0.9902912378311157,
          0.9902912378311157,
          0.9902439117431641,
          0.9902439117431641,
          0.9902439117431641,
          0.9902439117431641,
          0.9902439117431641,
          0.9902439117431641,
          0.9902439117431641,
          0.9902439117431641,
          0.9902439117431641,
          0.9902439117431641,
          0.9902439117431641,
          0.9902439117431641,
          0.9902439117431641,
          0.9902439117431641,
          0.9902439117431641,
          0.9902439117431641,
          0.9902439117431641,
          0.9902439117431641,
          0.9902439117431641,
          0.9902439117431641,
          0.9902439117431641,
          0.9902439117431641,
          0.9902912378311157,
          0.9902439117431641,
          0.9902439117431641,
          0.9902439117431641,
          0.9855072498321533,
          0.9902439117431641,
          0.9902439117431641,
          0.9902439117431641,
          0.9902439117431641,
          0.9902439117431641,
          0.9902439117431641,
          0.9902439117431641,
          0.9902439117431641,
          0.9902439117431641,
          0.9902439117431641,
          0.9902439117431641,
          0.9902439117431641,
          0.9902439117431641,
          0.9902439117431641,
          0.9902439117431641,
          0.9902439117431641,
          0.9902439117431641,
          0.9902439117431641,
          0.9902439117431641,
          0.9902439117431641,
          0.9902439117431641,
          0.9902439117431641,
          0.9902439117431641,
          0.9902439117431641,
          0.9902439117431641,
          0.9902439117431641,
          0.9902439117431641,
          0.9902439117431641,
          0.9902439117431641,
          0.9902439117431641,
          0.9902439117431641,
          0.9902439117431641,
          0.9902439117431641,
          0.9902439117431641,
          0.9902439117431641,
          0.9902439117431641,
          0.9902439117431641,
          0.9902439117431641,
          0.9902439117431641,
          0.9902439117431641,
          0.9902439117431641,
          0.9902439117431641,
          0.9902439117431641,
          0.9902439117431641,
          0.9902439117431641,
          0.9902439117431641,
          0.9902439117431641,
          0.9902439117431641,
          0.9902439117431641,
          0.9902439117431641,
          0.9902439117431641,
          0.9902439117431641,
          0.9902439117431641,
          0.9902439117431641,
          0.9902439117431641,
          0.9902439117431641,
          0.9902439117431641,
          0.9902439117431641,
          0.9902439117431641,
          0.9902439117431641,
          0.9902439117431641,
          0.9902439117431641,
          0.9902439117431641,
          0.9902439117431641,
          0.9902439117431641,
          0.9902439117431641,
          0.9902439117431641,
          0.9902439117431641,
          0.9902439117431641,
          0.9902439117431641,
          0.9902439117431641,
          0.9902439117431641,
          0.9902439117431641,
          0.9902439117431641,
          0.9902439117431641,
          0.9902439117431641,
          0.9902439117431641,
          0.9902439117431641,
          0.9902439117431641,
          0.9902439117431641,
          0.9902439117431641,
          0.9902439117431641,
          0.9902439117431641
         ]
        }
       ],
       "layout": {
        "template": {
         "data": {
          "bar": [
           {
            "error_x": {
             "color": "#2a3f5f"
            },
            "error_y": {
             "color": "#2a3f5f"
            },
            "marker": {
             "line": {
              "color": "#E5ECF6",
              "width": 0.5
             },
             "pattern": {
              "fillmode": "overlay",
              "size": 10,
              "solidity": 0.2
             }
            },
            "type": "bar"
           }
          ],
          "barpolar": [
           {
            "marker": {
             "line": {
              "color": "#E5ECF6",
              "width": 0.5
             },
             "pattern": {
              "fillmode": "overlay",
              "size": 10,
              "solidity": 0.2
             }
            },
            "type": "barpolar"
           }
          ],
          "carpet": [
           {
            "aaxis": {
             "endlinecolor": "#2a3f5f",
             "gridcolor": "white",
             "linecolor": "white",
             "minorgridcolor": "white",
             "startlinecolor": "#2a3f5f"
            },
            "baxis": {
             "endlinecolor": "#2a3f5f",
             "gridcolor": "white",
             "linecolor": "white",
             "minorgridcolor": "white",
             "startlinecolor": "#2a3f5f"
            },
            "type": "carpet"
           }
          ],
          "choropleth": [
           {
            "colorbar": {
             "outlinewidth": 0,
             "ticks": ""
            },
            "type": "choropleth"
           }
          ],
          "contour": [
           {
            "colorbar": {
             "outlinewidth": 0,
             "ticks": ""
            },
            "colorscale": [
             [
              0,
              "#0d0887"
             ],
             [
              0.1111111111111111,
              "#46039f"
             ],
             [
              0.2222222222222222,
              "#7201a8"
             ],
             [
              0.3333333333333333,
              "#9c179e"
             ],
             [
              0.4444444444444444,
              "#bd3786"
             ],
             [
              0.5555555555555556,
              "#d8576b"
             ],
             [
              0.6666666666666666,
              "#ed7953"
             ],
             [
              0.7777777777777778,
              "#fb9f3a"
             ],
             [
              0.8888888888888888,
              "#fdca26"
             ],
             [
              1,
              "#f0f921"
             ]
            ],
            "type": "contour"
           }
          ],
          "contourcarpet": [
           {
            "colorbar": {
             "outlinewidth": 0,
             "ticks": ""
            },
            "type": "contourcarpet"
           }
          ],
          "heatmap": [
           {
            "colorbar": {
             "outlinewidth": 0,
             "ticks": ""
            },
            "colorscale": [
             [
              0,
              "#0d0887"
             ],
             [
              0.1111111111111111,
              "#46039f"
             ],
             [
              0.2222222222222222,
              "#7201a8"
             ],
             [
              0.3333333333333333,
              "#9c179e"
             ],
             [
              0.4444444444444444,
              "#bd3786"
             ],
             [
              0.5555555555555556,
              "#d8576b"
             ],
             [
              0.6666666666666666,
              "#ed7953"
             ],
             [
              0.7777777777777778,
              "#fb9f3a"
             ],
             [
              0.8888888888888888,
              "#fdca26"
             ],
             [
              1,
              "#f0f921"
             ]
            ],
            "type": "heatmap"
           }
          ],
          "heatmapgl": [
           {
            "colorbar": {
             "outlinewidth": 0,
             "ticks": ""
            },
            "colorscale": [
             [
              0,
              "#0d0887"
             ],
             [
              0.1111111111111111,
              "#46039f"
             ],
             [
              0.2222222222222222,
              "#7201a8"
             ],
             [
              0.3333333333333333,
              "#9c179e"
             ],
             [
              0.4444444444444444,
              "#bd3786"
             ],
             [
              0.5555555555555556,
              "#d8576b"
             ],
             [
              0.6666666666666666,
              "#ed7953"
             ],
             [
              0.7777777777777778,
              "#fb9f3a"
             ],
             [
              0.8888888888888888,
              "#fdca26"
             ],
             [
              1,
              "#f0f921"
             ]
            ],
            "type": "heatmapgl"
           }
          ],
          "histogram": [
           {
            "marker": {
             "pattern": {
              "fillmode": "overlay",
              "size": 10,
              "solidity": 0.2
             }
            },
            "type": "histogram"
           }
          ],
          "histogram2d": [
           {
            "colorbar": {
             "outlinewidth": 0,
             "ticks": ""
            },
            "colorscale": [
             [
              0,
              "#0d0887"
             ],
             [
              0.1111111111111111,
              "#46039f"
             ],
             [
              0.2222222222222222,
              "#7201a8"
             ],
             [
              0.3333333333333333,
              "#9c179e"
             ],
             [
              0.4444444444444444,
              "#bd3786"
             ],
             [
              0.5555555555555556,
              "#d8576b"
             ],
             [
              0.6666666666666666,
              "#ed7953"
             ],
             [
              0.7777777777777778,
              "#fb9f3a"
             ],
             [
              0.8888888888888888,
              "#fdca26"
             ],
             [
              1,
              "#f0f921"
             ]
            ],
            "type": "histogram2d"
           }
          ],
          "histogram2dcontour": [
           {
            "colorbar": {
             "outlinewidth": 0,
             "ticks": ""
            },
            "colorscale": [
             [
              0,
              "#0d0887"
             ],
             [
              0.1111111111111111,
              "#46039f"
             ],
             [
              0.2222222222222222,
              "#7201a8"
             ],
             [
              0.3333333333333333,
              "#9c179e"
             ],
             [
              0.4444444444444444,
              "#bd3786"
             ],
             [
              0.5555555555555556,
              "#d8576b"
             ],
             [
              0.6666666666666666,
              "#ed7953"
             ],
             [
              0.7777777777777778,
              "#fb9f3a"
             ],
             [
              0.8888888888888888,
              "#fdca26"
             ],
             [
              1,
              "#f0f921"
             ]
            ],
            "type": "histogram2dcontour"
           }
          ],
          "mesh3d": [
           {
            "colorbar": {
             "outlinewidth": 0,
             "ticks": ""
            },
            "type": "mesh3d"
           }
          ],
          "parcoords": [
           {
            "line": {
             "colorbar": {
              "outlinewidth": 0,
              "ticks": ""
             }
            },
            "type": "parcoords"
           }
          ],
          "pie": [
           {
            "automargin": true,
            "type": "pie"
           }
          ],
          "scatter": [
           {
            "fillpattern": {
             "fillmode": "overlay",
             "size": 10,
             "solidity": 0.2
            },
            "type": "scatter"
           }
          ],
          "scatter3d": [
           {
            "line": {
             "colorbar": {
              "outlinewidth": 0,
              "ticks": ""
             }
            },
            "marker": {
             "colorbar": {
              "outlinewidth": 0,
              "ticks": ""
             }
            },
            "type": "scatter3d"
           }
          ],
          "scattercarpet": [
           {
            "marker": {
             "colorbar": {
              "outlinewidth": 0,
              "ticks": ""
             }
            },
            "type": "scattercarpet"
           }
          ],
          "scattergeo": [
           {
            "marker": {
             "colorbar": {
              "outlinewidth": 0,
              "ticks": ""
             }
            },
            "type": "scattergeo"
           }
          ],
          "scattergl": [
           {
            "marker": {
             "colorbar": {
              "outlinewidth": 0,
              "ticks": ""
             }
            },
            "type": "scattergl"
           }
          ],
          "scattermapbox": [
           {
            "marker": {
             "colorbar": {
              "outlinewidth": 0,
              "ticks": ""
             }
            },
            "type": "scattermapbox"
           }
          ],
          "scatterpolar": [
           {
            "marker": {
             "colorbar": {
              "outlinewidth": 0,
              "ticks": ""
             }
            },
            "type": "scatterpolar"
           }
          ],
          "scatterpolargl": [
           {
            "marker": {
             "colorbar": {
              "outlinewidth": 0,
              "ticks": ""
             }
            },
            "type": "scatterpolargl"
           }
          ],
          "scatterternary": [
           {
            "marker": {
             "colorbar": {
              "outlinewidth": 0,
              "ticks": ""
             }
            },
            "type": "scatterternary"
           }
          ],
          "surface": [
           {
            "colorbar": {
             "outlinewidth": 0,
             "ticks": ""
            },
            "colorscale": [
             [
              0,
              "#0d0887"
             ],
             [
              0.1111111111111111,
              "#46039f"
             ],
             [
              0.2222222222222222,
              "#7201a8"
             ],
             [
              0.3333333333333333,
              "#9c179e"
             ],
             [
              0.4444444444444444,
              "#bd3786"
             ],
             [
              0.5555555555555556,
              "#d8576b"
             ],
             [
              0.6666666666666666,
              "#ed7953"
             ],
             [
              0.7777777777777778,
              "#fb9f3a"
             ],
             [
              0.8888888888888888,
              "#fdca26"
             ],
             [
              1,
              "#f0f921"
             ]
            ],
            "type": "surface"
           }
          ],
          "table": [
           {
            "cells": {
             "fill": {
              "color": "#EBF0F8"
             },
             "line": {
              "color": "white"
             }
            },
            "header": {
             "fill": {
              "color": "#C8D4E3"
             },
             "line": {
              "color": "white"
             }
            },
            "type": "table"
           }
          ]
         },
         "layout": {
          "annotationdefaults": {
           "arrowcolor": "#2a3f5f",
           "arrowhead": 0,
           "arrowwidth": 1
          },
          "autotypenumbers": "strict",
          "coloraxis": {
           "colorbar": {
            "outlinewidth": 0,
            "ticks": ""
           }
          },
          "colorscale": {
           "diverging": [
            [
             0,
             "#8e0152"
            ],
            [
             0.1,
             "#c51b7d"
            ],
            [
             0.2,
             "#de77ae"
            ],
            [
             0.3,
             "#f1b6da"
            ],
            [
             0.4,
             "#fde0ef"
            ],
            [
             0.5,
             "#f7f7f7"
            ],
            [
             0.6,
             "#e6f5d0"
            ],
            [
             0.7,
             "#b8e186"
            ],
            [
             0.8,
             "#7fbc41"
            ],
            [
             0.9,
             "#4d9221"
            ],
            [
             1,
             "#276419"
            ]
           ],
           "sequential": [
            [
             0,
             "#0d0887"
            ],
            [
             0.1111111111111111,
             "#46039f"
            ],
            [
             0.2222222222222222,
             "#7201a8"
            ],
            [
             0.3333333333333333,
             "#9c179e"
            ],
            [
             0.4444444444444444,
             "#bd3786"
            ],
            [
             0.5555555555555556,
             "#d8576b"
            ],
            [
             0.6666666666666666,
             "#ed7953"
            ],
            [
             0.7777777777777778,
             "#fb9f3a"
            ],
            [
             0.8888888888888888,
             "#fdca26"
            ],
            [
             1,
             "#f0f921"
            ]
           ],
           "sequentialminus": [
            [
             0,
             "#0d0887"
            ],
            [
             0.1111111111111111,
             "#46039f"
            ],
            [
             0.2222222222222222,
             "#7201a8"
            ],
            [
             0.3333333333333333,
             "#9c179e"
            ],
            [
             0.4444444444444444,
             "#bd3786"
            ],
            [
             0.5555555555555556,
             "#d8576b"
            ],
            [
             0.6666666666666666,
             "#ed7953"
            ],
            [
             0.7777777777777778,
             "#fb9f3a"
            ],
            [
             0.8888888888888888,
             "#fdca26"
            ],
            [
             1,
             "#f0f921"
            ]
           ]
          },
          "colorway": [
           "#636efa",
           "#EF553B",
           "#00cc96",
           "#ab63fa",
           "#FFA15A",
           "#19d3f3",
           "#FF6692",
           "#B6E880",
           "#FF97FF",
           "#FECB52"
          ],
          "font": {
           "color": "#2a3f5f"
          },
          "geo": {
           "bgcolor": "white",
           "lakecolor": "white",
           "landcolor": "#E5ECF6",
           "showlakes": true,
           "showland": true,
           "subunitcolor": "white"
          },
          "hoverlabel": {
           "align": "left"
          },
          "hovermode": "closest",
          "mapbox": {
           "style": "light"
          },
          "paper_bgcolor": "white",
          "plot_bgcolor": "#E5ECF6",
          "polar": {
           "angularaxis": {
            "gridcolor": "white",
            "linecolor": "white",
            "ticks": ""
           },
           "bgcolor": "#E5ECF6",
           "radialaxis": {
            "gridcolor": "white",
            "linecolor": "white",
            "ticks": ""
           }
          },
          "scene": {
           "xaxis": {
            "backgroundcolor": "#E5ECF6",
            "gridcolor": "white",
            "gridwidth": 2,
            "linecolor": "white",
            "showbackground": true,
            "ticks": "",
            "zerolinecolor": "white"
           },
           "yaxis": {
            "backgroundcolor": "#E5ECF6",
            "gridcolor": "white",
            "gridwidth": 2,
            "linecolor": "white",
            "showbackground": true,
            "ticks": "",
            "zerolinecolor": "white"
           },
           "zaxis": {
            "backgroundcolor": "#E5ECF6",
            "gridcolor": "white",
            "gridwidth": 2,
            "linecolor": "white",
            "showbackground": true,
            "ticks": "",
            "zerolinecolor": "white"
           }
          },
          "shapedefaults": {
           "line": {
            "color": "#2a3f5f"
           }
          },
          "ternary": {
           "aaxis": {
            "gridcolor": "white",
            "linecolor": "white",
            "ticks": ""
           },
           "baxis": {
            "gridcolor": "white",
            "linecolor": "white",
            "ticks": ""
           },
           "bgcolor": "#E5ECF6",
           "caxis": {
            "gridcolor": "white",
            "linecolor": "white",
            "ticks": ""
           }
          },
          "title": {
           "x": 0.05
          },
          "xaxis": {
           "automargin": true,
           "gridcolor": "white",
           "linecolor": "white",
           "ticks": "",
           "title": {
            "standoff": 15
           },
           "zerolinecolor": "white",
           "zerolinewidth": 2
          },
          "yaxis": {
           "automargin": true,
           "gridcolor": "white",
           "linecolor": "white",
           "ticks": "",
           "title": {
            "standoff": 15
           },
           "zerolinecolor": "white",
           "zerolinewidth": 2
          }
         }
        },
        "title": {
         "text": "Training and val precision across epochs"
        },
        "xaxis": {
         "title": {
          "text": "epochs"
         }
        },
        "yaxis": {
         "title": {
          "text": "Precision"
         }
        }
       }
      }
     },
     "metadata": {},
     "output_type": "display_data"
    }
   ],
   "source": [
    "fig = go.Figure(data=[\n",
    "                      go.Scatter(\n",
    "                          y=history.history[\"precision\"],\n",
    "                          name=\"Training precision\",\n",
    "                          mode=\"lines\",\n",
    "                      ),\n",
    "                      go.Scatter(\n",
    "                          y=history.history[\"val_precision\"],\n",
    "                          name=\"Validation precision\",\n",
    "                          mode=\"lines\",\n",
    "                      )\n",
    "])\n",
    "fig.update_layout(\n",
    "    title='Training and val precision across epochs',\n",
    "    xaxis_title='epochs',\n",
    "    yaxis_title='Precision'    \n",
    ")\n",
    "fig.show()"
   ]
  },
  {
   "cell_type": "code",
   "execution_count": 17,
   "metadata": {},
   "outputs": [
    {
     "data": {
      "application/vnd.plotly.v1+json": {
       "config": {
        "plotlyServerURL": "https://plot.ly"
       },
       "data": [
        {
         "mode": "lines",
         "name": "Training recall",
         "type": "scatter",
         "y": [
          0.03256705030798912,
          0.8544061183929443,
          0.9348658919334412,
          0.975095808506012,
          0.99042147397995,
          1,
          0.9961685538291931,
          0.998084306716919,
          1,
          1,
          1,
          1,
          1,
          1,
          1,
          1,
          1,
          1,
          1,
          1,
          1,
          1,
          1,
          1,
          1,
          1,
          1,
          1,
          1,
          1,
          1,
          1,
          1,
          1,
          1,
          1,
          1,
          1,
          1,
          1,
          1,
          1,
          1,
          1,
          1,
          1,
          1,
          1,
          1,
          1,
          1,
          1,
          1,
          1,
          1,
          1,
          1,
          1,
          1,
          1,
          1,
          1,
          1,
          1,
          1,
          1,
          1,
          1,
          1,
          1,
          1,
          1,
          1,
          1,
          1,
          1,
          1,
          1,
          1,
          1,
          1,
          1,
          1,
          1,
          1,
          1,
          1,
          1,
          1,
          1,
          1,
          1,
          1,
          1,
          1,
          1,
          1,
          1,
          1,
          1,
          1,
          1,
          1,
          1,
          1,
          1,
          1,
          1,
          1,
          1,
          1,
          1,
          1,
          1,
          1,
          1,
          1,
          1,
          1,
          1,
          1,
          1,
          1,
          1,
          1,
          1,
          1,
          1,
          1,
          1,
          1,
          1,
          1,
          1,
          1,
          1,
          1,
          1,
          1,
          1,
          1,
          1,
          1,
          1,
          1,
          1,
          1,
          1,
          1,
          1,
          1,
          1,
          1,
          1,
          1,
          1,
          1,
          1,
          1,
          1,
          1,
          1,
          1,
          1,
          1,
          1,
          1,
          1,
          1,
          1,
          1,
          1,
          1,
          1,
          1,
          1,
          1,
          1,
          1,
          1,
          1,
          1,
          1,
          1,
          1,
          1,
          1,
          1,
          1,
          1,
          1,
          1,
          1,
          1,
          1,
          1,
          1,
          1,
          1,
          1
         ]
        },
        {
         "mode": "lines",
         "name": "Validation recall",
         "type": "scatter",
         "y": [
          0.560538113117218,
          0.8923766613006592,
          0.9013453125953674,
          0.8968609571456909,
          0.9192824959754944,
          0.9237667918205261,
          0.9147982001304626,
          0.9058296084403992,
          0.9058296084403992,
          0.9147982001304626,
          0.9147982001304626,
          0.9147982001304626,
          0.9103139042854309,
          0.9103139042854309,
          0.9103139042854309,
          0.9103139042854309,
          0.9103139042854309,
          0.9103139042854309,
          0.9103139042854309,
          0.9147982001304626,
          0.9103139042854309,
          0.9147982001304626,
          0.9147982001304626,
          0.9103139042854309,
          0.9147982001304626,
          0.9103139042854309,
          0.9103139042854309,
          0.9103139042854309,
          0.9103139042854309,
          0.9147982001304626,
          0.9147982001304626,
          0.9147982001304626,
          0.9147982001304626,
          0.9147982001304626,
          0.9103139042854309,
          0.9103139042854309,
          0.9103139042854309,
          0.9147982001304626,
          0.9103139042854309,
          0.9103139042854309,
          0.9103139042854309,
          0.9103139042854309,
          0.9103139042854309,
          0.9103139042854309,
          0.9103139042854309,
          0.9103139042854309,
          0.9103139042854309,
          0.9103139042854309,
          0.9147982001304626,
          0.9147982001304626,
          0.9147982001304626,
          0.9147982001304626,
          0.9147982001304626,
          0.9103139042854309,
          0.9103139042854309,
          0.9103139042854309,
          0.9103139042854309,
          0.9103139042854309,
          0.9103139042854309,
          0.9103139042854309,
          0.9103139042854309,
          0.9103139042854309,
          0.9103139042854309,
          0.9103139042854309,
          0.9103139042854309,
          0.9103139042854309,
          0.9103139042854309,
          0.9103139042854309,
          0.9103139042854309,
          0.9103139042854309,
          0.9103139042854309,
          0.9103139042854309,
          0.9103139042854309,
          0.9103139042854309,
          0.9103139042854309,
          0.9103139042854309,
          0.9103139042854309,
          0.9103139042854309,
          0.9103139042854309,
          0.9103139042854309,
          0.9103139042854309,
          0.9103139042854309,
          0.9103139042854309,
          0.9103139042854309,
          0.9103139042854309,
          0.9147982001304626,
          0.9147982001304626,
          0.9147982001304626,
          0.9147982001304626,
          0.9147982001304626,
          0.9103139042854309,
          0.9103139042854309,
          0.9103139042854309,
          0.9103139042854309,
          0.9103139042854309,
          0.9103139042854309,
          0.9103139042854309,
          0.9103139042854309,
          0.9103139042854309,
          0.9103139042854309,
          0.9103139042854309,
          0.9103139042854309,
          0.9103139042854309,
          0.9103139042854309,
          0.9103139042854309,
          0.9103139042854309,
          0.9103139042854309,
          0.9103139042854309,
          0.9103139042854309,
          0.9103139042854309,
          0.9103139042854309,
          0.9103139042854309,
          0.9147982001304626,
          0.9103139042854309,
          0.9103139042854309,
          0.9103139042854309,
          0.9147982001304626,
          0.9103139042854309,
          0.9103139042854309,
          0.9103139042854309,
          0.9103139042854309,
          0.9103139042854309,
          0.9103139042854309,
          0.9103139042854309,
          0.9103139042854309,
          0.9103139042854309,
          0.9103139042854309,
          0.9103139042854309,
          0.9103139042854309,
          0.9103139042854309,
          0.9103139042854309,
          0.9103139042854309,
          0.9103139042854309,
          0.9103139042854309,
          0.9103139042854309,
          0.9103139042854309,
          0.9103139042854309,
          0.9103139042854309,
          0.9103139042854309,
          0.9103139042854309,
          0.9103139042854309,
          0.9103139042854309,
          0.9103139042854309,
          0.9103139042854309,
          0.9103139042854309,
          0.9103139042854309,
          0.9103139042854309,
          0.9103139042854309,
          0.9103139042854309,
          0.9103139042854309,
          0.9103139042854309,
          0.9103139042854309,
          0.9103139042854309,
          0.9103139042854309,
          0.9103139042854309,
          0.9103139042854309,
          0.9103139042854309,
          0.9103139042854309,
          0.9103139042854309,
          0.9103139042854309,
          0.9103139042854309,
          0.9103139042854309,
          0.9103139042854309,
          0.9103139042854309,
          0.9103139042854309,
          0.9103139042854309,
          0.9103139042854309,
          0.9103139042854309,
          0.9103139042854309,
          0.9103139042854309,
          0.9103139042854309,
          0.9103139042854309,
          0.9103139042854309,
          0.9103139042854309,
          0.9103139042854309,
          0.9103139042854309,
          0.9103139042854309,
          0.9103139042854309,
          0.9103139042854309,
          0.9103139042854309,
          0.9103139042854309,
          0.9103139042854309,
          0.9103139042854309,
          0.9103139042854309,
          0.9103139042854309,
          0.9103139042854309,
          0.9103139042854309,
          0.9103139042854309,
          0.9103139042854309,
          0.9103139042854309,
          0.9103139042854309,
          0.9103139042854309,
          0.9103139042854309,
          0.9103139042854309,
          0.9103139042854309,
          0.9103139042854309,
          0.9103139042854309,
          0.9103139042854309,
          0.9103139042854309,
          0.9103139042854309
         ]
        }
       ],
       "layout": {
        "template": {
         "data": {
          "bar": [
           {
            "error_x": {
             "color": "#2a3f5f"
            },
            "error_y": {
             "color": "#2a3f5f"
            },
            "marker": {
             "line": {
              "color": "#E5ECF6",
              "width": 0.5
             },
             "pattern": {
              "fillmode": "overlay",
              "size": 10,
              "solidity": 0.2
             }
            },
            "type": "bar"
           }
          ],
          "barpolar": [
           {
            "marker": {
             "line": {
              "color": "#E5ECF6",
              "width": 0.5
             },
             "pattern": {
              "fillmode": "overlay",
              "size": 10,
              "solidity": 0.2
             }
            },
            "type": "barpolar"
           }
          ],
          "carpet": [
           {
            "aaxis": {
             "endlinecolor": "#2a3f5f",
             "gridcolor": "white",
             "linecolor": "white",
             "minorgridcolor": "white",
             "startlinecolor": "#2a3f5f"
            },
            "baxis": {
             "endlinecolor": "#2a3f5f",
             "gridcolor": "white",
             "linecolor": "white",
             "minorgridcolor": "white",
             "startlinecolor": "#2a3f5f"
            },
            "type": "carpet"
           }
          ],
          "choropleth": [
           {
            "colorbar": {
             "outlinewidth": 0,
             "ticks": ""
            },
            "type": "choropleth"
           }
          ],
          "contour": [
           {
            "colorbar": {
             "outlinewidth": 0,
             "ticks": ""
            },
            "colorscale": [
             [
              0,
              "#0d0887"
             ],
             [
              0.1111111111111111,
              "#46039f"
             ],
             [
              0.2222222222222222,
              "#7201a8"
             ],
             [
              0.3333333333333333,
              "#9c179e"
             ],
             [
              0.4444444444444444,
              "#bd3786"
             ],
             [
              0.5555555555555556,
              "#d8576b"
             ],
             [
              0.6666666666666666,
              "#ed7953"
             ],
             [
              0.7777777777777778,
              "#fb9f3a"
             ],
             [
              0.8888888888888888,
              "#fdca26"
             ],
             [
              1,
              "#f0f921"
             ]
            ],
            "type": "contour"
           }
          ],
          "contourcarpet": [
           {
            "colorbar": {
             "outlinewidth": 0,
             "ticks": ""
            },
            "type": "contourcarpet"
           }
          ],
          "heatmap": [
           {
            "colorbar": {
             "outlinewidth": 0,
             "ticks": ""
            },
            "colorscale": [
             [
              0,
              "#0d0887"
             ],
             [
              0.1111111111111111,
              "#46039f"
             ],
             [
              0.2222222222222222,
              "#7201a8"
             ],
             [
              0.3333333333333333,
              "#9c179e"
             ],
             [
              0.4444444444444444,
              "#bd3786"
             ],
             [
              0.5555555555555556,
              "#d8576b"
             ],
             [
              0.6666666666666666,
              "#ed7953"
             ],
             [
              0.7777777777777778,
              "#fb9f3a"
             ],
             [
              0.8888888888888888,
              "#fdca26"
             ],
             [
              1,
              "#f0f921"
             ]
            ],
            "type": "heatmap"
           }
          ],
          "heatmapgl": [
           {
            "colorbar": {
             "outlinewidth": 0,
             "ticks": ""
            },
            "colorscale": [
             [
              0,
              "#0d0887"
             ],
             [
              0.1111111111111111,
              "#46039f"
             ],
             [
              0.2222222222222222,
              "#7201a8"
             ],
             [
              0.3333333333333333,
              "#9c179e"
             ],
             [
              0.4444444444444444,
              "#bd3786"
             ],
             [
              0.5555555555555556,
              "#d8576b"
             ],
             [
              0.6666666666666666,
              "#ed7953"
             ],
             [
              0.7777777777777778,
              "#fb9f3a"
             ],
             [
              0.8888888888888888,
              "#fdca26"
             ],
             [
              1,
              "#f0f921"
             ]
            ],
            "type": "heatmapgl"
           }
          ],
          "histogram": [
           {
            "marker": {
             "pattern": {
              "fillmode": "overlay",
              "size": 10,
              "solidity": 0.2
             }
            },
            "type": "histogram"
           }
          ],
          "histogram2d": [
           {
            "colorbar": {
             "outlinewidth": 0,
             "ticks": ""
            },
            "colorscale": [
             [
              0,
              "#0d0887"
             ],
             [
              0.1111111111111111,
              "#46039f"
             ],
             [
              0.2222222222222222,
              "#7201a8"
             ],
             [
              0.3333333333333333,
              "#9c179e"
             ],
             [
              0.4444444444444444,
              "#bd3786"
             ],
             [
              0.5555555555555556,
              "#d8576b"
             ],
             [
              0.6666666666666666,
              "#ed7953"
             ],
             [
              0.7777777777777778,
              "#fb9f3a"
             ],
             [
              0.8888888888888888,
              "#fdca26"
             ],
             [
              1,
              "#f0f921"
             ]
            ],
            "type": "histogram2d"
           }
          ],
          "histogram2dcontour": [
           {
            "colorbar": {
             "outlinewidth": 0,
             "ticks": ""
            },
            "colorscale": [
             [
              0,
              "#0d0887"
             ],
             [
              0.1111111111111111,
              "#46039f"
             ],
             [
              0.2222222222222222,
              "#7201a8"
             ],
             [
              0.3333333333333333,
              "#9c179e"
             ],
             [
              0.4444444444444444,
              "#bd3786"
             ],
             [
              0.5555555555555556,
              "#d8576b"
             ],
             [
              0.6666666666666666,
              "#ed7953"
             ],
             [
              0.7777777777777778,
              "#fb9f3a"
             ],
             [
              0.8888888888888888,
              "#fdca26"
             ],
             [
              1,
              "#f0f921"
             ]
            ],
            "type": "histogram2dcontour"
           }
          ],
          "mesh3d": [
           {
            "colorbar": {
             "outlinewidth": 0,
             "ticks": ""
            },
            "type": "mesh3d"
           }
          ],
          "parcoords": [
           {
            "line": {
             "colorbar": {
              "outlinewidth": 0,
              "ticks": ""
             }
            },
            "type": "parcoords"
           }
          ],
          "pie": [
           {
            "automargin": true,
            "type": "pie"
           }
          ],
          "scatter": [
           {
            "fillpattern": {
             "fillmode": "overlay",
             "size": 10,
             "solidity": 0.2
            },
            "type": "scatter"
           }
          ],
          "scatter3d": [
           {
            "line": {
             "colorbar": {
              "outlinewidth": 0,
              "ticks": ""
             }
            },
            "marker": {
             "colorbar": {
              "outlinewidth": 0,
              "ticks": ""
             }
            },
            "type": "scatter3d"
           }
          ],
          "scattercarpet": [
           {
            "marker": {
             "colorbar": {
              "outlinewidth": 0,
              "ticks": ""
             }
            },
            "type": "scattercarpet"
           }
          ],
          "scattergeo": [
           {
            "marker": {
             "colorbar": {
              "outlinewidth": 0,
              "ticks": ""
             }
            },
            "type": "scattergeo"
           }
          ],
          "scattergl": [
           {
            "marker": {
             "colorbar": {
              "outlinewidth": 0,
              "ticks": ""
             }
            },
            "type": "scattergl"
           }
          ],
          "scattermapbox": [
           {
            "marker": {
             "colorbar": {
              "outlinewidth": 0,
              "ticks": ""
             }
            },
            "type": "scattermapbox"
           }
          ],
          "scatterpolar": [
           {
            "marker": {
             "colorbar": {
              "outlinewidth": 0,
              "ticks": ""
             }
            },
            "type": "scatterpolar"
           }
          ],
          "scatterpolargl": [
           {
            "marker": {
             "colorbar": {
              "outlinewidth": 0,
              "ticks": ""
             }
            },
            "type": "scatterpolargl"
           }
          ],
          "scatterternary": [
           {
            "marker": {
             "colorbar": {
              "outlinewidth": 0,
              "ticks": ""
             }
            },
            "type": "scatterternary"
           }
          ],
          "surface": [
           {
            "colorbar": {
             "outlinewidth": 0,
             "ticks": ""
            },
            "colorscale": [
             [
              0,
              "#0d0887"
             ],
             [
              0.1111111111111111,
              "#46039f"
             ],
             [
              0.2222222222222222,
              "#7201a8"
             ],
             [
              0.3333333333333333,
              "#9c179e"
             ],
             [
              0.4444444444444444,
              "#bd3786"
             ],
             [
              0.5555555555555556,
              "#d8576b"
             ],
             [
              0.6666666666666666,
              "#ed7953"
             ],
             [
              0.7777777777777778,
              "#fb9f3a"
             ],
             [
              0.8888888888888888,
              "#fdca26"
             ],
             [
              1,
              "#f0f921"
             ]
            ],
            "type": "surface"
           }
          ],
          "table": [
           {
            "cells": {
             "fill": {
              "color": "#EBF0F8"
             },
             "line": {
              "color": "white"
             }
            },
            "header": {
             "fill": {
              "color": "#C8D4E3"
             },
             "line": {
              "color": "white"
             }
            },
            "type": "table"
           }
          ]
         },
         "layout": {
          "annotationdefaults": {
           "arrowcolor": "#2a3f5f",
           "arrowhead": 0,
           "arrowwidth": 1
          },
          "autotypenumbers": "strict",
          "coloraxis": {
           "colorbar": {
            "outlinewidth": 0,
            "ticks": ""
           }
          },
          "colorscale": {
           "diverging": [
            [
             0,
             "#8e0152"
            ],
            [
             0.1,
             "#c51b7d"
            ],
            [
             0.2,
             "#de77ae"
            ],
            [
             0.3,
             "#f1b6da"
            ],
            [
             0.4,
             "#fde0ef"
            ],
            [
             0.5,
             "#f7f7f7"
            ],
            [
             0.6,
             "#e6f5d0"
            ],
            [
             0.7,
             "#b8e186"
            ],
            [
             0.8,
             "#7fbc41"
            ],
            [
             0.9,
             "#4d9221"
            ],
            [
             1,
             "#276419"
            ]
           ],
           "sequential": [
            [
             0,
             "#0d0887"
            ],
            [
             0.1111111111111111,
             "#46039f"
            ],
            [
             0.2222222222222222,
             "#7201a8"
            ],
            [
             0.3333333333333333,
             "#9c179e"
            ],
            [
             0.4444444444444444,
             "#bd3786"
            ],
            [
             0.5555555555555556,
             "#d8576b"
            ],
            [
             0.6666666666666666,
             "#ed7953"
            ],
            [
             0.7777777777777778,
             "#fb9f3a"
            ],
            [
             0.8888888888888888,
             "#fdca26"
            ],
            [
             1,
             "#f0f921"
            ]
           ],
           "sequentialminus": [
            [
             0,
             "#0d0887"
            ],
            [
             0.1111111111111111,
             "#46039f"
            ],
            [
             0.2222222222222222,
             "#7201a8"
            ],
            [
             0.3333333333333333,
             "#9c179e"
            ],
            [
             0.4444444444444444,
             "#bd3786"
            ],
            [
             0.5555555555555556,
             "#d8576b"
            ],
            [
             0.6666666666666666,
             "#ed7953"
            ],
            [
             0.7777777777777778,
             "#fb9f3a"
            ],
            [
             0.8888888888888888,
             "#fdca26"
            ],
            [
             1,
             "#f0f921"
            ]
           ]
          },
          "colorway": [
           "#636efa",
           "#EF553B",
           "#00cc96",
           "#ab63fa",
           "#FFA15A",
           "#19d3f3",
           "#FF6692",
           "#B6E880",
           "#FF97FF",
           "#FECB52"
          ],
          "font": {
           "color": "#2a3f5f"
          },
          "geo": {
           "bgcolor": "white",
           "lakecolor": "white",
           "landcolor": "#E5ECF6",
           "showlakes": true,
           "showland": true,
           "subunitcolor": "white"
          },
          "hoverlabel": {
           "align": "left"
          },
          "hovermode": "closest",
          "mapbox": {
           "style": "light"
          },
          "paper_bgcolor": "white",
          "plot_bgcolor": "#E5ECF6",
          "polar": {
           "angularaxis": {
            "gridcolor": "white",
            "linecolor": "white",
            "ticks": ""
           },
           "bgcolor": "#E5ECF6",
           "radialaxis": {
            "gridcolor": "white",
            "linecolor": "white",
            "ticks": ""
           }
          },
          "scene": {
           "xaxis": {
            "backgroundcolor": "#E5ECF6",
            "gridcolor": "white",
            "gridwidth": 2,
            "linecolor": "white",
            "showbackground": true,
            "ticks": "",
            "zerolinecolor": "white"
           },
           "yaxis": {
            "backgroundcolor": "#E5ECF6",
            "gridcolor": "white",
            "gridwidth": 2,
            "linecolor": "white",
            "showbackground": true,
            "ticks": "",
            "zerolinecolor": "white"
           },
           "zaxis": {
            "backgroundcolor": "#E5ECF6",
            "gridcolor": "white",
            "gridwidth": 2,
            "linecolor": "white",
            "showbackground": true,
            "ticks": "",
            "zerolinecolor": "white"
           }
          },
          "shapedefaults": {
           "line": {
            "color": "#2a3f5f"
           }
          },
          "ternary": {
           "aaxis": {
            "gridcolor": "white",
            "linecolor": "white",
            "ticks": ""
           },
           "baxis": {
            "gridcolor": "white",
            "linecolor": "white",
            "ticks": ""
           },
           "bgcolor": "#E5ECF6",
           "caxis": {
            "gridcolor": "white",
            "linecolor": "white",
            "ticks": ""
           }
          },
          "title": {
           "x": 0.05
          },
          "xaxis": {
           "automargin": true,
           "gridcolor": "white",
           "linecolor": "white",
           "ticks": "",
           "title": {
            "standoff": 15
           },
           "zerolinecolor": "white",
           "zerolinewidth": 2
          },
          "yaxis": {
           "automargin": true,
           "gridcolor": "white",
           "linecolor": "white",
           "ticks": "",
           "title": {
            "standoff": 15
           },
           "zerolinecolor": "white",
           "zerolinewidth": 2
          }
         }
        },
        "title": {
         "text": "Training and val recall across epochs"
        },
        "xaxis": {
         "title": {
          "text": "epochs"
         }
        },
        "yaxis": {
         "title": {
          "text": "Precision"
         }
        }
       }
      }
     },
     "metadata": {},
     "output_type": "display_data"
    }
   ],
   "source": [
    "fig = go.Figure(data=[\n",
    "                      go.Scatter(\n",
    "                          y=history.history[\"recall\"],\n",
    "                          name=\"Training recall\",\n",
    "                          mode=\"lines\",\n",
    "                      ),\n",
    "                      go.Scatter(\n",
    "                          y=history.history[\"val_recall\"],\n",
    "                          name=\"Validation recall\",\n",
    "                          mode=\"lines\",\n",
    "                      )\n",
    "])\n",
    "fig.update_layout(\n",
    "    title='Training and val recall across epochs',\n",
    "    xaxis_title='epochs',\n",
    "    yaxis_title='Precision'    \n",
    ")\n",
    "fig.show()"
   ]
  },
  {
   "cell_type": "code",
   "execution_count": 18,
   "metadata": {},
   "outputs": [
    {
     "data": {
      "application/vnd.plotly.v1+json": {
       "config": {
        "plotlyServerURL": "https://plot.ly"
       },
       "data": [
        {
         "mode": "lines",
         "name": "Training f1-score",
         "type": "scatter",
         "y": [
          0.23652014136314392,
          0.23652014136314392,
          0.23652014136314392,
          0.23652014136314392,
          0.2386285811662674,
          0.24228356778621674,
          0.24946236610412598,
          0.25752344727516174,
          0.2768496572971344,
          0.2974359095096588,
          0.3220234513282776,
          0.3461538553237915,
          0.36187174916267395,
          0.3858093023300171,
          0.40606769919395447,
          0.42664486169815063,
          0.43920907378196716,
          0.460520476102829,
          0.4936169981956482,
          0.494552344083786,
          0.5090199708938599,
          0.5153011083602905,
          0.5070422887802124,
          0.5500527024269104,
          0.5637149214744568,
          0.5755236744880676,
          0.5948717594146729,
          0.6059199571609497,
          0.6155660152435303,
          0.5908319354057312,
          0.6052173972129822,
          0.6424615383148193,
          0.6541353464126587,
          0.6586750745773315,
          0.6705201864242554,
          0.7002012133598328,
          0.6955363154411316,
          0.6969292163848877,
          0.7044534087181091,
          0.733146071434021,
          0.7383310198783875,
          0.7409510612487793,
          0.7378091812133789,
          0.7505391836166382,
          0.7603787779808044,
          0.7473157048225403,
          0.7733333706855774,
          0.7739065885543823,
          0.7603787779808044,
          0.7457143068313599,
          0.7570703625679016,
          0.7626004219055176,
          0.76877760887146,
          0.7779433727264404,
          0.7951256632804871,
          0.7843726277351379,
          0.7933130860328674,
          0.7921092510223389,
          0.8030769228935242,
          0.811188817024231,
          0.8061776161193848,
          0.8030769228935242,
          0.811188817024231,
          0.8143525719642639,
          0.811188817024231,
          0.8124513626098633,
          0.8181818127632141,
          0.8201099634170532,
          0.8279143571853638,
          0.842615008354187,
          0.8419354557991028,
          0.8432956337928772,
          0.8474025726318359,
          0.8412570357322693,
          0.8585526347160339,
          0.865671694278717,
          0.8571428656578064,
          0.8635236024856567,
          0.8571428656578064,
          0.8494710922241211,
          0.8642383813858032,
          0.8649544715881348,
          0.8671095967292786,
          0.8635236024856567,
          0.8721804618835449,
          0.8543371558189392,
          0.8578472137451172,
          0.859967052936554,
          0.862809956073761,
          0.8751047849655151,
          0.8692756295204163,
          0.8765742778778076,
          0.8765742778778076,
          0.8736401796340942,
          0.8787878751754761,
          0.8825020790100098,
          0.8758389353752136,
          0.8832487463951111,
          0.8847457766532898,
          0.8877551555633545,
          0.892307698726654,
          0.8976784348487854,
          0.8870009183883667,
          0.8892675042152405,
          0.8825020790100098,
          0.9023336172103882,
          0.8992247581481934,
          0.8900255560874939,
          0.8870009183883667,
          0.8969072103500366,
          0.9000000357627869,
          0.9046793580055237,
          0.8892675042152405,
          0.8984509706497192,
          0.8961373567581177,
          0.8992247581481934,
          0.8877551555633545,
          0.892307698726654,
          0.9038960933685303,
          0.9117903709411621,
          0.9054640531539917,
          0.9102004766464233,
          0.9157894849777222,
          0.9078261256217957,
          0.9190140962600708,
          0.9173989295959473,
          0.9182057976722717,
          0.9238937497138977,
          0.9015543460845947,
          0.9109947681427002,
          0.9149869084358215,
          0.9222614765167236,
          0.9271758198738098,
          0.9271758198738098,
          0.9279999732971191,
          0.920634925365448,
          0.9296526908874512,
          0.9255319237709045,
          0.9214474558830261,
          0.9230769276618958,
          0.9304813146591187,
          0.9247121810913086,
          0.9214474558830261,
          0.9238937497138977,
          0.9271758198738098,
          0.9263531565666199,
          0.9329758882522583,
          0.9230769276618958,
          0.9255319237709045,
          0.9190140962600708,
          0.9288256168365479,
          0.9238937497138977,
          0.9288256168365479,
          0.9263531565666199,
          0.9288256168365479,
          0.9296526908874512,
          0.9182057976722717,
          0.9255319237709045,
          0.9255319237709045,
          0.9380053877830505,
          0.9238937497138977,
          0.9288256168365479,
          0.9329758882522583,
          0.9338103532791138,
          0.9304813146591187,
          0.9304813146591187,
          0.9263531565666199,
          0.9329758882522583,
          0.9247121810913086,
          0.9380053877830505,
          0.9296526908874512,
          0.9363229274749756,
          0.9321428537368774,
          0.9413886070251465,
          0.9346463680267334,
          0.9413886070251465,
          0.9313113689422607,
          0.9354838728904724,
          0.9371634125709534,
          0.9363229274749756,
          0.9422382712364197,
          0.9430894255638123,
          0.9405404925346375,
          0.9422382712364197,
          0.9422382712364197,
          0.9363229274749756,
          0.9405404925346375,
          0.9430894255638123,
          0.9413886070251465,
          0.9447963237762451,
          0.9371634125709534,
          0.9338103532791138,
          0.9405404925346375,
          0.9388489127159119,
          0.9388489127159119,
          0.9396939873695374,
          0.9430894255638123,
          0.9296526908874512,
          0.9508196711540222,
          0.943942129611969
         ]
        },
        {
         "mode": "lines",
         "name": "Validation f1-score",
         "type": "scatter",
         "y": [
          0.23585404455661774,
          0.23585404455661774,
          0.23585404455661774,
          0.23585404455661774,
          0.23850266635417938,
          0.2409508228302002,
          0.250984787940979,
          0.2625073492527008,
          0.2787500023841858,
          0.30204081535339355,
          0.32647058367729187,
          0.34639498591423035,
          0.3634868562221527,
          0.38535311818122864,
          0.4010889530181885,
          0.4254090189933777,
          0.43868395686149597,
          0.46546226739883423,
          0.48283496499061584,
          0.48878923058509827,
          0.5265700817108154,
          0.5063878893852234,
          0.5317072868347168,
          0.5582586526870728,
          0.561855673789978,
          0.5836679935455322,
          0.598901093006134,
          0.6097902059555054,
          0.6175637245178223,
          0.59807950258255,
          0.6219686269760132,
          0.6449704170227051,
          0.6605783700942993,
          0.6687211394309998,
          0.6845425367355347,
          0.6921849250793457,
          0.6910828351974487,
          0.6955127716064453,
          0.7026143670082092,
          0.7072368264198303,
          0.7049180269241333,
          0.7131011486053467,
          0.7214764952659607,
          0.7239057421684265,
          0.7275803685188293,
          0.7363014221191406,
          0.7426597476005554,
          0.7491289377212524,
          0.7239057421684265,
          0.7275803685188293,
          0.7401033043861389,
          0.7426597476005554,
          0.7530648112297058,
          0.7557117938995361,
          0.7583773732185364,
          0.7583773732185364,
          0.76241135597229,
          0.7637655735015869,
          0.7664884924888611,
          0.7664884924888611,
          0.7664884924888611,
          0.7642857432365417,
          0.7656529545783997,
          0.7684021592140198,
          0.7684021592140198,
          0.7684021592140198,
          0.7739601731300354,
          0.7753623723983765,
          0.7795993089675903,
          0.783882737159729,
          0.7882136702537537,
          0.7896679043769836,
          0.7896679043769836,
          0.791127622127533,
          0.7940630912780762,
          0.7970204949378967,
          0.7940630912780762,
          0.7970204949378967,
          0.7970204949378967,
          0.7985075116157532,
          0.7985075116157532,
          0.7962616682052612,
          0.7962616682052612,
          0.7977527379989624,
          0.7977527379989624,
          0.7940630912780762,
          0.7985075116157532,
          0.7962616682052612,
          0.7977527379989624,
          0.7977527379989624,
          0.807619035243988,
          0.8091602921485901,
          0.8091602921485901,
          0.8091602921485901,
          0.8091602921485901,
          0.8091602921485901,
          0.8091602921485901,
          0.8107074499130249,
          0.8138196468353271,
          0.8201160430908203,
          0.8201160430908203,
          0.8233009576797485,
          0.8233009576797485,
          0.8233009576797485,
          0.8201160430908203,
          0.8201160430908203,
          0.8233009576797485,
          0.8265106678009033,
          0.828125,
          0.828125,
          0.828125,
          0.828125,
          0.828125,
          0.828125,
          0.828125,
          0.828125,
          0.828125,
          0.8297455310821533,
          0.8379446268081665,
          0.8379446268081665,
          0.8379446268081665,
          0.8379446268081665,
          0.8379446268081665,
          0.8379446268081665,
          0.8379446268081665,
          0.8379446268081665,
          0.8379446268081665,
          0.8379446268081665,
          0.8379446268081665,
          0.8379446268081665,
          0.8379446268081665,
          0.8496993780136108,
          0.8514056205749512,
          0.8496993780136108,
          0.8496993780136108,
          0.8463073968887329,
          0.8463073968887329,
          0.8463073968887329,
          0.8463073968887329,
          0.8463073968887329,
          0.8463073968887329,
          0.8463073968887329,
          0.8463073968887329,
          0.8463073968887329,
          0.8463073968887329,
          0.8463073968887329,
          0.8463073968887329,
          0.8463073968887329,
          0.8463073968887329,
          0.8463073968887329,
          0.8463073968887329,
          0.8463073968887329,
          0.8463073968887329,
          0.8463073968887329,
          0.8463073968887329,
          0.8479999899864197,
          0.8496993780136108,
          0.8496993780136108,
          0.8514056205749512,
          0.8514056205749512,
          0.8514056205749512,
          0.8514056205749512,
          0.8514056205749512,
          0.8514056205749512,
          0.8514056205749512,
          0.8514056205749512,
          0.8514056205749512,
          0.8548387289047241,
          0.8548387289047241,
          0.8548387289047241,
          0.8565657138824463,
          0.8582995533943176,
          0.8617886304855347,
          0.8617886304855347,
          0.8617886304855347,
          0.8617886304855347,
          0.8617886304855347,
          0.8617886304855347,
          0.8617886304855347,
          0.8635438084602356,
          0.8635438084602356,
          0.8635438084602356,
          0.8635438084602356,
          0.8635438084602356,
          0.86530601978302,
          0.86530601978302,
          0.8635438084602356,
          0.86530601978302,
          0.86530601978302,
          0.86530601978302,
          0.86530601978302,
          0.86530601978302,
          0.86530601978302,
          0.86530601978302,
          0.86530601978302,
          0.86530601978302,
          0.86530601978302,
          0.86530601978302,
          0.86530601978302,
          0.8688524961471558
         ]
        }
       ],
       "layout": {
        "template": {
         "data": {
          "bar": [
           {
            "error_x": {
             "color": "#2a3f5f"
            },
            "error_y": {
             "color": "#2a3f5f"
            },
            "marker": {
             "line": {
              "color": "#E5ECF6",
              "width": 0.5
             },
             "pattern": {
              "fillmode": "overlay",
              "size": 10,
              "solidity": 0.2
             }
            },
            "type": "bar"
           }
          ],
          "barpolar": [
           {
            "marker": {
             "line": {
              "color": "#E5ECF6",
              "width": 0.5
             },
             "pattern": {
              "fillmode": "overlay",
              "size": 10,
              "solidity": 0.2
             }
            },
            "type": "barpolar"
           }
          ],
          "carpet": [
           {
            "aaxis": {
             "endlinecolor": "#2a3f5f",
             "gridcolor": "white",
             "linecolor": "white",
             "minorgridcolor": "white",
             "startlinecolor": "#2a3f5f"
            },
            "baxis": {
             "endlinecolor": "#2a3f5f",
             "gridcolor": "white",
             "linecolor": "white",
             "minorgridcolor": "white",
             "startlinecolor": "#2a3f5f"
            },
            "type": "carpet"
           }
          ],
          "choropleth": [
           {
            "colorbar": {
             "outlinewidth": 0,
             "ticks": ""
            },
            "type": "choropleth"
           }
          ],
          "contour": [
           {
            "colorbar": {
             "outlinewidth": 0,
             "ticks": ""
            },
            "colorscale": [
             [
              0,
              "#0d0887"
             ],
             [
              0.1111111111111111,
              "#46039f"
             ],
             [
              0.2222222222222222,
              "#7201a8"
             ],
             [
              0.3333333333333333,
              "#9c179e"
             ],
             [
              0.4444444444444444,
              "#bd3786"
             ],
             [
              0.5555555555555556,
              "#d8576b"
             ],
             [
              0.6666666666666666,
              "#ed7953"
             ],
             [
              0.7777777777777778,
              "#fb9f3a"
             ],
             [
              0.8888888888888888,
              "#fdca26"
             ],
             [
              1,
              "#f0f921"
             ]
            ],
            "type": "contour"
           }
          ],
          "contourcarpet": [
           {
            "colorbar": {
             "outlinewidth": 0,
             "ticks": ""
            },
            "type": "contourcarpet"
           }
          ],
          "heatmap": [
           {
            "colorbar": {
             "outlinewidth": 0,
             "ticks": ""
            },
            "colorscale": [
             [
              0,
              "#0d0887"
             ],
             [
              0.1111111111111111,
              "#46039f"
             ],
             [
              0.2222222222222222,
              "#7201a8"
             ],
             [
              0.3333333333333333,
              "#9c179e"
             ],
             [
              0.4444444444444444,
              "#bd3786"
             ],
             [
              0.5555555555555556,
              "#d8576b"
             ],
             [
              0.6666666666666666,
              "#ed7953"
             ],
             [
              0.7777777777777778,
              "#fb9f3a"
             ],
             [
              0.8888888888888888,
              "#fdca26"
             ],
             [
              1,
              "#f0f921"
             ]
            ],
            "type": "heatmap"
           }
          ],
          "heatmapgl": [
           {
            "colorbar": {
             "outlinewidth": 0,
             "ticks": ""
            },
            "colorscale": [
             [
              0,
              "#0d0887"
             ],
             [
              0.1111111111111111,
              "#46039f"
             ],
             [
              0.2222222222222222,
              "#7201a8"
             ],
             [
              0.3333333333333333,
              "#9c179e"
             ],
             [
              0.4444444444444444,
              "#bd3786"
             ],
             [
              0.5555555555555556,
              "#d8576b"
             ],
             [
              0.6666666666666666,
              "#ed7953"
             ],
             [
              0.7777777777777778,
              "#fb9f3a"
             ],
             [
              0.8888888888888888,
              "#fdca26"
             ],
             [
              1,
              "#f0f921"
             ]
            ],
            "type": "heatmapgl"
           }
          ],
          "histogram": [
           {
            "marker": {
             "pattern": {
              "fillmode": "overlay",
              "size": 10,
              "solidity": 0.2
             }
            },
            "type": "histogram"
           }
          ],
          "histogram2d": [
           {
            "colorbar": {
             "outlinewidth": 0,
             "ticks": ""
            },
            "colorscale": [
             [
              0,
              "#0d0887"
             ],
             [
              0.1111111111111111,
              "#46039f"
             ],
             [
              0.2222222222222222,
              "#7201a8"
             ],
             [
              0.3333333333333333,
              "#9c179e"
             ],
             [
              0.4444444444444444,
              "#bd3786"
             ],
             [
              0.5555555555555556,
              "#d8576b"
             ],
             [
              0.6666666666666666,
              "#ed7953"
             ],
             [
              0.7777777777777778,
              "#fb9f3a"
             ],
             [
              0.8888888888888888,
              "#fdca26"
             ],
             [
              1,
              "#f0f921"
             ]
            ],
            "type": "histogram2d"
           }
          ],
          "histogram2dcontour": [
           {
            "colorbar": {
             "outlinewidth": 0,
             "ticks": ""
            },
            "colorscale": [
             [
              0,
              "#0d0887"
             ],
             [
              0.1111111111111111,
              "#46039f"
             ],
             [
              0.2222222222222222,
              "#7201a8"
             ],
             [
              0.3333333333333333,
              "#9c179e"
             ],
             [
              0.4444444444444444,
              "#bd3786"
             ],
             [
              0.5555555555555556,
              "#d8576b"
             ],
             [
              0.6666666666666666,
              "#ed7953"
             ],
             [
              0.7777777777777778,
              "#fb9f3a"
             ],
             [
              0.8888888888888888,
              "#fdca26"
             ],
             [
              1,
              "#f0f921"
             ]
            ],
            "type": "histogram2dcontour"
           }
          ],
          "mesh3d": [
           {
            "colorbar": {
             "outlinewidth": 0,
             "ticks": ""
            },
            "type": "mesh3d"
           }
          ],
          "parcoords": [
           {
            "line": {
             "colorbar": {
              "outlinewidth": 0,
              "ticks": ""
             }
            },
            "type": "parcoords"
           }
          ],
          "pie": [
           {
            "automargin": true,
            "type": "pie"
           }
          ],
          "scatter": [
           {
            "fillpattern": {
             "fillmode": "overlay",
             "size": 10,
             "solidity": 0.2
            },
            "type": "scatter"
           }
          ],
          "scatter3d": [
           {
            "line": {
             "colorbar": {
              "outlinewidth": 0,
              "ticks": ""
             }
            },
            "marker": {
             "colorbar": {
              "outlinewidth": 0,
              "ticks": ""
             }
            },
            "type": "scatter3d"
           }
          ],
          "scattercarpet": [
           {
            "marker": {
             "colorbar": {
              "outlinewidth": 0,
              "ticks": ""
             }
            },
            "type": "scattercarpet"
           }
          ],
          "scattergeo": [
           {
            "marker": {
             "colorbar": {
              "outlinewidth": 0,
              "ticks": ""
             }
            },
            "type": "scattergeo"
           }
          ],
          "scattergl": [
           {
            "marker": {
             "colorbar": {
              "outlinewidth": 0,
              "ticks": ""
             }
            },
            "type": "scattergl"
           }
          ],
          "scattermapbox": [
           {
            "marker": {
             "colorbar": {
              "outlinewidth": 0,
              "ticks": ""
             }
            },
            "type": "scattermapbox"
           }
          ],
          "scatterpolar": [
           {
            "marker": {
             "colorbar": {
              "outlinewidth": 0,
              "ticks": ""
             }
            },
            "type": "scatterpolar"
           }
          ],
          "scatterpolargl": [
           {
            "marker": {
             "colorbar": {
              "outlinewidth": 0,
              "ticks": ""
             }
            },
            "type": "scatterpolargl"
           }
          ],
          "scatterternary": [
           {
            "marker": {
             "colorbar": {
              "outlinewidth": 0,
              "ticks": ""
             }
            },
            "type": "scatterternary"
           }
          ],
          "surface": [
           {
            "colorbar": {
             "outlinewidth": 0,
             "ticks": ""
            },
            "colorscale": [
             [
              0,
              "#0d0887"
             ],
             [
              0.1111111111111111,
              "#46039f"
             ],
             [
              0.2222222222222222,
              "#7201a8"
             ],
             [
              0.3333333333333333,
              "#9c179e"
             ],
             [
              0.4444444444444444,
              "#bd3786"
             ],
             [
              0.5555555555555556,
              "#d8576b"
             ],
             [
              0.6666666666666666,
              "#ed7953"
             ],
             [
              0.7777777777777778,
              "#fb9f3a"
             ],
             [
              0.8888888888888888,
              "#fdca26"
             ],
             [
              1,
              "#f0f921"
             ]
            ],
            "type": "surface"
           }
          ],
          "table": [
           {
            "cells": {
             "fill": {
              "color": "#EBF0F8"
             },
             "line": {
              "color": "white"
             }
            },
            "header": {
             "fill": {
              "color": "#C8D4E3"
             },
             "line": {
              "color": "white"
             }
            },
            "type": "table"
           }
          ]
         },
         "layout": {
          "annotationdefaults": {
           "arrowcolor": "#2a3f5f",
           "arrowhead": 0,
           "arrowwidth": 1
          },
          "autotypenumbers": "strict",
          "coloraxis": {
           "colorbar": {
            "outlinewidth": 0,
            "ticks": ""
           }
          },
          "colorscale": {
           "diverging": [
            [
             0,
             "#8e0152"
            ],
            [
             0.1,
             "#c51b7d"
            ],
            [
             0.2,
             "#de77ae"
            ],
            [
             0.3,
             "#f1b6da"
            ],
            [
             0.4,
             "#fde0ef"
            ],
            [
             0.5,
             "#f7f7f7"
            ],
            [
             0.6,
             "#e6f5d0"
            ],
            [
             0.7,
             "#b8e186"
            ],
            [
             0.8,
             "#7fbc41"
            ],
            [
             0.9,
             "#4d9221"
            ],
            [
             1,
             "#276419"
            ]
           ],
           "sequential": [
            [
             0,
             "#0d0887"
            ],
            [
             0.1111111111111111,
             "#46039f"
            ],
            [
             0.2222222222222222,
             "#7201a8"
            ],
            [
             0.3333333333333333,
             "#9c179e"
            ],
            [
             0.4444444444444444,
             "#bd3786"
            ],
            [
             0.5555555555555556,
             "#d8576b"
            ],
            [
             0.6666666666666666,
             "#ed7953"
            ],
            [
             0.7777777777777778,
             "#fb9f3a"
            ],
            [
             0.8888888888888888,
             "#fdca26"
            ],
            [
             1,
             "#f0f921"
            ]
           ],
           "sequentialminus": [
            [
             0,
             "#0d0887"
            ],
            [
             0.1111111111111111,
             "#46039f"
            ],
            [
             0.2222222222222222,
             "#7201a8"
            ],
            [
             0.3333333333333333,
             "#9c179e"
            ],
            [
             0.4444444444444444,
             "#bd3786"
            ],
            [
             0.5555555555555556,
             "#d8576b"
            ],
            [
             0.6666666666666666,
             "#ed7953"
            ],
            [
             0.7777777777777778,
             "#fb9f3a"
            ],
            [
             0.8888888888888888,
             "#fdca26"
            ],
            [
             1,
             "#f0f921"
            ]
           ]
          },
          "colorway": [
           "#636efa",
           "#EF553B",
           "#00cc96",
           "#ab63fa",
           "#FFA15A",
           "#19d3f3",
           "#FF6692",
           "#B6E880",
           "#FF97FF",
           "#FECB52"
          ],
          "font": {
           "color": "#2a3f5f"
          },
          "geo": {
           "bgcolor": "white",
           "lakecolor": "white",
           "landcolor": "#E5ECF6",
           "showlakes": true,
           "showland": true,
           "subunitcolor": "white"
          },
          "hoverlabel": {
           "align": "left"
          },
          "hovermode": "closest",
          "mapbox": {
           "style": "light"
          },
          "paper_bgcolor": "white",
          "plot_bgcolor": "#E5ECF6",
          "polar": {
           "angularaxis": {
            "gridcolor": "white",
            "linecolor": "white",
            "ticks": ""
           },
           "bgcolor": "#E5ECF6",
           "radialaxis": {
            "gridcolor": "white",
            "linecolor": "white",
            "ticks": ""
           }
          },
          "scene": {
           "xaxis": {
            "backgroundcolor": "#E5ECF6",
            "gridcolor": "white",
            "gridwidth": 2,
            "linecolor": "white",
            "showbackground": true,
            "ticks": "",
            "zerolinecolor": "white"
           },
           "yaxis": {
            "backgroundcolor": "#E5ECF6",
            "gridcolor": "white",
            "gridwidth": 2,
            "linecolor": "white",
            "showbackground": true,
            "ticks": "",
            "zerolinecolor": "white"
           },
           "zaxis": {
            "backgroundcolor": "#E5ECF6",
            "gridcolor": "white",
            "gridwidth": 2,
            "linecolor": "white",
            "showbackground": true,
            "ticks": "",
            "zerolinecolor": "white"
           }
          },
          "shapedefaults": {
           "line": {
            "color": "#2a3f5f"
           }
          },
          "ternary": {
           "aaxis": {
            "gridcolor": "white",
            "linecolor": "white",
            "ticks": ""
           },
           "baxis": {
            "gridcolor": "white",
            "linecolor": "white",
            "ticks": ""
           },
           "bgcolor": "#E5ECF6",
           "caxis": {
            "gridcolor": "white",
            "linecolor": "white",
            "ticks": ""
           }
          },
          "title": {
           "x": 0.05
          },
          "xaxis": {
           "automargin": true,
           "gridcolor": "white",
           "linecolor": "white",
           "ticks": "",
           "title": {
            "standoff": 15
           },
           "zerolinecolor": "white",
           "zerolinewidth": 2
          },
          "yaxis": {
           "automargin": true,
           "gridcolor": "white",
           "linecolor": "white",
           "ticks": "",
           "title": {
            "standoff": 15
           },
           "zerolinecolor": "white",
           "zerolinewidth": 2
          }
         }
        },
        "title": {
         "text": "Training and val F1-score across epochs"
        },
        "xaxis": {
         "title": {
          "text": "epochs"
         }
        },
        "yaxis": {
         "title": {
          "text": "F1-score"
         }
        }
       }
      }
     },
     "metadata": {},
     "output_type": "display_data"
    }
   ],
   "source": [
    "fig = go.Figure(data=[\n",
    "                      go.Scatter(\n",
    "                          y=history.history[\"f1_score\"],\n",
    "                          name=\"Training f1-score\",\n",
    "                          mode=\"lines\",\n",
    "                      ),\n",
    "                      go.Scatter(\n",
    "                          y=history.history[\"val_f1_score\"],\n",
    "                          name=\"Validation f1-score\",\n",
    "                          mode=\"lines\",\n",
    "                      )\n",
    "])\n",
    "fig.update_layout(\n",
    "    title='Training and val F1-score across epochs',\n",
    "    xaxis_title='epochs',\n",
    "    yaxis_title='F1-score'    \n",
    ")\n",
    "fig.show()"
   ]
  },
  {
   "cell_type": "code",
   "execution_count": 19,
   "metadata": {},
   "outputs": [
    {
     "name": "stdout",
     "output_type": "stream",
     "text": [
      "53/53 [==============================] - 0s 6ms/step\n"
     ]
    },
    {
     "data": {
      "image/png": "[encoded data removed]",
      "text/plain": [
       "<Figure size 640x480 with 2 Axes>"
      ]
     },
     "metadata": {},
     "output_type": "display_data"
    }
   ],
   "source": [
    "y_pred=model.predict(X_val)\n",
    "con_mat = tf.math.confusion_matrix(labels=Y_val, predictions=y_pred).numpy()\n",
    "\n",
    "# con_mat_norm = np.around(con_mat.astype('float') / con_mat.sum(axis=1)[:, np.newaxis], decimals=2)\n",
    "con_mat_df = pd.DataFrame(con_mat,\n",
    "                     index = [\"Ham\", \"Spam\"], \n",
    "                     columns = [\"Ham\", \"Spam\"])\n",
    "\n",
    "# figure = plt.figure(figsize=(8, 8))\n",
    "sns.heatmap(con_mat_df, annot=True,cmap=plt.cm.Blues, fmt=\".0f\")\n",
    "plt.tight_layout()\n",
    "plt.ylabel('True label')\n",
    "plt.xlabel('Predicted label')\n",
    "plt.show()"
   ]
  },
  {
   "cell_type": "markdown",
   "metadata": {},
   "source": [
    "## Conclusion\n",
    "\n",
    "Avec ce modèle, on arrive à un résultat satisfaisant où ~100% des SMS considérés comme SPAM le sont réelement et ~90% des SPAM sont détectés.\n",
    "\n",
    "Le F1-score qui est une moyenne harmonique entre ceux deux metriques est elle de 86%.\n",
    "\n",
    "Ce sont de bon scores car on préfère laisser passé quelques SPAM que de considérer de vrai meassage comme SPAM et que l'utilisateur ne les voient pas.\n"
   ]
  }
 ],
 "metadata": {
  "kernelspec": {
   "display_name": "base",
   "language": "python",
   "name": "python3"
  },
  "language_info": {
   "codemirror_mode": {
    "name": "ipython",
    "version": 3
   },
   "file_extension": ".py",
   "mimetype": "text/x-python",
   "name": "python",
   "nbconvert_exporter": "python",
   "pygments_lexer": "ipython3",
   "version": "3.11.4"
  }
 },
 "nbformat": 4,
 "nbformat_minor": 2
}
