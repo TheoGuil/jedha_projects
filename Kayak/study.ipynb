{
 "cells": [
  {
   "cell_type": "markdown",
   "metadata": {},
   "source": [
    "# Préparer un voyage avec Kayak"
   ]
  },
  {
   "cell_type": "markdown",
   "metadata": {},
   "source": [
    "## Récupération des données météo\n",
    "Pour récupérer les données météo, on utilisera l'API d'Open Weather (https://openweathermap.org/api).\n",
    "\n",
    "Or celle-ci fonctionne avec des coordonnées GPS, il faut donc récupérer pour chaque ville sa latitude et sa longitude.\n",
    "\n",
    "On utilisera alors l'API https://nominatim.org/release-docs/develop/api/Search/ qui permet de récupérer des coordonnés en fonction d'une recherche par addresse."
   ]
  },
  {
   "cell_type": "code",
   "execution_count": 4,
   "metadata": {},
   "outputs": [],
   "source": [
    "import pandas as pd\n",
    "import numpy as np\n",
    "import requests\n",
    "\n",
    "df = pd.read_json(\"cities.json\")\n",
    "df = df.rename(columns={0 : \"City\"})\n",
    "df[\"Latitude\"] = np.nan\n",
    "df[\"Longitude\"] = np.nan\n"
   ]
  },
  {
   "cell_type": "code",
   "execution_count": 25,
   "metadata": {},
   "outputs": [],
   "source": [
    "def get_coordinates(city):\n",
    "    \"\"\"Return tuple(lat, long)\"\"\"\n",
    "\n",
    "    display(f\"get_coordinates {city}\")\n",
    "    r = requests.get(\"https://nominatim.openstreetmap.org/search\", params= {\"city\": city, \"country\": \"FRANCE\", \"format\": \"jsonv2\"})\n",
    "    if (r.status_code == 200):\n",
    "        display(r.content)\n",
    "        json = r.json()[0]\n",
    "        return (json[\"lat\"], json[\"lon\"])\n",
    "    else:\n",
    "        raise ValueError(\"API did not return 200\")"
   ]
  },
  {
   "cell_type": "code",
   "execution_count": 31,
   "metadata": {},
   "outputs": [
    {
     "data": {
      "text/plain": [
       "'get_coordinates Bayeux'"
      ]
     },
     "metadata": {},
     "output_type": "display_data"
    },
    {
     "data": {
      "text/plain": [
       "b'[{\"place_id\":244577445,\"licence\":\"Data \\xc2\\xa9 OpenStreetMap contributors, ODbL 1.0. http://osm.org/copyright\",\"osm_type\":\"relation\",\"osm_id\":145776,\"lat\":\"49.2764624\",\"lon\":\"-0.7024738\",\"category\":\"boundary\",\"type\":\"administrative\",\"place_rank\":16,\"importance\":0.5727003853621927,\"addresstype\":\"town\",\"name\":\"Bayeux\",\"display_name\":\"Bayeux, Calvados, Normandie, France m\\xc3\\xa9tropolitaine, 14400, France\",\"boundingbox\":[\"49.2608124\",\"49.2934736\",\"-0.7275671\",\"-0.6757378\"]},{\"place_id\":244915853,\"licence\":\"Data \\xc2\\xa9 OpenStreetMap contributors, ODbL 1.0. http://osm.org/copyright\",\"osm_type\":\"relation\",\"osm_id\":1656892,\"lat\":\"49.2455634\",\"lon\":\"-0.7916770441791112\",\"category\":\"boundary\",\"type\":\"administrative\",\"place_rank\":14,\"importance\":0.37693710599680214,\"addresstype\":\"municipality\",\"name\":\"Bayeux\",\"display_name\":\"Bayeux, Calvados, Normandie, France m\\xc3\\xa9tropolitaine, France\",\"boundingbox\":[\"49.0931773\",\"49.3978952\",\"-1.1412392\",\"-0.4113237\"]}]'"
      ]
     },
     "metadata": {},
     "output_type": "display_data"
    },
    {
     "data": {
      "text/plain": [
       "('49.2764624', '-0.7024738')"
      ]
     },
     "metadata": {},
     "output_type": "display_data"
    },
    {
     "data": {
      "text/plain": [
       "'get_coordinates Le Havre'"
      ]
     },
     "metadata": {},
     "output_type": "display_data"
    },
    {
     "data": {
      "text/plain": [
       "b'[{\"place_id\":84845221,\"licence\":\"Data \\xc2\\xa9 OpenStreetMap contributors, ODbL 1.0. http://osm.org/copyright\",\"osm_type\":\"relation\",\"osm_id\":104492,\"lat\":\"49.4938975\",\"lon\":\"0.1079732\",\"category\":\"boundary\",\"type\":\"administrative\",\"place_rank\":16,\"importance\":0.6223325741883644,\"addresstype\":\"city\",\"name\":\"Le Havre\",\"display_name\":\"Le Havre, Seine-Maritime, Normandie, France m\\xc3\\xa9tropolitaine, France\",\"boundingbox\":[\"49.4516697\",\"49.5401463\",\"0.0667992\",\"0.1955556\"]},{\"place_id\":84857997,\"licence\":\"Data \\xc2\\xa9 OpenStreetMap contributors, ODbL 1.0. http://osm.org/copyright\",\"osm_type\":\"relation\",\"osm_id\":3012370,\"lat\":\"49.627549200000004\",\"lon\":\"0.3921241327294534\",\"category\":\"boundary\",\"type\":\"administrative\",\"place_rank\":14,\"importance\":0.3752824455605189,\"addresstype\":\"municipality\",\"name\":\"Le Havre\",\"display_name\":\"Le Havre, Seine-Maritime, Normandie, France m\\xc3\\xa9tropolitaine, France\",\"boundingbox\":[\"49.4287837\",\"49.8262540\",\"0.0657702\",\"0.6917633\"]}]'"
      ]
     },
     "metadata": {},
     "output_type": "display_data"
    },
    {
     "data": {
      "text/plain": [
       "('49.4938975', '0.1079732')"
      ]
     },
     "metadata": {},
     "output_type": "display_data"
    },
    {
     "data": {
      "text/plain": [
       "'get_coordinates Rouen'"
      ]
     },
     "metadata": {},
     "output_type": "display_data"
    },
    {
     "data": {
      "text/plain": [
       "b'[{\"place_id\":84723446,\"licence\":\"Data \\xc2\\xa9 OpenStreetMap contributors, ODbL 1.0. http://osm.org/copyright\",\"osm_type\":\"relation\",\"osm_id\":75628,\"lat\":\"49.4404591\",\"lon\":\"1.0939658\",\"category\":\"boundary\",\"type\":\"administrative\",\"place_rank\":16,\"importance\":0.6400726280583954,\"addresstype\":\"city\",\"name\":\"Rouen\",\"display_name\":\"Rouen, Seine-Maritime, Normandie, France m\\xc3\\xa9tropolitaine, France\",\"boundingbox\":[\"49.4172001\",\"49.4652601\",\"1.0300648\",\"1.1521157\"]},{\"place_id\":87079397,\"licence\":\"Data \\xc2\\xa9 OpenStreetMap contributors, ODbL 1.0. http://osm.org/copyright\",\"osm_type\":\"relation\",\"osm_id\":3018659,\"lat\":\"49.518435\",\"lon\":\"1.0221643441483266\",\"category\":\"boundary\",\"type\":\"administrative\",\"place_rank\":14,\"importance\":0.39374236796222783,\"addresstype\":\"municipality\",\"name\":\"Rouen\",\"display_name\":\"Rouen, Seine-Maritime, Normandie, France m\\xc3\\xa9tropolitaine, France\",\"boundingbox\":[\"49.2506708\",\"49.7851695\",\"0.6000692\",\"1.4521223\"]}]'"
      ]
     },
     "metadata": {},
     "output_type": "display_data"
    },
    {
     "data": {
      "text/plain": [
       "('49.4404591', '1.0939658')"
      ]
     },
     "metadata": {},
     "output_type": "display_data"
    },
    {
     "data": {
      "text/plain": [
       "'get_coordinates Paris'"
      ]
     },
     "metadata": {},
     "output_type": "display_data"
    },
    {
     "data": {
      "text/plain": [
       "b'[{\"place_id\":83293355,\"licence\":\"Data \\xc2\\xa9 OpenStreetMap contributors, ODbL 1.0. http://osm.org/copyright\",\"osm_type\":\"relation\",\"osm_id\":7444,\"lat\":\"48.8588897\",\"lon\":\"2.3200410217200766\",\"category\":\"boundary\",\"type\":\"administrative\",\"place_rank\":15,\"importance\":0.8317101715588673,\"addresstype\":\"suburb\",\"name\":\"Paris\",\"display_name\":\"Paris, \\xc3\\x8ele-de-France, France m\\xc3\\xa9tropolitaine, France\",\"boundingbox\":[\"48.8155755\",\"48.9021560\",\"2.2241220\",\"2.4697602\"]},{\"place_id\":83293737,\"licence\":\"Data \\xc2\\xa9 OpenStreetMap contributors, ODbL 1.0. http://osm.org/copyright\",\"osm_type\":\"relation\",\"osm_id\":71525,\"lat\":\"48.8534951\",\"lon\":\"2.3483915\",\"category\":\"boundary\",\"type\":\"administrative\",\"place_rank\":12,\"importance\":0.8317101715588673,\"addresstype\":\"city\",\"name\":\"Paris\",\"display_name\":\"Paris, \\xc3\\x8ele-de-France, France m\\xc3\\xa9tropolitaine, France\",\"boundingbox\":[\"48.8155755\",\"48.9021560\",\"2.2241220\",\"2.4697602\"]},{\"place_id\":83275950,\"licence\":\"Data \\xc2\\xa9 OpenStreetMap contributors, ODbL 1.0. http://osm.org/copyright\",\"osm_type\":\"relation\",\"osm_id\":1641193,\"lat\":\"48.8588897\",\"lon\":\"2.3200410217200766\",\"category\":\"boundary\",\"type\":\"administrative\",\"place_rank\":14,\"importance\":0.4283953917728152,\"addresstype\":\"city_district\",\"name\":\"Paris\",\"display_name\":\"Paris, \\xc3\\x8ele-de-France, France m\\xc3\\xa9tropolitaine, France\",\"boundingbox\":[\"48.8155755\",\"48.9021560\",\"2.2241220\",\"2.4697602\"]}]'"
      ]
     },
     "metadata": {},
     "output_type": "display_data"
    },
    {
     "data": {
      "text/plain": [
       "('48.8588897', '2.3200410217200766')"
      ]
     },
     "metadata": {},
     "output_type": "display_data"
    },
    {
     "data": {
      "text/plain": [
       "'get_coordinates Amiens'"
      ]
     },
     "metadata": {},
     "output_type": "display_data"
    },
    {
     "data": {
      "text/plain": [
       "b'[{\"place_id\":84475595,\"licence\":\"Data \\xc2\\xa9 OpenStreetMap contributors, ODbL 1.0. http://osm.org/copyright\",\"osm_type\":\"relation\",\"osm_id\":114347,\"lat\":\"49.8941708\",\"lon\":\"2.2956951\",\"category\":\"boundary\",\"type\":\"administrative\",\"place_rank\":16,\"importance\":0.6249489622249039,\"addresstype\":\"city\",\"name\":\"Amiens\",\"display_name\":\"Amiens, Somme, Hauts-de-France, France m\\xc3\\xa9tropolitaine, France\",\"boundingbox\":[\"49.8468370\",\"49.9505487\",\"2.2235574\",\"2.3457767\"]},{\"place_id\":84642101,\"licence\":\"Data \\xc2\\xa9 OpenStreetMap contributors, ODbL 1.0. http://osm.org/copyright\",\"osm_type\":\"relation\",\"osm_id\":3257541,\"lat\":\"49.9610783\",\"lon\":\"2.2518180697364363\",\"category\":\"boundary\",\"type\":\"administrative\",\"place_rank\":14,\"importance\":0.4071003594381197,\"addresstype\":\"municipality\",\"name\":\"Amiens\",\"display_name\":\"Amiens, Somme, Hauts-de-France, France m\\xc3\\xa9tropolitaine, France\",\"boundingbox\":[\"49.6831180\",\"50.2390386\",\"1.6355161\",\"2.6799559\"]}]'"
      ]
     },
     "metadata": {},
     "output_type": "display_data"
    },
    {
     "data": {
      "text/plain": [
       "('49.8941708', '2.2956951')"
      ]
     },
     "metadata": {},
     "output_type": "display_data"
    },
    {
     "data": {
      "text/plain": [
       "'get_coordinates Lille'"
      ]
     },
     "metadata": {},
     "output_type": "display_data"
    },
    {
     "data": {
      "text/plain": [
       "b'[{\"place_id\":87056687,\"licence\":\"Data \\xc2\\xa9 OpenStreetMap contributors, ODbL 1.0. http://osm.org/copyright\",\"osm_type\":\"relation\",\"osm_id\":58404,\"lat\":\"50.6365654\",\"lon\":\"3.0635282\",\"category\":\"boundary\",\"type\":\"administrative\",\"place_rank\":16,\"importance\":0.6532037863087654,\"addresstype\":\"city\",\"name\":\"Lille\",\"display_name\":\"Lille, Nord, Hauts-de-France, France m\\xc3\\xa9tropolitaine, France\",\"boundingbox\":[\"50.6008264\",\"50.6612596\",\"2.9679677\",\"3.1257250\"]},{\"place_id\":86946146,\"licence\":\"Data \\xc2\\xa9 OpenStreetMap contributors, ODbL 1.0. http://osm.org/copyright\",\"osm_type\":\"relation\",\"osm_id\":1643919,\"lat\":\"50.61806395\",\"lon\":\"3.045303691127442\",\"category\":\"boundary\",\"type\":\"administrative\",\"place_rank\":14,\"importance\":0.3805052507959779,\"addresstype\":\"municipality\",\"name\":\"Lille\",\"display_name\":\"Lille, Nord, Hauts-de-France, France m\\xc3\\xa9tropolitaine, France\",\"boundingbox\":[\"50.4416259\",\"50.7946088\",\"2.7891320\",\"3.3291133\"]},{\"place_id\":87057609,\"licence\":\"Data \\xc2\\xa9 OpenStreetMap contributors, ODbL 1.0. http://osm.org/copyright\",\"osm_type\":\"relation\",\"osm_id\":9402509,\"lat\":\"50.6290997\",\"lon\":\"3.0597072679624127\",\"category\":\"boundary\",\"type\":\"administrative\",\"place_rank\":18,\"importance\":0.30000999999999994,\"addresstype\":\"city_district\",\"name\":\"Lille\",\"display_name\":\"Lille, Nord, Hauts-de-France, France m\\xc3\\xa9tropolitaine, France\",\"boundingbox\":[\"50.6008264\",\"50.6571564\",\"3.0168437\",\"3.1040272\"]}]'"
      ]
     },
     "metadata": {},
     "output_type": "display_data"
    },
    {
     "data": {
      "text/plain": [
       "('50.6365654', '3.0635282')"
      ]
     },
     "metadata": {},
     "output_type": "display_data"
    },
    {
     "data": {
      "text/plain": [
       "'get_coordinates Strasbourg'"
      ]
     },
     "metadata": {},
     "output_type": "display_data"
    },
    {
     "data": {
      "text/plain": [
       "b'[{\"place_id\":104633806,\"licence\":\"Data \\xc2\\xa9 OpenStreetMap contributors, ODbL 1.0. http://osm.org/copyright\",\"osm_type\":\"relation\",\"osm_id\":71033,\"lat\":\"48.584614\",\"lon\":\"7.7507127\",\"category\":\"boundary\",\"type\":\"administrative\",\"place_rank\":16,\"importance\":0.674805427911873,\"addresstype\":\"city\",\"name\":\"Strasbourg\",\"display_name\":\"Strasbourg, Bas-Rhin, Grand Est, France m\\xc3\\xa9tropolitaine, France\",\"boundingbox\":[\"48.4918610\",\"48.6461896\",\"7.6881371\",\"7.8360646\"]},{\"place_id\":104335812,\"licence\":\"Data \\xc2\\xa9 OpenStreetMap contributors, ODbL 1.0. http://osm.org/copyright\",\"osm_type\":\"relation\",\"osm_id\":4630050,\"lat\":\"48.5681009\",\"lon\":\"7.688597194984311\",\"category\":\"boundary\",\"type\":\"administrative\",\"place_rank\":14,\"importance\":0.4366178720918442,\"addresstype\":\"municipality\",\"name\":\"Strasbourg\",\"display_name\":\"Strasbourg, Bas-Rhin, Grand Est, France m\\xc3\\xa9tropolitaine, France\",\"boundingbox\":[\"48.4339379\",\"48.7022939\",\"7.5377795\",\"7.8957138\"]}]'"
      ]
     },
     "metadata": {},
     "output_type": "display_data"
    },
    {
     "data": {
      "text/plain": [
       "('48.584614', '7.7507127')"
      ]
     },
     "metadata": {},
     "output_type": "display_data"
    },
    {
     "data": {
      "text/plain": [
       "'get_coordinates Chateau du Haut Koenigsbourg'"
      ]
     },
     "metadata": {},
     "output_type": "display_data"
    },
    {
     "data": {
      "text/plain": [
       "b'[{\"place_id\":104591830,\"licence\":\"Data \\xc2\\xa9 OpenStreetMap contributors, ODbL 1.0. http://osm.org/copyright\",\"osm_type\":\"node\",\"osm_id\":4245068168,\"lat\":\"48.2495226\",\"lon\":\"7.3454923\",\"category\":\"place\",\"type\":\"isolated_dwelling\",\"place_rank\":22,\"importance\":0.2000099999999999,\"addresstype\":\"isolated_dwelling\",\"name\":\"Ch\\xc3\\xa2teau du Haut-K\\xc5\\x93nigsbourg\",\"display_name\":\"Ch\\xc3\\xa2teau du Haut-K\\xc5\\x93nigsbourg, Orschwiller, S\\xc3\\xa9lestat-Erstein, Bas-Rhin, Grand Est, France m\\xc3\\xa9tropolitaine, 67600, France\",\"boundingbox\":[\"48.2494726\",\"48.2495726\",\"7.3454423\",\"7.3455423\"]}]'"
      ]
     },
     "metadata": {},
     "output_type": "display_data"
    },
    {
     "data": {
      "text/plain": [
       "('48.2495226', '7.3454923')"
      ]
     },
     "metadata": {},
     "output_type": "display_data"
    },
    {
     "data": {
      "text/plain": [
       "'get_coordinates Colmar'"
      ]
     },
     "metadata": {},
     "output_type": "display_data"
    },
    {
     "data": {
      "text/plain": [
       "b'[{\"place_id\":104915802,\"licence\":\"Data \\xc2\\xa9 OpenStreetMap contributors, ODbL 1.0. http://osm.org/copyright\",\"osm_type\":\"relation\",\"osm_id\":61423,\"lat\":\"48.0777517\",\"lon\":\"7.3579641\",\"category\":\"boundary\",\"type\":\"administrative\",\"place_rank\":16,\"importance\":0.5852964807109542,\"addresstype\":\"town\",\"name\":\"Colmar\",\"display_name\":\"Colmar, Colmar-Ribeauvill\\xc3\\xa9, Haut-Rhin, Grand Est, France m\\xc3\\xa9tropolitaine, 68000, France\",\"boundingbox\":[\"48.0407053\",\"48.1820620\",\"7.3154803\",\"7.4691670\"]}]'"
      ]
     },
     "metadata": {},
     "output_type": "display_data"
    },
    {
     "data": {
      "text/plain": [
       "('48.0777517', '7.3579641')"
      ]
     },
     "metadata": {},
     "output_type": "display_data"
    },
    {
     "data": {
      "text/plain": [
       "'get_coordinates Eguisheim'"
      ]
     },
     "metadata": {},
     "output_type": "display_data"
    },
    {
     "data": {
      "text/plain": [
       "b'[{\"place_id\":104719705,\"licence\":\"Data \\xc2\\xa9 OpenStreetMap contributors, ODbL 1.0. http://osm.org/copyright\",\"osm_type\":\"relation\",\"osm_id\":79442,\"lat\":\"48.0447968\",\"lon\":\"7.3079618\",\"category\":\"boundary\",\"type\":\"administrative\",\"place_rank\":16,\"importance\":0.5249720206561967,\"addresstype\":\"village\",\"name\":\"Eguisheim\",\"display_name\":\"Eguisheim, Colmar-Ribeauvill\\xc3\\xa9, Haut-Rhin, Grand Est, France m\\xc3\\xa9tropolitaine, 68420, France\",\"boundingbox\":[\"48.0240327\",\"48.0515072\",\"7.2412792\",\"7.3518540\"]}]'"
      ]
     },
     "metadata": {},
     "output_type": "display_data"
    },
    {
     "data": {
      "text/plain": [
       "('48.0447968', '7.3079618')"
      ]
     },
     "metadata": {},
     "output_type": "display_data"
    },
    {
     "data": {
      "text/plain": [
       "'get_coordinates Besancon'"
      ]
     },
     "metadata": {},
     "output_type": "display_data"
    },
    {
     "data": {
      "text/plain": [
       "b'[{\"place_id\":78684513,\"licence\":\"Data \\xc2\\xa9 OpenStreetMap contributors, ODbL 1.0. http://osm.org/copyright\",\"osm_type\":\"relation\",\"osm_id\":103599,\"lat\":\"47.2380222\",\"lon\":\"6.0243622\",\"category\":\"boundary\",\"type\":\"administrative\",\"place_rank\":16,\"importance\":0.6183511874833898,\"addresstype\":\"city\",\"name\":\"Besan\\xc3\\xa7on\",\"display_name\":\"Besan\\xc3\\xa7on, Doubs, Bourgogne-Franche-Comt\\xc3\\xa9, France m\\xc3\\xa9tropolitaine, 25000, France\",\"boundingbox\":[\"47.2006872\",\"47.3200746\",\"5.9409668\",\"6.0835059\"]},{\"place_id\":78563152,\"licence\":\"Data \\xc2\\xa9 OpenStreetMap contributors, ODbL 1.0. http://osm.org/copyright\",\"osm_type\":\"relation\",\"osm_id\":1682291,\"lat\":\"47.228367899999995\",\"lon\":\"6.01892310902501\",\"category\":\"boundary\",\"type\":\"administrative\",\"place_rank\":14,\"importance\":0.3985240140444952,\"addresstype\":\"municipality\",\"name\":\"Besan\\xc3\\xa7on\",\"display_name\":\"Besan\\xc3\\xa7on, Doubs, Bourgogne-Franche-Comt\\xc3\\xa9, France m\\xc3\\xa9tropolitaine, France\",\"boundingbox\":[\"46.9342078\",\"47.5224481\",\"5.6987633\",\"6.5005111\"]}]'"
      ]
     },
     "metadata": {},
     "output_type": "display_data"
    },
    {
     "data": {
      "text/plain": [
       "('47.2380222', '6.0243622')"
      ]
     },
     "metadata": {},
     "output_type": "display_data"
    },
    {
     "data": {
      "text/plain": [
       "'get_coordinates Dijon'"
      ]
     },
     "metadata": {},
     "output_type": "display_data"
    },
    {
     "data": {
      "text/plain": [
       "b'[{\"place_id\":80102208,\"licence\":\"Data \\xc2\\xa9 OpenStreetMap contributors, ODbL 1.0. http://osm.org/copyright\",\"osm_type\":\"relation\",\"osm_id\":74090,\"lat\":\"47.3215806\",\"lon\":\"5.0414701\",\"category\":\"boundary\",\"type\":\"administrative\",\"place_rank\":16,\"importance\":0.6336193867801005,\"addresstype\":\"city\",\"name\":\"Dijon\",\"display_name\":\"Dijon, C\\xc3\\xb4te-d\\'Or, Bourgogne-Franche-Comt\\xc3\\xa9, France m\\xc3\\xa9tropolitaine, 21000, France\",\"boundingbox\":[\"47.2862467\",\"47.3774741\",\"4.9624434\",\"5.1020598\"]},{\"place_id\":80122124,\"licence\":\"Data \\xc2\\xa9 OpenStreetMap contributors, ODbL 1.0. http://osm.org/copyright\",\"osm_type\":\"relation\",\"osm_id\":1685958,\"lat\":\"47.4087504\",\"lon\":\"5.064635891748798\",\"category\":\"boundary\",\"type\":\"administrative\",\"place_rank\":14,\"importance\":0.3919557965128309,\"addresstype\":\"municipality\",\"name\":\"Dijon\",\"display_name\":\"Dijon, C\\xc3\\xb4te-d\\'Or, Bourgogne-Franche-Comt\\xc3\\xa9, France m\\xc3\\xa9tropolitaine, France\",\"boundingbox\":[\"47.1075054\",\"47.7099499\",\"4.5687150\",\"5.5188651\"]}]'"
      ]
     },
     "metadata": {},
     "output_type": "display_data"
    },
    {
     "data": {
      "text/plain": [
       "('47.3215806', '5.0414701')"
      ]
     },
     "metadata": {},
     "output_type": "display_data"
    },
    {
     "data": {
      "text/plain": [
       "'get_coordinates Annecy'"
      ]
     },
     "metadata": {},
     "output_type": "display_data"
    },
    {
     "data": {
      "text/plain": [
       "b'[{\"place_id\":75756063,\"licence\":\"Data \\xc2\\xa9 OpenStreetMap contributors, ODbL 1.0. http://osm.org/copyright\",\"osm_type\":\"relation\",\"osm_id\":6791758,\"lat\":\"45.8992348\",\"lon\":\"6.1288847\",\"category\":\"boundary\",\"type\":\"administrative\",\"place_rank\":16,\"importance\":0.5790769115704565,\"addresstype\":\"city\",\"name\":\"Annecy\",\"display_name\":\"Annecy, Haute-Savoie, Auvergne-Rh\\xc3\\xb4ne-Alpes, France m\\xc3\\xa9tropolitaine, France\",\"boundingbox\":[\"45.8280024\",\"45.9766928\",\"6.0484121\",\"6.2043932\"]},{\"place_id\":75668466,\"licence\":\"Data \\xc2\\xa9 OpenStreetMap contributors, ODbL 1.0. http://osm.org/copyright\",\"osm_type\":\"relation\",\"osm_id\":1668737,\"lat\":\"45.8782687\",\"lon\":\"6.169945398631612\",\"category\":\"boundary\",\"type\":\"administrative\",\"place_rank\":14,\"importance\":0.3398058423953755,\"addresstype\":\"municipality\",\"name\":\"Annecy\",\"display_name\":\"Annecy, Haute-Savoie, Auvergne-Rh\\xc3\\xb4ne-Alpes, France m\\xc3\\xa9tropolitaine, France\",\"boundingbox\":[\"45.6817078\",\"46.0702526\",\"5.8624243\",\"6.5559605\"]}]'"
      ]
     },
     "metadata": {},
     "output_type": "display_data"
    },
    {
     "data": {
      "text/plain": [
       "('45.8992348', '6.1288847')"
      ]
     },
     "metadata": {},
     "output_type": "display_data"
    },
    {
     "data": {
      "text/plain": [
       "'get_coordinates Grenoble'"
      ]
     },
     "metadata": {},
     "output_type": "display_data"
    },
    {
     "data": {
      "text/plain": [
       "b'[{\"place_id\":75962893,\"licence\":\"Data \\xc2\\xa9 OpenStreetMap contributors, ODbL 1.0. http://osm.org/copyright\",\"osm_type\":\"relation\",\"osm_id\":80348,\"lat\":\"45.1875602\",\"lon\":\"5.7357819\",\"category\":\"boundary\",\"type\":\"administrative\",\"place_rank\":16,\"importance\":0.641808549572345,\"addresstype\":\"city\",\"name\":\"Grenoble\",\"display_name\":\"Grenoble, Is\\xc3\\xa8re, Auvergne-Rh\\xc3\\xb4ne-Alpes, France m\\xc3\\xa9tropolitaine, France\",\"boundingbox\":[\"45.1541442\",\"45.2140762\",\"5.6776059\",\"5.7531315\"]},{\"place_id\":76058136,\"licence\":\"Data \\xc2\\xa9 OpenStreetMap contributors, ODbL 1.0. http://osm.org/copyright\",\"osm_type\":\"relation\",\"osm_id\":1676230,\"lat\":\"45.0940786\",\"lon\":\"5.697197979937964\",\"category\":\"boundary\",\"type\":\"administrative\",\"place_rank\":14,\"importance\":0.401059138797379,\"addresstype\":\"municipality\",\"name\":\"Grenoble\",\"display_name\":\"Grenoble, Is\\xc3\\xa8re, Auvergne-Rh\\xc3\\xb4ne-Alpes, France m\\xc3\\xa9tropolitaine, France\",\"boundingbox\":[\"44.6958924\",\"45.4923349\",\"5.1346493\",\"6.3590884\"]}]'"
      ]
     },
     "metadata": {},
     "output_type": "display_data"
    },
    {
     "data": {
      "text/plain": [
       "('45.1875602', '5.7357819')"
      ]
     },
     "metadata": {},
     "output_type": "display_data"
    },
    {
     "data": {
      "text/plain": [
       "'get_coordinates Lyon'"
      ]
     },
     "metadata": {},
     "output_type": "display_data"
    },
    {
     "data": {
      "text/plain": [
       "b'[{\"place_id\":79325170,\"licence\":\"Data \\xc2\\xa9 OpenStreetMap contributors, ODbL 1.0. http://osm.org/copyright\",\"osm_type\":\"relation\",\"osm_id\":120965,\"lat\":\"45.7578137\",\"lon\":\"4.8320114\",\"category\":\"boundary\",\"type\":\"administrative\",\"place_rank\":16,\"importance\":0.6913775965432666,\"addresstype\":\"city\",\"name\":\"Lyon\",\"display_name\":\"Lyon, M\\xc3\\xa9tropole de Lyon, Rh\\xc3\\xb4ne, Auvergne-Rh\\xc3\\xb4ne-Alpes, France m\\xc3\\xa9tropolitaine, France\",\"boundingbox\":[\"45.7073666\",\"45.8082628\",\"4.7718134\",\"4.8983774\"]},{\"place_id\":76590474,\"licence\":\"Data \\xc2\\xa9 OpenStreetMap contributors, ODbL 1.0. http://osm.org/copyright\",\"osm_type\":\"relation\",\"osm_id\":1663048,\"lat\":\"45.6963425\",\"lon\":\"4.735948029916814\",\"category\":\"boundary\",\"type\":\"administrative\",\"place_rank\":14,\"importance\":0.3688043506708112,\"addresstype\":\"municipality\",\"name\":\"Lyon\",\"display_name\":\"Lyon, Rh\\xc3\\xb4ne, Auvergne-Rh\\xc3\\xb4ne-Alpes, France m\\xc3\\xa9tropolitaine, France\",\"boundingbox\":[\"45.4540260\",\"45.9393015\",\"4.3480714\",\"5.1603205\"]}]'"
      ]
     },
     "metadata": {},
     "output_type": "display_data"
    },
    {
     "data": {
      "text/plain": [
       "('45.7578137', '4.8320114')"
      ]
     },
     "metadata": {},
     "output_type": "display_data"
    },
    {
     "data": {
      "text/plain": [
       "'get_coordinates Gorges du Verdon'"
      ]
     },
     "metadata": {},
     "output_type": "display_data"
    },
    {
     "data": {
      "text/plain": [
       "b'[{\"place_id\":70154125,\"licence\":\"Data \\xc2\\xa9 OpenStreetMap contributors, ODbL 1.0. http://osm.org/copyright\",\"osm_type\":\"node\",\"osm_id\":7193513219,\"lat\":\"43.7496562\",\"lon\":\"6.3285616\",\"category\":\"natural\",\"type\":\"gorge\",\"place_rank\":22,\"importance\":0.37814958574294283,\"addresstype\":\"gorge\",\"name\":\"Gorges du Verdon\",\"display_name\":\"La Palud-sur-Verdon, Castellane, Alpes-de-Haute-Provence, Provence-Alpes-C\\xc3\\xb4te d\\'Azur, France m\\xc3\\xa9tropolitaine, 04120, France, Gorges du Verdon\",\"boundingbox\":[\"43.7496062\",\"43.7497062\",\"6.3285116\",\"6.3286116\"]}]'"
      ]
     },
     "metadata": {},
     "output_type": "display_data"
    },
    {
     "data": {
      "text/plain": [
       "('43.7496562', '6.3285616')"
      ]
     },
     "metadata": {},
     "output_type": "display_data"
    },
    {
     "data": {
      "text/plain": [
       "'get_coordinates Bormes les Mimosas'"
      ]
     },
     "metadata": {},
     "output_type": "display_data"
    },
    {
     "data": {
      "text/plain": [
       "b'[{\"place_id\":70195412,\"licence\":\"Data \\xc2\\xa9 OpenStreetMap contributors, ODbL 1.0. http://osm.org/copyright\",\"osm_type\":\"relation\",\"osm_id\":1118915,\"lat\":\"43.1506968\",\"lon\":\"6.3419285\",\"category\":\"boundary\",\"type\":\"administrative\",\"place_rank\":16,\"importance\":0.4773164194582208,\"addresstype\":\"village\",\"name\":\"Bormes-les-Mimosas\",\"display_name\":\"Bormes-les-Mimosas, Toulon, Var, Provence-Alpes-C\\xc3\\xb4te d\\'Azur, France m\\xc3\\xa9tropolitaine, 83230, France\",\"boundingbox\":[\"43.0864271\",\"43.2278201\",\"6.2716142\",\"6.4514893\"]}]'"
      ]
     },
     "metadata": {},
     "output_type": "display_data"
    },
    {
     "data": {
      "text/plain": [
       "('43.1506968', '6.3419285')"
      ]
     },
     "metadata": {},
     "output_type": "display_data"
    },
    {
     "data": {
      "text/plain": [
       "'get_coordinates Cassis'"
      ]
     },
     "metadata": {},
     "output_type": "display_data"
    },
    {
     "data": {
      "text/plain": [
       "b'[{\"place_id\":70883649,\"licence\":\"Data \\xc2\\xa9 OpenStreetMap contributors, ODbL 1.0. http://osm.org/copyright\",\"osm_type\":\"relation\",\"osm_id\":76425,\"lat\":\"43.2140359\",\"lon\":\"5.5396318\",\"category\":\"boundary\",\"type\":\"administrative\",\"place_rank\":16,\"importance\":0.4767802490530644,\"addresstype\":\"village\",\"name\":\"Cassis\",\"display_name\":\"Cassis, Marseille, Bouches-du-Rh\\xc3\\xb4ne, Provence-Alpes-C\\xc3\\xb4te d\\'Azur, France m\\xc3\\xa9tropolitaine, 13260, France\",\"boundingbox\":[\"43.1884732\",\"43.2487231\",\"5.5063193\",\"5.5945199\"]}]'"
      ]
     },
     "metadata": {},
     "output_type": "display_data"
    },
    {
     "data": {
      "text/plain": [
       "('43.2140359', '5.5396318')"
      ]
     },
     "metadata": {},
     "output_type": "display_data"
    },
    {
     "data": {
      "text/plain": [
       "'get_coordinates Marseille'"
      ]
     },
     "metadata": {},
     "output_type": "display_data"
    },
    {
     "data": {
      "text/plain": [
       "b'[{\"place_id\":70805526,\"licence\":\"Data \\xc2\\xa9 OpenStreetMap contributors, ODbL 1.0. http://osm.org/copyright\",\"osm_type\":\"relation\",\"osm_id\":76469,\"lat\":\"43.2961743\",\"lon\":\"5.3699525\",\"category\":\"boundary\",\"type\":\"administrative\",\"place_rank\":16,\"importance\":0.6813768937556641,\"addresstype\":\"city\",\"name\":\"Marseille\",\"display_name\":\"Marseille, Bouches-du-Rh\\xc3\\xb4ne, Provence-Alpes-C\\xc3\\xb4te d\\'Azur, France m\\xc3\\xa9tropolitaine, 13000, France\",\"boundingbox\":[\"43.1696228\",\"43.3910329\",\"5.2286312\",\"5.5324758\"]},{\"place_id\":70892332,\"licence\":\"Data \\xc2\\xa9 OpenStreetMap contributors, ODbL 1.0. http://osm.org/copyright\",\"osm_type\":\"relation\",\"osm_id\":1686370,\"lat\":\"43.301487800000004\",\"lon\":\"5.548001012099657\",\"category\":\"boundary\",\"type\":\"administrative\",\"place_rank\":14,\"importance\":0.3143170044259858,\"addresstype\":\"municipality\",\"name\":\"Marseille\",\"display_name\":\"Marseille, Bouches-du-Rh\\xc3\\xb4ne, Provence-Alpes-C\\xc3\\xb4te d\\'Azur, France m\\xc3\\xa9tropolitaine, France\",\"boundingbox\":[\"43.1573984\",\"43.4427166\",\"5.2286312\",\"5.7628627\"]}]'"
      ]
     },
     "metadata": {},
     "output_type": "display_data"
    },
    {
     "data": {
      "text/plain": [
       "('43.2961743', '5.3699525')"
      ]
     },
     "metadata": {},
     "output_type": "display_data"
    },
    {
     "data": {
      "text/plain": [
       "'get_coordinates Aix en Provence'"
      ]
     },
     "metadata": {},
     "output_type": "display_data"
    },
    {
     "data": {
      "text/plain": [
       "b'[{\"place_id\":70350081,\"licence\":\"Data \\xc2\\xa9 OpenStreetMap contributors, ODbL 1.0. http://osm.org/copyright\",\"osm_type\":\"relation\",\"osm_id\":70279,\"lat\":\"43.5298424\",\"lon\":\"5.4474738\",\"category\":\"boundary\",\"type\":\"administrative\",\"place_rank\":16,\"importance\":0.591084766383758,\"addresstype\":\"city\",\"name\":\"Aix-en-Provence\",\"display_name\":\"Aix-en-Provence, Bouches-du-Rh\\xc3\\xb4ne, Provence-Alpes-C\\xc3\\xb4te d\\'Azur, France m\\xc3\\xa9tropolitaine, France\",\"boundingbox\":[\"43.4461058\",\"43.6259224\",\"5.2694745\",\"5.5063013\"]},{\"place_id\":70491578,\"licence\":\"Data \\xc2\\xa9 OpenStreetMap contributors, ODbL 1.0. http://osm.org/copyright\",\"osm_type\":\"relation\",\"osm_id\":1686391,\"lat\":\"43.570984749999994\",\"lon\":\"5.382418891915822\",\"category\":\"boundary\",\"type\":\"administrative\",\"place_rank\":14,\"importance\":0.3315759822763769,\"addresstype\":\"municipality\",\"name\":\"Aix-en-Provence\",\"display_name\":\"Aix-en-Provence, Bouches-du-Rh\\xc3\\xb4ne, Provence-Alpes-C\\xc3\\xb4te d\\'Azur, France m\\xc3\\xa9tropolitaine, France\",\"boundingbox\":[\"43.3681732\",\"43.7721131\",\"4.9534171\",\"5.8135205\"]}]'"
      ]
     },
     "metadata": {},
     "output_type": "display_data"
    },
    {
     "data": {
      "text/plain": [
       "('43.5298424', '5.4474738')"
      ]
     },
     "metadata": {},
     "output_type": "display_data"
    },
    {
     "data": {
      "text/plain": [
       "'get_coordinates Avignon'"
      ]
     },
     "metadata": {},
     "output_type": "display_data"
    },
    {
     "data": {
      "text/plain": [
       "b'[{\"place_id\":70472090,\"licence\":\"Data \\xc2\\xa9 OpenStreetMap contributors, ODbL 1.0. http://osm.org/copyright\",\"osm_type\":\"relation\",\"osm_id\":102478,\"lat\":\"43.9492493\",\"lon\":\"4.8059012\",\"category\":\"boundary\",\"type\":\"administrative\",\"place_rank\":16,\"importance\":0.6220935210501682,\"addresstype\":\"city\",\"name\":\"Avignon\",\"display_name\":\"Avignon, Vaucluse, Provence-Alpes-C\\xc3\\xb4te d\\'Azur, France m\\xc3\\xa9tropolitaine, France\",\"boundingbox\":[\"43.8873819\",\"43.9967419\",\"4.7396309\",\"4.9271468\"]},{\"place_id\":70552830,\"licence\":\"Data \\xc2\\xa9 OpenStreetMap contributors, ODbL 1.0. http://osm.org/copyright\",\"osm_type\":\"relation\",\"osm_id\":1693195,\"lat\":\"43.98456915\",\"lon\":\"4.885811932798079\",\"category\":\"boundary\",\"type\":\"administrative\",\"place_rank\":14,\"importance\":0.40001,\"addresstype\":\"municipality\",\"name\":\"Avignon\",\"display_name\":\"Avignon, Vaucluse, Provence-Alpes-C\\xc3\\xb4te d\\'Azur, France m\\xc3\\xa9tropolitaine, France\",\"boundingbox\":[\"43.8504637\",\"44.1181923\",\"4.7396309\",\"5.1599743\"]}]'"
      ]
     },
     "metadata": {},
     "output_type": "display_data"
    },
    {
     "data": {
      "text/plain": [
       "('43.9492493', '4.8059012')"
      ]
     },
     "metadata": {},
     "output_type": "display_data"
    },
    {
     "data": {
      "text/plain": [
       "'get_coordinates Uzes'"
      ]
     },
     "metadata": {},
     "output_type": "display_data"
    },
    {
     "data": {
      "text/plain": [
       "b'[{\"place_id\":74412901,\"licence\":\"Data \\xc2\\xa9 OpenStreetMap contributors, ODbL 1.0. http://osm.org/copyright\",\"osm_type\":\"relation\",\"osm_id\":380050,\"lat\":\"44.0121279\",\"lon\":\"4.4196718\",\"category\":\"boundary\",\"type\":\"administrative\",\"place_rank\":16,\"importance\":0.5375332788749554,\"addresstype\":\"village\",\"name\":\"Uz\\xc3\\xa8s\",\"display_name\":\"Uz\\xc3\\xa8s, N\\xc3\\xaemes, Gard, Occitanie, France m\\xc3\\xa9tropolitaine, 30700, France\",\"boundingbox\":[\"43.9811093\",\"44.0765914\",\"4.3852299\",\"4.4467859\"]}]'"
      ]
     },
     "metadata": {},
     "output_type": "display_data"
    },
    {
     "data": {
      "text/plain": [
       "('44.0121279', '4.4196718')"
      ]
     },
     "metadata": {},
     "output_type": "display_data"
    },
    {
     "data": {
      "text/plain": [
       "'get_coordinates Nimes'"
      ]
     },
     "metadata": {},
     "output_type": "display_data"
    },
    {
     "data": {
      "text/plain": [
       "b'[{\"place_id\":70627983,\"licence\":\"Data \\xc2\\xa9 OpenStreetMap contributors, ODbL 1.0. http://osm.org/copyright\",\"osm_type\":\"relation\",\"osm_id\":378685,\"lat\":\"43.8374249\",\"lon\":\"4.3600687\",\"category\":\"boundary\",\"type\":\"administrative\",\"place_rank\":16,\"importance\":0.6030547856893241,\"addresstype\":\"city\",\"name\":\"N\\xc3\\xaemes\",\"display_name\":\"N\\xc3\\xaemes, Gard, Occitanie, France m\\xc3\\xa9tropolitaine, France\",\"boundingbox\":[\"43.7412659\",\"43.9230177\",\"4.2356708\",\"4.4496605\"]},{\"place_id\":70517947,\"licence\":\"Data \\xc2\\xa9 OpenStreetMap contributors, ODbL 1.0. http://osm.org/copyright\",\"osm_type\":\"relation\",\"osm_id\":2757959,\"lat\":\"43.9023189\",\"lon\":\"4.390525733141193\",\"category\":\"boundary\",\"type\":\"administrative\",\"place_rank\":14,\"importance\":0.37472087083815586,\"addresstype\":\"municipality\",\"name\":\"N\\xc3\\xaemes\",\"display_name\":\"N\\xc3\\xaemes, Gard, Occitanie, France m\\xc3\\xa9tropolitaine, France\",\"boundingbox\":[\"43.4601970\",\"44.3443155\",\"4.0009632\",\"4.8455335\"]}]'"
      ]
     },
     "metadata": {},
     "output_type": "display_data"
    },
    {
     "data": {
      "text/plain": [
       "('43.8374249', '4.3600687')"
      ]
     },
     "metadata": {},
     "output_type": "display_data"
    },
    {
     "data": {
      "text/plain": [
       "'get_coordinates Aigues Mortes'"
      ]
     },
     "metadata": {},
     "output_type": "display_data"
    },
    {
     "data": {
      "text/plain": [
       "b'[{\"place_id\":70766008,\"licence\":\"Data \\xc2\\xa9 OpenStreetMap contributors, ODbL 1.0. http://osm.org/copyright\",\"osm_type\":\"relation\",\"osm_id\":272287,\"lat\":\"43.5661521\",\"lon\":\"4.19154\",\"category\":\"boundary\",\"type\":\"administrative\",\"place_rank\":16,\"importance\":0.5323802893018253,\"addresstype\":\"town\",\"name\":\"Aigues-Mortes\",\"display_name\":\"Aigues-Mortes, N\\xc3\\xaemes, Gard, Occitanie, France m\\xc3\\xa9tropolitaine, 30220, France\",\"boundingbox\":[\"43.4958113\",\"43.5920372\",\"4.0760703\",\"4.2442867\"]},{\"place_id\":73886329,\"licence\":\"Data \\xc2\\xa9 OpenStreetMap contributors, ODbL 1.0. http://osm.org/copyright\",\"osm_type\":\"node\",\"osm_id\":5196911673,\"lat\":\"45.3314132\",\"lon\":\"1.03014\",\"category\":\"place\",\"type\":\"hamlet\",\"place_rank\":20,\"importance\":0.25000999999999995,\"addresstype\":\"hamlet\",\"name\":\"Aigues Mortes\",\"display_name\":\"Aigues Mortes, Saint-Martial-d\\'Albar\\xc3\\xa8de, Nontron, Dordogne, Nouvelle-Aquitaine, France m\\xc3\\xa9tropolitaine, 24160, France\",\"boundingbox\":[\"45.3114132\",\"45.3514132\",\"1.0101400\",\"1.0501400\"]}]'"
      ]
     },
     "metadata": {},
     "output_type": "display_data"
    },
    {
     "data": {
      "text/plain": [
       "('43.5661521', '4.19154')"
      ]
     },
     "metadata": {},
     "output_type": "display_data"
    },
    {
     "data": {
      "text/plain": [
       "'get_coordinates Saintes Maries de la mer'"
      ]
     },
     "metadata": {},
     "output_type": "display_data"
    },
    {
     "data": {
      "text/plain": [
       "b'[{\"place_id\":70745512,\"licence\":\"Data \\xc2\\xa9 OpenStreetMap contributors, ODbL 1.0. http://osm.org/copyright\",\"osm_type\":\"relation\",\"osm_id\":414459,\"lat\":\"43.4515922\",\"lon\":\"4.4277202\",\"category\":\"boundary\",\"type\":\"administrative\",\"place_rank\":16,\"importance\":0.4725165122764473,\"addresstype\":\"town\",\"name\":\"Saintes-Maries-de-la-Mer\",\"display_name\":\"Saintes-Maries-de-la-Mer, Arles, Bouches-du-Rh\\xc3\\xb4ne, Provence-Alpes-C\\xc3\\xb4te d\\'Azur, France m\\xc3\\xa9tropolitaine, 13460, France\",\"boundingbox\":[\"43.4062445\",\"43.5858463\",\"4.2301364\",\"4.6444785\"]}]'"
      ]
     },
     "metadata": {},
     "output_type": "display_data"
    },
    {
     "data": {
      "text/plain": [
       "('43.4515922', '4.4277202')"
      ]
     },
     "metadata": {},
     "output_type": "display_data"
    },
    {
     "data": {
      "text/plain": [
       "'get_coordinates Collioure'"
      ]
     },
     "metadata": {},
     "output_type": "display_data"
    },
    {
     "data": {
      "text/plain": [
       "b'[{\"place_id\":72068913,\"licence\":\"Data \\xc2\\xa9 OpenStreetMap contributors, ODbL 1.0. http://osm.org/copyright\",\"osm_type\":\"relation\",\"osm_id\":18409,\"lat\":\"42.52505\",\"lon\":\"3.0831554\",\"category\":\"boundary\",\"type\":\"administrative\",\"place_rank\":16,\"importance\":0.5084088842062249,\"addresstype\":\"village\",\"name\":\"Collioure\",\"display_name\":\"Collioure, C\\xc3\\xa9ret, Pyr\\xc3\\xa9n\\xc3\\xa9es-Orientales, Occitanie, France m\\xc3\\xa9tropolitaine, 66190, France\",\"boundingbox\":[\"42.4832453\",\"42.5341084\",\"3.0495074\",\"3.0994238\"]}]'"
      ]
     },
     "metadata": {},
     "output_type": "display_data"
    },
    {
     "data": {
      "text/plain": [
       "('42.52505', '3.0831554')"
      ]
     },
     "metadata": {},
     "output_type": "display_data"
    },
    {
     "data": {
      "text/plain": [
       "'get_coordinates Carcassonne'"
      ]
     },
     "metadata": {},
     "output_type": "display_data"
    },
    {
     "data": {
      "text/plain": [
       "b'[{\"place_id\":72295757,\"licence\":\"Data \\xc2\\xa9 OpenStreetMap contributors, ODbL 1.0. http://osm.org/copyright\",\"osm_type\":\"relation\",\"osm_id\":37774,\"lat\":\"43.2130358\",\"lon\":\"2.3491069\",\"category\":\"boundary\",\"type\":\"administrative\",\"place_rank\":16,\"importance\":0.5891672924570599,\"addresstype\":\"town\",\"name\":\"Carcassonne\",\"display_name\":\"Carcassonne, Aude, Occitanie, France m\\xc3\\xa9tropolitaine, 11000, France\",\"boundingbox\":[\"43.1713069\",\"43.2443707\",\"2.2615684\",\"2.4362676\"]},{\"place_id\":72511725,\"licence\":\"Data \\xc2\\xa9 OpenStreetMap contributors, ODbL 1.0. http://osm.org/copyright\",\"osm_type\":\"relation\",\"osm_id\":2753432,\"lat\":\"43.24558525\",\"lon\":\"2.191051094614102\",\"category\":\"boundary\",\"type\":\"administrative\",\"place_rank\":14,\"importance\":0.3763904735942329,\"addresstype\":\"municipality\",\"name\":\"Carcassonne\",\"display_name\":\"Carcassonne, Aude, Occitanie, France m\\xc3\\xa9tropolitaine, France\",\"boundingbox\":[\"43.0311477\",\"43.4600382\",\"1.6887151\",\"2.7118623\"]}]'"
      ]
     },
     "metadata": {},
     "output_type": "display_data"
    },
    {
     "data": {
      "text/plain": [
       "('43.2130358', '2.3491069')"
      ]
     },
     "metadata": {},
     "output_type": "display_data"
    },
    {
     "data": {
      "text/plain": [
       "'get_coordinates Ariege'"
      ]
     },
     "metadata": {},
     "output_type": "display_data"
    },
    {
     "data": {
      "text/plain": [
       "b'[{\"place_id\":71928040,\"licence\":\"Data \\xc2\\xa9 OpenStreetMap contributors, ODbL 1.0. http://osm.org/copyright\",\"osm_type\":\"way\",\"osm_id\":127723368,\"lat\":\"42.9927428\",\"lon\":\"1.6124975\",\"category\":\"waterway\",\"type\":\"river\",\"place_rank\":19,\"importance\":0.27501,\"addresstype\":\"river\",\"name\":\"Ari\\xc3\\xa8ge\",\"display_name\":\"La Coudounmine, Vernajoul, Foix, Ari\\xc3\\xa8ge, Occitanie, France m\\xc3\\xa9tropolitaine, 09000, France, Ari\\xc3\\xa8ge\",\"boundingbox\":[\"42.9888173\",\"42.9951993\",\"1.6111888\",\"1.6138685\"]},{\"place_id\":73145389,\"licence\":\"Data \\xc2\\xa9 OpenStreetMap contributors, ODbL 1.0. http://osm.org/copyright\",\"osm_type\":\"way\",\"osm_id\":127723369,\"lat\":\"43.0118351\",\"lon\":\"1.6101314\",\"category\":\"waterway\",\"type\":\"canal\",\"place_rank\":20,\"importance\":0.25000999999999995,\"addresstype\":\"canal\",\"name\":\"Ari\\xc3\\xa8ge\",\"display_name\":\"Saint-Jean-de-Verges, Foix, Ari\\xc3\\xa8ge, Occitanie, France m\\xc3\\xa9tropolitaine, 09000, France, Ari\\xc3\\xa8ge\",\"boundingbox\":[\"43.0102686\",\"43.0147622\",\"1.6090879\",\"1.6120971\"]},{\"place_id\":71942701,\"licence\":\"Data \\xc2\\xa9 OpenStreetMap contributors, ODbL 1.0. http://osm.org/copyright\",\"osm_type\":\"relation\",\"osm_id\":1806623,\"lat\":\"42.8458016\",\"lon\":\"1.6067586\",\"category\":\"boundary\",\"type\":\"administrative\",\"place_rank\":16,\"importance\":0.5156394757313355,\"addresstype\":\"village\",\"name\":\"Tarascon-sur-Ari\\xc3\\xa8ge\",\"display_name\":\"Tarascon-sur-Ari\\xc3\\xa8ge, Foix, Ari\\xc3\\xa8ge, Occitanie, France m\\xc3\\xa9tropolitaine, 09400, France\",\"boundingbox\":[\"42.8251052\",\"42.8622713\",\"1.5600405\",\"1.6270996\"]},{\"place_id\":71933272,\"licence\":\"Data \\xc2\\xa9 OpenStreetMap contributors, ODbL 1.0. http://osm.org/copyright\",\"osm_type\":\"relation\",\"osm_id\":2106660,\"lat\":\"42.9427221\",\"lon\":\"1.6164435\",\"category\":\"boundary\",\"type\":\"administrative\",\"place_rank\":16,\"importance\":0.509225431379897,\"addresstype\":\"village\",\"name\":\"Ferri\\xc3\\xa8res-sur-Ari\\xc3\\xa8ge\",\"display_name\":\"Ferri\\xc3\\xa8res-sur-Ari\\xc3\\xa8ge, Foix, Ari\\xc3\\xa8ge, Occitanie, France m\\xc3\\xa9tropolitaine, 09000, France\",\"boundingbox\":[\"42.9279201\",\"42.9509529\",\"1.5898701\",\"1.6212670\"]},{\"place_id\":73147604,\"licence\":\"Data \\xc2\\xa9 OpenStreetMap contributors, ODbL 1.0. http://osm.org/copyright\",\"osm_type\":\"relation\",\"osm_id\":1813265,\"lat\":\"43.0272619\",\"lon\":\"1.8786818\",\"category\":\"boundary\",\"type\":\"administrative\",\"place_rank\":16,\"importance\":0.5083605134521089,\"addresstype\":\"village\",\"name\":\"Troye-d\\'Ari\\xc3\\xa8ge\",\"display_name\":\"Troye-d\\'Ari\\xc3\\xa8ge, Pamiers, Ari\\xc3\\xa8ge, Occitanie, France m\\xc3\\xa9tropolitaine, 09500, France\",\"boundingbox\":[\"43.0012902\",\"43.0461216\",\"1.8663345\",\"1.9146063\"]},{\"place_id\":73157951,\"licence\":\"Data \\xc2\\xa9 OpenStreetMap contributors, ODbL 1.0. http://osm.org/copyright\",\"osm_type\":\"relation\",\"osm_id\":1104538,\"lat\":\"43.0094426\",\"lon\":\"1.6129033\",\"category\":\"waterway\",\"type\":\"river\",\"place_rank\":18,\"importance\":0.4354180498712282,\"addresstype\":\"river\",\"name\":\"L\\'Ari\\xc3\\xa8ge\",\"display_name\":\"Occitanie, France m\\xc3\\xa9tropolitaine, France, L\\'Ari\\xc3\\xa8ge\",\"boundingbox\":[\"42.5300828\",\"43.5186619\",\"1.3957560\",\"1.8374544\"]},{\"place_id\":73119914,\"licence\":\"Data \\xc2\\xa9 OpenStreetMap contributors, ODbL 1.0. http://osm.org/copyright\",\"osm_type\":\"way\",\"osm_id\":615297650,\"lat\":\"43.2753345\",\"lon\":\"1.5713426\",\"category\":\"waterway\",\"type\":\"river\",\"place_rank\":19,\"importance\":0.27501,\"addresstype\":\"river\",\"name\":\"L\\'Ari\\xc3\\xa8ge\",\"display_name\":\"Cintegabelle, Muret, Haute-Garonne, Occitanie, France m\\xc3\\xa9tropolitaine, 31550, France, L\\'Ari\\xc3\\xa8ge\",\"boundingbox\":[\"43.2746666\",\"43.2761755\",\"1.5708387\",\"1.5713426\"]},{\"place_id\":71894329,\"licence\":\"Data \\xc2\\xa9 OpenStreetMap contributors, ODbL 1.0. http://osm.org/copyright\",\"osm_type\":\"way\",\"osm_id\":134238176,\"lat\":\"42.9411223\",\"lon\":\"1.6208847\",\"category\":\"waterway\",\"type\":\"river\",\"place_rank\":19,\"importance\":0.27501,\"addresstype\":\"river\",\"name\":\"L\\'Ari\\xc3\\xa8ge\",\"display_name\":\"Hameau de Tramesaygues, Montgailhard, Foix, Ari\\xc3\\xa8ge, Occitanie, France m\\xc3\\xa9tropolitaine, 09330, France, L\\'Ari\\xc3\\xa8ge\",\"boundingbox\":[\"42.9395707\",\"42.9431290\",\"1.6199614\",\"1.6211573\"]},{\"place_id\":73119598,\"licence\":\"Data \\xc2\\xa9 OpenStreetMap contributors, ODbL 1.0. http://osm.org/copyright\",\"osm_type\":\"way\",\"osm_id\":141608071,\"lat\":\"43.3086775\",\"lon\":\"1.5453732\",\"category\":\"waterway\",\"type\":\"river\",\"place_rank\":19,\"importance\":0.27501,\"addresstype\":\"river\",\"name\":\"L\\'Ari\\xc3\\xa8ge\",\"display_name\":\"Cancot, Cintegabelle, Muret, Haute-Garonne, Occitanie, France m\\xc3\\xa9tropolitaine, 31550, France, L\\'Ari\\xc3\\xa8ge\",\"boundingbox\":[\"43.3067171\",\"43.3100682\",\"1.5426910\",\"1.5493030\"]},{\"place_id\":73242799,\"licence\":\"Data \\xc2\\xa9 OpenStreetMap contributors, ODbL 1.0. http://osm.org/copyright\",\"osm_type\":\"way\",\"osm_id\":307493929,\"lat\":\"43.0309761\",\"lon\":\"1.6046769\",\"category\":\"waterway\",\"type\":\"canal\",\"place_rank\":20,\"importance\":0.25000999999999995,\"addresstype\":\"canal\",\"name\":\"L\\'Ari\\xc3\\xa8ge\",\"display_name\":\"Crampagna, Foix, Ari\\xc3\\xa8ge, Occitanie, France m\\xc3\\xa9tropolitaine, 09120, France, L\\'Ari\\xc3\\xa8ge\",\"boundingbox\":[\"43.0306201\",\"43.0315369\",\"1.6042402\",\"1.6054263\"]}]'"
      ]
     },
     "metadata": {},
     "output_type": "display_data"
    },
    {
     "data": {
      "text/plain": [
       "('42.9927428', '1.6124975')"
      ]
     },
     "metadata": {},
     "output_type": "display_data"
    },
    {
     "data": {
      "text/plain": [
       "'get_coordinates Toulouse'"
      ]
     },
     "metadata": {},
     "output_type": "display_data"
    },
    {
     "data": {
      "text/plain": [
       "b'[{\"place_id\":73010739,\"licence\":\"Data \\xc2\\xa9 OpenStreetMap contributors, ODbL 1.0. http://osm.org/copyright\",\"osm_type\":\"relation\",\"osm_id\":35738,\"lat\":\"43.6044622\",\"lon\":\"1.4442469\",\"category\":\"boundary\",\"type\":\"administrative\",\"place_rank\":16,\"importance\":0.6682142268493704,\"addresstype\":\"city\",\"name\":\"Toulouse\",\"display_name\":\"Toulouse, Haute-Garonne, Occitanie, France m\\xc3\\xa9tropolitaine, France\",\"boundingbox\":[\"43.5326540\",\"43.6687080\",\"1.3503956\",\"1.5153795\"]},{\"place_id\":73102288,\"licence\":\"Data \\xc2\\xa9 OpenStreetMap contributors, ODbL 1.0. http://osm.org/copyright\",\"osm_type\":\"relation\",\"osm_id\":1649040,\"lat\":\"43.579275100000004\",\"lon\":\"1.5032717763608257\",\"category\":\"boundary\",\"type\":\"administrative\",\"place_rank\":14,\"importance\":0.3869603398828882,\"addresstype\":\"municipality\",\"name\":\"Toulouse\",\"display_name\":\"Toulouse, Haute-Garonne, Occitanie, France m\\xc3\\xa9tropolitaine, France\",\"boundingbox\":[\"43.2369002\",\"43.9216357\",\"0.9523375\",\"2.0482851\"]}]'"
      ]
     },
     "metadata": {},
     "output_type": "display_data"
    },
    {
     "data": {
      "text/plain": [
       "('43.6044622', '1.4442469')"
      ]
     },
     "metadata": {},
     "output_type": "display_data"
    },
    {
     "data": {
      "text/plain": [
       "'get_coordinates Montauban'"
      ]
     },
     "metadata": {},
     "output_type": "display_data"
    },
    {
     "data": {
      "text/plain": [
       "b'[{\"place_id\":73471474,\"licence\":\"Data \\xc2\\xa9 OpenStreetMap contributors, ODbL 1.0. http://osm.org/copyright\",\"osm_type\":\"relation\",\"osm_id\":137735,\"lat\":\"44.0175835\",\"lon\":\"1.3549991\",\"category\":\"boundary\",\"type\":\"administrative\",\"place_rank\":16,\"importance\":0.5542482145338697,\"addresstype\":\"town\",\"name\":\"Montauban\",\"display_name\":\"Montauban, Tarn-et-Garonne, Occitanie, France m\\xc3\\xa9tropolitaine, 82000, France\",\"boundingbox\":[\"43.9512579\",\"44.0922122\",\"1.2865419\",\"1.4427914\"]},{\"place_id\":74794951,\"licence\":\"Data \\xc2\\xa9 OpenStreetMap contributors, ODbL 1.0. http://osm.org/copyright\",\"osm_type\":\"relation\",\"osm_id\":1389237,\"lat\":\"42.7917916\",\"lon\":\"0.6081298\",\"category\":\"boundary\",\"type\":\"administrative\",\"place_rank\":16,\"importance\":0.5453725568292895,\"addresstype\":\"village\",\"name\":\"Montauban-de-Luchon\",\"display_name\":\"Montauban-de-Luchon, Saint-Gaudens, Haute-Garonne, Occitanie, France m\\xc3\\xa9tropolitaine, 31110, France\",\"boundingbox\":[\"42.7802897\",\"42.8012540\",\"0.5994724\",\"0.6522316\"]},{\"place_id\":73478079,\"licence\":\"Data \\xc2\\xa9 OpenStreetMap contributors, ODbL 1.0. http://osm.org/copyright\",\"osm_type\":\"relation\",\"osm_id\":1646846,\"lat\":\"44.0541438\",\"lon\":\"1.4937961569159295\",\"category\":\"boundary\",\"type\":\"administrative\",\"place_rank\":14,\"importance\":0.33855055665355965,\"addresstype\":\"municipality\",\"name\":\"Montauban\",\"display_name\":\"Montauban, Tarn-et-Garonne, Occitanie, France m\\xc3\\xa9tropolitaine, France\",\"boundingbox\":[\"43.7674288\",\"44.3406002\",\"1.0578543\",\"2.0008951\"]},{\"place_id\":259593293,\"licence\":\"Data \\xc2\\xa9 OpenStreetMap contributors, ODbL 1.0. http://osm.org/copyright\",\"osm_type\":\"node\",\"osm_id\":599730587,\"lat\":\"16.2149851\",\"lon\":\"-61.5019724\",\"category\":\"place\",\"type\":\"suburb\",\"place_rank\":19,\"importance\":0.27501,\"addresstype\":\"suburb\",\"name\":\"Montauban\",\"display_name\":\"Montauban, Le Gosier, Pointe-\\xc3\\xa0-Pitre, Guadeloupe, 97190, France\",\"boundingbox\":[\"16.1949851\",\"16.2349851\",\"-61.5219724\",\"-61.4819724\"]}]'"
      ]
     },
     "metadata": {},
     "output_type": "display_data"
    },
    {
     "data": {
      "text/plain": [
       "('44.0175835', '1.3549991')"
      ]
     },
     "metadata": {},
     "output_type": "display_data"
    },
    {
     "data": {
      "text/plain": [
       "'get_coordinates Biarritz'"
      ]
     },
     "metadata": {},
     "output_type": "display_data"
    },
    {
     "data": {
      "text/plain": [
       "b'[{\"place_id\":250442744,\"licence\":\"Data \\xc2\\xa9 OpenStreetMap contributors, ODbL 1.0. http://osm.org/copyright\",\"osm_type\":\"relation\",\"osm_id\":166717,\"lat\":\"43.4832523\",\"lon\":\"-1.5592776\",\"category\":\"boundary\",\"type\":\"administrative\",\"place_rank\":16,\"importance\":0.5796122503321824,\"addresstype\":\"town\",\"name\":\"Biarritz\",\"display_name\":\"Biarritz, Bayonne, Pyr\\xc3\\xa9n\\xc3\\xa9es-Atlantiques, Nouvelle-Aquitaine, France m\\xc3\\xa9tropolitaine, 64200, France\",\"boundingbox\":[\"43.4475698\",\"43.4945381\",\"-1.5773906\",\"-1.5343915\"]},{\"place_id\":250722775,\"licence\":\"Data \\xc2\\xa9 OpenStreetMap contributors, ODbL 1.0. http://osm.org/copyright\",\"osm_type\":\"relation\",\"osm_id\":4615703,\"lat\":\"43.471143749999996\",\"lon\":\"-1.552726590666314\",\"category\":\"boundary\",\"type\":\"political\",\"place_rank\":25,\"importance\":0.5796122503321824,\"addresstype\":\"political\",\"name\":\"Biarritz\",\"display_name\":\"Biarritz, Bayonne, Pyr\\xc3\\xa9n\\xc3\\xa9es-Atlantiques, Nouvelle-Aquitaine, France m\\xc3\\xa9tropolitaine, 64200, France, Biarritz\",\"boundingbox\":[\"43.4475698\",\"43.4945381\",\"-1.5773906\",\"-1.5343915\"]}]'"
      ]
     },
     "metadata": {},
     "output_type": "display_data"
    },
    {
     "data": {
      "text/plain": [
       "('43.4832523', '-1.5592776')"
      ]
     },
     "metadata": {},
     "output_type": "display_data"
    },
    {
     "data": {
      "text/plain": [
       "'get_coordinates Bayonne'"
      ]
     },
     "metadata": {},
     "output_type": "display_data"
    },
    {
     "data": {
      "text/plain": [
       "b'[{\"place_id\":250414078,\"licence\":\"Data \\xc2\\xa9 OpenStreetMap contributors, ODbL 1.0. http://osm.org/copyright\",\"osm_type\":\"relation\",\"osm_id\":166713,\"lat\":\"43.4945144\",\"lon\":\"-1.4736657\",\"category\":\"boundary\",\"type\":\"administrative\",\"place_rank\":16,\"importance\":0.6027800210035323,\"addresstype\":\"town\",\"name\":\"Bayonne\",\"display_name\":\"Bayonne, Pyr\\xc3\\xa9n\\xc3\\xa9es-Atlantiques, Nouvelle-Aquitaine, France m\\xc3\\xa9tropolitaine, 64100, France\",\"boundingbox\":[\"43.4498733\",\"43.5188846\",\"-1.5048438\",\"-1.4172610\"]},{\"place_id\":250775716,\"licence\":\"Data \\xc2\\xa9 OpenStreetMap contributors, ODbL 1.0. http://osm.org/copyright\",\"osm_type\":\"relation\",\"osm_id\":2770753,\"lat\":\"43.2775332\",\"lon\":\"-1.2087111034758713\",\"category\":\"boundary\",\"type\":\"administrative\",\"place_rank\":14,\"importance\":0.36895940081389983,\"addresstype\":\"municipality\",\"name\":\"Bayonne\",\"display_name\":\"Bayonne, Pyr\\xc3\\xa9n\\xc3\\xa9es-Atlantiques, Nouvelle-Aquitaine, France m\\xc3\\xa9tropolitaine, France\",\"boundingbox\":[\"43.0076101\",\"43.5474276\",\"-1.7910227\",\"-0.8973720\"]}]'"
      ]
     },
     "metadata": {},
     "output_type": "display_data"
    },
    {
     "data": {
      "text/plain": [
       "('43.4945144', '-1.4736657')"
      ]
     },
     "metadata": {},
     "output_type": "display_data"
    },
    {
     "data": {
      "text/plain": [
       "'get_coordinates La Rochelle'"
      ]
     },
     "metadata": {},
     "output_type": "display_data"
    },
    {
     "data": {
      "text/plain": [
       "b'[{\"place_id\":249415241,\"licence\":\"Data \\xc2\\xa9 OpenStreetMap contributors, ODbL 1.0. http://osm.org/copyright\",\"osm_type\":\"relation\",\"osm_id\":117858,\"lat\":\"46.1591126\",\"lon\":\"-1.1520434\",\"category\":\"boundary\",\"type\":\"administrative\",\"place_rank\":16,\"importance\":0.6014837096874571,\"addresstype\":\"city\",\"name\":\"La Rochelle\",\"display_name\":\"La Rochelle, Charente-Maritime, Nouvelle-Aquitaine, France m\\xc3\\xa9tropolitaine, 17000, France\",\"boundingbox\":[\"46.1331804\",\"46.1908971\",\"-1.2419231\",\"-1.1110970\"]},{\"place_id\":79804802,\"licence\":\"Data \\xc2\\xa9 OpenStreetMap contributors, ODbL 1.0. http://osm.org/copyright\",\"osm_type\":\"relation\",\"osm_id\":1215878,\"lat\":\"47.7470598\",\"lon\":\"5.7321403\",\"category\":\"boundary\",\"type\":\"administrative\",\"place_rank\":16,\"importance\":0.5332911295153212,\"addresstype\":\"village\",\"name\":\"La Rochelle\",\"display_name\":\"La Rochelle, Vesoul, Haute-Sa\\xc3\\xb4ne, Bourgogne-Franche-Comt\\xc3\\xa9, France m\\xc3\\xa9tropolitaine, 70120, France\",\"boundingbox\":[\"47.7388479\",\"47.7647325\",\"5.7060641\",\"5.7454734\"]},{\"place_id\":249442796,\"licence\":\"Data \\xc2\\xa9 OpenStreetMap contributors, ODbL 1.0. http://osm.org/copyright\",\"osm_type\":\"relation\",\"osm_id\":1661547,\"lat\":\"46.187679599999996\",\"lon\":\"-1.064280735046797\",\"category\":\"boundary\",\"type\":\"administrative\",\"place_rank\":14,\"importance\":0.3230614454416833,\"addresstype\":\"municipality\",\"name\":\"La Rochelle\",\"display_name\":\"La Rochelle, Charente-Maritime, Nouvelle-Aquitaine, France m\\xc3\\xa9tropolitaine, France\",\"boundingbox\":[\"46.0036902\",\"46.3715027\",\"-1.5626797\",\"-0.6805266\"]}]'"
      ]
     },
     "metadata": {},
     "output_type": "display_data"
    },
    {
     "data": {
      "text/plain": [
       "('46.1591126', '-1.1520434')"
      ]
     },
     "metadata": {},
     "output_type": "display_data"
    },
    {
     "data": {
      "text/html": [
       "<div>\n",
       "<style scoped>\n",
       "    .dataframe tbody tr th:only-of-type {\n",
       "        vertical-align: middle;\n",
       "    }\n",
       "\n",
       "    .dataframe tbody tr th {\n",
       "        vertical-align: top;\n",
       "    }\n",
       "\n",
       "    .dataframe thead th {\n",
       "        text-align: right;\n",
       "    }\n",
       "</style>\n",
       "<table border=\"1\" class=\"dataframe\">\n",
       "  <thead>\n",
       "    <tr style=\"text-align: right;\">\n",
       "      <th></th>\n",
       "      <th>City</th>\n",
       "      <th>Latitude</th>\n",
       "      <th>Longitude</th>\n",
       "    </tr>\n",
       "  </thead>\n",
       "  <tbody>\n",
       "    <tr>\n",
       "      <th>0</th>\n",
       "      <td>Mont Saint Michel</td>\n",
       "      <td>48.6359541</td>\n",
       "      <td>-1.511459954959514</td>\n",
       "    </tr>\n",
       "    <tr>\n",
       "      <th>1</th>\n",
       "      <td>St Malo</td>\n",
       "      <td>48.649518</td>\n",
       "      <td>-2.0260409</td>\n",
       "    </tr>\n",
       "    <tr>\n",
       "      <th>2</th>\n",
       "      <td>Bayeux</td>\n",
       "      <td>49.2764624</td>\n",
       "      <td>-0.7024738</td>\n",
       "    </tr>\n",
       "    <tr>\n",
       "      <th>3</th>\n",
       "      <td>Le Havre</td>\n",
       "      <td>49.4938975</td>\n",
       "      <td>0.1079732</td>\n",
       "    </tr>\n",
       "    <tr>\n",
       "      <th>4</th>\n",
       "      <td>Rouen</td>\n",
       "      <td>49.4404591</td>\n",
       "      <td>1.0939658</td>\n",
       "    </tr>\n",
       "    <tr>\n",
       "      <th>5</th>\n",
       "      <td>Paris</td>\n",
       "      <td>48.8588897</td>\n",
       "      <td>2.3200410217200766</td>\n",
       "    </tr>\n",
       "    <tr>\n",
       "      <th>6</th>\n",
       "      <td>Amiens</td>\n",
       "      <td>49.8941708</td>\n",
       "      <td>2.2956951</td>\n",
       "    </tr>\n",
       "    <tr>\n",
       "      <th>7</th>\n",
       "      <td>Lille</td>\n",
       "      <td>50.6365654</td>\n",
       "      <td>3.0635282</td>\n",
       "    </tr>\n",
       "    <tr>\n",
       "      <th>8</th>\n",
       "      <td>Strasbourg</td>\n",
       "      <td>48.584614</td>\n",
       "      <td>7.7507127</td>\n",
       "    </tr>\n",
       "    <tr>\n",
       "      <th>9</th>\n",
       "      <td>Chateau du Haut Koenigsbourg</td>\n",
       "      <td>48.2495226</td>\n",
       "      <td>7.3454923</td>\n",
       "    </tr>\n",
       "    <tr>\n",
       "      <th>10</th>\n",
       "      <td>Colmar</td>\n",
       "      <td>48.0777517</td>\n",
       "      <td>7.3579641</td>\n",
       "    </tr>\n",
       "    <tr>\n",
       "      <th>11</th>\n",
       "      <td>Eguisheim</td>\n",
       "      <td>48.0447968</td>\n",
       "      <td>7.3079618</td>\n",
       "    </tr>\n",
       "    <tr>\n",
       "      <th>12</th>\n",
       "      <td>Besancon</td>\n",
       "      <td>47.2380222</td>\n",
       "      <td>6.0243622</td>\n",
       "    </tr>\n",
       "    <tr>\n",
       "      <th>13</th>\n",
       "      <td>Dijon</td>\n",
       "      <td>47.3215806</td>\n",
       "      <td>5.0414701</td>\n",
       "    </tr>\n",
       "    <tr>\n",
       "      <th>14</th>\n",
       "      <td>Annecy</td>\n",
       "      <td>45.8992348</td>\n",
       "      <td>6.1288847</td>\n",
       "    </tr>\n",
       "    <tr>\n",
       "      <th>15</th>\n",
       "      <td>Grenoble</td>\n",
       "      <td>45.1875602</td>\n",
       "      <td>5.7357819</td>\n",
       "    </tr>\n",
       "    <tr>\n",
       "      <th>16</th>\n",
       "      <td>Lyon</td>\n",
       "      <td>45.7578137</td>\n",
       "      <td>4.8320114</td>\n",
       "    </tr>\n",
       "    <tr>\n",
       "      <th>17</th>\n",
       "      <td>Gorges du Verdon</td>\n",
       "      <td>43.7496562</td>\n",
       "      <td>6.3285616</td>\n",
       "    </tr>\n",
       "    <tr>\n",
       "      <th>18</th>\n",
       "      <td>Bormes les Mimosas</td>\n",
       "      <td>43.1506968</td>\n",
       "      <td>6.3419285</td>\n",
       "    </tr>\n",
       "    <tr>\n",
       "      <th>19</th>\n",
       "      <td>Cassis</td>\n",
       "      <td>43.2140359</td>\n",
       "      <td>5.5396318</td>\n",
       "    </tr>\n",
       "    <tr>\n",
       "      <th>20</th>\n",
       "      <td>Marseille</td>\n",
       "      <td>43.2961743</td>\n",
       "      <td>5.3699525</td>\n",
       "    </tr>\n",
       "    <tr>\n",
       "      <th>21</th>\n",
       "      <td>Aix en Provence</td>\n",
       "      <td>43.5298424</td>\n",
       "      <td>5.4474738</td>\n",
       "    </tr>\n",
       "    <tr>\n",
       "      <th>22</th>\n",
       "      <td>Avignon</td>\n",
       "      <td>43.9492493</td>\n",
       "      <td>4.8059012</td>\n",
       "    </tr>\n",
       "    <tr>\n",
       "      <th>23</th>\n",
       "      <td>Uzes</td>\n",
       "      <td>44.0121279</td>\n",
       "      <td>4.4196718</td>\n",
       "    </tr>\n",
       "    <tr>\n",
       "      <th>24</th>\n",
       "      <td>Nimes</td>\n",
       "      <td>43.8374249</td>\n",
       "      <td>4.3600687</td>\n",
       "    </tr>\n",
       "    <tr>\n",
       "      <th>25</th>\n",
       "      <td>Aigues Mortes</td>\n",
       "      <td>43.5661521</td>\n",
       "      <td>4.19154</td>\n",
       "    </tr>\n",
       "    <tr>\n",
       "      <th>26</th>\n",
       "      <td>Saintes Maries de la mer</td>\n",
       "      <td>43.4515922</td>\n",
       "      <td>4.4277202</td>\n",
       "    </tr>\n",
       "    <tr>\n",
       "      <th>27</th>\n",
       "      <td>Collioure</td>\n",
       "      <td>42.52505</td>\n",
       "      <td>3.0831554</td>\n",
       "    </tr>\n",
       "    <tr>\n",
       "      <th>28</th>\n",
       "      <td>Carcassonne</td>\n",
       "      <td>43.2130358</td>\n",
       "      <td>2.3491069</td>\n",
       "    </tr>\n",
       "    <tr>\n",
       "      <th>29</th>\n",
       "      <td>Ariege</td>\n",
       "      <td>42.9927428</td>\n",
       "      <td>1.6124975</td>\n",
       "    </tr>\n",
       "    <tr>\n",
       "      <th>30</th>\n",
       "      <td>Toulouse</td>\n",
       "      <td>43.6044622</td>\n",
       "      <td>1.4442469</td>\n",
       "    </tr>\n",
       "    <tr>\n",
       "      <th>31</th>\n",
       "      <td>Montauban</td>\n",
       "      <td>44.0175835</td>\n",
       "      <td>1.3549991</td>\n",
       "    </tr>\n",
       "    <tr>\n",
       "      <th>32</th>\n",
       "      <td>Biarritz</td>\n",
       "      <td>43.4832523</td>\n",
       "      <td>-1.5592776</td>\n",
       "    </tr>\n",
       "    <tr>\n",
       "      <th>33</th>\n",
       "      <td>Bayonne</td>\n",
       "      <td>43.4945144</td>\n",
       "      <td>-1.4736657</td>\n",
       "    </tr>\n",
       "    <tr>\n",
       "      <th>34</th>\n",
       "      <td>La Rochelle</td>\n",
       "      <td>46.1591126</td>\n",
       "      <td>-1.1520434</td>\n",
       "    </tr>\n",
       "  </tbody>\n",
       "</table>\n",
       "</div>"
      ],
      "text/plain": [
       "                            City    Latitude           Longitude\n",
       "0              Mont Saint Michel  48.6359541  -1.511459954959514\n",
       "1                        St Malo   48.649518          -2.0260409\n",
       "2                         Bayeux  49.2764624          -0.7024738\n",
       "3                       Le Havre  49.4938975           0.1079732\n",
       "4                          Rouen  49.4404591           1.0939658\n",
       "5                          Paris  48.8588897  2.3200410217200766\n",
       "6                         Amiens  49.8941708           2.2956951\n",
       "7                          Lille  50.6365654           3.0635282\n",
       "8                     Strasbourg   48.584614           7.7507127\n",
       "9   Chateau du Haut Koenigsbourg  48.2495226           7.3454923\n",
       "10                        Colmar  48.0777517           7.3579641\n",
       "11                     Eguisheim  48.0447968           7.3079618\n",
       "12                      Besancon  47.2380222           6.0243622\n",
       "13                         Dijon  47.3215806           5.0414701\n",
       "14                        Annecy  45.8992348           6.1288847\n",
       "15                      Grenoble  45.1875602           5.7357819\n",
       "16                          Lyon  45.7578137           4.8320114\n",
       "17              Gorges du Verdon  43.7496562           6.3285616\n",
       "18            Bormes les Mimosas  43.1506968           6.3419285\n",
       "19                        Cassis  43.2140359           5.5396318\n",
       "20                     Marseille  43.2961743           5.3699525\n",
       "21               Aix en Provence  43.5298424           5.4474738\n",
       "22                       Avignon  43.9492493           4.8059012\n",
       "23                          Uzes  44.0121279           4.4196718\n",
       "24                         Nimes  43.8374249           4.3600687\n",
       "25                 Aigues Mortes  43.5661521             4.19154\n",
       "26      Saintes Maries de la mer  43.4515922           4.4277202\n",
       "27                     Collioure    42.52505           3.0831554\n",
       "28                   Carcassonne  43.2130358           2.3491069\n",
       "29                        Ariege  42.9927428           1.6124975\n",
       "30                      Toulouse  43.6044622           1.4442469\n",
       "31                     Montauban  44.0175835           1.3549991\n",
       "32                      Biarritz  43.4832523          -1.5592776\n",
       "33                       Bayonne  43.4945144          -1.4736657\n",
       "34                   La Rochelle  46.1591126          -1.1520434"
      ]
     },
     "execution_count": 31,
     "metadata": {},
     "output_type": "execute_result"
    }
   ],
   "source": [
    "for index, row in df.iterrows():\n",
    "    if (pd.isna(row[\"Latitude\"]) == False and pd.isna(row[\"Longitude\"]) == False):\n",
    "        continue\n",
    "\n",
    "    try:\n",
    "        coordinates = get_coordinates(row[\"City\"])\n",
    "        display(coordinates)\n",
    "        df.loc[df['City'] == row[\"City\"], ['Latitude']] = coordinates[0]\n",
    "        df.loc[df['City'] == row[\"City\"], ['Longitude']] = coordinates[1]\n",
    "    except ValueError as e:\n",
    "       display(f\"{row['City']} : {e}\")\n",
    "\n",
    "\n",
    "df"
   ]
  }
 ],
 "metadata": {
  "kernelspec": {
   "display_name": "base",
   "language": "python",
   "name": "python3"
  },
  "language_info": {
   "codemirror_mode": {
    "name": "ipython",
    "version": 3
   },
   "file_extension": ".py",
   "mimetype": "text/x-python",
   "name": "python",
   "nbconvert_exporter": "python",
   "pygments_lexer": "ipython3",
   "version": "3.11.4"
  },
  "orig_nbformat": 4
 },
 "nbformat": 4,
 "nbformat_minor": 2
}
